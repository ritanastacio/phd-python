{
  "cells": [
    {
      "cell_type": "markdown",
      "id": "75425fdc-870e-4502-96c4-e44a48155ed5",
      "metadata": {},
      "source": [
        "# Project 1 - Connect 4\n",
        "\n",
        "In this project we will implement a power 4 with an interface\n",
        "fairly basic graph. To achieve this, we will use the\n",
        "fundamental objects of Python."
      ]
    },
    {
      "cell_type": "code",
      "execution_count": null,
      "id": "05ed3cdc",
      "metadata": {},
      "outputs": [],
      "source": [
        "import copy\n",
        "\n",
        "import solutions"
      ]
    },
    {
      "cell_type": "markdown",
      "id": "12ce22e9-7dac-472c-8160-18f191739746",
      "metadata": {},
      "source": [
        "## Rules of the game\n",
        "\n",
        "The aim of the Connect 4 game is to line up a sequence of 4 pieces of the same\n",
        "color on a grid with 6 rows and 7 columns. Each player\n",
        "has 21 pawns of one color (by convention, generally yellow or\n",
        "In turn, both players place a pawn in the column of\n",
        "their choice, the pawn then slides to the lowest position\n",
        "possible in the said column after which it is up to the opponent to\n",
        "play. The winner is the player who first makes a lineup\n",
        "(horizontal, vertical or diagonal) consecutive of at least four pawns of\n",
        "its color. If, while all the squares on the game grid are\n",
        "fulfilled, neither player has made such an alignment, the\n",
        "part is declared void.\n",
        "\n",
        "In order to simplify the code of this project, we will assume that the\n",
        "Victorious alignments can only be horizontal or vertical.\n",
        "diagonals will therefore not be considered (but constitute an exercise\n",
        "interesting to go further!).\n",
        "\n",
        "## Project Plan\n",
        "\n",
        "We're going to break down the game build into different parts:\n",
        "\n",
        "- grid initialization\n",
        "\n",
        "- grid representation\n",
        "\n",
        "- game function\n",
        "\n",
        "- detection of a victory (horizontal)\n",
        "\n",
        "- detection of a victory (vertical)\n",
        "\n",
        "- end of game\n",
        "\n",
        "## Grid initialization\n",
        "\n",
        "The goal of this part is to initialize a Python object that\n",
        "represents a grid of power 4. The choice we are going to make is\n",
        "to **represent the grid as a list of lists**. This will be a\n",
        "6x7 matrix: we will therefore have a **list of 6 elements** (which\n",
        "will represent the lines of the grid), each of the elements of which will be\n",
        "a **list containing 7 elements** (which will represent the pawns).\n",
        "\n",
        "Each element of the grid will be represented by a *string*, which can\n",
        "take three values:\n",
        "\n",
        "- ’ ’ : if it is an empty box\n",
        "\n",
        "- ‘R’: if it is a red pawn.\n",
        "\n",
        "- ‘Y’: if it is a yellow pawn.\n",
        "\n",
        "In the grid initialization function, each element will therefore be\n",
        "initialized as a ***string* containing a space**.\n",
        "\n",
        "**Warning**: Be careful that the lines are\n",
        "independent objects, in other words, modifying one of the lists\n",
        "does not affect others.\n",
        "\n",
        "### Expected result"
      ]
    },
    {
      "cell_type": "code",
      "execution_count": 2,
      "id": "fd47b838",
      "metadata": {},
      "outputs": [
        {
          "ename": "NameError",
          "evalue": "name 'solutions' is not defined",
          "output_type": "error",
          "traceback": [
            "\u001b[1;31m---------------------------------------------------------------------------\u001b[0m",
            "\u001b[1;31mNameError\u001b[0m                                 Traceback (most recent call last)",
            "Cell \u001b[1;32mIn[2], line 1\u001b[0m\n\u001b[1;32m----> 1\u001b[0m grid_solution \u001b[39m=\u001b[39m solutions\u001b[39m.\u001b[39minitialize_grid()\n\u001b[0;32m      2\u001b[0m grid_solution\n",
            "\u001b[1;31mNameError\u001b[0m: name 'solutions' is not defined"
          ]
        }
      ],
      "source": [
        "grid_solution = solutions.initialize_grid()\n",
        "grid_solution"
      ]
    },
    {
      "cell_type": "code",
      "execution_count": 3,
      "id": "da913469",
      "metadata": {},
      "outputs": [
        {
          "ename": "NameError",
          "evalue": "name 'grid_solution' is not defined",
          "output_type": "error",
          "traceback": [
            "\u001b[1;31m---------------------------------------------------------------------------\u001b[0m",
            "\u001b[1;31mNameError\u001b[0m                                 Traceback (most recent call last)",
            "Cell \u001b[1;32mIn[3], line 1\u001b[0m\n\u001b[1;32m----> 1\u001b[0m \u001b[39mprint\u001b[39m(\u001b[39mf\u001b[39m\u001b[39m\"\u001b[39m\u001b[39mNumber of rows: \u001b[39m\u001b[39m{\u001b[39;00m\u001b[39mlen\u001b[39m(grid_solution)\u001b[39m}\u001b[39;00m\u001b[39m\"\u001b[39m)\n\u001b[0;32m      2\u001b[0m \u001b[39mprint\u001b[39m(\u001b[39mf\u001b[39m\u001b[39m\"\u001b[39m\u001b[39mNumber of columns: \u001b[39m\u001b[39m{\u001b[39;00m\u001b[39mlen\u001b[39m(grid_solution[\u001b[39m0\u001b[39m])\u001b[39m}\u001b[39;00m\u001b[39m\"\u001b[39m)\n",
            "\u001b[1;31mNameError\u001b[0m: name 'grid_solution' is not defined"
          ]
        }
      ],
      "source": [
        "print(f\"Number of rows: {len(grid_solution)}\")\n",
        "print(f\"Number of columns: {len(grid_solution[0])}\")"
      ]
    },
    {
      "cell_type": "markdown",
      "id": "76fde4da-7928-4012-bd5d-b7eb4927be10",
      "metadata": {},
      "source": [
        "### Up to you !"
      ]
    },
    {
      "cell_type": "code",
      "execution_count": 14,
      "id": "e53aee6b",
      "metadata": {},
      "outputs": [],
      "source": [
        "def initialize_grid():\n",
        "    grid = [['', '', '', '', '', '', ''], ['', '', '', '', '', '', ''], ['', '', '', '', '', '', ''], ['', '', '', '', '', '', ''], ['', '', '', '', '', '', ''], ['', '', '', '', '', '', '']]\n",
        "    return grid"
      ]
    },
    {
      "cell_type": "code",
      "execution_count": 15,
      "id": "e730680f",
      "metadata": {},
      "outputs": [
        {
          "data": {
            "text/plain": [
              "[['', '', '', '', '', '', ''],\n",
              " ['', '', '', '', '', '', ''],\n",
              " ['', '', '', '', '', '', ''],\n",
              " ['', '', '', '', '', '', ''],\n",
              " ['', '', '', '', '', '', ''],\n",
              " ['', '', '', '', '', '', '']]"
            ]
          },
          "execution_count": 15,
          "metadata": {},
          "output_type": "execute_result"
        }
      ],
      "source": [
        "# Checking the result\n",
        "grid = initialize_grid()\n",
        "grid"
      ]
    },
    {
      "cell_type": "code",
      "execution_count": 16,
      "id": "dab8703d",
      "metadata": {},
      "outputs": [
        {
          "name": "stdout",
          "output_type": "stream",
          "text": [
            "Number of rows: 6\n",
            "Number of columns: 7\n"
          ]
        }
      ],
      "source": [
        "# Checking the result\n",
        "print(f\"Number of rows: {len(grid)}\")\n",
        "print(f\"Number of columns: {len(grid[0])}\")"
      ]
    },
    {
      "cell_type": "markdown",
      "id": "87c157e1-45f8-4e76-9ed5-2e863b4e2a22",
      "metadata": {},
      "source": [
        "## Grid representation\n",
        "\n",
        "Our grid is initialized, but its display is quite basic.\n",
        "The idea of ​​this part is to offer a more visual representation of the\n",
        "game during a game.\n",
        "\n",
        "To do this, we will create a function that takes as input the\n",
        "previously initialized grid and returns its representation** (via the\n",
        "`print` function). Columns will be separated by the \\| character.\n",
        "(vertical bar).\n",
        "\n",
        "**Hint**: A possible solution involves two concepts that we\n",
        "we saw in the previous TP: the concatenation of *strings* and the\n",
        "`join` function which “joins” the elements of a list by separating them with\n",
        "a certain character. As a reminder, here is an example that uses these two\n",
        "concepts:"
      ]
    },
    {
      "cell_type": "code",
      "execution_count": 17,
      "id": "1b904e8b",
      "metadata": {},
      "outputs": [
        {
          "name": "stdout",
          "output_type": "stream",
          "text": [
            "DEBUT a, b, c, d, e FIN\n"
          ]
        }
      ],
      "source": [
        "l = [\"a\", \"b\", \"c\", \"d\", \"e\"]\n",
        "l_join = \"DEBUT \" + \", \".join(l) + \" FIN\"\n",
        "print(l_join)"
      ]
    },
    {
      "cell_type": "markdown",
      "id": "8ff5f44f-fbbe-4ab2-94f6-30253bd3a31e",
      "metadata": {},
      "source": [
        "### Expected result"
      ]
    },
    {
      "cell_type": "code",
      "execution_count": 18,
      "id": "8260d16e",
      "metadata": {},
      "outputs": [
        {
          "ename": "NameError",
          "evalue": "name 'solutions' is not defined",
          "output_type": "error",
          "traceback": [
            "\u001b[1;31m---------------------------------------------------------------------------\u001b[0m",
            "\u001b[1;31mNameError\u001b[0m                                 Traceback (most recent call last)",
            "Cell \u001b[1;32mIn[18], line 1\u001b[0m\n\u001b[1;32m----> 1\u001b[0m solutions\u001b[39m.\u001b[39mdisplay_grid(grid_solution)\n",
            "\u001b[1;31mNameError\u001b[0m: name 'solutions' is not defined"
          ]
        }
      ],
      "source": [
        "solutions.display_grid(grid_solution)"
      ]
    },
    {
      "cell_type": "markdown",
      "id": "68f39146-9d5d-47ff-b3de-1e85ac7f6c53",
      "metadata": {},
      "source": [
        "### Up to you !"
      ]
    },
    {
      "cell_type": "code",
      "execution_count": 21,
      "id": "c194347f",
      "metadata": {},
      "outputs": [
        {
          "data": {
            "text/plain": [
              "[['', '', '', '', '', '', ''],\n",
              " ['', '', '', '', '', '', ''],\n",
              " ['', '', '', '', '', '', ''],\n",
              " ['', '', '', '', '', '', ''],\n",
              " ['', '', '', '', '', '', ''],\n",
              " ['', '', '', '', '', '', '']]"
            ]
          },
          "execution_count": 21,
          "metadata": {},
          "output_type": "execute_result"
        },
        {
          "ename": "",
          "evalue": "",
          "output_type": "error",
          "traceback": [
            "\u001b[1;31mThe Kernel crashed while executing code in the the current cell or a previous cell. Please review the code in the cell(s) to identify a possible cause of the failure. Click <a href='https://aka.ms/vscodeJupyterKernelCrash'>here</a> for more info. View Jupyter <a href='command:jupyter.viewOutput'>log</a> for further details."
          ]
        }
      ],
      "source": [
        "def display_grid(grid):\n",
        "    # Your code here\n",
        "    grid = \" | \".join(grid)\n",
        "    return grid\n",
        "\n",
        "grid"
      ]
    },
    {
      "cell_type": "code",
      "execution_count": null,
      "id": "1fe551d0",
      "metadata": {},
      "outputs": [],
      "source": [
        "# Checking the result\n",
        "display_grid(grid)"
      ]
    },
    {
      "cell_type": "markdown",
      "id": "723d5a67-9b2a-4e06-9084-8b89bc9fbaa6",
      "metadata": {},
      "source": [
        "## Game function\n",
        "\n",
        "Now that we can represent our grid, let's take a look\n",
        "at the heart of Connect 4: the game. The objective of this game is to\n",
        "**code a `make_move` function that will modify the grid when a\n",
        "player takes his turn**.\n",
        "\n",
        "This function takes as input:\n",
        "\n",
        "- the grid\n",
        "\n",
        "- the column chosen by the player\n",
        "\n",
        "- the color of the pawn (‘R’ for the red pawn, and ‘Y’ for the\n",
        "YELLOW)\n",
        "\n",
        "and returns as output the grid updated following the player's turn.\n",
        "\n",
        "If the chosen column is already complete, return an error message.\n",
        "\n",
        "**Warning**: In Python, numbering starts at 0. The first\n",
        "column therefore corresponds to column 0 from an indexing point of view.\n",
        "\n",
        "Optional: Return an error message if a player tries to play\n",
        "in a non-existent column or with an unauthorized color.\n",
        "\n",
        "### Expected result"
      ]
    },
    {
      "cell_type": "code",
      "execution_count": null,
      "id": "b8170fc2",
      "metadata": {},
      "outputs": [],
      "source": [
        "grid_solution = solutions.initialize_grid()  # Initialization\n",
        "grid_solution = solutions.make_move(grid=grid_solution, column_to_play=2, disc_color=\"R\")  # 1st round of play\n",
        "grid_solution = solutions.make_move(grid=grid_solution, column_to_play=5, disc_color=\"J\")  # 2nd round of play\n",
        "grid_solution = solutions.make_move(grid=grid_solution, column_to_play=2, disc_color=\"R\")  # 3rd round of play\n",
        "solutions.display_grid(grid_solution)"
      ]
    },
    {
      "cell_type": "markdown",
      "id": "67fb4a8f-c4f6-47d2-bc9a-b0e0aa01e19e",
      "metadata": {},
      "source": [
        "### Up to you !"
      ]
    },
    {
      "cell_type": "code",
      "execution_count": null,
      "id": "000241a1",
      "metadata": {},
      "outputs": [],
      "source": [
        "def make_move(grid, column_to_play, disc_color):\n",
        "    new_grid = copy.deepcopy(grid)  # Avoids modifying the initial grid\n",
        "    # Your code here\n",
        "    return new_grid"
      ]
    },
    {
      "cell_type": "code",
      "execution_count": null,
      "id": "cef38d4a",
      "metadata": {},
      "outputs": [],
      "source": [
        "# Checking the result\n",
        "grid = initialize_grid()  # Initialization\n",
        "grid = make_move(grid=grid, column_to_play=2, disc_color=\"R\")  # 1st round of play\n",
        "grid = make_move(grid=grid, column_to_play=5, disc_color=\"J\")  # 2nd round of play\n",
        "grid = make_move(grid=grid, column_to_play=2, disc_color=\"R\")  # 3rd round of play\n",
        "display_grid(grid)"
      ]
    },
    {
      "cell_type": "markdown",
      "id": "6c12de3e-24a2-48f0-a2d3-a1c4442aae05",
      "metadata": {},
      "source": [
        "## Detecting a win (horizontal)\n",
        "\n",
        "Now that it is possible to actually play to our power\n",
        "4, you must be able to detect a victory to end the game in\n",
        "course. To do this, we will simplify the problem by breaking it down into\n",
        "maximum.\n",
        "\n",
        "First, we are interested in detecting a victory\n",
        "horizontal. To do this, we will use two functions:\n",
        "\n",
        "- a `check_row_victory` function which takes as input a row of the\n",
        "power of 4 (i.e. a list of size 7) and returns `True` if\n",
        "never 4 consecutive pawns of the same color are on the line,\n",
        "and `False` otherwise\n",
        "\n",
        "- a function `check_horizontal_victory` which takes as input a\n",
        "full grid and returns `True` if ever a grid line\n",
        "meets the previous condition, and `False` otherwise\n",
        "\n",
        "### Expected result"
      ]
    },
    {
      "cell_type": "code",
      "execution_count": null,
      "id": "4a913460",
      "metadata": {},
      "outputs": [],
      "source": [
        "# Detecting a (horizontal) win on a line\n",
        "ligne1 = [\" \", \"R\", \"R\", \"R\", \"J\", \"J\", \" \"]\n",
        "ligne2 = [\" \", \"R\", \"R\", \"R\", \"R\", \"J\", \" \"]\n",
        "\n",
        "print(solutions.check_row_victory(ligne1))  # Returns False\n",
        "print()  # Return to line\n",
        "print(solutions.check_row_victory(ligne2))  # Returns True"
      ]
    },
    {
      "cell_type": "code",
      "execution_count": null,
      "id": "037a72e5",
      "metadata": {},
      "outputs": [],
      "source": [
        "# Detecting a (horizontal) win on a grid\n",
        "grid_solution = solutions.initialize_grid()  # Initialization\n",
        "print(solutions.check_horizontal_victory(grid_solution))  # Returns False\n",
        "print()  # Return to line\n",
        "\n",
        "grid_solution = solutions.make_move(grid=grid_solution, column_to_play=2, disc_color=\"R\")\n",
        "grid_solution = solutions.make_move(grid=grid_solution, column_to_play=3, disc_color=\"R\")\n",
        "grid_solution = solutions.make_move(grid=grid_solution, column_to_play=4, disc_color=\"R\")\n",
        "grid_solution = solutions.make_move(grid=grid_solution, column_to_play=5, disc_color=\"R\")\n",
        "solutions.display_grid(grid_solution)\n",
        "print()  # Return to line\n",
        "\n",
        "print(solutions.check_horizontal_victory(grid_solution))  # Returns True"
      ]
    },
    {
      "cell_type": "markdown",
      "id": "1845691c-daf1-4c8f-beb6-f4f3c5071337",
      "metadata": {},
      "source": [
        "### Up to you !"
      ]
    },
    {
      "cell_type": "code",
      "execution_count": null,
      "id": "8a24e20d",
      "metadata": {},
      "outputs": [],
      "source": [
        "def check_row_victory(ligne):\n",
        "    # Your code here"
      ]
    },
    {
      "cell_type": "code",
      "execution_count": null,
      "id": "8b2b2b7b",
      "metadata": {},
      "outputs": [],
      "source": [
        "# Checking the result\n",
        "row1 = [\" \", \"R\", \"R\", \"R\", \"J\", \"R\", \" \"]\n",
        "row2 = [\" \", \"R\", \"R\", \"R\", \"R\", \"J\", \" \"]\n",
        "\n",
        "print(check_row_victory(row1))  # Returns False\n",
        "print(check_row_victory(row2))  # Returns True"
      ]
    },
    {
      "cell_type": "code",
      "execution_count": null,
      "id": "2a6dd3f8",
      "metadata": {},
      "outputs": [],
      "source": [
        "def check_horizontal_victory(grid):\n",
        "    # Your code here"
      ]
    },
    {
      "cell_type": "code",
      "execution_count": null,
      "id": "4b8761b2",
      "metadata": {},
      "outputs": [],
      "source": [
        "# Checking the result\n",
        "grid = initialize_grid()  # Initialization\n",
        "print(check_horizontal_victory(grid))  # Returns False\n",
        "\n",
        "grid = make_move(grid=grid, column_to_play=2, disc_color=\"R\")\n",
        "grid = make_move(grid=grid, column_to_play=3, disc_color=\"R\")\n",
        "grid = make_move(grid=grid, column_to_play=4, disc_color=\"R\")\n",
        "grid = make_move(grid=grid, column_to_play=5, disc_color=\"R\")\n",
        "display_grid(grid)\n",
        "print(check_horizontal_victory(grid))  # Returns True"
      ]
    },
    {
      "cell_type": "markdown",
      "id": "a7ae3f37-269b-48e3-a936-bc342e8076c1",
      "metadata": {},
      "source": [
        "## Detecting a win (vertical)\n",
        "\n",
        "Now we are interested in detecting a vertical victory. By\n",
        "Compared to the previous situation, the difficulty is that we cannot\n",
        "not directly loop over the columns. So we will build a\n",
        "function `check_vertical_victory` which, for each column:\n",
        "\n",
        "- retrieves the elements of the column into a list\n",
        "\n",
        "- applies the `check_row_victory` function to this list to check\n",
        "the presence of 4 consecutive pawns of the same color in the column\n",
        "considered\n",
        "\n",
        "### Expected result"
      ]
    },
    {
      "cell_type": "code",
      "execution_count": null,
      "id": "55615e61",
      "metadata": {},
      "outputs": [],
      "source": [
        "# Detecting a (vertical) win on a grid\n",
        "grid_solution = solutions.initialize_grid()  # Initialization\n",
        "print(solutions.check_vertical_victory(grid_solution))  # Returns False\n",
        "print()  # Return to line\n",
        "\n",
        "grid_solution = solutions.make_move(grid=grid_solution, column_to_play=2, disc_color=\"J\")\n",
        "grid_solution = solutions.make_move(grid=grid_solution, column_to_play=2, disc_color=\"J\")\n",
        "grid_solution = solutions.make_move(grid=grid_solution, column_to_play=2, disc_color=\"J\")\n",
        "grid_solution = solutions.make_move(grid=grid_solution, column_to_play=2, disc_color=\"J\")\n",
        "solutions.display_grid(grid_solution)\n",
        "print()  # Return to line\n",
        "\n",
        "print(solutions.check_vertical_victory(grid_solution))  # Returns True"
      ]
    },
    {
      "cell_type": "markdown",
      "id": "d4f23587-6648-4711-8481-38599dade2bf",
      "metadata": {},
      "source": [
        "### Up to you !"
      ]
    },
    {
      "cell_type": "code",
      "execution_count": null,
      "id": "dd8010fc",
      "metadata": {},
      "outputs": [],
      "source": [
        "def check_vertical_victory(grid):\n",
        "    # Your code here"
      ]
    },
    {
      "cell_type": "code",
      "execution_count": null,
      "id": "81fa97a7",
      "metadata": {},
      "outputs": [],
      "source": [
        "# Checking the result\n",
        "grid = initialize_grid()  # Initialization\n",
        "print(check_vertical_victory(grid))  # Returns False\n",
        "print()  # Return to line\n",
        "\n",
        "grid = make_move(grid=grid, column_to_play=2, disc_color=\"J\")\n",
        "grid = make_move(grid=grid, column_to_play=2, disc_color=\"J\")\n",
        "grid = make_move(grid=grid, column_to_play=2, disc_color=\"J\")\n",
        "grid = make_move(grid=grid, column_to_play=2, disc_color=\"J\")\n",
        "display_grid(grid)\n",
        "print()  # Return to line\n",
        "\n",
        "print(check_vertical_victory(grid))  # Returns True"
      ]
    },
    {
      "cell_type": "markdown",
      "id": "7ed7b703-6929-4715-94ac-33df58ddb313",
      "metadata": {},
      "source": [
        "## End of game\n",
        "\n",
        "In our simplified version of Connect 4, we can now declare\n",
        "**the end of the game: as soon as a horizontal or vertical victory\n",
        "is detected**.\n",
        "\n",
        "So we will start by creating a `victory` function which takes the\n",
        "grid as input and returns `True` if a horizontal win **or**\n",
        "vertical is detected, and `False` otherwise.\n",
        "\n",
        "Ideally, we would like to not have to manually test afterwards\n",
        "each move if the game is over in order to limit duplication of\n",
        "code. We will then create a function\n",
        "`make_move_and_check_victory` which:\n",
        "\n",
        "- takes the same *inputs* as the `tour` function\n",
        "\n",
        "- will call the `turn` function to perform the game turn\n",
        "\n",
        "- will test after the game round if a victory is detected via the\n",
        "`win` function. If a win is detected, the function\n",
        "prints “END GAME”.\n",
        "\n",
        "### Expected result"
      ]
    },
    {
      "cell_type": "code",
      "execution_count": null,
      "id": "9607f667",
      "metadata": {},
      "outputs": [],
      "source": [
        "grid_solution = solutions.initialize_grid()  # Initialization\n",
        "print(\"Tour 1\")\n",
        "grid_solution = solutions.make_move_and_check_victory(grid=grid_solution, column_to_play=2, disc_color=\"J\")\n",
        "print(\"Tour 2\")\n",
        "grid_solution = solutions.make_move_and_check_victory(grid=grid_solution, column_to_play=2, disc_color=\"J\")\n",
        "print(\"Tour 3\")\n",
        "grid_solution = solutions.make_move_and_check_victory(grid=grid_solution, column_to_play=2, disc_color=\"J\")\n",
        "print(\"Tour 4\")\n",
        "grid_solution = solutions.make_move_and_check_victory(grid=grid_solution, column_to_play=2, disc_color=\"J\")"
      ]
    },
    {
      "cell_type": "markdown",
      "id": "930c1032-ecf3-49bd-adce-1cd4284b0a3f",
      "metadata": {},
      "source": [
        "### Up to you !"
      ]
    },
    {
      "cell_type": "code",
      "execution_count": null,
      "id": "1023101b",
      "metadata": {},
      "outputs": [],
      "source": [
        "def check_victory(grid):\n",
        "    # Your code here"
      ]
    },
    {
      "cell_type": "code",
      "execution_count": null,
      "id": "03f2ad43",
      "metadata": {},
      "outputs": [],
      "source": [
        "def make_move_and_check_victory(grille, column_to_play, disc_color):\n",
        "    grid = copy.deepcopy(grid)\n",
        "    # Your code here\n",
        "    return grid"
      ]
    },
    {
      "cell_type": "code",
      "execution_count": null,
      "id": "aaebc553",
      "metadata": {},
      "outputs": [],
      "source": [
        "# Checking the result\n",
        "grid = initialize_grid()  # Initialization\n",
        "print(\"Tour 1\")\n",
        "grid = make_move_and_check_victory(grid=grid, column_to_play=2, disc_color=\"J\")\n",
        "print(\"Tour 2\")\n",
        "grid = make_move_and_check_victory(grid=grid, column_to_play=2, disc_color=\"J\")\n",
        "print(\"Tour 3\")\n",
        "grid = make_move_and_check_victory(grid=grid, column_to_play=2, disc_color=\"J\")\n",
        "print(\"Tour 4\")\n",
        "grid = make_move_and_check_victory(grid=grid, column_to_play=2, disc_color=\"J\")"
      ]
    }
  ],
  "metadata": {
    "kernelspec": {
      "display_name": "Python 3 (ipykernel)",
      "language": "python",
      "name": "python3",
      "path": "/Users/gblin/opt/anaconda3/share/jupyter/kernels/python3"
    },
    "language_info": {
      "codemirror_mode": {
        "name": "ipython",
        "version": 3
      },
      "file_extension": ".py",
      "mimetype": "text/x-python",
      "name": "python",
      "nbconvert_exporter": "python",
      "pygments_lexer": "ipython3",
      "version": "3.11.9"
    }
  },
  "nbformat": 4,
  "nbformat_minor": 5
}
