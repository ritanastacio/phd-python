{
  "cells": [
    {
      "cell_type": "markdown",
      "id": "13ee62d2-ba8d-4fa3-8558-d1f7792a5594",
      "metadata": {},
      "source": [
        "# Functions\n",
        "\n",
        "In previous tutorials we have studied how the\n",
        "tests and loops, which allow you to write Python programs\n",
        "that make automated decisions. In practice, a program will\n",
        "usually consist of different blocks, each of which performs\n",
        "an action or group of actions (eg: data import, cleaning\n",
        "data, statistical modeling, etc.). In addition, some of\n",
        "These actions are to be repeated with a slight difference in\n",
        "thread of a program (eg: importing several different data sets).\n",
        "It will be useful to model each of these actions by a\n",
        "**function**, a sort of mini-program within the global program.\n",
        "Using functions is a **good programming practice**, in\n",
        "the extent that they make the logical structure of the code more explicit\n",
        "and help reduce code duplication.\n",
        "\n",
        "## Definition\n",
        "\n",
        "A **function** can be defined as a structured block of code that:\n",
        "\n",
        "- takes a set of **arguments** (Python objects) as input\n",
        "\n",
        "- performs a **specific action** via a set of instructions\n",
        "\n",
        "- **returns** a result (a Python object) as output\n",
        "\n",
        "We have already seen and used a number of functions in the\n",
        "previous tutorials (`range`, `len`, etc.). We also have\n",
        "used **methods**, which are simply *attached* functions\n",
        "to a particular type of object. Let's use a well-known function to\n",
        "illustrate their general operation."
      ]
    },
    {
      "cell_type": "code",
      "execution_count": 1,
      "id": "0350a37e",
      "metadata": {},
      "outputs": [
        {
          "data": {
            "text/plain": [
              "15"
            ]
          },
          "execution_count": 1,
          "metadata": {},
          "output_type": "execute_result"
        }
      ],
      "source": [
        "len('do re mi fa sol')"
      ]
    },
    {
      "cell_type": "markdown",
      "id": "ff5ef9d2-8785-4a8c-b7a3-1666224b9f3a",
      "metadata": {},
      "source": [
        "In this example, the `len` function:\n",
        "\n",
        "- takes one input argument (a string)\n",
        "\n",
        "- calculates the number of characters present in this string\n",
        "\n",
        "- returns this number as output\n",
        "\n",
        "The “set of instructions” that allow you to calculate the length of the\n",
        "string is not known. As a user, we only need to\n",
        "know what the function takes as input and what it returns as\n",
        "output. This applies to cases where functions are used\n",
        "native Python functions or functions from Python libraries\n",
        "which we trust. We speak of “black boxes” for\n",
        "characterize such functions.\n",
        "\n",
        "In practice, we will want to define our own functions to structure\n",
        "its code and reuse it in analyses.\n",
        "\n",
        "## Syntax\n",
        "\n",
        "The `def` statement is used to define a function."
      ]
    },
    {
      "cell_type": "code",
      "execution_count": 2,
      "id": "257513a9",
      "metadata": {},
      "outputs": [],
      "source": [
        "def accueil(prenom):\n",
        "    msg = \"Salutations \" + prenom + \" !\"\n",
        "    return msg"
      ]
    },
    {
      "cell_type": "markdown",
      "id": "957c05a8-53b7-4730-9da3-a8492c49ca83",
      "metadata": {},
      "source": [
        "Let's analyze the syntax of a function definition:\n",
        "\n",
        "- a `def` statement which:\n",
        "\n",
        "- specifies the name of the function (here, `accueil`)\n",
        "\n",
        "- specifies the expected arguments in parentheses (here, only one\n",
        "argument: `firstname`)\n",
        "\n",
        "- ends with `:` like the various instructions we\n",
        "we have seen\n",
        "\n",
        "- a set of operations that will be performed by the function, which\n",
        "must be indented one level from the `def` statement\n",
        "\n",
        "- a `return` statement, which specifies what the function will do\n",
        "return when called (here, the contents of the variable\n",
        "`msg`).\n",
        "\n",
        "**Defining** a function as above is the same as making\n",
        "available in the Python environment the code of the function. This is not\n",
        "that when it is **called** in the code, with arguments,\n",
        "that the contained code is executed and produces a result."
      ]
    },
    {
      "cell_type": "code",
      "execution_count": 3,
      "id": "b0041942",
      "metadata": {},
      "outputs": [
        {
          "data": {
            "text/plain": [
              "'Salutations Miranda !'"
            ]
          },
          "execution_count": 3,
          "metadata": {},
          "output_type": "execute_result"
        }
      ],
      "source": [
        "accueil(\"Miranda\")"
      ]
    },
    {
      "cell_type": "markdown",
      "id": "7fa15e95-5574-4979-bd4a-9763f8882112",
      "metadata": {},
      "source": [
        "As explained in the introduction, the whole point of a function is to\n",
        "being able to reuse code without having to duplicate it in the program."
      ]
    },
    {
      "cell_type": "code",
      "execution_count": 4,
      "id": "beb664d1",
      "metadata": {},
      "outputs": [
        {
          "data": {
            "text/plain": [
              "'Salutations Romuald !'"
            ]
          },
          "execution_count": 4,
          "metadata": {},
          "output_type": "execute_result"
        }
      ],
      "source": [
        "accueil(\"Romuald\")"
      ]
    },
    {
      "cell_type": "markdown",
      "id": "8d6c48a3-a25d-4cf4-a0aa-707945a004c0",
      "metadata": {},
      "source": [
        "## Passing arguments\n",
        "\n",
        "### Principle\n",
        "\n",
        "When you call a function by specifying arguments, you say\n",
        "that arguments are “passed” to him. These arguments then become\n",
        "variables that can be used in the context of the function. A\n",
        "the reverse of a `for` loop for example, the variables created do not\n",
        "do not persist after the function is called"
      ]
    },
    {
      "cell_type": "code",
      "execution_count": 5,
      "id": "3b82b856",
      "metadata": {},
      "outputs": [],
      "source": [
        "def addition(x, y):\n",
        "    return x + y"
      ]
    },
    {
      "cell_type": "code",
      "execution_count": 6,
      "id": "b71b22a6",
      "metadata": {},
      "outputs": [
        {
          "data": {
            "text/plain": [
              "8"
            ]
          },
          "execution_count": 6,
          "metadata": {},
          "output_type": "execute_result"
        }
      ],
      "source": [
        "addition(5, 3)"
      ]
    },
    {
      "cell_type": "code",
      "execution_count": 7,
      "id": "d920e38f",
      "metadata": {},
      "outputs": [
        {
          "ename": "NameError",
          "evalue": "name 'x' is not defined",
          "output_type": "error",
          "traceback": [
            "\u001b[1;31m---------------------------------------------------------------------------\u001b[0m",
            "\u001b[1;31mNameError\u001b[0m                                 Traceback (most recent call last)",
            "Cell \u001b[1;32mIn[7], line 1\u001b[0m\n\u001b[1;32m----> 1\u001b[0m x  \u001b[39m# The variable does not persist in memory after the function is called\u001b[39;00m\n",
            "\u001b[1;31mNameError\u001b[0m: name 'x' is not defined"
          ]
        }
      ],
      "source": [
        "x  # The variable does not persist in memory after the function is called"
      ]
    },
    {
      "cell_type": "markdown",
      "id": "97e78b67-93e0-45a2-99e9-e3af38038da1",
      "metadata": {},
      "source": [
        "NB: we will see this behavior in more detail later in the\n",
        "tutorial, through the concepts of global variables and variables\n",
        "local.\n",
        "\n",
        "### Number of arguments\n",
        "\n",
        "The number of arguments that can be passed to a function is variable.\n",
        "Strictly speaking, it is possible to define a function that does not need\n",
        "of any argument, even if it is rarely useful in practice."
      ]
    },
    {
      "cell_type": "code",
      "execution_count": 9,
      "id": "29051a4e",
      "metadata": {},
      "outputs": [],
      "source": [
        "def neuf():\n",
        "    return 9"
      ]
    },
    {
      "cell_type": "code",
      "execution_count": 10,
      "id": "b2bc4f9b",
      "metadata": {},
      "outputs": [
        {
          "data": {
            "text/plain": [
              "9"
            ]
          },
          "execution_count": 10,
          "metadata": {},
          "output_type": "execute_result"
        }
      ],
      "source": [
        "a = neuf()\n",
        "a"
      ]
    },
    {
      "cell_type": "markdown",
      "id": "647ea20d-9b88-4f66-b9db-391f6bdd3a5d",
      "metadata": {},
      "source": [
        "### Pass by position and pass by keyword\n",
        "\n",
        "In Python, functions allow two modes of passing arguments:\n",
        "\n",
        "- the **passage by position**, which corresponds to the one we have\n",
        "seen in all previous examples: the arguments are passed to\n",
        "the function in the order in which they were defined, without having\n",
        "to specify the name of the parameter.\n",
        "\n",
        "- **passage by keyword**: we specify the name of the parameter when\n",
        "passage of the argument, which allows you not to have to follow\n",
        "the order indicated when defining.\n",
        "\n",
        "Let us illustrate this difference using a function that performs\n",
        "just a division."
      ]
    },
    {
      "cell_type": "code",
      "execution_count": 11,
      "id": "e99a452a",
      "metadata": {},
      "outputs": [],
      "source": [
        "def division(x, y):\n",
        "    return x / y"
      ]
    },
    {
      "cell_type": "code",
      "execution_count": 12,
      "id": "c5010278",
      "metadata": {},
      "outputs": [
        {
          "data": {
            "text/plain": [
              "2.0"
            ]
          },
          "execution_count": 12,
          "metadata": {},
          "output_type": "execute_result"
        }
      ],
      "source": [
        "division(4, 2)  # Pass by position"
      ]
    },
    {
      "cell_type": "code",
      "execution_count": 13,
      "id": "ea1a8060",
      "metadata": {},
      "outputs": [
        {
          "data": {
            "text/plain": [
              "2.0"
            ]
          },
          "execution_count": 13,
          "metadata": {},
          "output_type": "execute_result"
        }
      ],
      "source": [
        "division(x=4, y=2)  # Keyword Passage"
      ]
    },
    {
      "cell_type": "markdown",
      "id": "9597bb31-51bb-4e61-bb72-7ab43c0b13d0",
      "metadata": {},
      "source": [
        "In the case of passage by position, respect for the order is\n",
        "imperative."
      ]
    },
    {
      "cell_type": "code",
      "execution_count": 14,
      "id": "fa177bd9",
      "metadata": {},
      "outputs": [
        {
          "name": "stdout",
          "output_type": "stream",
          "text": [
            "0.0\n"
          ]
        },
        {
          "ename": "ZeroDivisionError",
          "evalue": "division by zero",
          "output_type": "error",
          "traceback": [
            "\u001b[1;31m---------------------------------------------------------------------------\u001b[0m",
            "\u001b[1;31mZeroDivisionError\u001b[0m                         Traceback (most recent call last)",
            "Cell \u001b[1;32mIn[14], line 2\u001b[0m\n\u001b[0;32m      1\u001b[0m \u001b[39mprint\u001b[39m(division(\u001b[39m0\u001b[39m, \u001b[39m5\u001b[39m))\n\u001b[1;32m----> 2\u001b[0m \u001b[39mprint\u001b[39m(division(\u001b[39m5\u001b[39;49m, \u001b[39m0\u001b[39;49m))\n",
            "Cell \u001b[1;32mIn[11], line 2\u001b[0m, in \u001b[0;36mdivision\u001b[1;34m(x, y)\u001b[0m\n\u001b[0;32m      1\u001b[0m \u001b[39mdef\u001b[39;00m\u001b[39m \u001b[39m\u001b[39mdivision\u001b[39m(x, y):\n\u001b[1;32m----> 2\u001b[0m     \u001b[39mreturn\u001b[39;00m x \u001b[39m/\u001b[39;49m y\n",
            "\u001b[1;31mZeroDivisionError\u001b[0m: division by zero"
          ]
        }
      ],
      "source": [
        "print(division(0, 5))\n",
        "print(division(5, 0))"
      ]
    },
    {
      "cell_type": "markdown",
      "id": "f2d9fe5f-1f52-4520-a8e2-3e5c1ceab81b",
      "metadata": {},
      "source": [
        "In the case of keyword-based passage, the order no longer matters."
      ]
    },
    {
      "cell_type": "code",
      "execution_count": 15,
      "id": "86dc4e41",
      "metadata": {},
      "outputs": [
        {
          "name": "stdout",
          "output_type": "stream",
          "text": [
            "0.0\n",
            "0.0\n"
          ]
        }
      ],
      "source": [
        "print(division(x=0, y=5))\n",
        "print(division(y=5, x=0))"
      ]
    },
    {
      "cell_type": "markdown",
      "id": "b437add4-8618-4555-8a51-47dbba674162",
      "metadata": {},
      "source": [
        "### Mandatory arguments and optional arguments\n",
        "\n",
        "When defining a function, it is common to want to do\n",
        "coexist arguments that the user must absolutely specify, and\n",
        "optional arguments that specify a default behavior of the\n",
        "function, but can also be modified if necessary.\n",
        "\n",
        "Let's look for example at how we can modify the behavior of the\n",
        "`print` function using an optional argument."
      ]
    },
    {
      "cell_type": "code",
      "execution_count": 16,
      "id": "0ebe85c7",
      "metadata": {},
      "outputs": [
        {
          "name": "stdout",
          "output_type": "stream",
          "text": [
            "bonjour\n",
            "bonjour\n"
          ]
        }
      ],
      "source": [
        "print(\"bonjour\")\n",
        "print(\"bonjour\")"
      ]
    },
    {
      "cell_type": "code",
      "execution_count": 17,
      "id": "b39def84",
      "metadata": {},
      "outputs": [
        {
          "name": "stdout",
          "output_type": "stream",
          "text": [
            "bonjour bonjour\n"
          ]
        }
      ],
      "source": [
        "print(\"bonjour\", end=' ')\n",
        "print(\"bonjour\")"
      ]
    },
    {
      "cell_type": "markdown",
      "id": "3bf8c214-a227-4645-ad09-26d50e94ab1b",
      "metadata": {},
      "source": [
        "We changed the behavior of the first call to `print` via the parameter\n",
        "optional `end`. By default, this value is set to `'\\n'`, which is a\n",
        "line break. We changed it in the second cell to a space,\n",
        "hence the difference in results.\n",
        "\n",
        "This example also illustrates the link between the mandatory or\n",
        "no of an argument and its mode of passage:\n",
        "\n",
        "- in general, **mandatory arguments** are **passed through\n",
        "position**. They can also be passed by keyword, but in\n",
        "to the extent that they are “expected”, they are generally passed through\n",
        "position to be more concise\n",
        "\n",
        "- **optional arguments** must be **passed by keyword**,\n",
        "in order to clearly mark that we are modifying the default behavior of the\n",
        "function\n",
        "\n",
        "How to specify that an argument is optional when defining a\n",
        "function itself? Simply by specifying a default value of\n",
        "the argument. For example, let's construct a function that concatenates two\n",
        "strings, and leaves it up to the user to specify\n",
        "a separator."
      ]
    },
    {
      "cell_type": "code",
      "execution_count": 18,
      "id": "b4c3f570",
      "metadata": {},
      "outputs": [],
      "source": [
        "def concat_string(str1, str2, sep=''):\n",
        "    return str1 + sep + str2"
      ]
    },
    {
      "cell_type": "code",
      "execution_count": 19,
      "id": "fe858240",
      "metadata": {},
      "outputs": [
        {
          "data": {
            "text/plain": [
              "'bonjourbonjour'"
            ]
          },
          "execution_count": 19,
          "metadata": {},
          "output_type": "execute_result"
        }
      ],
      "source": [
        "concat_string('bonjour', 'bonjour')  # Default behavior"
      ]
    },
    {
      "cell_type": "code",
      "execution_count": 20,
      "id": "18bd959f",
      "metadata": {},
      "outputs": [
        {
          "data": {
            "text/plain": [
              "'bonjour, bonjour'"
            ]
          },
          "execution_count": 20,
          "metadata": {},
          "output_type": "execute_result"
        }
      ],
      "source": [
        "concat_string('bonjour', 'bonjour', sep=', ')  # Changed behavior"
      ]
    },
    {
      "cell_type": "markdown",
      "id": "9f32a67f-b1a4-45bb-894d-6c5736bb8d06",
      "metadata": {},
      "source": [
        "This example also illustrates the rule when we have a mixture\n",
        "of positional and keyword arguments: **positional arguments\n",
        "must always be placed before keyword arguments**.\n",
        "\n",
        "## Returning results\n",
        "\n",
        "### Principle\n",
        "\n",
        "We saw:\n",
        "\n",
        "- that every function returns an output result\n",
        "\n",
        "- that the `return` instruction allows you to specify this result\n",
        "\n",
        "When the function is called, it evaluates to the specified value\n",
        "by `return`, and this value can then be retrieved in a\n",
        "variable and used in further calculations, and so on."
      ]
    },
    {
      "cell_type": "code",
      "execution_count": 21,
      "id": "04374119",
      "metadata": {},
      "outputs": [],
      "source": [
        "def division(x, y):\n",
        "    return x / y"
      ]
    },
    {
      "cell_type": "code",
      "execution_count": 22,
      "id": "4559dee5",
      "metadata": {},
      "outputs": [
        {
          "data": {
            "text/plain": [
              "0.6666666666666666"
            ]
          },
          "execution_count": 22,
          "metadata": {},
          "output_type": "execute_result"
        }
      ],
      "source": [
        "a = division(4, 2)\n",
        "b = division(9, 3)\n",
        "division(a, b)  # 2 / 3"
      ]
    },
    {
      "cell_type": "markdown",
      "id": "7cc1a798-ed39-4a50-8b82-2c62d33330c6",
      "metadata": {},
      "source": [
        "Important Note: **when a return statement is reached in\n",
        "a function, the rest of the function is not executed**."
      ]
    },
    {
      "cell_type": "code",
      "execution_count": 23,
      "id": "120f73ae",
      "metadata": {},
      "outputs": [
        {
          "data": {
            "text/plain": [
              "3"
            ]
          },
          "execution_count": 23,
          "metadata": {},
          "output_type": "execute_result"
        }
      ],
      "source": [
        "def test(x):\n",
        "    return x\n",
        "    print(\"vais-je être affiché ?\")\n",
        "    \n",
        "test(3)"
      ]
    },
    {
      "cell_type": "markdown",
      "id": "007dc5a3-951c-4a5b-806c-fdc9ceff5712",
      "metadata": {},
      "source": [
        "### The value `None`\n",
        "\n",
        "A function necessarily returns a result when called…\n",
        "but what happens if we don't specify a `return` statement?"
      ]
    },
    {
      "cell_type": "code",
      "execution_count": 24,
      "id": "b6e20c5f",
      "metadata": {},
      "outputs": [
        {
          "name": "stdout",
          "output_type": "stream",
          "text": [
            "Salutations Léontine !\n",
            "None\n",
            "<class 'NoneType'>\n"
          ]
        }
      ],
      "source": [
        "def accueil(prenom):\n",
        "    print(\"Salutations \" + prenom + \" !\")\n",
        "    \n",
        "x = accueil(\"Léontine\")\n",
        "print(x)\n",
        "print(type(x))"
      ]
    },
    {
      "cell_type": "markdown",
      "id": "48f07198-a140-4512-8c36-d80dff40148c",
      "metadata": {},
      "source": [
        "As expected, the function printed a welcome message in the\n",
        "console. But we didn't specify a value to return. Like an object\n",
        "must still be returned by definition, Python returns the value\n",
        "`None`, which is a particular object, of type `NoneType`, and which\n",
        "represents the absence of value. Its only interest is to clearly mark the\n",
        "difference between real value and no value.\n",
        "\n",
        "To test whether an object has the value `None`, we use a syntax\n",
        "particular:"
      ]
    },
    {
      "cell_type": "code",
      "execution_count": 25,
      "id": "fc6d77c4",
      "metadata": {},
      "outputs": [
        {
          "data": {
            "text/plain": [
              "True"
            ]
          },
          "execution_count": 25,
          "metadata": {},
          "output_type": "execute_result"
        }
      ],
      "source": [
        "x is None  # and not x == None"
      ]
    },
    {
      "cell_type": "markdown",
      "id": "e4308c87-9ec1-4e68-baa0-e1807ca5dd13",
      "metadata": {},
      "source": [
        "### Return multiple results\n",
        "\n",
        "A function by definition returns **a** result, which can be any\n",
        "Python object. What if you want to return multiple\n",
        "results? We can simply save the different results in\n",
        "a container (list, tuple, dictionary, etc.), which can contain it\n",
        "a large number of objects.\n",
        "\n",
        "In practice, it is very common to return a *tuple* when\n",
        "wants to return multiple objects. Indeed, *tuples* have the\n",
        "property of *tuple unpacking*, which we have seen several times\n",
        "in previous tutorials. This property makes possible a syntax\n",
        "very practical and elegant for assigning the results of a\n",
        "function to variables."
      ]
    },
    {
      "cell_type": "code",
      "execution_count": 26,
      "id": "c72bf22c",
      "metadata": {},
      "outputs": [
        {
          "name": "stdout",
          "output_type": "stream",
          "text": [
            "4\n",
            "8\n",
            "16\n"
          ]
        }
      ],
      "source": [
        "def puissances(x):\n",
        "    return x**2, x**3, x**4\n",
        "\n",
        "a, b, c = puissances(2)\n",
        "\n",
        "print(a)\n",
        "print(b)\n",
        "print(c)"
      ]
    },
    {
      "cell_type": "markdown",
      "id": "767f5084-0e34-42fd-97af-3275a570cc90",
      "metadata": {},
      "source": [
        "## Local variables and global variables\n",
        "\n",
        "We saw in the introduction that functions could be seen\n",
        "as mini-programs within a global program. This interpretation\n",
        "gives us the opportunity to quickly approach the notion of *scope*\n",
        "(context) in Python. A *scope* is a kind of container for objects\n",
        "Python, which can only be accessed within this framework\n",
        "*scope*.\n",
        "\n",
        "All objects (variables, functions, etc.) that are defined during a\n",
        "Python sessions are saved in the global Python scope.\n",
        "These objects can then be accessed from anywhere in the\n",
        "program, including within a function. When this is the case, we\n",
        "talks about **global variables**."
      ]
    },
    {
      "cell_type": "code",
      "execution_count": 27,
      "id": "ce4a75b0",
      "metadata": {},
      "outputs": [
        {
          "data": {
            "text/plain": [
              "11"
            ]
          },
          "execution_count": 27,
          "metadata": {},
          "output_type": "execute_result"
        }
      ],
      "source": [
        "x = 5  # global variable\n",
        "\n",
        "def ajoute(y):\n",
        "    return x + y\n",
        "\n",
        "ajoute(6)"
      ]
    },
    {
      "cell_type": "markdown",
      "id": "f9bf31fb-c5d4-4f41-bf02-15ee26e45b7b",
      "metadata": {},
      "source": [
        "The variable `x` was not passed as an argument to the `add` function nor\n",
        "was defined within the framework of this function. However, it can be called\n",
        "within the function. This allows elements to be shared between\n",
        "multiple functions.\n",
        "\n",
        "On the other hand, arguments passed to a function or variables\n",
        "defined within a function are **local variables**:\n",
        "they only exist in the specific context of the function, and do not\n",
        "cannot be reused once it has been executed."
      ]
    },
    {
      "cell_type": "code",
      "execution_count": 28,
      "id": "ea41bfed",
      "metadata": {},
      "outputs": [
        {
          "ename": "NameError",
          "evalue": "name 'z' is not defined",
          "output_type": "error",
          "traceback": [
            "\u001b[1;31m---------------------------------------------------------------------------\u001b[0m",
            "\u001b[1;31mNameError\u001b[0m                                 Traceback (most recent call last)",
            "Cell \u001b[1;32mIn[28], line 6\u001b[0m\n\u001b[0;32m      3\u001b[0m     \u001b[39mreturn\u001b[39;00m z \u001b[39m+\u001b[39m y\n\u001b[0;32m      5\u001b[0m ajoute(\u001b[39m6\u001b[39m)\n\u001b[1;32m----> 6\u001b[0m \u001b[39mprint\u001b[39m(z)\n",
            "\u001b[1;31mNameError\u001b[0m: name 'z' is not defined"
          ]
        }
      ],
      "source": [
        "def ajoute(y):\n",
        "    z = 5  # local variable\n",
        "    return z + y\n",
        "\n",
        "ajoute(6)\n",
        "print(z)"
      ]
    },
    {
      "cell_type": "markdown",
      "id": "e25c20d1-86c1-4871-bf82-26b6a95e0499",
      "metadata": {},
      "source": [
        "Within a given context, each variable is unique. On the other hand, it\n",
        "It is possible to have variables with the same name in\n",
        "different contexts. Let's look for example at what happens when we\n",
        "creates a variable in the context of a function, while it exists\n",
        "already in the global context."
      ]
    },
    {
      "cell_type": "code",
      "execution_count": 29,
      "id": "2f6283fe",
      "metadata": {},
      "outputs": [
        {
          "data": {
            "text/plain": [
              "16"
            ]
          },
          "execution_count": 29,
          "metadata": {},
          "output_type": "execute_result"
        }
      ],
      "source": [
        "x = 5  # global variable\n",
        "\n",
        "def ajoute(y):\n",
        "    x = 10\n",
        "    return x + y\n",
        "\n",
        "ajoute(6)"
      ]
    },
    {
      "cell_type": "markdown",
      "id": "ae2c8bdf-ae43-4b23-803d-d334b5c46a45",
      "metadata": {},
      "source": [
        "This is a good example of a more general principle: **it is always the\n",
        "most local context takes precedence**. When Python performs the operation\n",
        "`x + y`, it will look for the values ​​of `x` and `y` first in the\n",
        "local context, then, only if it does not find them, in the context\n",
        "higher – in this case, the global context.\n",
        "\n",
        "NB: we will see in a future tutorial on good practices that **it\n",
        "It is best to limit the use of variables to the strict minimum.\n",
        "global**, because they reduce the reproducibility of the analyses.\n",
        "\n",
        "## Exercises\n",
        "\n",
        "### Comprehension questions\n",
        "\n",
        "- 1/ Why do we say that the use of functions in a program\n",
        "is a good development practice?\n",
        "\n",
        "- 2/ What are the three characteristics of a function?\n",
        "\n",
        "- 3/ What is a “black box” function? What other functions does it have?\n",
        "Are these functions opposed?\n",
        "\n",
        "- 4/ What happens when we define a function? And when we\n",
        "call him?\n",
        "\n",
        "- 5/ How many arguments can be passed to a function?\n",
        "\n",
        "- 6/ What are the two ways of passing arguments to a\n",
        "function ?\n",
        "\n",
        "- 7/ What is the use of passing optional arguments to a\n",
        "function ?\n",
        "\n",
        "- 8/ In what order should the arguments of a function be passed?\n",
        "if it has both mandatory and optional arguments?\n",
        "\n",
        "- 9/ Are there functions that return nothing?\n",
        "\n",
        "- 10/ Can a function return multiple objects?\n",
        "\n",
        "- 11/ What happens to the variables of the local *scope* of a function?\n",
        "times the function was called?"
      ]
    },
    {
      "cell_type": "markdown",
      "id": "3d9115d5-ebb0-49a1-93d7-b5ead0941cfd",
      "metadata": {},
      "source": [
        "<details>\n",
        "\n",
        "<summary>\n",
        "\n",
        "Show solution\n",
        "\n",
        "</summary>\n",
        "\n",
        "- 1/ The use of function allows to reduce the duplication of the\n",
        "code and better isolate the different logical blocks of a\n",
        "program.\n",
        "\n",
        "- 2/ A function takes arguments as input, performs an action\n",
        "given through a set of instructions, and returns a result in\n",
        "exit.\n",
        "\n",
        "- 3/ The “black box” functions are the functions which we do not\n",
        "don't know the code when you run them, like functions\n",
        "Python built-in (len, range..). They are opposed to functions\n",
        "created by the user.\n",
        "\n",
        "- 4/ When we define a function via the def instruction, we put in\n",
        "memory the function code. It is only when we call the\n",
        "function that this code executes, and returns a result.\n",
        "\n",
        "- 5/ As much as you want.\n",
        "\n",
        "- 6/ By position: we pass the arguments in the order in which they were\n",
        "specified when defining the function. By keyword: on\n",
        "passes arguments by naming them.\n",
        "\n",
        "- 7/ Modify the default behavior of a function, as it has\n",
        "was intended by its designer.\n",
        "\n",
        "- 8/ First the mandatory arguments, then the arguments\n",
        "optional.\n",
        "\n",
        "- 9/ No, a function always returns an object. If we do not specify\n",
        "no return statement, the function returns the value None, which\n",
        "is an object of type NoneType.\n",
        "\n",
        "- 10/ No, a function returns a single object. On the other hand, if we\n",
        "wants a function to return multiple results, just have them\n",
        "put in a container (list, tuple, dictionary..).\n",
        "\n",
        "- 11/ They disappear and therefore cannot be reused in\n",
        "the global scope.\n",
        "\n",
        "</details>"
      ]
    },
    {
      "cell_type": "markdown",
      "id": "46d8ccca-6ec7-4919-9a3b-746c0f100666",
      "metadata": {},
      "source": [
        "### Power function\n",
        "\n",
        "Create a `power` function that takes two numbers `x` and\n",
        "`y` and returns the power function $x^y$."
      ]
    },
    {
      "cell_type": "code",
      "execution_count": 31,
      "id": "c96dd9dd",
      "metadata": {},
      "outputs": [
        {
          "name": "stdout",
          "output_type": "stream",
          "text": [
            "Tell me one number\n",
            "And another one\n"
          ]
        },
        {
          "data": {
            "text/plain": [
              "8"
            ]
          },
          "execution_count": 31,
          "metadata": {},
          "output_type": "execute_result"
        }
      ],
      "source": [
        "# Test your answer in this cell\n",
        "def powerFunction(x, y):\n",
        "    power = x**y\n",
        "    return power\n",
        "\n",
        "print(\"Tell me one number\")\n",
        "x = int(input())\n",
        "\n",
        "print(\"And another one\")\n",
        "y = int(input())\n",
        "\n",
        "powerFunction(x, y)\n"
      ]
    },
    {
      "cell_type": "markdown",
      "id": "2d753675-40e8-491f-9192-70455d73284a",
      "metadata": {},
      "source": [
        "<details>\n",
        "\n",
        "<summary>\n",
        "\n",
        "Show solution\n",
        "\n",
        "</summary>\n",
        "\n",
        "``` python\n",
        "def puissance(x, y):\n",
        "    return x**y\n",
        "\n",
        "puissance(2, 3)\n",
        "```\n",
        "\n",
        "</details>"
      ]
    },
    {
      "cell_type": "markdown",
      "id": "6a8ea423-caf0-41e9-b04b-fb086acc2850",
      "metadata": {},
      "source": [
        "### Predicting values ​​returned by functions\n",
        "\n",
        "Let `x = 5` and `y = 3` be arguments that we pass to each of the\n",
        "functions defined in the following cell. Predict what will\n",
        "return functions (value and `type` of the object), and check your\n",
        "answers."
      ]
    },
    {
      "cell_type": "code",
      "execution_count": null,
      "id": "4f9bcaaa",
      "metadata": {},
      "outputs": [],
      "source": [
        "def f1(x):\n",
        "    return x\n",
        "\n",
        "def f2(x):\n",
        "    return ''\n",
        "\n",
        "def f3(x):\n",
        "    print(\"Hello World\")\n",
        "    \n",
        "def f4(x, y):\n",
        "    print(x + y)\n",
        "    \n",
        "def f5(x, y):\n",
        "    x + y\n",
        "    \n",
        "def f6(x, y):\n",
        "    if x >= 3 and y < 9:\n",
        "        return 'test ok'\n",
        "    else:\n",
        "        return 'test not ok'\n",
        "    \n",
        "def f7(x, y):\n",
        "    return f6(2, 8)\n",
        "\n",
        "def f8(x, y, z):\n",
        "    return x + y + z\n",
        "\n",
        "def f9(x, y, z=5):\n",
        "    return x + y + z"
      ]
    },
    {
      "cell_type": "code",
      "execution_count": 41,
      "id": "4f46ffb3",
      "metadata": {},
      "outputs": [
        {
          "name": "stdout",
          "output_type": "stream",
          "text": [
            "13\n",
            "<class 'int'>\n"
          ]
        }
      ],
      "source": [
        "# Test your answer in this cell\n",
        "\n",
        "def f1(x): #5, int\n",
        "    return x\n",
        "\n",
        "def f2(x): #' ', str\n",
        "    return ''\n",
        "\n",
        "def f3(x): #print \"Hello World\", no return, NoneType\n",
        "    print(\"Hello World\")\n",
        "\n",
        "def f4(x, y): #print 8, no return, NoneType\n",
        "    print(x + y)\n",
        "\n",
        "def f5(x, y): #no return, NoneType\n",
        "    x + y\n",
        "\n",
        "def f6(x, y): #'test ok', str\n",
        "    if x >= 3 and y < 9:\n",
        "        return 'test ok'\n",
        "    else:\n",
        "        return 'test not ok'\n",
        "\n",
        "def f7(x, y): #\"test not ok\", str\n",
        "    return f6(2, 8)\n",
        "\n",
        "def f8(x, y, z): #error because z is not defined\n",
        "    return x + y + z\n",
        "\n",
        "def f9(x, y, z=5): # 13, int\n",
        "    return x + y + z\n",
        "\n",
        "print(f9(5, 3))\n",
        "print(type(f9(5, 3)))"
      ]
    },
    {
      "cell_type": "markdown",
      "id": "9fa3f148-aa49-4070-b8ca-53b4ce850697",
      "metadata": {},
      "source": [
        "<details>\n",
        "\n",
        "<summary>\n",
        "\n",
        "Show solution\n",
        "\n",
        "</summary>\n",
        "\n",
        "``` python\n",
        "- f1. Valeur : 5 ; Type : int\n",
        "\n",
        "- f2. Valeur : '' ; Type : str\n",
        "\n",
        "- f3. Valeur : None ; Type : NoneType\n",
        "\n",
        "- f4. Valeur : None ; Type : NoneType\n",
        "\n",
        "- f5. Valeur : None ; Type : NoneType\n",
        "\n",
        "- f6. Valeur : 'test ok' ; Type : str\n",
        "\n",
        "- f7. Valeur : 'test not ok' ; Type : str\n",
        "\n",
        "- f8. Erreur : z n'est pas défini\n",
        "\n",
        "- f9. Valeur : 13 ; Type : int\n",
        "```\n",
        "\n",
        "</details>"
      ]
    },
    {
      "cell_type": "markdown",
      "id": "f05f53ba-ea6e-4c5f-89f8-a8c0a42ca754",
      "metadata": {},
      "source": [
        "### Global variables and local variables\n",
        "\n",
        "What is the value of the variable `total` in the following program?"
      ]
    },
    {
      "cell_type": "code",
      "execution_count": null,
      "id": "2e74e213",
      "metadata": {},
      "outputs": [],
      "source": [
        "z = 3\n",
        "\n",
        "def f1(x, y):\n",
        "    z = 5\n",
        "    return x + y + z\n",
        "\n",
        "def f2(x, y, z=1):\n",
        "    return x + y + z\n",
        "\n",
        "def f3(x, y):\n",
        "    return x + y + z\n",
        "\n",
        "total = f1(2, 3) + f2(3, 1) + f3(1, 0)\n",
        "print(total)"
      ]
    },
    {
      "cell_type": "code",
      "execution_count": 43,
      "id": "82a3c724",
      "metadata": {},
      "outputs": [
        {
          "name": "stdout",
          "output_type": "stream",
          "text": [
            "10\n",
            "5\n",
            "4\n",
            "19\n"
          ]
        }
      ],
      "source": [
        "# Test your answer in this cell\n",
        "\n",
        "z = 3\n",
        "\n",
        "def f1(x, y):\n",
        "    z = 5\n",
        "    return x + y + z\n",
        "\n",
        "def f2(x, y, z=1):\n",
        "    return x + y + z\n",
        "\n",
        "def f3(x, y):\n",
        "    return x + y + z\n",
        "\n",
        "total = f1(2, 3) + f2(3, 1) + f3(1, 0) #10 + 5 + 4 = 19\n",
        "print(f1(2, 3))\n",
        "print(f2(3, 1))\n",
        "print(f3(1, 0))\n",
        "print(total)"
      ]
    },
    {
      "cell_type": "markdown",
      "id": "a6683602-2600-4f81-850e-a744bb002c68",
      "metadata": {},
      "source": [
        "<details>\n",
        "\n",
        "<summary>\n",
        "\n",
        "Show solution\n",
        "\n",
        "</summary>\n",
        "\n",
        "``` python\n",
        "z = 3\n",
        "\n",
        "def f1(x, y):\n",
        "    z = 5\n",
        "    return x + y + z\n",
        "\n",
        "def f2(x, y, z=1):\n",
        "    return x + y + z\n",
        "\n",
        "def f3(x, y):\n",
        "    return x + y + z\n",
        "\n",
        "total = f1(2, 3) + f2(3, 1) + f3(1, 0)\n",
        "\n",
        "print(f1(2, 3))  \n",
        "# c'est la variable z locale à f1 qui est utilisée -> f1 renvoie 10\n",
        "\n",
        "print(f2(3, 1))  \n",
        "# c'est la variable z locale à f1 qui est utilisée\n",
        "# sa valeur par défaut est 1 -> f2 renvoie 5\n",
        "\n",
        "print(f3(1, 0)) \n",
        "# c'est la variable z globale qui est utilisée -> f3 renvoie 4\n",
        "\n",
        "print(total)\n",
        "```\n",
        "\n",
        "</details>"
      ]
    },
    {
      "cell_type": "markdown",
      "id": "331490d0-79ac-43f2-97cf-d3241c67dc96",
      "metadata": {},
      "source": [
        "### Calculator\n",
        "\n",
        "Write a `calculator` function that:\n",
        "\n",
        "- takes two numbers as input\n",
        "\n",
        "- returns addition, subtraction, multiplication and\n",
        "division of these two numbers at output\n",
        "\n",
        "Use the *tuple unpacking* property to assign the results to\n",
        "variables in one line."
      ]
    },
    {
      "cell_type": "code",
      "execution_count": 46,
      "id": "2954151a",
      "metadata": {},
      "outputs": [
        {
          "name": "stdout",
          "output_type": "stream",
          "text": [
            "3 -1 2 0.5\n"
          ]
        }
      ],
      "source": [
        "# Test your answer in this cell\n",
        "\n",
        "def calculator(a, b):\n",
        "    addition = a + b\n",
        "    subtraction = a - b\n",
        "    multiplication = a * b\n",
        "    division = a / b\n",
        "    return addition, subtraction, multiplication, division\n",
        "\n",
        "addition, subtraction, multiplication, division = calculator(1, 2)\n",
        "print(addition, subtraction, multiplication, division)"
      ]
    },
    {
      "cell_type": "markdown",
      "id": "22a637a2-a6bc-4389-825a-554da7b55fdd",
      "metadata": {},
      "source": [
        "<details>\n",
        "\n",
        "<summary>\n",
        "\n",
        "Show solution\n",
        "\n",
        "</summary>\n",
        "\n",
        "``` python\n",
        "def calculatrice(a, b):\n",
        "    return a+b, a-b, a*b, a/b\n",
        "\n",
        "add, sub, mult, div = calculatrice(5, 3)\n",
        "print(add, sub, mult, div)\n",
        "```\n",
        "\n",
        "</details>"
      ]
    },
    {
      "cell_type": "markdown",
      "id": "669afd62-3886-4d74-a0c7-a675048083d7",
      "metadata": {},
      "source": [
        "### Deduplicate a list\n",
        "\n",
        "Write a function that:\n",
        "\n",
        "- takes as input a list of any elements\n",
        "\n",
        "- returns a new list consisting of the unique elements of the\n",
        "initial list\n",
        "\n",
        "- allows via an optional parameter to sort or not the final list\n",
        "in alphanumeric order. The default behavior should be to not\n",
        "not sort.\n",
        "\n",
        "Hint: The procedure was covered in the tutorial on\n",
        "dictionaries and sets."
      ]
    },
    {
      "cell_type": "code",
      "execution_count": 54,
      "id": "9078f979",
      "metadata": {},
      "outputs": [
        {
          "ename": "TypeError",
          "evalue": "'list' object is not callable",
          "output_type": "error",
          "traceback": [
            "\u001b[1;31m---------------------------------------------------------------------------\u001b[0m",
            "\u001b[1;31mTypeError\u001b[0m                                 Traceback (most recent call last)",
            "Cell \u001b[1;32mIn[54], line 11\u001b[0m\n\u001b[0;32m      7\u001b[0m     \u001b[39mreturn\u001b[39;00m l_dedup\n\u001b[0;32m      9\u001b[0m \u001b[39mlist\u001b[39m \u001b[39m=\u001b[39m [\u001b[39m\"\u001b[39m\u001b[39mone\u001b[39m\u001b[39m\"\u001b[39m, \u001b[39m\"\u001b[39m\u001b[39mtwo\u001b[39m\u001b[39m\"\u001b[39m, \u001b[39m\"\u001b[39m\u001b[39mone\u001b[39m\u001b[39m\"\u001b[39m, \u001b[39m\"\u001b[39m\u001b[39mfour\u001b[39m\u001b[39m\"\u001b[39m]\n\u001b[1;32m---> 11\u001b[0m \u001b[39mprint\u001b[39m(dedup(\u001b[39mlist\u001b[39;49m))\n\u001b[0;32m     12\u001b[0m \u001b[39mprint\u001b[39m(dedup(l, sort))\n",
            "Cell \u001b[1;32mIn[54], line 4\u001b[0m, in \u001b[0;36mdedup\u001b[1;34m(l, sort)\u001b[0m\n\u001b[0;32m      3\u001b[0m \u001b[39mdef\u001b[39;00m\u001b[39m \u001b[39m\u001b[39mdedup\u001b[39m(l, sort \u001b[39m=\u001b[39m \u001b[39mFalse\u001b[39;00m):\n\u001b[1;32m----> 4\u001b[0m     l_dedup \u001b[39m=\u001b[39m \u001b[39mlist\u001b[39;49m(\u001b[39mset\u001b[39;49m(l))\n\u001b[0;32m      5\u001b[0m     \u001b[39mif\u001b[39;00m sort:\n\u001b[0;32m      6\u001b[0m         l_dedup\u001b[39m.\u001b[39msort()\n",
            "\u001b[1;31mTypeError\u001b[0m: 'list' object is not callable"
          ]
        }
      ],
      "source": [
        "# Test your answer in this cell\n",
        "\n",
        "def dedup(l, sort = False):\n",
        "    l_dedup = list(set(l))\n",
        "    if sort:\n",
        "        l_dedup.sort()\n",
        "    return l_dedup\n",
        "\n",
        "l = [\"one\", \"two\", \"one\", \"four\"]\n",
        "\n",
        "print(dedup(l))\n",
        "print(dedup(l, sort))"
      ]
    },
    {
      "cell_type": "markdown",
      "id": "270528dd-19ed-4c6a-b821-bbd2d936a6f2",
      "metadata": {},
      "source": [
        "<details>\n",
        "\n",
        "<summary>\n",
        "\n",
        "Show solution\n",
        "\n",
        "</summary>\n",
        "\n",
        "``` python\n",
        "def dedup(l, sort=False):\n",
        "    l_dedup = list(set(l))\n",
        "    if sort:\n",
        "        l_dedup.sort()\n",
        "    return l_dedup\n",
        "\n",
        "l = [\"a\", \"a\", \"b\", \"c\"]\n",
        "print(dedup(l))  # Comportement par défaut : pas de tri\n",
        "print(dedup(l, sort=True))  # Comportement modifié : tri\n",
        "```\n",
        "\n",
        "</details>"
      ]
    },
    {
      "cell_type": "markdown",
      "id": "c4f1b0ee-2e01-4c54-ac33-08c4a2df9771",
      "metadata": {},
      "source": [
        "### Multiplying the elements of a list\n",
        "\n",
        "Write a function that:\n",
        "\n",
        "- takes a list of numbers as input\n",
        "\n",
        "- prints: “There are $n$ numbers in the list.” with $n$ the number\n",
        "effective\n",
        "\n",
        "- multiplies all elements of the list (without using a function\n",
        "pre-coded)\n",
        "\n",
        "- returns the result"
      ]
    },
    {
      "cell_type": "code",
      "execution_count": 59,
      "id": "5cd9a0bf",
      "metadata": {},
      "outputs": [
        {
          "name": "stdout",
          "output_type": "stream",
          "text": [
            "There are 5 numbers in the list.\n"
          ]
        },
        {
          "data": {
            "text/plain": [
              "-240"
            ]
          },
          "execution_count": 59,
          "metadata": {},
          "output_type": "execute_result"
        },
        {
          "ename": "",
          "evalue": "",
          "output_type": "error",
          "traceback": [
            "\u001b[1;31mThe Kernel crashed while executing code in the the current cell or a previous cell. Please review the code in the cell(s) to identify a possible cause of the failure. Click <a href='https://aka.ms/vscodeJupyterKernelCrash'>here</a> for more info. View Jupyter <a href='command:jupyter.viewOutput'>log</a> for further details."
          ]
        }
      ],
      "source": [
        "# Test your answer in this cell\n",
        "\n",
        "def multiplication(listOfNumbers):\n",
        "    print(\"There are \" + str(len(listOfNumbers)) + \" numbers in the list.\")\n",
        "    numMult = 1\n",
        "    for i in listOfNumbers:\n",
        "        numMult = numMult * i\n",
        "    return numMult\n",
        "\n",
        "list = [8, 5, 1, -1, 6]\n",
        "multiplication(list)\n"
      ]
    },
    {
      "cell_type": "markdown",
      "id": "7e197592-a9ec-414a-877b-0f1a8cb59f0e",
      "metadata": {},
      "source": [
        "<details>\n",
        "\n",
        "<summary>\n",
        "\n",
        "Show solution\n",
        "\n",
        "</summary>\n",
        "\n",
        "``` python\n",
        "def multiplier(l):\n",
        "    print(\"Il y a \" + str(len(l)) + \" nombres dans la liste.\")\n",
        "    c = 1\n",
        "    for x in l:\n",
        "        c *= x  # Equivalent à : c = c * x\n",
        "    return c\n",
        "\n",
        "l = [2, 8, 3]\n",
        "multiplier(l)\n",
        "```\n",
        "\n",
        "</details>"
      ]
    },
    {
      "cell_type": "markdown",
      "id": "fe49dc84-b5e3-463e-ac75-a941c18432bb",
      "metadata": {},
      "source": [
        "### Variance in a population and variance in a sample\n",
        "\n",
        "In an exercise from the previous tutorial, we coded “by hand” the\n",
        "calculating the variance of a list of numbers, from the formula:\n",
        "$$\\sigma^2 = {\\frac {1}{n}}\\sum_{i=1}^{n} (x_{i}-\\bar{x})^2$$\n",
        "\n",
        "Strictly speaking, this formula is valid when calculating the\n",
        "**complete population variance**. If we only observe one sample\n",
        "of the population, we do not calculate the variance but we estimate it, and it\n",
        "You must then use the following formula to obtain an **estimator\n",
        "without bias of the true variance**:\n",
        "$$s^2 = {\\frac {1}{n-1}}\\sum_{i=1}^{n} (x_{i}-\\bar{x})^2$$.\n",
        "\n",
        "To take this distinction into account:\n",
        "\n",
        "- code a `mean` function that calculates the mean as in\n",
        "the exercise from the previous tutorial\n",
        "\n",
        "- code a `var` function that calculates the variance as in\n",
        "the exercise from the previous tutorial (by calling the `mean` function\n",
        "to calculate the average)\n",
        "\n",
        "- modify the `var` function to allow the user to\n",
        "choose the calculation method via an optional parameter `mode`\n",
        "(default value: ‘population’ for calculation via the formula in\n",
        "population; alternative value: ‘sample’ for calculation via the\n",
        "sample formula)\n",
        "\n",
        "Compare the values ​​obtained in both cases with what the\n",
        "*black box* function `var` from the `numpy` library (see correction of\n",
        "the exercise from the previous tutorial for the syntax, and see the\n",
        "[doc](https://numpy.org/doc/stable/reference/generated/numpy.var.html)\n",
        "of the function and in particular the `ddof` parameter to vary\n",
        "the calculation method)."
      ]
    },
    {
      "cell_type": "code",
      "execution_count": null,
      "id": "827a6fe6",
      "metadata": {},
      "outputs": [],
      "source": [
        "# Test your answer in this cell"
      ]
    },
    {
      "cell_type": "markdown",
      "id": "df504430-bf4c-4b49-8bdc-5763f49782ea",
      "metadata": {},
      "source": [
        "<details>\n",
        "\n",
        "<summary>\n",
        "\n",
        "Show solution\n",
        "\n",
        "</summary>\n",
        "\n",
        "``` python\n",
        "def mean(x):\n",
        "    n = len(x)\n",
        "    somme_moy = 0\n",
        "    for x_i in x:\n",
        "        somme_moy += x_i\n",
        "    moyenne = somme_moy / n\n",
        "    return moyenne\n",
        "\n",
        "def var(x, mode=\"population\"):\n",
        "    n = len(x)\n",
        "    moyenne = mean(x)\n",
        "    somme_var = 0\n",
        "    for x_i in x:\n",
        "        somme_var += (x_i - moyenne)**2\n",
        "    if mode == \"population\":\n",
        "        variance = somme_var / n\n",
        "    elif mode == \"sample\":\n",
        "        variance = somme_var / (n-1)\n",
        "    return variance\n",
        "\n",
        "x = [8, 18, 6, 0, 15, 17.5, 9, 1]\n",
        "print(mean(x))\n",
        "print(var(x))  # population\n",
        "print(var(x, mode=\"sample\"))  # échantillon\n",
        "\n",
        "# Vérification avec les fonctions de la librairie numpy\n",
        "import numpy as np\n",
        "print(np.mean(x))\n",
        "print(np.var(x))  # population\n",
        "print(np.var(x, ddof=1))  # sample\n",
        "```\n",
        "\n",
        "</details>"
      ]
    },
    {
      "cell_type": "markdown",
      "id": "5409490f-8529-417a-8d24-585aa87c2102",
      "metadata": {},
      "source": [
        "### Recursive functions: factorial\n",
        "\n",
        "Recursive functions are functions that call themselves\n",
        "in the function body, resulting in infinite calls until\n",
        "reach a stopping criterion.\n",
        "\n",
        "A good example of a recursive function is the function that calculates the\n",
        "factorial of an integer. The factorial of a natural integer $n$ is the\n",
        "produces strictly positive integers less than or equal to\n",
        "n. For example: $5! = 5*4*3*2*1 = $120.\n",
        "\n",
        "Code this function and verify that it works correctly."
      ]
    },
    {
      "cell_type": "code",
      "execution_count": 6,
      "id": "5144c219",
      "metadata": {},
      "outputs": [
        {
          "name": "stdout",
          "output_type": "stream",
          "text": [
            "Which number do you want me to calculate the factorial of?\n",
            "The factorial is 720.\n"
          ]
        }
      ],
      "source": [
        "# Test your answer in this cell\n",
        "#This is not recursive.\n",
        "def factorial(number):\n",
        "    fac = 1\n",
        "    while number > 0:\n",
        "        fac = fac * number\n",
        "        number = number - 1\n",
        "    print(\"The factorial is \" + str(fac) + \".\")\n",
        "\n",
        "print(\"Which number do you want me to calculate the factorial of?\")\n",
        "number = int(input())\n",
        "if number > 0:\n",
        "    factorial(number)\n",
        "else:\n",
        "    \"You don't know how to use this.\""
      ]
    },
    {
      "cell_type": "code",
      "execution_count": 9,
      "id": "ff9f309f",
      "metadata": {},
      "outputs": [
        {
          "name": "stdout",
          "output_type": "stream",
          "text": [
            "Which number do you want me to calculate the factorial of?\n",
            "The factorial is 720.\n"
          ]
        }
      ],
      "source": [
        "def factorial(number):\n",
        "    if number == 0:\n",
        "        return 1\n",
        "    else:\n",
        "        return factorial(number - 1) * number\n",
        "\n",
        "print(\"Which number do you want me to calculate the factorial of?\")\n",
        "number = int(input())\n",
        "if number > 0:\n",
        "    print(\"The factorial is \" + str(factorial(number)) + \".\")\n",
        "else:\n",
        "    \"You don't know how to use this.\"\n"
      ]
    },
    {
      "cell_type": "markdown",
      "id": "b83bc345-d57c-4816-ab08-219f5dac18c9",
      "metadata": {},
      "source": [
        "<details>\n",
        "\n",
        "<summary>\n",
        "\n",
        "Show solution\n",
        "\n",
        "</summary>\n",
        "\n",
        "``` python\n",
        "def factorielle(n):\n",
        "    if n == 0:\n",
        "        # Critère d'arrêt\n",
        "        return 1\n",
        "    else:\n",
        "        return n * factorielle(n-1)\n",
        "\n",
        "factorielle(5)\n",
        "```\n",
        "\n",
        "</details>"
      ]
    }
  ],
  "metadata": {
    "kernelspec": {
      "display_name": "Python 3 (ipykernel)",
      "language": "python",
      "name": "python3",
      "path": "/Users/gblin/opt/anaconda3/share/jupyter/kernels/python3"
    },
    "language_info": {
      "codemirror_mode": {
        "name": "ipython",
        "version": 3
      },
      "file_extension": ".py",
      "mimetype": "text/x-python",
      "name": "python",
      "nbconvert_exporter": "python",
      "pygments_lexer": "ipython3",
      "version": "3.11.9"
    }
  },
  "nbformat": 4,
  "nbformat_minor": 5
}
