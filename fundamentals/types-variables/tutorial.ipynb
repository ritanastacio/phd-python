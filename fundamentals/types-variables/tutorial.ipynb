{
 "cells": [
  {
   "cell_type": "markdown",
   "id": "d5bfb23d-58e1-4a35-82b7-607e4ab635aa",
   "metadata": {},
   "source": [
    "# Types de base et variables\n",
    "\n",
    "Dans ce premier TP, nous allons découvrir les objets les plus\n",
    "fondamentaux de Python : les **nombres** et les **chaînes de\n",
    "caractères**. Nous allons également voir comment l’on peut assigner des\n",
    "objets à des **variables**, afin de réaliser des opérations avec ces\n",
    "objets.\n",
    "\n",
    "## Nombres\n",
    "\n",
    "### Types de nombres\n",
    "\n",
    "Python propose différents objets de type numérique. Dans ce tutoriel, on\n",
    "va s’intéresser aux deux types principalement utilisés :\n",
    "\n",
    "-   les entiers (type `int` pour *integer*)\n",
    "\n",
    "-   les réels (type `float` pour nombres à virgule flottante)\n",
    "\n",
    "De manière générale, on utilise la fonction `type` pour imprimer le type\n",
    "d’un objet Python."
   ]
  },
  {
   "cell_type": "code",
   "execution_count": 5,
   "id": "e2228185",
   "metadata": {},
   "outputs": [
    {
     "data": {
      "text/plain": [
       "int"
      ]
     },
     "execution_count": 5,
     "metadata": {},
     "output_type": "execute_result"
    }
   ],
   "source": [
    "type(3)"
   ]
  },
  {
   "cell_type": "code",
   "execution_count": 6,
   "id": "ad6edbe8",
   "metadata": {},
   "outputs": [
    {
     "data": {
      "text/plain": [
       "float"
      ]
     },
     "execution_count": 6,
     "metadata": {},
     "output_type": "execute_result"
    }
   ],
   "source": [
    "type(3.14)"
   ]
  },
  {
   "cell_type": "markdown",
   "id": "8db94390-3b3b-4809-a093-954cc709bfcf",
   "metadata": {},
   "source": [
    "Les fonctions `float` et `int` peuvent être utilisées pour passer d’un\n",
    "type à l’autre."
   ]
  },
  {
   "cell_type": "code",
   "execution_count": 7,
   "id": "a32018cf",
   "metadata": {},
   "outputs": [
    {
     "data": {
      "text/plain": [
       "3.0"
      ]
     },
     "execution_count": 7,
     "metadata": {},
     "output_type": "execute_result"
    }
   ],
   "source": [
    "# Conversion en float\n",
    "float(3)"
   ]
  },
  {
   "cell_type": "code",
   "execution_count": 8,
   "id": "ec3d3bd1",
   "metadata": {},
   "outputs": [
    {
     "data": {
      "text/plain": [
       "float"
      ]
     },
     "execution_count": 8,
     "metadata": {},
     "output_type": "execute_result"
    }
   ],
   "source": [
    "# Conversion en float\n",
    "type(float(3))"
   ]
  },
  {
   "cell_type": "code",
   "execution_count": 9,
   "id": "18d97e37",
   "metadata": {},
   "outputs": [
    {
     "data": {
      "text/plain": [
       "3"
      ]
     },
     "execution_count": 9,
     "metadata": {},
     "output_type": "execute_result"
    }
   ],
   "source": [
    "# Conversion en int\n",
    "int(3.79)"
   ]
  },
  {
   "cell_type": "markdown",
   "id": "5e47559c-6cf4-435d-a2de-126440fdd60e",
   "metadata": {},
   "source": [
    "<div class=\"alert alert-block alert-info\">\n",
    "⚠️  Attention à la conversion *float* ➔ *int*, qui tronque la partie\n",
    "décimale.</div>\n",
    "\n",
    "Les *floats* peuvent par ailleurs être écrits en notation scientifique :"
   ]
  },
  {
   "cell_type": "code",
   "execution_count": 10,
   "id": "0901e52b",
   "metadata": {},
   "outputs": [
    {
     "data": {
      "text/plain": [
       "2000.0"
      ]
     },
     "execution_count": 10,
     "metadata": {},
     "output_type": "execute_result"
    }
   ],
   "source": [
    "2e3"
   ]
  },
  {
   "cell_type": "code",
   "execution_count": 11,
   "id": "b0b7e42c",
   "metadata": {},
   "outputs": [
    {
     "data": {
      "text/plain": [
       "float"
      ]
     },
     "execution_count": 11,
     "metadata": {},
     "output_type": "execute_result"
    }
   ],
   "source": [
    "type(2e3)"
   ]
  },
  {
   "attachments": {},
   "cell_type": "markdown",
   "id": "fc4628f8-2153-4f4d-9bf5-936a9c3ec027",
   "metadata": {},
   "source": [
    "### Opérations arithmétiques de base\n"
   ]
  },
  {
   "cell_type": "code",
   "execution_count": 12,
   "id": "89d174a1",
   "metadata": {},
   "outputs": [
    {
     "data": {
      "text/plain": [
       "17"
      ]
     },
     "execution_count": 12,
     "metadata": {},
     "output_type": "execute_result"
    }
   ],
   "source": [
    "# Addition\n",
    "8 + 9"
   ]
  },
  {
   "cell_type": "code",
   "execution_count": 13,
   "id": "89507c01",
   "metadata": {},
   "outputs": [
    {
     "data": {
      "text/plain": [
       "3"
      ]
     },
     "execution_count": 13,
     "metadata": {},
     "output_type": "execute_result"
    }
   ],
   "source": [
    "# Soustraction\n",
    "5 - 2"
   ]
  },
  {
   "cell_type": "code",
   "execution_count": 14,
   "id": "273e0f9c",
   "metadata": {},
   "outputs": [
    {
     "data": {
      "text/plain": [
       "12"
      ]
     },
     "execution_count": 14,
     "metadata": {},
     "output_type": "execute_result"
    }
   ],
   "source": [
    "# Multiplication\n",
    "2 * 6"
   ]
  },
  {
   "cell_type": "code",
   "execution_count": 15,
   "id": "f66cd46f",
   "metadata": {},
   "outputs": [
    {
     "data": {
      "text/plain": [
       "2.25"
      ]
     },
     "execution_count": 15,
     "metadata": {},
     "output_type": "execute_result"
    }
   ],
   "source": [
    "# Division\n",
    "9 / 4"
   ]
  },
  {
   "cell_type": "code",
   "execution_count": 16,
   "id": "d66f7446",
   "metadata": {},
   "outputs": [
    {
     "ename": "ZeroDivisionError",
     "evalue": "division by zero",
     "output_type": "error",
     "traceback": [
      "\u001b[1;31m---------------------------------------------------------------------------\u001b[0m",
      "\u001b[1;31mZeroDivisionError\u001b[0m                         Traceback (most recent call last)",
      "Cell \u001b[1;32mIn[16], line 2\u001b[0m\n\u001b[0;32m      1\u001b[0m \u001b[39m# Division par 0\u001b[39;00m\n\u001b[1;32m----> 2\u001b[0m \u001b[39m3\u001b[39;49m \u001b[39m/\u001b[39;49m \u001b[39m0\u001b[39;49m\n",
      "\u001b[1;31mZeroDivisionError\u001b[0m: division by zero"
     ]
    }
   ],
   "source": [
    "# Division par 0\n",
    "3 / 0"
   ]
  },
  {
   "cell_type": "markdown",
   "id": "fbd777ac-69fd-4419-aeb4-b4eb1a53333c",
   "metadata": {},
   "source": [
    "La division par 0 produit une erreur. C’était bien sûr prévisible. Mais\n",
    "il n’est pas rare d’avoir de telles erreurs dans le cadre de calculs\n",
    "statistiques, notamment avec *NumPy* ou *Pandas*, produisant une erreur\n",
    "similaire qu’il faut alors débugger.\n",
    "\n",
    "<div class=\"alert alert-block alert-info\">\n",
    " <b>Debugger une erreur</b>\n",
    "\n",
    " Les erreurs de code sont un passage obligatoire et en réalité\n",
    " nécessaire de l’apprentissage d’un langage: c’est en debuggant les\n",
    " erreurs que notre code produit que l’on apprend à les éviter à\n",
    " l’avenir ! Pour ce faire, il est nécessaire de bien les comprendre en\n",
    " premier lieu.\n",
    "\n",
    " L’erreur ci-dessus, liée à la division par 0, a produit un\n",
    " `Traceback`, i.e. un log détaillé précisant à quelle étape des\n",
    " différentes opérations effectuées par Python s’est produite l’erreur,\n",
    " ainsi que le nom de l’erreur (`ZeroDivisionError`) et un descriptif\n",
    " (“division by zero”). En l’occurence, l’erreur est simple, le message\n",
    " permet donc de comprendre directement le problème. Pour des opérations\n",
    " plus compliquées, les noms et messages peuvent être moins évidents…\n",
    " mais néanmoins utiles pour comprendre la source de l’erreur - en les\n",
    " indiquant dans un moteur de recherche par exemple.\n",
    "</div>"
   ]
  },
  {
   "cell_type": "code",
   "execution_count": null,
   "id": "e7c46d8e",
   "metadata": {},
   "outputs": [],
   "source": [
    "# Division euclidienne : quotient\n",
    "9 // 4"
   ]
  },
  {
   "cell_type": "code",
   "execution_count": null,
   "id": "5b8e62e6",
   "metadata": {},
   "outputs": [],
   "source": [
    "# Division euclidienne : reste\n",
    "9 % 4"
   ]
  },
  {
   "cell_type": "code",
   "execution_count": null,
   "id": "a1a77a63",
   "metadata": {},
   "outputs": [],
   "source": [
    "# Puissance\n",
    "2 ** 5"
   ]
  },
  {
   "cell_type": "code",
   "execution_count": null,
   "id": "7cf21839",
   "metadata": {},
   "outputs": [],
   "source": [
    "# Racine carrée\n",
    "5 ** 0.5"
   ]
  },
  {
   "cell_type": "code",
   "execution_count": null,
   "id": "f5cab8ae",
   "metadata": {},
   "outputs": [],
   "source": [
    "# Ordre des opérations : convention usuelle\n",
    "2 + 5 * (10 - 4)"
   ]
  },
  {
   "cell_type": "markdown",
   "id": "a51bb7aa-dd41-4e8b-b1d3-afe6d98981d2",
   "metadata": {},
   "source": [
    "## Chaînes de caractères\n",
    "\n",
    "Les chaînes de caractères (ou *strings*) sont utilisées pour stocker de\n",
    "l’information textuelle. Plus précisément, elles peuvent stocker tout\n",
    "caractère de type [Unicode](https://fr.wikipedia.org/wiki/Unicode), ce\n",
    "qui inclut les lettres des différentes langues, mais également la\n",
    "ponctuation, les chiffres, les smileys, etc.\n",
    "\n",
    "Un *string* se définit en mettant l’information entre apostrophes ou\n",
    "entre guillemets (anglais).\n",
    "\n",
    "### Définition"
   ]
  },
  {
   "cell_type": "code",
   "execution_count": null,
   "id": "2df9e009",
   "metadata": {},
   "outputs": [],
   "source": [
    "# Première manière \n",
    "'mot'"
   ]
  },
  {
   "cell_type": "code",
   "execution_count": null,
   "id": "e9ddb6d8",
   "metadata": {},
   "outputs": [],
   "source": [
    "# Deuxième manière\n",
    "\"ça fonctionne aussi\""
   ]
  },
  {
   "cell_type": "code",
   "execution_count": null,
   "id": "6674044e",
   "metadata": {},
   "outputs": [],
   "source": [
    "# Mais attention au mélange des deux !\n",
    "'l'apostrophe, quelle catastrophe'"
   ]
  },
  {
   "cell_type": "markdown",
   "id": "3234f7d0-15f0-4b76-856f-96441661be5a",
   "metadata": {},
   "source": [
    "Erreur de syntaxe : la seconde apostrophe est comprise comme la fin du\n",
    "*string*, et Python ne sait pas interpréter le reste de la séquence.\n",
    "\n",
    "<div class=\"alert alert-block alert-info\">\n",
    " <b>Erreurs de syntaxe et exception</b>\n",
    " \n",
    "Depuis le début du TP, on a vu plusieurs erreurs produites par le\n",
    "code. En pratique, il est important de distinguer deux types d’erreurs\n",
    ":\n",
    "\n",
    "-   les **erreurs de syntaxe**: le code ne respecte pas les règles de\n",
    "    syntaxe de Python, comme l’erreur ci-dessus. Le `Traceback`\n",
    "    (message d’erreur) indique avec des flèches pointant vers le haut\n",
    "    la ligne et le moment où à commencé le problème\n",
    "\n",
    " -   les **exceptions**: le code est syntaxiquement correct mais\n",
    "     produit une erreur lors de son exécution, comme la division par\n",
    "     zéro effectuée plus haut.\n",
    "\n",
    " Pourquoi alors est-il important de distinguer ces deux types d’erreur\n",
    " ? Car là où une syntaxe incorrecte génère nécessairement une\n",
    " `SyntaxError` et arrête l’exécution du code, une exception peut être\n",
    " gérée dans le code. Par exemple, dans le cadre d’un code où l’on\n",
    " réaliserait de multiples divisions avec des paramètres multiples, on\n",
    " pourrait vouloir faire en sorte qu’une division par zéro ne renvoie\n",
    " pas une erreur qui interrompe l’exécution du code, mais une valeur\n",
    " arbitraire (infini, valeur manquante…).\n",
    " </div>\n",
    "\n",
    "Pour éviter l’erreur de syntaxe, il faut varier les caractères en cas de\n",
    "besoin :"
   ]
  },
  {
   "cell_type": "code",
   "execution_count": null,
   "id": "2141b291",
   "metadata": {},
   "outputs": [],
   "source": [
    "\"l'apostrophe, aucun problème\""
   ]
  },
  {
   "cell_type": "markdown",
   "id": "495a05ba-da55-4780-92d8-983cb539d638",
   "metadata": {},
   "source": [
    "Même chose en sens inverse :"
   ]
  },
  {
   "cell_type": "code",
   "execution_count": null,
   "id": "3461a9d7",
   "metadata": {},
   "outputs": [],
   "source": [
    "'les guillemets, \"aucun problème\"'"
   ]
  },
  {
   "cell_type": "markdown",
   "id": "63356a20-a6d3-4601-a133-8ae3a140c88c",
   "metadata": {},
   "source": [
    "### La fonction `print`\n",
    "\n",
    "Le travail avec les *strings* est l’occasion de découvrir la très\n",
    "pratique et très utilisée fonction `print`. Elle affiche simplement\n",
    "l’argument qu’on lui passe entre parenthèses **et** un retour à la ligne\n",
    "par défaut."
   ]
  },
  {
   "cell_type": "code",
   "execution_count": null,
   "id": "fe6ba098",
   "metadata": {},
   "outputs": [],
   "source": [
    "# Affichage de la chaîne \"moi\"\n",
    "\"moi\""
   ]
  },
  {
   "cell_type": "code",
   "execution_count": null,
   "id": "dcdda751",
   "metadata": {},
   "outputs": [],
   "source": [
    "# Affichage de la chaîne \"moi\" avec print\n",
    "print(\"moi\")"
   ]
  },
  {
   "cell_type": "markdown",
   "id": "4be8c42e-cd4f-4a18-ad9f-1ee06aac0da8",
   "metadata": {},
   "source": [
    "On a vu jusqu’à maintenant que l’on pouvait simplement exécuter une\n",
    "cellule pour afficher le contenu d’un *string*. Mais est-ce cela marche\n",
    "avec plusieurs *strings* ?"
   ]
  },
  {
   "cell_type": "code",
   "execution_count": null,
   "id": "70e27b84",
   "metadata": {},
   "outputs": [],
   "source": [
    "# Qui va être affiché ?\n",
    "\"moi\"\n",
    "\"non moi\""
   ]
  },
  {
   "cell_type": "markdown",
   "id": "6424ff44-52c1-4e2d-9592-16ef89faa348",
   "metadata": {},
   "source": [
    "On voit là un comportement caractéristique des notebooks Jupyter : seule\n",
    "la dernière valeur renvoyée dans une cellule est affichée. La fonction\n",
    "`print` permet de s’affranchir de cette limite."
   ]
  },
  {
   "cell_type": "code",
   "execution_count": null,
   "id": "56dda7b9",
   "metadata": {},
   "outputs": [],
   "source": [
    "# Et cette fois ?\n",
    "print(\"moi\")\n",
    "print(\"moi aussi\")"
   ]
  },
  {
   "cell_type": "markdown",
   "id": "8484045e-10b8-499a-9b0f-4245e8a382f4",
   "metadata": {},
   "source": [
    "### Longueur d’une chaîne\n",
    "\n",
    "La fonction `len` permet de compter le nombre de caractères d’un\n",
    "*string*, tous caractères inclus (lettres, chiffres, espaces,\n",
    "ponctuation…)."
   ]
  },
  {
   "cell_type": "code",
   "execution_count": null,
   "id": "ba57480d",
   "metadata": {},
   "outputs": [
    {
     "ename": "",
     "evalue": "",
     "output_type": "error",
     "traceback": [
      "\u001b[1;31mLes cellules en cours d’exécution avec Python 3.10.13 nécessitent le package ipykernel.\n",
      "\u001b[1;31mExécutez la commande suivante pour installer 'ipykernel' dans l’environnement Python. \n",
      "\u001b[1;31mCommande : '/usr/local/bin/python3.10 -m pip install ipykernel -U --user --force-reinstall'"
     ]
    }
   ],
   "source": [
    "len(\"J'ai 18 caractères\")"
   ]
  },
  {
   "cell_type": "markdown",
   "id": "b7501ff4-f377-49ac-92e3-8bb51f4f24a4",
   "metadata": {},
   "source": [
    "Le type “caractère” n’existe pas en Python : un caractère seul est\n",
    "défini comme un *string* de taille 1."
   ]
  },
  {
   "cell_type": "code",
   "execution_count": null,
   "id": "b1d721ed",
   "metadata": {},
   "outputs": [],
   "source": [
    "print(type(\"a\"))\n",
    "print(len(\"a\"))"
   ]
  },
  {
   "cell_type": "markdown",
   "id": "cc1a0a8e-dbab-4ac7-827e-49ae0030e76a",
   "metadata": {},
   "source": [
    "### Indexation\n",
    "\n",
    "En Python, un *string* est une **séquence**, c’est à dire une suite de\n",
    "caractères dans un ordre spécifique. Par conséquent, chaque caractère\n",
    "d’un *string* est indexé (Python connaît sa position), et l’on peut\n",
    "utiliser cet index pour extraire des caractères particuliers, des\n",
    "sous-chaînes de caractères, etc.\n",
    "\n",
    "En Python, on utilise les crochets `[]` pour appeler l’index d’une\n",
    "séquence. Plus précisément, l’index fonctionne sur le modèle suivant :\n",
    "`x[a:b:c]` renvoie un *sub-string* du *string* `x` où `a` est la\n",
    "position du caractère de départ, `b` la position du caractère d’arrivée\n",
    "plus 1, et `c` le pas de l’indexation. Tout cela sera plus clair avec\n",
    "les exemples suivants.\n",
    "\n",
    "<div class=\"alert alert-block alert-info\">\n",
    "⚠️  Note importante : <b>l’indexation commence à 0 en Python</b>.\n",
    "</div>"
   ]
  },
  {
   "cell_type": "code",
   "execution_count": null,
   "id": "5016295c",
   "metadata": {},
   "outputs": [],
   "source": [
    "\"une séquence que l'on va indexer\""
   ]
  },
  {
   "cell_type": "code",
   "execution_count": null,
   "id": "ba0d4249",
   "metadata": {},
   "outputs": [],
   "source": [
    "# Premier élémént\n",
    "\"une séquence que l'on va indexer\"[0]"
   ]
  },
  {
   "cell_type": "code",
   "execution_count": null,
   "id": "97ab89a6",
   "metadata": {},
   "outputs": [],
   "source": [
    "# Deuxième élémént\n",
    "\"une séquence que l'on va indexer\"[1]"
   ]
  },
  {
   "cell_type": "code",
   "execution_count": null,
   "id": "d5138033",
   "metadata": {},
   "outputs": [],
   "source": [
    "# Dernier élémént\n",
    "\"une séquence que l'on va indexer\"[-1]"
   ]
  },
  {
   "cell_type": "code",
   "execution_count": null,
   "id": "a3cef1d8",
   "metadata": {},
   "outputs": [],
   "source": [
    "# Extraire tout à partir d'un certain caractère\n",
    "\"une séquence que l'on va indexer\"[4:]"
   ]
  },
  {
   "cell_type": "code",
   "execution_count": null,
   "id": "475924b8",
   "metadata": {},
   "outputs": [],
   "source": [
    "# Extraire tout jusqu'à un certain caractère\n",
    "\"une séquence que l'on va indexer\"[:12]"
   ]
  },
  {
   "cell_type": "code",
   "execution_count": null,
   "id": "717e3b08",
   "metadata": {},
   "outputs": [],
   "source": [
    "# Extraire un sub-string\n",
    "\"une séquence que l'on va indexer\"[4:12]"
   ]
  },
  {
   "cell_type": "code",
   "execution_count": null,
   "id": "7349e99e",
   "metadata": {},
   "outputs": [],
   "source": [
    "# Extraire tous les 2 caractères, à partir de la 4 ème position\n",
    "\"une séquence que l'on va indexer\"[4::2]"
   ]
  },
  {
   "cell_type": "code",
   "execution_count": null,
   "id": "06529d74",
   "metadata": {},
   "outputs": [],
   "source": [
    "# Inverser une séquence\n",
    "\"une séquence que l'on va indexer\"[::-1]"
   ]
  },
  {
   "cell_type": "markdown",
   "id": "310d7aa1-38e2-439c-9aa0-ce1c34bda49c",
   "metadata": {},
   "source": [
    "<div class=\"alert alert-block alert-info\">\n",
    "⚠️  A retenir : c’est bien parce qu’un <b>string</b> est considéré comme une\n",
    "<b>séquence</b> par Python que l’on peut l’indexer. Par exemple, indexer un\n",
    "nombre n’a pas de sens, et renvoie donc une erreur.\n",
    "</div>"
   ]
  },
  {
   "cell_type": "code",
   "execution_count": null,
   "id": "f7a43435",
   "metadata": {},
   "outputs": [],
   "source": [
    "2[3]"
   ]
  },
  {
   "cell_type": "markdown",
   "id": "46f90b99-8946-4b6c-8c80-2e6f1c82e06f",
   "metadata": {},
   "source": [
    "### Quelques propriétés utiles"
   ]
  },
  {
   "cell_type": "code",
   "execution_count": null,
   "id": "d6c9c1c7",
   "metadata": {},
   "outputs": [],
   "source": [
    "# Concaténation de strings\n",
    "\"mon adresse est : \" + \"10 rue des Peupliers\""
   ]
  },
  {
   "cell_type": "code",
   "execution_count": null,
   "id": "fa9732ae",
   "metadata": {},
   "outputs": [],
   "source": [
    "# Répétition\n",
    "\"echo - \" * 5"
   ]
  },
  {
   "cell_type": "markdown",
   "id": "16cbbebe-010a-4a9a-aba1-f70d5c7a7102",
   "metadata": {},
   "source": [
    "### Quelques méthodes utiles\n",
    "\n",
    "Les différents objets Python ont généralement des **méthodes** dites\n",
    "*built-in* (standard), qui permettent d’effectuer des opérations de base\n",
    "à partir de l’objet.\n",
    "\n",
    "Nous verrons dans un prochain chapitre en quoi consistent précisément\n",
    "les méthodes en Python. Pour le moment, on peut retenir que les méthodes\n",
    "s’utilisent selon le format `objet.methode(parametres)` où les\n",
    "paramètres sont optionnels."
   ]
  },
  {
   "cell_type": "code",
   "execution_count": null,
   "id": "67512f6e",
   "metadata": {},
   "outputs": [],
   "source": [
    "# Mettre en majuscules\n",
    "\"sequence 850\".upper()"
   ]
  },
  {
   "cell_type": "code",
   "execution_count": null,
   "id": "98a1db00",
   "metadata": {},
   "outputs": [],
   "source": [
    "# Mettre en minuscules\n",
    "\"sequence 850\".lower()"
   ]
  },
  {
   "cell_type": "code",
   "execution_count": null,
   "id": "85029f0c",
   "metadata": {},
   "outputs": [],
   "source": [
    "# Séparer les mots selon les espaces\n",
    "\"une séquence    à séparer\".split()"
   ]
  },
  {
   "cell_type": "code",
   "execution_count": null,
   "id": "57c602a4",
   "metadata": {},
   "outputs": [],
   "source": [
    "# Séparer les mots selon un caractère arbitraire\n",
    "\"pratique pour faire des sous-séquences\".split(\"-\")"
   ]
  },
  {
   "cell_type": "code",
   "execution_count": null,
   "id": "6465b3bb",
   "metadata": {},
   "outputs": [],
   "source": [
    "# Utiliser les strings comme templates\n",
    "\"mon adresse est : {}\".format(\"10 rue des Peupliers\")"
   ]
  },
  {
   "cell_type": "markdown",
   "id": "b7aa5b76-af67-4a24-8bb5-6b35a66cf099",
   "metadata": {},
   "source": [
    "### Pour aller plus loin avec les *strings*\n",
    "\n",
    "Tout ceci n’est qu’un aperçu des innombrables opérations possibles sur\n",
    "les *strings*. La [documentation\n",
    "officielle](https://docs.python.org/3/library/stdtypes.html#string-methods)\n",
    "liste l’ensemble des méthodes *built-in* disponibles. Les exercices du\n",
    "chapitre et les mini-projets de fin de partie seront l’occasion de\n",
    "découvrir d’autres utilisations.\n",
    "\n",
    "## Variables\n",
    "\n",
    "Jusqu’ici, nous avons dû définir à chaque fois notre objet avant de\n",
    "pouvoir lui appliquer une transformation. Comment faire si l’on veut\n",
    "réutiliser un objet et lui appliquer plusieurs transformations ? Ou\n",
    "faire des opérations à partir de différents objets ?\n",
    "\n",
    "Pour cela, on va assigner les objets à des **variables**.\n",
    "\n",
    "### Assignation et opérations\n",
    "\n",
    "L’assignation se fait suivant le format : `nom_de_la_variable = objet`.\n",
    "Cela permet ensuite de réaliser des opérations à partir de ces\n",
    "variables."
   ]
  },
  {
   "cell_type": "code",
   "execution_count": null,
   "id": "a14dfc94",
   "metadata": {},
   "outputs": [],
   "source": [
    "x = 5\n",
    "x"
   ]
  },
  {
   "cell_type": "code",
   "execution_count": null,
   "id": "808a7809",
   "metadata": {},
   "outputs": [],
   "source": [
    "type(x)"
   ]
  },
  {
   "cell_type": "code",
   "execution_count": null,
   "id": "8f01df8d",
   "metadata": {},
   "outputs": [],
   "source": [
    "x + 5"
   ]
  },
  {
   "cell_type": "code",
   "execution_count": null,
   "id": "53ab293f",
   "metadata": {},
   "outputs": [],
   "source": [
    "y = x + 2*x\n",
    "y"
   ]
  },
  {
   "cell_type": "markdown",
   "id": "c7b7e4f3-019c-421f-b819-767f8429f868",
   "metadata": {},
   "source": [
    "Contrairement à d’autres langages de programmation, Python est dit\n",
    "*dynamiquement* typé : il est possible de réassigner une variable à un\n",
    "objet de type différent. Cela facilite la lecture et le développement,\n",
    "mais peut parfois générer des problèmes difficiles à débugger… Il faut\n",
    "donc toujours bien faire attention que le type de la variable est bien\n",
    "celui que l’on s’imagine manipuler."
   ]
  },
  {
   "cell_type": "code",
   "execution_count": null,
   "id": "785f29df",
   "metadata": {},
   "outputs": [],
   "source": [
    "x = 3\n",
    "x = \"blabla\"\n",
    "type(x)"
   ]
  },
  {
   "cell_type": "markdown",
   "id": "bca0d76d-adb8-45d7-b889-2a839327ebe2",
   "metadata": {},
   "source": [
    "Il y a naturellement certaines contraintes sur les opérations selon les\n",
    "types des objets."
   ]
  },
  {
   "cell_type": "code",
   "execution_count": null,
   "id": "133fb55b",
   "metadata": {},
   "outputs": [
    {
     "ename": "",
     "evalue": "",
     "output_type": "error",
     "traceback": [
      "\u001b[1;31mLes cellules en cours d’exécution avec Python 3.10.13 nécessitent le package ipykernel.\n",
      "\u001b[1;31mExécutez la commande suivante pour installer 'ipykernel' dans l’environnement Python. \n",
      "\u001b[1;31mCommande : '/usr/local/bin/python3.10 -m pip install ipykernel -U --user --force-reinstall'"
     ]
    }
   ],
   "source": [
    "x = \"test\"\n",
    "y = 3\n",
    "x + y"
   ]
  },
  {
   "cell_type": "markdown",
   "id": "7cce5623-167d-4cb0-8332-6bc87af874ae",
   "metadata": {},
   "source": [
    "Il est par contre possible d’harmoniser les types en amont :"
   ]
  },
  {
   "cell_type": "code",
   "execution_count": null,
   "id": "48f266d7",
   "metadata": {},
   "outputs": [],
   "source": [
    "x = \"test\"\n",
    "y = 3\n",
    "z = str(y)\n",
    "x + z"
   ]
  },
  {
   "cell_type": "markdown",
   "id": "409a6845-48e0-45fd-ac93-a16cf13c9b34",
   "metadata": {},
   "source": [
    "### Incrémentation\n",
    "\n",
    "Il est fréquent d’utiliser une variable comme un compteur, en\n",
    "l’incrémentant à chaque fois qu’un évènement donné apparaît par exemple."
   ]
  },
  {
   "cell_type": "code",
   "execution_count": null,
   "id": "d0cd39a0",
   "metadata": {},
   "outputs": [],
   "source": [
    "a = 0\n",
    "print(a)\n",
    "a = a +1\n",
    "print(a)"
   ]
  },
  {
   "cell_type": "markdown",
   "id": "1bbdf6ae-3504-434e-8852-f382cf2ea7c2",
   "metadata": {},
   "source": [
    "Cette pratique est tellement fréquente qu’il existe des opérateurs\n",
    "spéciaux pour les opérations arithmétiques courantes."
   ]
  },
  {
   "cell_type": "code",
   "execution_count": null,
   "id": "bfe01369",
   "metadata": {},
   "outputs": [],
   "source": [
    "a = 0\n",
    "a += 1\n",
    "a"
   ]
  },
  {
   "cell_type": "code",
   "execution_count": null,
   "id": "c7b74a78",
   "metadata": {},
   "outputs": [],
   "source": [
    "b = 5\n",
    "b *= 3\n",
    "b"
   ]
  },
  {
   "cell_type": "markdown",
   "id": "92092f21-d118-40db-9e99-2cc1abeefecd",
   "metadata": {},
   "source": [
    "## Exercices\n",
    "\n",
    "### Questions de compréhension\n",
    "\n",
    "-   Quels sont les différents types de base de Python vus dans ce\n",
    "    tutoriel ?\n",
    "\n",
    "-   Comment convertir un entier en réel et inversement ?\n",
    "\n",
    "-   Comment définit-on une chaîne de caractères en Python ?\n",
    "\n",
    "-   Qu’est ce qu’un *Traceback* ?\n",
    "\n",
    "-   Quelle est la différence entre une erreur de syntaxe et une\n",
    "    exception ?\n",
    "\n",
    "-   A quoi sert la fonction `print` ?\n",
    "\n",
    "-   Comment afficher plusieurs valeurs dans une cellule de notebook\n",
    "    Jupyter ?\n",
    "\n",
    "-   A quoi sert la fonction `len` ?\n",
    "\n",
    "-   Qu’est-ce qu’une méthode *built-in* et comment la reconnaître ?\n",
    "\n",
    "-   A quoi servent les variables ?\n",
    "\n",
    "-   Pourquoi dit-on que Python est “*dynamiquement* typé” ?"
   ]
  },
  {
   "cell_type": "markdown",
   "id": "d6ea119c-1049-4eb9-8214-63b9087ef570",
   "metadata": {},
   "source": [
    "<details>\n",
    "\n",
    "<summary>\n",
    "\n",
    "Afficher la solution\n",
    "\n",
    "</summary>\n",
    "\n",
    "-   1/ Les types de base en Python vus dans ce tutoriel sont les types\n",
    "    numériques, notamment les entiers (`int`) et les réels (nombres à\n",
    "    virgule flottante, `float`), et les chaînes de caractères (`str`),\n",
    "    qui stockent de l’information textuelle.\n",
    "\n",
    "-   2/ Pour convertir un entier en réel, on utilise la fonction\n",
    "    `float()`. Pour convertir un réel en entier, on utilise la fonction\n",
    "    `int()`.\n",
    "\n",
    "-   3/ Une chaîne de caractères est définie en mettant l’information\n",
    "    entre apostrophes (’) ou entre guillemets (“).\n",
    "\n",
    "-   4/ Un `Traceback` est un rapport d’erreur qui montre la séquence\n",
    "    d’opérations qui ont conduit à une exception. Il aide à identifier\n",
    "    l’origine de l’erreur dans le code.\n",
    "\n",
    "-   5/ Une erreur de syntaxe survient lorsque le code Python ne respecte\n",
    "    pas les règles de syntaxe du langage, rendant le script non\n",
    "    exécutable. Une exception est une erreur détectée pendant\n",
    "    l’exécution, même si le code a une syntaxe correcte. Les exceptions\n",
    "    peuvent être gérées dans le code, alors que les erreurs de syntaxe\n",
    "    produisent conduisent nécessairement à l’arrêt de l’exécution du\n",
    "    code.\n",
    "\n",
    "-   6/ La fonction `print` affiche le contenu de l’argument qu’on lui\n",
    "    passe entre parenthèses sur la console Python ou dans une cellule de\n",
    "    notebook Jupyter.\n",
    "\n",
    "-   7/ Par défaut, l’exécution d’une cellule Jupyter affiche la dernière\n",
    "    valeur renvoyée par le code exécuté dans cette cellule. Si deux\n",
    "    lignes de code renvoient quelque chose, seul le dernier sera donc\n",
    "    affiché. Pour pouvoir afficher plusieurs éléments dans une même\n",
    "    cellule, on utilise la fonction `print` pour chaque opération dont\n",
    "    on souhaite afficher le résultat.\n",
    "\n",
    "-   8/ La fonction `len` renvoie le nombre d’éléments d’un objet. Par\n",
    "    exemple, le nombre de caractères dans une chaîne de caractères.\n",
    "    Cette fonction n’a de sens que pour les objets de type séquence.\n",
    "\n",
    "-   9/ Une méthode *built-in* est une fonction intégrée à un type\n",
    "    d’objet en Python qui permet d’effectuer des opérations spécifiques\n",
    "    sur cet objet. On la reconnaît car elle est appelée directement sur\n",
    "    l’objet avec la syntaxe `objet.methode()`.\n",
    "\n",
    "-   10/ Les variables servent à stocker des valeurs ou des objets pour\n",
    "    pouvoir les réutiliser et les manipuler plus facilement dans le\n",
    "    code. Elles permettent égalemetn de donner un nom aux données pour\n",
    "    les rendre plus lisibles et faciliter leur manipulation.\n",
    "\n",
    "-   11/ Python est dit *dynamiquement typé* parce que le type des\n",
    "    variables est déterminé au moment de l’exécution et peut changer au\n",
    "    cours de l’exécution. Ainsi, une variable initialement définie comme\n",
    "    chaîne de caractère peut tout à fait devenir une variable numérique\n",
    "    au cours de l’exécution du code, ce qui est impossible dans les\n",
    "    langages de programmation basés sur un *typage statique*.\n",
    "\n",
    "</details>"
   ]
  },
  {
   "cell_type": "markdown",
   "id": "2b3cbd4d-9f86-4e13-b68b-07250317a20d",
   "metadata": {},
   "source": [
    "### Affichage de types de base\n",
    "\n",
    "Afficher le type de x lorsque :\n",
    "\n",
    "-   x = 3\n",
    "\n",
    "-   x = “test”\n",
    "\n",
    "-   x = 3.5"
   ]
  },
  {
   "cell_type": "code",
   "execution_count": null,
   "id": "9b7cbaad",
   "metadata": {},
   "outputs": [],
   "source": [
    "# Tapez votre réponse dans cette cellule"
   ]
  },
  {
   "cell_type": "markdown",
   "id": "3cfd1500-402f-4263-9a40-8f57ddc6a177",
   "metadata": {},
   "source": [
    "<details>\n",
    "\n",
    "<summary>\n",
    "\n",
    "Afficher la solution\n",
    "\n",
    "</summary>\n",
    "\n",
    "``` python\n",
    "x = 3\n",
    "print(type(x))\n",
    "\n",
    "x = \"test\"\n",
    "print(type(x))\n",
    "\n",
    "x = 3.5\n",
    "print(type(x))\n",
    "```\n",
    "\n",
    "</details>"
   ]
  },
  {
   "cell_type": "markdown",
   "id": "d572a308-f4ef-4c51-a077-d2b8a119bfa4",
   "metadata": {},
   "source": [
    "### Longueurs de chaînes\n",
    "\n",
    "Calculer la somme des longueurs des trois chaînes de caractères\n",
    "suivantes :\n",
    "\n",
    "-   “une première chaîne”\n",
    "\n",
    "-   “et une deuxième”\n",
    "\n",
    "-   “jamais deux sans trois”"
   ]
  },
  {
   "cell_type": "code",
   "execution_count": null,
   "id": "8b22950b",
   "metadata": {},
   "outputs": [],
   "source": [
    "# Tapez votre réponse dans cette cellule"
   ]
  },
  {
   "cell_type": "markdown",
   "id": "68989106-e403-4463-842e-fd404011209f",
   "metadata": {},
   "source": [
    "<details>\n",
    "\n",
    "<summary>\n",
    "\n",
    "Afficher la solution\n",
    "\n",
    "</summary>\n",
    "\n",
    "``` python\n",
    "a = \"une première chaîne\"\n",
    "b = \"et une deuxième\"\n",
    "c = \"jamais deux sans trois\"\n",
    "\n",
    "len(a) + len(b) + len(c)\n",
    "```\n",
    "\n",
    "</details>"
   ]
  },
  {
   "cell_type": "markdown",
   "id": "6411b94b-84ee-4652-a314-61e5508b355a",
   "metadata": {},
   "source": [
    "### Formattage des codes postaux\n",
    "\n",
    "Quel est le type adapté pour définir un code postal ?\n",
    "\n",
    "Essayer de définir les codes postaux suivants au format `int` et au\n",
    "format `string` :\n",
    "\n",
    "-   92120\n",
    "\n",
    "-   02350\n",
    "\n",
    "Que concluez-vous ?"
   ]
  },
  {
   "cell_type": "code",
   "execution_count": null,
   "id": "cd57178c",
   "metadata": {},
   "outputs": [],
   "source": [
    "# Tapez votre réponse dans cette cellule"
   ]
  },
  {
   "cell_type": "markdown",
   "id": "7259da2d-c109-4b95-8109-759be9452ee2",
   "metadata": {},
   "source": [
    "<details>\n",
    "\n",
    "<summary>\n",
    "\n",
    "Afficher la solution\n",
    "\n",
    "</summary>\n",
    "\n",
    "``` python\n",
    "cp1_int = 92120\n",
    "cp1_str = \"92120\"\n",
    "\n",
    "print(cp1_int, cp1_str) # Pas de problème\n",
    "\n",
    "cp2_int = 02350 \n",
    "```\n",
    "\n",
    "Erreur : Python n’accepte pas de définir un entier qui commence par un\n",
    "0. Il faut donc définir les codes postaux comme des strings.\n",
    "\n",
    "</details>"
   ]
  },
  {
   "cell_type": "markdown",
   "id": "4053c6d0-f4a2-4541-aff6-542c8135fd91",
   "metadata": {},
   "source": [
    "### Comptage de lettres\n",
    "\n",
    "Compter le nombre de fois où la lettre e est présente dans la chaîne\n",
    "suivante : “Je fais un comptage des e.”\n",
    "\n",
    "**Indice** : on peut utiliser la méthode *built-in*\n",
    "[count](https://docs.python.org/fr/3/library/stdtypes.html#str.count)."
   ]
  },
  {
   "cell_type": "code",
   "execution_count": null,
   "id": "0af632ef",
   "metadata": {},
   "outputs": [],
   "source": [
    "# Tapez votre réponse dans cette cellule"
   ]
  },
  {
   "cell_type": "markdown",
   "id": "641cc263-8aea-49d6-8e40-edb4c9d4f4e4",
   "metadata": {},
   "source": [
    "<details>\n",
    "\n",
    "<summary>\n",
    "\n",
    "Afficher la solution\n",
    "\n",
    "</summary>\n",
    "\n",
    "``` python\n",
    "a = \"Je fais un comptage des e.\"\n",
    "a.count('e')\n",
    "```\n",
    "\n",
    "</details>"
   ]
  },
  {
   "cell_type": "markdown",
   "id": "aac85e1d-8593-4e90-b26d-f4107b57ef2e",
   "metadata": {},
   "source": [
    "### Détection de lettres\n",
    "\n",
    "Repérer la première position où la lettre e est présente dans la chaîne\n",
    "suivante : “Je fais un comptage des e.”\n",
    "\n",
    "**Indice** : on peut utiliser la méthode *built-in*\n",
    "[find](https://docs.python.org/fr/3/library/stdtypes.html#str.find)."
   ]
  },
  {
   "cell_type": "code",
   "execution_count": null,
   "id": "0e7212ea",
   "metadata": {},
   "outputs": [],
   "source": [
    "# Tapez votre réponse dans cette cellule"
   ]
  },
  {
   "cell_type": "markdown",
   "id": "34938298-2429-4542-a067-44332f14eac7",
   "metadata": {},
   "source": [
    "<details>\n",
    "\n",
    "<summary>\n",
    "\n",
    "Afficher la solution\n",
    "\n",
    "</summary>\n",
    "\n",
    "``` python\n",
    "a = \"Je fais un comptage des e.\"\n",
    "a.find('e')\n",
    "```\n",
    "\n",
    "</details>"
   ]
  },
  {
   "cell_type": "markdown",
   "id": "1cbda6d0-7b57-4bee-80b9-b730abba3f55",
   "metadata": {},
   "source": [
    "### Suppression d’espaces dans une chaîne\n",
    "\n",
    "Supprimer les espaces superflus au début et à la fin de la chaîne\n",
    "suivante :\n",
    "\n",
    "**Indice** : on peut utiliser la méthode *built-in*\n",
    "[strip](https://docs.python.org/fr/3/library/stdtypes.html#str.strip)."
   ]
  },
  {
   "cell_type": "code",
   "execution_count": null,
   "id": "3e35e12f",
   "metadata": {},
   "outputs": [],
   "source": [
    "# Tapez votre réponse dans cette cellule\n",
    "a = \"    Un string très mal formatté.         \""
   ]
  },
  {
   "cell_type": "markdown",
   "id": "6b98a51a-97fc-4b1e-a759-d34335960067",
   "metadata": {},
   "source": [
    "<details>\n",
    "\n",
    "<summary>\n",
    "\n",
    "Afficher la solution\n",
    "\n",
    "</summary>\n",
    "\n",
    "``` python\n",
    "a = \"    Un string très mal formatté.         \"\n",
    "a.strip()\n",
    "```\n",
    "\n",
    "</details>"
   ]
  },
  {
   "cell_type": "markdown",
   "id": "4db89c32-dc42-40e1-8076-178d41ebad10",
   "metadata": {},
   "source": [
    "### Echappement de caractères\n",
    "\n",
    "Le caractère `\\` permet d’échapper (neutraliser) un caractère spécial au\n",
    "sein d’une chaîne de caractères. Trouvez comment ce caractère permet de\n",
    "résoudre le problème lié à l’utilisation de guillemets (ou\n",
    "d’apostrophes) dans une chaîne définie par des guillemets (apostrophe).\n",
    "\n",
    "**Indice** : des exemples d’utilisation sont disponibles dans la\n",
    "[documentation\n",
    "officielle](https://docs.python.org/fr/3.8/reference/lexical_analysis.html#literals)."
   ]
  },
  {
   "cell_type": "code",
   "execution_count": null,
   "id": "66a43a18",
   "metadata": {},
   "outputs": [],
   "source": [
    "# Tapez votre réponse dans cette cellule"
   ]
  },
  {
   "cell_type": "markdown",
   "id": "30046ce4-388c-471a-9899-fc4906418a5e",
   "metadata": {},
   "source": [
    "<details>\n",
    "\n",
    "<summary>\n",
    "\n",
    "Afficher la solution\n",
    "\n",
    "</summary>\n",
    "\n",
    "``` python\n",
    "\"juste un \\\"petit\\\" test\"\n",
    "```\n",
    "\n",
    "</details>"
   ]
  },
  {
   "cell_type": "markdown",
   "id": "5b66f422-6222-411a-aeb4-c07b8071055f",
   "metadata": {},
   "source": [
    "### Un premier algorithme\n",
    "\n",
    "Réaliser la suite d’opérations suivantes à l’aide des opérateurs\n",
    "d’incrémentation, et imprimer la valeur finale :\n",
    "\n",
    "-   initialiser une variable à 1\n",
    "\n",
    "-   lui soustraire 5\n",
    "\n",
    "-   la multiplier par 4\n",
    "\n",
    "-   lui ajouter 22"
   ]
  },
  {
   "cell_type": "code",
   "execution_count": null,
   "id": "8b579643",
   "metadata": {},
   "outputs": [],
   "source": [
    "# Tapez votre réponse dans cette cellule"
   ]
  },
  {
   "cell_type": "markdown",
   "id": "a2baec77-c2a0-47df-9e30-0bc7d31d1ef9",
   "metadata": {},
   "source": [
    "<details>\n",
    "\n",
    "<summary>\n",
    "\n",
    "Afficher la solution\n",
    "\n",
    "</summary>\n",
    "\n",
    "``` python\n",
    "a = 1\n",
    "a -= 5\n",
    "a *= 4\n",
    "a += 22\n",
    "print(a)\n",
    "```\n",
    "\n",
    "</details>"
   ]
  },
  {
   "cell_type": "markdown",
   "id": "cedd6c0b-5730-4137-9741-2a3879259bfb",
   "metadata": {},
   "source": [
    "### Composition de chaînes de caractères\n",
    "\n",
    "Considérons les deux séquences suivantes :\n",
    "\n",
    "-   “nous sommes en”\n",
    "\n",
    "-   “2024”\n",
    "\n",
    "Proposez une manière de composer la séquence “nous sommes en 2024”.\n"
   ]
  },
  {
   "cell_type": "code",
   "execution_count": null,
   "id": "7f7a580a",
   "metadata": {},
   "outputs": [],
   "source": [
    "# Tapez votre réponse dans cette cellule"
   ]
  },
  {
   "cell_type": "markdown",
   "id": "31231257-9999-497a-8c79-559bd4a55ccc",
   "metadata": {},
   "source": [
    "<details>\n",
    "\n",
    "<summary>\n",
    "\n",
    "Afficher la solution\n",
    "\n",
    "</summary>\n",
    "\n",
    "``` python\n",
    "a1 = \"nous sommes en\"\n",
    "b = \"2024\"\n",
    "\n",
    "print(a1 + \" \" + b)\n",
    "```\n",
    "\n",
    "</details>"
   ]
  },
  {
   "cell_type": "markdown",
   "id": "f2b62fcf-1e4a-4df6-bc78-8d36e2648b63",
   "metadata": {},
   "source": [
    "### Les `f-strings`\n",
    "\n",
    "Les `f-strings` sont une forme de *strings* un peu particulière mais\n",
    "très pratique, qui ont été ajoutés dans la version 3.6 de `Python`. Pour\n",
    "comprendre leur intérêt, repartons de la solution de l’exercice\n",
    "précédent, qui illustrait une manière de composer la chaîne “nous\n",
    "sommes en 2024”."
   ]
  },
  {
   "cell_type": "code",
   "execution_count": null,
   "id": "dac2ae9a",
   "metadata": {},
   "outputs": [],
   "source": [
    "a1 = \"nous sommes en\"\n",
    "b = \"2024\"\n",
    "\n",
    "print(a1 + \" \" + b)"
   ]
  },
  {
   "cell_type": "markdown",
   "id": "7baa0c05-7905-4666-9003-c8cbe6451ea7",
   "metadata": {},
   "source": [
    "Cette méthode fonctionne mais présente des limites. Réfléchissez\n",
    "à ce qui se passerait dans les cas suivants, et n’hésitez pas à faire\n",
    "des tests pour vous en convaincre :\n",
    "\n",
    "-   si l’on souhaite concaténer plusieurs *strings* ensemble ?\n",
    "\n",
    "En vous inspirant de la [documentation\n",
    "officielle](https://docs.python.org/fr/3/tutorial/inputoutput.html#formatted-string-literals),\n",
    "utilisez les `f-strings` pour résoudre ces différents problèmes."
   ]
  },
  {
   "cell_type": "code",
   "execution_count": null,
   "id": "f8358137",
   "metadata": {},
   "outputs": [],
   "source": [
    "# Tapez votre réponse dans cette cellule"
   ]
  },
  {
   "cell_type": "markdown",
   "id": "cfbe3d09-a14e-4926-b2f6-7f880ab3003f",
   "metadata": {},
   "source": [
    "<details>\n",
    "\n",
    "<summary>\n",
    "\n",
    "Afficher la solution\n",
    "\n",
    "</summary>\n",
    "\n",
    "Premier problème : composition de strings avec des valeurs numériques.\n",
    "\n",
    "``` python\n",
    "a1 = \"nous sommes en\"\n",
    "b = 2024\n",
    "\n",
    "# print(a1 + \" \" + b)  # Erreur\n",
    "print(a1 + \" \" + str(b))\n",
    "```\n",
    "\n",
    "La concaténation directe renvoie une erreur -\\> il faut au préalable\n",
    "convertir la valeur numérique en string.\n",
    "\n",
    "Deuxième problème : juxtaposition de multiples chaînes de caractères.\n",
    "\n",
    "``` python\n",
    "a = \"nous sommes en\"\n",
    "b = \"2024\"\n",
    "c = \"et je m'appelle\"\n",
    "d = \"Miranda\"\n",
    "\n",
    "print(a + \" \" + b + \" \" + c + \" \" + d)\n",
    "```\n",
    "\n",
    "La syntaxe devient vite illisible, car il faut ajouter les séparateurs\n",
    "(espace) manuellement entre chaque partie.\n",
    "\n",
    "\n",
    "Solution : avec les f-strings.\n",
    "\n",
    "``` python\n",
    "annee = 2024\n",
    "prenom = \"Miranda\"\n",
    "\n",
    "print(f\"nous sommes en {annee} et je m'appelle {prenom}\")\n",
    "```\n",
    "\n",
    "Beaucoup plus lisible !\n",
    "\n",
    "</details>"
   ]
  }
 ],
 "metadata": {
  "kernelspec": {
   "display_name": "Python 3",
   "language": "python",
   "name": "python3"
  },
  "language_info": {
   "codemirror_mode": {
    "name": "ipython",
    "version": 3
   },
   "file_extension": ".py",
   "mimetype": "text/x-python",
   "name": "python",
   "nbconvert_exporter": "python",
   "pygments_lexer": "ipython3",
   "version": "3.11.9"
  }
 },
 "nbformat": 4,
 "nbformat_minor": 5
}
