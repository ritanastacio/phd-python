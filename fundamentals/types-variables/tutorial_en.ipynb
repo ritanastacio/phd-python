{
  "cells": [
    {
      "cell_type": "markdown",
      "id": "d5bfb23d-58e1-4a35-82b7-607e4ab635aa",
      "metadata": {},
      "source": [
        "# Basic types and variables\n",
        "\n",
        "In this first practical work, we will discover the most important objects\n",
        "Python Fundamentals: **Numbers** and **Strings**\n",
        "character**. We will also see how we can assign\n",
        "objects to **variables**, in order to perform operations with these\n",
        "objects.\n",
        "\n",
        "## Numbers\n",
        "\n",
        "### Types of numbers\n",
        "\n",
        "Python provides various numeric object types. In this tutorial, we\n",
        "will focus on the two types mainly used:\n",
        "\n",
        "- integers (type `int` for *integer*)\n",
        "\n",
        "- real numbers (type `float` for floating point numbers)\n",
        "\n",
        "Generally, we use the `type` function to print the type\n",
        "of a Python object."
      ]
    },
    {
      "cell_type": "code",
      "execution_count": null,
      "id": "e2228185",
      "metadata": {},
      "outputs": [],
      "source": [
        "type(3)"
      ]
    },
    {
      "cell_type": "code",
      "execution_count": null,
      "id": "ad6edbe8",
      "metadata": {},
      "outputs": [],
      "source": [
        "type(3.14)"
      ]
    },
    {
      "cell_type": "markdown",
      "id": "8db94390-3b3b-4809-a093-954cc709bfcf",
      "metadata": {},
      "source": [
        "The `float` and `int` functions can be used to pass from one\n",
        "type to another."
      ]
    },
    {
      "cell_type": "code",
      "execution_count": null,
      "id": "a32018cf",
      "metadata": {},
      "outputs": [],
      "source": [
        "# Convert to float\n",
        "float(3)"
      ]
    },
    {
      "cell_type": "code",
      "execution_count": null,
      "id": "ec3d3bd1",
      "metadata": {},
      "outputs": [],
      "source": [
        "# Convert to float\n",
        "type(float(3))"
      ]
    },
    {
      "cell_type": "code",
      "execution_count": null,
      "id": "18d97e37",
      "metadata": {},
      "outputs": [],
      "source": [
        "# Convert to int\n",
        "int(3.79)"
      ]
    },
    {
      "cell_type": "markdown",
      "id": "5e47559c-6cf4-435d-a2de-126440fdd60e",
      "metadata": {},
      "source": [
        "Be careful with the *float* -> *int* conversion, which truncates the part\n",
        "decimal.\n",
        "\n",
        "*floats* can also be written in scientific notation:"
      ]
    },
    {
      "cell_type": "code",
      "execution_count": null,
      "id": "0901e52b",
      "metadata": {},
      "outputs": [],
      "source": [
        "2e3"
      ]
    },
    {
      "cell_type": "code",
      "execution_count": null,
      "id": "b0b7e42c",
      "metadata": {},
      "outputs": [],
      "source": [
        "type(2e3)"
      ]
    },
    {
      "cell_type": "markdown",
      "id": "fc4628f8-2153-4f4d-9bf5-936a9c3ec027",
      "metadata": {},
      "source": [
        "### Basic Arithmetic Operations"
      ]
    },
    {
      "cell_type": "code",
      "execution_count": null,
      "id": "89d174a1",
      "metadata": {},
      "outputs": [],
      "source": [
        "# Addition\n",
        "8 + 9"
      ]
    },
    {
      "cell_type": "code",
      "execution_count": null,
      "id": "89507c01",
      "metadata": {},
      "outputs": [],
      "source": [
        "# Subtraction\n",
        "5 - 2"
      ]
    },
    {
      "cell_type": "code",
      "execution_count": null,
      "id": "273e0f9c",
      "metadata": {},
      "outputs": [],
      "source": [
        "# Multiplication\n",
        "2 * 6"
      ]
    },
    {
      "cell_type": "code",
      "execution_count": null,
      "id": "f66cd46f",
      "metadata": {},
      "outputs": [],
      "source": [
        "# Division\n",
        "9 / 4"
      ]
    },
    {
      "cell_type": "code",
      "execution_count": null,
      "id": "d66f7446",
      "metadata": {},
      "outputs": [],
      "source": [
        "# Division by 0\n",
        "3 / 0"
      ]
    },
    {
      "cell_type": "markdown",
      "id": "fbd777ac-69fd-4419-aeb4-b4eb1a53333c",
      "metadata": {},
      "source": [
        "Division by 0 produces an error. This was of course predictable. But\n",
        "It is not uncommon to have such errors in calculations.\n",
        "statistics, especially with *NumPy* or *Pandas*, producing an error\n",
        "similar that then needs to be debugged.\n",
        "> **Debug an error**\n",
        "> Code errors are a must and in reality\n",
        "> necessary for learning a language: it is by debugging the\n",
        "> errors that our code produces that we learn to avoid them\n",
        "> the future! To do this, it is necessary to understand them well in\n",
        "> first place.\n",
        "> The above error, related to division by 0, produced a\n",
        "> `Traceback`, i.e. a detailed log specifying at which stage of the\n",
        "> various operations performed by Python occurred the error,\n",
        "> as well as the name of the error (`ZeroDivisionError`) and a description\n",
        "> (division by zero). In this case, the error is simple, the message\n",
        "> therefore allows you to understand the problem directly. For operations\n",
        "> more complicated, names and messages may be less obvious...\n",
        "> but nevertheless useful for understanding the source of the error - by\n",
        "> indicating in a search engine for example."
      ]
    },
    {
      "cell_type": "code",
      "execution_count": null,
      "id": "e7c46d8e",
      "metadata": {},
      "outputs": [],
      "source": [
        "# Euclidean division: quotient\n",
        "9 // 4"
      ]
    },
    {
      "cell_type": "code",
      "execution_count": null,
      "id": "5b8e62e6",
      "metadata": {},
      "outputs": [],
      "source": [
        "# Euclidean division: remainder\n",
        "9 % 4"
      ]
    },
    {
      "cell_type": "code",
      "execution_count": null,
      "id": "a1a77a63",
      "metadata": {},
      "outputs": [],
      "source": [
        "# Power\n",
        "2 ** 5"
      ]
    },
    {
      "cell_type": "code",
      "execution_count": null,
      "id": "7cf21839",
      "metadata": {},
      "outputs": [],
      "source": [
        "# Square root\n",
        "5 ** 0.5"
      ]
    },
    {
      "cell_type": "code",
      "execution_count": null,
      "id": "f5cab8ae",
      "metadata": {},
      "outputs": [],
      "source": [
        "# Order of operations: usual convention\n",
        "2 + 5 * (10 - 4)"
      ]
    },
    {
      "cell_type": "markdown",
      "id": "a51bb7aa-dd41-4e8b-b1d3-afe6d98981d2",
      "metadata": {},
      "source": [
        "## Strings\n",
        "\n",
        "Strings (or *strings*) are used to store\n",
        "textual information. More precisely, they can store any\n",
        "character of type [Unicode](https://fr.wikipedia.org/wiki/Unicode), this\n",
        "which includes the letters of the different languages, but also the\n",
        "punctuation, numbers, smileys, etc.\n",
        "\n",
        "A *string* is defined by enclosing the information in single quotes or\n",
        "in quotes (English).\n",
        "\n",
        "### Definition"
      ]
    },
    {
      "cell_type": "code",
      "execution_count": null,
      "id": "2df9e009",
      "metadata": {},
      "outputs": [],
      "source": [
        "# First way\n",
        "'mot'"
      ]
    },
    {
      "cell_type": "code",
      "execution_count": null,
      "id": "e9ddb6d8",
      "metadata": {},
      "outputs": [],
      "source": [
        "# Second way\n",
        "\"ça fonctionne aussi\""
      ]
    },
    {
      "cell_type": "code",
      "execution_count": null,
      "id": "6674044e",
      "metadata": {},
      "outputs": [],
      "source": [
        "# But be careful not to mix the two!\n",
        "'l'apostrophe, quelle catastrophe'"
      ]
    },
    {
      "cell_type": "markdown",
      "id": "3234f7d0-15f0-4b76-856f-96441661be5a",
      "metadata": {},
      "source": [
        "Syntax error: the second apostrophe is understood as the end of the\n",
        "*string*, and Python doesn't know how to interpret the rest of the sequence.\n",
        "> **Syntax errors and exception**\n",
        "> Since the beginning of the TP, we have seen several errors produced by the\n",
        "> code. In practice, it is important to distinguish between two types of errors:\n",
        "> - **syntax errors**: the code does not respect the rules of\n",
        "> Python syntax, like the error above. The `Traceback`\n",
        "> (error message) indicates with arrows pointing up\n",
        "> the line and the moment when the problem started\n",
        "> - **exceptions**: the code is syntactically correct but\n",
        "> produces an error when executed, such as dividing by\n",
        "> zero performed above.\n",
        "> Why then is it important to distinguish between these two types of error?\n",
        "> ? Because where incorrect syntax necessarily generates a\n",
        "> `SyntaxError` and stops the execution of the code, an exception may be\n",
        "> managed in the code. For example, in the context of a code where we\n",
        "> would perform multiple divisions with multiple parameters, we\n",
        "> might want to make it so that a division by zero does not return\n",
        "> not an error that interrupts code execution, but a value\n",
        "> arbitrary (infinity, missing value...).\n",
        "To avoid syntax error, you need to vary the characters in case of\n",
        "need :"
      ]
    },
    {
      "cell_type": "code",
      "execution_count": null,
      "id": "2141b291",
      "metadata": {},
      "outputs": [],
      "source": [
        "\"l'apostrophe, aucun problème\""
      ]
    },
    {
      "cell_type": "markdown",
      "id": "495a05ba-da55-4780-92d8-983cb539d638",
      "metadata": {},
      "source": [
        "Same thing in reverse:"
      ]
    },
    {
      "cell_type": "code",
      "execution_count": null,
      "id": "3461a9d7",
      "metadata": {},
      "outputs": [],
      "source": [
        "'les guillemets, \"aucun problème\"'"
      ]
    },
    {
      "cell_type": "markdown",
      "id": "63356a20-a6d3-4601-a133-8ae3a140c88c",
      "metadata": {},
      "source": [
        "### The `print` function\n",
        "\n",
        "Working with *strings* is an opportunity to discover the very\n",
        "handy and widely used `print` function. It simply displays\n",
        "the argument that is passed to it in parentheses **and** a line break\n",
        "by default."
      ]
    },
    {
      "cell_type": "code",
      "execution_count": null,
      "id": "fe6ba098",
      "metadata": {},
      "outputs": [],
      "source": [
        "# Displaying the string \"me\"\n",
        "\"moi\""
      ]
    },
    {
      "cell_type": "code",
      "execution_count": null,
      "id": "dcdda751",
      "metadata": {},
      "outputs": [],
      "source": [
        "# Displaying the string \"me\" with print\n",
        "print(\"moi\")"
      ]
    },
    {
      "cell_type": "markdown",
      "id": "4be8c42e-cd4f-4a18-ad9f-1ee06aac0da8",
      "metadata": {},
      "source": [
        "We have seen so far that we can simply execute a\n",
        "cell to display the contents of a *string*. But does it work?\n",
        "with multiple *strings*?"
      ]
    },
    {
      "cell_type": "code",
      "execution_count": null,
      "id": "70e27b84",
      "metadata": {},
      "outputs": [],
      "source": [
        "# Who will be displayed?\n",
        "\"moi\"\n",
        "\"non moi\""
      ]
    },
    {
      "cell_type": "markdown",
      "id": "6424ff44-52c1-4e2d-9592-16ef89faa348",
      "metadata": {},
      "source": [
        "We see here a characteristic behavior of Jupyter notebooks: only\n",
        "the last value returned in a cell is displayed. The function\n",
        "`print` allows you to overcome this limit."
      ]
    },
    {
      "cell_type": "code",
      "execution_count": null,
      "id": "56dda7b9",
      "metadata": {},
      "outputs": [],
      "source": [
        "# And this time?\n",
        "print(\"moi\")\n",
        "print(\"moi aussi\")"
      ]
    },
    {
      "cell_type": "markdown",
      "id": "8484045e-10b8-499a-9b0f-4245e8a382f4",
      "metadata": {},
      "source": [
        "### Length of a string\n",
        "\n",
        "The `len` function allows you to count the number of characters in a\n",
        "*string*, all characters included (letters, numbers, spaces,\n",
        "punctuation…)."
      ]
    },
    {
      "cell_type": "code",
      "execution_count": null,
      "id": "ba57480d",
      "metadata": {},
      "outputs": [],
      "source": [
        "len(\"J'ai 19 charactères\")"
      ]
    },
    {
      "cell_type": "markdown",
      "id": "b7501ff4-f377-49ac-92e3-8bb51f4f24a4",
      "metadata": {},
      "source": [
        "The “character” type does not exist in Python: a single character is\n",
        "defined as a *string* of size 1."
      ]
    },
    {
      "cell_type": "code",
      "execution_count": null,
      "id": "b1d721ed",
      "metadata": {},
      "outputs": [],
      "source": [
        "print(type(\"a\"))\n",
        "print(len(\"a\"))"
      ]
    },
    {
      "cell_type": "markdown",
      "id": "cc1a0a8e-dbab-4ac7-827e-49ae0030e76a",
      "metadata": {},
      "source": [
        "### Indexing\n",
        "\n",
        "In Python, a *string* is a **sequence**, that is, a sequence of\n",
        "characters in a specific order. Therefore, each character\n",
        "of a *string* is indexed (Python knows its position), and we can\n",
        "use this index to extract particular characters,\n",
        "substrings, etc.\n",
        "\n",
        "In Python, we use square brackets `[]` to call the index of a\n",
        "sequence. More precisely, the index works on the following model:\n",
        "`x[a:b:c]` returns a *substring* of the *string* `x` where `a` is the\n",
        "starting character position, `b` the ending character position\n",
        "plus 1, and `c` the indexing step. All this will be clearer with\n",
        "the following examples.\n",
        "\n",
        "Important note: **indexing starts at 0 in Python**."
      ]
    },
    {
      "cell_type": "code",
      "execution_count": null,
      "id": "5016295c",
      "metadata": {},
      "outputs": [],
      "source": [
        "\"une séquence que l'on va indexer\""
      ]
    },
    {
      "cell_type": "code",
      "execution_count": null,
      "id": "ba0d4249",
      "metadata": {},
      "outputs": [],
      "source": [
        "# First element\n",
        "\"une séquence que l'on va indexer\"[0]"
      ]
    },
    {
      "cell_type": "code",
      "execution_count": null,
      "id": "97ab89a6",
      "metadata": {},
      "outputs": [],
      "source": [
        "# Second element\n",
        "\"une séquence que l'on va indexer\"[1]"
      ]
    },
    {
      "cell_type": "code",
      "execution_count": null,
      "id": "d5138033",
      "metadata": {},
      "outputs": [],
      "source": [
        "# Last element\n",
        "\"une séquence que l'on va indexer\"[-1]"
      ]
    },
    {
      "cell_type": "code",
      "execution_count": null,
      "id": "a3cef1d8",
      "metadata": {},
      "outputs": [],
      "source": [
        "# Extract all from a certain character\n",
        "\"une séquence que l'on va indexer\"[4:]"
      ]
    },
    {
      "cell_type": "code",
      "execution_count": null,
      "id": "475924b8",
      "metadata": {},
      "outputs": [],
      "source": [
        "# Extract everything until a certain character\n",
        "\"une séquence que l'on va indexer\"[:12]"
      ]
    },
    {
      "cell_type": "code",
      "execution_count": null,
      "id": "717e3b08",
      "metadata": {},
      "outputs": [],
      "source": [
        "# Extract a substring\n",
        "\"une séquence que l'on va indexer\"[4:12]"
      ]
    },
    {
      "cell_type": "code",
      "execution_count": null,
      "id": "7349e99e",
      "metadata": {},
      "outputs": [],
      "source": [
        "# Extract every 2 characters, starting from the 4th position\n",
        "\"une séquence que l'on va indexer\"[4::2]"
      ]
    },
    {
      "cell_type": "code",
      "execution_count": null,
      "id": "06529d74",
      "metadata": {},
      "outputs": [],
      "source": [
        "# Reverse a sequence\n",
        "\"une séquence que l'on va indexer\"[::-1]"
      ]
    },
    {
      "cell_type": "markdown",
      "id": "310d7aa1-38e2-439c-9aa0-ce1c34bda49c",
      "metadata": {},
      "source": [
        "Remember: this is because a *string* is considered a\n",
        "sequence by Python that we can index it. For example, indexing a\n",
        "number does not make sense, and therefore returns an error."
      ]
    },
    {
      "cell_type": "code",
      "execution_count": null,
      "id": "f7a43435",
      "metadata": {},
      "outputs": [],
      "source": [
        "2[3]"
      ]
    },
    {
      "cell_type": "markdown",
      "id": "46f90b99-8946-4b6c-8c80-2e6f1c82e06f",
      "metadata": {},
      "source": [
        "### Some useful properties"
      ]
    },
    {
      "cell_type": "code",
      "execution_count": null,
      "id": "d6c9c1c7",
      "metadata": {},
      "outputs": [],
      "source": [
        "# String concatenation\n",
        "\"mon adresse est : \" + \"10 rue des Peupliers\""
      ]
    },
    {
      "cell_type": "code",
      "execution_count": null,
      "id": "fa9732ae",
      "metadata": {},
      "outputs": [],
      "source": [
        "# Repetition\n",
        "\"echo - \" * 5"
      ]
    },
    {
      "cell_type": "markdown",
      "id": "16cbbebe-010a-4a9a-aba1-f70d5c7a7102",
      "metadata": {},
      "source": [
        "### Some useful methods\n",
        "Different Python objects usually have **methods** called\n",
        "*built-in* (standard), which allow basic operations to be performed\n",
        "from the object.\n",
        "We will see in a future chapter what exactly this consists of.\n",
        "methods in Python. For the moment, we can remember that the methods\n",
        "are used in the format `object.method(parameters)` where the\n",
        "parameters are optional."
      ]
    },
    {
      "cell_type": "code",
      "execution_count": null,
      "id": "67512f6e",
      "metadata": {},
      "outputs": [],
      "source": [
        "# Capitalize\n",
        "\"sequence 850\".upper()"
      ]
    },
    {
      "cell_type": "code",
      "execution_count": null,
      "id": "98a1db00",
      "metadata": {},
      "outputs": [],
      "source": [
        "# Lowercase\n",
        "\"sequence 850\".lower()"
      ]
    },
    {
      "cell_type": "code",
      "execution_count": null,
      "id": "85029f0c",
      "metadata": {},
      "outputs": [],
      "source": [
        "# Separate words by spaces\n",
        "\"une séquence    à séparer\".split()"
      ]
    },
    {
      "cell_type": "code",
      "execution_count": null,
      "id": "57c602a4",
      "metadata": {},
      "outputs": [],
      "source": [
        "# Separate words by an arbitrary character\n",
        "\"pratique pour faire des sous-séquences\".split(\"-\")"
      ]
    },
    {
      "cell_type": "code",
      "execution_count": null,
      "id": "6465b3bb",
      "metadata": {},
      "outputs": [],
      "source": [
        "# Using strings as templates\n",
        "\"mon adresse est : {}\".format(\"10 rue des Peupliers\")"
      ]
    },
    {
      "cell_type": "markdown",
      "id": "b7aa5b76-af67-4a24-8bb5-6b35a66cf099",
      "metadata": {},
      "source": [
        "### To go further with *strings*\n",
        "\n",
        "All this is just a glimpse of the countless operations possible on\n",
        "the *strings*. The [documentation\n",
        "official](https://docs.python.org/3/library/stdtypes.html#string-methods)\n",
        "lists all the *built-in* methods available. The exercises of the\n",
        "chapter and endgame mini-projects will be an opportunity to\n",
        "discover other uses.\n",
        "\n",
        "## Variables\n",
        "\n",
        "So far, we have had to define our object each time before\n",
        "to be able to apply a transformation to it. How to do it if you want\n",
        "reuse an object and apply multiple transformations to it? Or\n",
        "perform operations from different objects?\n",
        "\n",
        "To do this, we will assign the objects to variables.\n",
        "\n",
        "### Assignment and operations\n",
        "\n",
        "The assignment is done following the format: `variable_name = object`.\n",
        "This then allows operations to be carried out from these\n",
        "variables."
      ]
    },
    {
      "cell_type": "code",
      "execution_count": null,
      "id": "a14dfc94",
      "metadata": {},
      "outputs": [],
      "source": [
        "x = 5\n",
        "x"
      ]
    },
    {
      "cell_type": "code",
      "execution_count": null,
      "id": "808a7809",
      "metadata": {},
      "outputs": [],
      "source": [
        "type(x)"
      ]
    },
    {
      "cell_type": "code",
      "execution_count": null,
      "id": "8f01df8d",
      "metadata": {},
      "outputs": [],
      "source": [
        "x + 5"
      ]
    },
    {
      "cell_type": "code",
      "execution_count": null,
      "id": "53ab293f",
      "metadata": {},
      "outputs": [],
      "source": [
        "y = x + 2*x\n",
        "y"
      ]
    },
    {
      "cell_type": "markdown",
      "id": "c7b7e4f3-019c-421f-b819-767f8429f868",
      "metadata": {},
      "source": [
        "Unlike other programming languages, Python is said to be\n",
        "*dynamically* typed: it is possible to reassign a variable to a\n",
        "object of different type. This makes it easier to read and develop,\n",
        "but can sometimes generate problems that are difficult to debug… It is necessary\n",
        "so always pay attention that the type of the variable is correct\n",
        "the one we imagine we are manipulating."
      ]
    },
    {
      "cell_type": "code",
      "execution_count": null,
      "id": "785f29df",
      "metadata": {},
      "outputs": [],
      "source": [
        "x = 3\n",
        "x = \"blabla\"\n",
        "type(x)"
      ]
    },
    {
      "cell_type": "markdown",
      "id": "bca0d76d-adb8-45d7-b889-2a839327ebe2",
      "metadata": {},
      "source": [
        "There are naturally certain constraints on operations depending on the\n",
        "types of objects."
      ]
    },
    {
      "cell_type": "code",
      "execution_count": null,
      "id": "133fb55b",
      "metadata": {},
      "outputs": [],
      "source": [
        "x = \"test\"\n",
        "y = 3\n",
        "x + y"
      ]
    },
    {
      "cell_type": "markdown",
      "id": "7cce5623-167d-4cb0-8332-6bc87af874ae",
      "metadata": {},
      "source": [
        "It is however possible to harmonize the types upstream:"
      ]
    },
    {
      "cell_type": "code",
      "execution_count": null,
      "id": "48f266d7",
      "metadata": {},
      "outputs": [],
      "source": [
        "x = \"test\"\n",
        "y = 3\n",
        "z = str(y)\n",
        "x + z"
      ]
    },
    {
      "cell_type": "markdown",
      "id": "409a6845-48e0-45fd-ac93-a16cf13c9b34",
      "metadata": {},
      "source": [
        "### Increment\n",
        "\n",
        "It is common to use a variable as a counter, in\n",
        "incrementing it each time a given event occurs for example."
      ]
    },
    {
      "cell_type": "code",
      "execution_count": null,
      "id": "d0cd39a0",
      "metadata": {},
      "outputs": [],
      "source": [
        "a = 0\n",
        "print(a)\n",
        "a = a +1\n",
        "print(a)"
      ]
    },
    {
      "cell_type": "markdown",
      "id": "1bbdf6ae-3504-434e-8852-f382cf2ea7c2",
      "metadata": {},
      "source": [
        "This practice is so common that there are operators\n",
        "special for common arithmetic operations."
      ]
    },
    {
      "cell_type": "code",
      "execution_count": null,
      "id": "bfe01369",
      "metadata": {},
      "outputs": [],
      "source": [
        "a = 0\n",
        "a += 1\n",
        "a"
      ]
    },
    {
      "cell_type": "code",
      "execution_count": null,
      "id": "c7b74a78",
      "metadata": {},
      "outputs": [],
      "source": [
        "b = 5\n",
        "b *= 3\n",
        "b"
      ]
    },
    {
      "cell_type": "markdown",
      "id": "92092f21-d118-40db-9e99-2cc1abeefecd",
      "metadata": {},
      "source": [
        "## Exercises\n",
        "\n",
        "### Comprehension questions\n",
        "\n",
        "- What are the different basic types of Python seen in this\n",
        "tutorial?\n",
        "\n",
        "- How to convert an integer to a real and vice versa?\n",
        "\n",
        "- How do you define a string in Python?\n",
        "\n",
        "- What is a *Traceback*?\n",
        "\n",
        "- What is the difference between a syntax error and a\n",
        "exception ?\n",
        "\n",
        "- What is the `print` function used for?\n",
        "\n",
        "- How to display multiple values ​​in a notebook cell\n",
        "Jupyter?\n",
        "\n",
        "- What is the `len` function used for?\n",
        "\n",
        "- What is a *built-in* method and how to recognize it?\n",
        "\n",
        "- What are variables used for?\n",
        "\n",
        "- Why do we say that Python is “*dynamically* typed”?"
      ]
    },
    {
      "cell_type": "markdown",
      "id": "d6ea119c-1049-4eb9-8214-63b9087ef570",
      "metadata": {},
      "source": [
        "<details>\n",
        "\n",
        "<summary>\n",
        "\n",
        "Show solution\n",
        "\n",
        "</summary>\n",
        "\n",
        "- 1/ The basic types in Python seen in this tutorial are the types\n",
        "numeric, including integers (`int`) and real numbers (numbers with\n",
        "floating point, `float`), and strings (`str`),\n",
        "which store textual information.\n",
        "\n",
        "- 2/ To convert an integer into a real number, we use the function\n",
        "`float()`. To convert a real into an integer, we use the function\n",
        "`int()`.\n",
        "\n",
        "- 3/ A character string is defined by putting the information\n",
        "between apostrophes (’) or between quotation marks (“).\n",
        "\n",
        "- 4/ A `Traceback` is an error report that shows the sequence\n",
        "of operations that led to an exception. It helps to identify\n",
        "the origin of the error in the code.\n",
        "\n",
        "- 5/ A syntax error occurs when the Python code does not respect\n",
        "not the syntax rules of the language, making the script not\n",
        "executable. An exception is an error detected during\n",
        "execution, even if the code has correct syntax. Exceptions\n",
        "can be handled in the code, while syntax errors\n",
        "produce necessarily lead to the termination of the execution of the\n",
        "code.\n",
        "\n",
        "- 6/ The `print` function displays the contents of the argument given to it.\n",
        "passes in parentheses on the Python console or in a cell of\n",
        "Jupyter notebook.\n",
        "\n",
        "- 7/ By default, running a Jupyter cell displays the last\n",
        "value returned by the code executed in this cell. If two\n",
        "lines of code return something, so only the last one will be\n",
        "displayed. To be able to display multiple items in the same\n",
        "cell, we use the `print` function for each operation whose\n",
        "we want to display the result.\n",
        "\n",
        "- 8/ The `len` function returns the number of elements in an object. By\n",
        "example, the number of characters in a string.\n",
        "This function only makes sense for sequence type objects.\n",
        "\n",
        "- 9/ A *built-in* method is a function integrated into a type\n",
        "object in Python that allows you to perform specific operations\n",
        "on this object. It is recognized because it is called directly on\n",
        "the object with the syntax `object.method()`.\n",
        "\n",
        "- 10/ Variables are used to store values ​​or objects for\n",
        "to be able to reuse them and handle them more easily in the\n",
        "code. They also allow you to give a name to the data for\n",
        "make them more readable and easier to handle.\n",
        "\n",
        "- 11/ Python is said to be *dynamically typed* because the type of\n",
        "variables are determined at runtime and can change at\n",
        "during execution. Thus, a variable initially defined as\n",
        "string can absolutely become a numeric variable\n",
        "during code execution, which is impossible in the\n",
        "programming languages ​​based on *static typing*.\n",
        "\n",
        "</details>"
      ]
    },
    {
      "cell_type": "markdown",
      "id": "2b3cbd4d-9f86-4e13-b68b-07250317a20d",
      "metadata": {},
      "source": [
        "### Displaying basic types\n",
        "\n",
        "Show type of x when:\n",
        "\n",
        "- x = 3\n",
        "\n",
        "- x = “test”\n",
        "\n",
        "- x = 3.5"
      ]
    },
    {
      "cell_type": "code",
      "execution_count": 1,
      "id": "9b7cbaad",
      "metadata": {},
      "outputs": [
        {
          "name": "stdout",
          "output_type": "stream",
          "text": [
            "<class 'int'>\n",
            "<class 'str'>\n",
            "<class 'float'>\n"
          ]
        }
      ],
      "source": [
        "# Type your answer in this cell\n",
        "x = 3\n",
        "print(type(x))\n",
        "x = \"test\"\n",
        "print(type(x))\n",
        "x = 3.5\n",
        "print(type(x))"
      ]
    },
    {
      "cell_type": "markdown",
      "id": "3cfd1500-402f-4263-9a40-8f57ddc6a177",
      "metadata": {},
      "source": [
        "<details>\n",
        "\n",
        "<summary>\n",
        "\n",
        "Show solution\n",
        "\n",
        "</summary>\n",
        "\n",
        "``` python\n",
        "x = 3\n",
        "print(type(x))\n",
        "\n",
        "x = \"test\"\n",
        "print(type(x))\n",
        "\n",
        "x = 3.5\n",
        "print(type(x))\n",
        "```\n",
        "\n",
        "</details>"
      ]
    },
    {
      "cell_type": "markdown",
      "id": "d572a308-f4ef-4c51-a077-d2b8a119bfa4",
      "metadata": {},
      "source": [
        "### String Lengths\n",
        "\n",
        "Calculate the sum of the lengths of the three strings.\n",
        "following:\n",
        "\n",
        "- “a first chain”\n",
        "\n",
        "- “and a second”\n",
        "\n",
        "- “never two without three”"
      ]
    },
    {
      "cell_type": "code",
      "execution_count": 4,
      "id": "8b22950b",
      "metadata": {},
      "outputs": [
        {
          "name": "stdout",
          "output_type": "stream",
          "text": [
            "48\n"
          ]
        }
      ],
      "source": [
        "# Type your answer in this cell\n",
        "strOne = \"a first chain\"\n",
        "strTwo = \"and a second\"\n",
        "strThr = \"never two without three\"\n",
        "sumOfLengths = len(strOne) + len(strTwo) + len(strThr)\n",
        "print(sumOfLengths)"
      ]
    },
    {
      "cell_type": "markdown",
      "id": "68989106-e403-4463-842e-fd404011209f",
      "metadata": {},
      "source": [
        "<details>\n",
        "\n",
        "<summary>\n",
        "\n",
        "Show solution\n",
        "\n",
        "</summary>\n",
        "\n",
        "``` python\n",
        "a = \"une première chaîne\"\n",
        "b = \"et une deuxième\"\n",
        "c = \"jamais deux sans trois\"\n",
        "\n",
        "len(a) + len(b) + len(c)\n",
        "```\n",
        "\n",
        "</details>"
      ]
    },
    {
      "cell_type": "markdown",
      "id": "6411b94b-84ee-4652-a314-61e5508b355a",
      "metadata": {},
      "source": [
        "### Postcode Formatting\n",
        "\n",
        "What is the correct type to define a postal code?\n",
        "\n",
        "Try to set the following zip codes to `int` format and\n",
        "format `string`:\n",
        "\n",
        "- 92120\n",
        "\n",
        "- 02350\n",
        "\n",
        "What do you conclude?"
      ]
    },
    {
      "cell_type": "code",
      "execution_count": 7,
      "id": "cd57178c",
      "metadata": {},
      "outputs": [
        {
          "name": "stdout",
          "output_type": "stream",
          "text": [
            "<class 'str'>\n",
            "<class 'str'>\n"
          ]
        }
      ],
      "source": [
        "# Type your answer in this cell\n",
        "zipCodeOne = \"92120\"\n",
        "zipCodeTwo = \"02350\"\n",
        "print(type(zipCodeOne))\n",
        "print(type(zipCodeTwo))"
      ]
    },
    {
      "cell_type": "markdown",
      "id": "7259da2d-c109-4b95-8109-759be9452ee2",
      "metadata": {},
      "source": [
        "<details>\n",
        "\n",
        "<summary>\n",
        "\n",
        "Show solution\n",
        "\n",
        "</summary>\n",
        "\n",
        "``` python\n",
        "cp1_int = 92120\n",
        "cp1_str = \"92120\"\n",
        "\n",
        "print(cp1_int, cp1_str) # Pas de problème\n",
        "\n",
        "cp2_int = 02350 \n",
        "```\n",
        "\n",
        "Error: Python does not accept defining an integer that starts with a\n",
        "0. So we need to define postal codes as strings.\n",
        "\n",
        "</details>"
      ]
    },
    {
      "cell_type": "markdown",
      "id": "4053c6d0-f4a2-4541-aff6-542c8135fd91",
      "metadata": {},
      "source": [
        "### Letter Counting\n",
        "\n",
        "Count the number of times the letter e appears in the string.\n",
        "next: “I’m counting the e’s.”\n",
        "\n",
        "**Hint**: You can use the *built-in* method\n",
        "[count](https://docs.python.org/fr/3/library/stdtypes.html#str.count)."
      ]
    },
    {
      "cell_type": "code",
      "execution_count": 9,
      "id": "0af632ef",
      "metadata": {},
      "outputs": [
        {
          "data": {
            "text/plain": [
              "2"
            ]
          },
          "execution_count": 9,
          "metadata": {},
          "output_type": "execute_result"
        }
      ],
      "source": [
        "# Type your answer in this cell\n",
        "str = \"I'm counting the e's\"\n",
        "str.count(\"e\")"
      ]
    },
    {
      "cell_type": "markdown",
      "id": "641cc263-8aea-49d6-8e40-edb4c9d4f4e4",
      "metadata": {},
      "source": [
        "<details>\n",
        "\n",
        "<summary>\n",
        "\n",
        "Show solution\n",
        "\n",
        "</summary>\n",
        "\n",
        "``` python\n",
        "a = \"Je fais un comptage des e.\"\n",
        "a.count('e')\n",
        "```\n",
        "\n",
        "</details>"
      ]
    },
    {
      "cell_type": "markdown",
      "id": "aac85e1d-8593-4e90-b26d-f4107b57ef2e",
      "metadata": {},
      "source": [
        "### Letter detection\n",
        "\n",
        "Locate the first position where the letter e is present in the string.\n",
        "next: “I’m counting the e’s.”\n",
        "\n",
        "**Hint**: You can use the *built-in* method\n",
        "[find](https://docs.python.org/fr/3/library/stdtypes.html#str.find)."
      ]
    },
    {
      "cell_type": "code",
      "execution_count": 10,
      "id": "0e7212ea",
      "metadata": {},
      "outputs": [
        {
          "data": {
            "text/plain": [
              "14"
            ]
          },
          "execution_count": 10,
          "metadata": {},
          "output_type": "execute_result"
        }
      ],
      "source": [
        "# Type your answer in this cell\n",
        "str = \"I'm couting the e's\"\n",
        "str.find(\"e\")"
      ]
    },
    {
      "cell_type": "markdown",
      "id": "34938298-2429-4542-a067-44332f14eac7",
      "metadata": {},
      "source": [
        "<details>\n",
        "\n",
        "<summary>\n",
        "\n",
        "Show solution\n",
        "\n",
        "</summary>\n",
        "\n",
        "``` python\n",
        "a = \"Je fais un comptage des e.\"\n",
        "a.find('e')\n",
        "```\n",
        "\n",
        "</details>"
      ]
    },
    {
      "cell_type": "markdown",
      "id": "1cbda6d0-7b57-4bee-80b9-b730abba3f55",
      "metadata": {},
      "source": [
        "### Removing spaces from a string\n",
        "\n",
        "Remove unnecessary spaces at the beginning and end of the string\n",
        "next:\n",
        "\n",
        "**Hint**: You can use the *built-in* method\n",
        "[strip](https://docs.python.org/fr/3/library/stdtypes.html#str.strip)."
      ]
    },
    {
      "cell_type": "code",
      "execution_count": 11,
      "id": "3e35e12f",
      "metadata": {},
      "outputs": [
        {
          "data": {
            "text/plain": [
              "'Un string très mal formatté.'"
            ]
          },
          "execution_count": 11,
          "metadata": {},
          "output_type": "execute_result"
        }
      ],
      "source": [
        "# Type your answer in this cell\n",
        "a = \"    Un string très mal formatté.         \"\n",
        "a.strip()"
      ]
    },
    {
      "cell_type": "markdown",
      "id": "6b98a51a-97fc-4b1e-a759-d34335960067",
      "metadata": {},
      "source": [
        "<details>\n",
        "\n",
        "<summary>\n",
        "\n",
        "Show solution\n",
        "\n",
        "</summary>\n",
        "\n",
        "``` python\n",
        "a = \"    Un string très mal formatté.         \"\n",
        "a.strip()\n",
        "```\n",
        "\n",
        "</details>"
      ]
    },
    {
      "cell_type": "markdown",
      "id": "4db89c32-dc42-40e1-8076-178d41ebad10",
      "metadata": {},
      "source": [
        "### Character escape\n",
        "\n",
        "The `\\` character is used to escape (neutralize) a special character in the\n",
        "within a string of characters. Find out how this character allows you to\n",
        "solve the problem with using quotation marks (or\n",
        "apostrophes) in a string defined by quotation marks (apostrophe).\n",
        "\n",
        "**Hint**: Examples of use are available in the\n",
        "[documentation\n",
        "official](https://docs.python.org/fr/3.8/reference/lexical_analysis.html#literals)."
      ]
    },
    {
      "cell_type": "code",
      "execution_count": 12,
      "id": "66a43a18",
      "metadata": {},
      "outputs": [
        {
          "name": "stdout",
          "output_type": "stream",
          "text": [
            "I'm allowed to use the apostrophe without problems The professor said: \"Python creators were very intelligent\"\n"
          ]
        }
      ],
      "source": [
        "# Type your answer in this cell\n",
        "strTestOne = 'I\\'m allowed to use the apostrophe without problems'\n",
        "strTestTwo = \"The professor said: \\\"Python creators were very intelligent\\\"\"\n",
        "print(strTestOne, strTestTwo)"
      ]
    },
    {
      "cell_type": "markdown",
      "id": "30046ce4-388c-471a-9899-fc4906418a5e",
      "metadata": {},
      "source": [
        "<details>\n",
        "\n",
        "<summary>\n",
        "\n",
        "Show solution\n",
        "\n",
        "</summary>\n",
        "\n",
        "``` python\n",
        "\"juste un \\\"petit\\\" test\"\n",
        "```\n",
        "\n",
        "</details>"
      ]
    },
    {
      "cell_type": "markdown",
      "id": "5b66f422-6222-411a-aeb4-c07b8071055f",
      "metadata": {},
      "source": [
        "### A first algorithm\n",
        "\n",
        "Perform the following sequence of operations using the operators\n",
        "increment, and print the final value:\n",
        "\n",
        "- initialize a variable to 1\n",
        "\n",
        "- subtract 5 from it\n",
        "\n",
        "- multiply it by 4\n",
        "\n",
        "- add 22 to it"
      ]
    },
    {
      "cell_type": "code",
      "execution_count": 15,
      "id": "8b579643",
      "metadata": {},
      "outputs": [
        {
          "name": "stdout",
          "output_type": "stream",
          "text": [
            "6\n"
          ]
        }
      ],
      "source": [
        "# Type your answer in this cell\n",
        "x = 1\n",
        "x -= 5\n",
        "x *= 4\n",
        "x += 22\n",
        "print(x)"
      ]
    },
    {
      "cell_type": "markdown",
      "id": "a2baec77-c2a0-47df-9e30-0bc7d31d1ef9",
      "metadata": {},
      "source": [
        "<details>\n",
        "\n",
        "<summary>\n",
        "\n",
        "Show solution\n",
        "\n",
        "</summary>\n",
        "\n",
        "``` python\n",
        "a = 1\n",
        "a -= 5\n",
        "a *= 4\n",
        "a += 22\n",
        "print(a)\n",
        "```\n",
        "\n",
        "</details>"
      ]
    },
    {
      "cell_type": "markdown",
      "id": "cedd6c0b-5730-4137-9741-2a3879259bfb",
      "metadata": {},
      "source": [
        "### String composition\n",
        "\n",
        "Consider the following two sequences:\n",
        "\n",
        "- “we are in”\n",
        "\n",
        "- “2024”\n",
        "\n",
        "Find from the tutorial two different ways to use them\n",
        "to compose the sequence “we are in 2024”.\n",
        "\n",
        "**Hint**: One of the two methods involves (slightly) modifying\n",
        "one of the two sequences."
      ]
    },
    {
      "cell_type": "code",
      "execution_count": 16,
      "id": "7f7a580a",
      "metadata": {},
      "outputs": [
        {
          "name": "stdout",
          "output_type": "stream",
          "text": [
            "we are in 2024\n"
          ]
        }
      ],
      "source": [
        "# Type your answer in this cell\n",
        "strA = \"we are in\"\n",
        "strB = \"2024\"\n",
        "print(strA, strB)"
      ]
    },
    {
      "cell_type": "markdown",
      "id": "31231257-9999-497a-8c79-559bd4a55ccc",
      "metadata": {},
      "source": [
        "<details>\n",
        "\n",
        "<summary>\n",
        "\n",
        "Show solution\n",
        "\n",
        "</summary>\n",
        "\n",
        "``` python\n",
        "a1 = \"nous sommes en\"\n",
        "a2 = \"nous sommes en {}\"\n",
        "b = \"2024\"\n",
        "\n",
        "print(a1 + \" \" + b)\n",
        "print(a2.format(b))\n",
        "```\n",
        "\n",
        "</details>"
      ]
    },
    {
      "cell_type": "markdown",
      "id": "f2b62fcf-1e4a-4df6-bc78-8d36e2648b63",
      "metadata": {},
      "source": [
        "### The `f-strings`\n",
        "\n",
        "`f-strings` are a somewhat special form of *strings* but\n",
        "very handy, which were added in version 3.6 of `Python`. For\n",
        "understand their interest, let's start again from the solution of the exercise\n",
        "previous, which illustrated two ways of composing the string “we\n",
        "“We are in 2024”."
      ]
    },
    {
      "cell_type": "code",
      "execution_count": 17,
      "id": "dac2ae9a",
      "metadata": {},
      "outputs": [
        {
          "name": "stdout",
          "output_type": "stream",
          "text": [
            "nous sommes en 2024\n",
            "nous sommes en 2024\n"
          ]
        }
      ],
      "source": [
        "a1 = \"nous sommes en\"\n",
        "a2 = \"nous sommes en {}\"\n",
        "b = \"2024\"\n",
        "\n",
        "print(a1 + \" \" + b)\n",
        "print(a2.format(b))"
      ]
    },
    {
      "cell_type": "markdown",
      "id": "7baa0c05-7905-4666-9003-c8cbe6451ea7",
      "metadata": {},
      "source": [
        "Both of these methods work but have limitations. Think about it\n",
        "to what would happen in the following cases, and do not hesitate to do\n",
        "tests to convince you:\n",
        "\n",
        "- if you want to inject a variable via the `format()` method which\n",
        "is not a *string* (eg: if “2024” was an integer and not a\n",
        "*string*) ?\n",
        "\n",
        "- if we want to concatenate several *strings* together?\n",
        "\n",
        "- if you want to concatenate several *strings* together and in\n",
        "the more we want to inject the values ​​of other variables into each\n",
        "part ?\n",
        "\n",
        "Taking inspiration from the [documentation\n",
        "official](https://docs.python.org/fr/3/tutorial/inputoutput.html#formatted-string-literals),\n",
        "use `f-strings` to solve these various problems."
      ]
    },
    {
      "attachments": {},
      "cell_type": "markdown",
      "id": "6c68b6b8",
      "metadata": {},
      "source": [
        "If we want to inject a variable via the format() method, which is not a string, there will be a TypeError, because an integer cannot be concatenated to a string.\n",
        "If we want to concatenate several strings together/need more variables to be added, the code becomes complex to write and read, so errors may arise."
      ]
    },
    {
      "cell_type": "code",
      "execution_count": 20,
      "id": "f8358137",
      "metadata": {},
      "outputs": [
        {
          "name": "stdout",
          "output_type": "stream",
          "text": [
            "My name is Rita, I'm 26 years old, and I come from Portugal.\n"
          ]
        }
      ],
      "source": [
        "# Type your answer in this cell\n",
        "name = \"Rita\"\n",
        "age = \"26\"\n",
        "country = \"Portugal\"\n",
        "\n",
        "print(f\"My name is {name}, I'm {age} years old, and I come from {country}.\")"
      ]
    },
    {
      "cell_type": "markdown",
      "id": "cfbe3d09-a14e-4926-b2f6-7f880ab3003f",
      "metadata": {},
      "source": [
        "<details>\n",
        "\n",
        "<summary>\n",
        "\n",
        "Show solution\n",
        "\n",
        "</summary>\n",
        "\n",
        "First problem: composing strings with numeric values.\n",
        "\n",
        "``` python\n",
        "a1 = \"nous sommes en\"\n",
        "b = 2024\n",
        "\n",
        "# print(a1 + \" \" + b)  # Erreur\n",
        "print(a1 + \" \" + str(b))\n",
        "```\n",
        "\n",
        "Direct concatenation returns an error -\\> you must first\n",
        "convert numeric value to string.\n",
        "\n",
        "Second problem: juxtaposition of multiple character strings.\n",
        "\n",
        "``` python\n",
        "a = \"nous sommes en\"\n",
        "b = \"2024\"\n",
        "c = \"et je m'appelle\"\n",
        "d = \"Miranda\"\n",
        "\n",
        "print(a + \" \" + b + \" \" + c + \" \" + d)\n",
        "```\n",
        "\n",
        "The syntax quickly becomes unreadable, because you have to add the separators\n",
        "(space) manually between each part.\n",
        "\n",
        "Third problem: string composition with injection\n",
        "of variables.\n",
        "\n",
        "``` python\n",
        "a = \"nous sommes en {}\"\n",
        "b = \"2024\"\n",
        "c = \"et je m'appelle {}\"\n",
        "d = \"Miranda\"\n",
        "\n",
        "print(a.format(b) + \" \" + c.format(d))\n",
        "```\n",
        "\n",
        "The syntax remains difficult to read, because the values ​​must be injected into\n",
        "each chain.\n",
        "\n",
        "Solution: with f-strings.\n",
        "\n",
        "``` python\n",
        "annee = 2024\n",
        "prenom = \"Miranda\"\n",
        "\n",
        "print(f\"nous sommes en {annee} et je m'appelle {prenom}\")\n",
        "```\n",
        "\n",
        "Much more readable!\n",
        "\n",
        "</details>"
      ]
    }
  ],
  "metadata": {
    "kernelspec": {
      "display_name": "Python 3 (ipykernel)",
      "language": "python",
      "name": "python3",
      "path": "/Users/gblin/opt/anaconda3/share/jupyter/kernels/python3"
    },
    "language_info": {
      "codemirror_mode": {
        "name": "ipython",
        "version": 3
      },
      "file_extension": ".py",
      "mimetype": "text/x-python",
      "name": "python",
      "nbconvert_exporter": "python",
      "pygments_lexer": "ipython3",
      "version": "3.11.9"
    }
  },
  "nbformat": 4,
  "nbformat_minor": 5
}
