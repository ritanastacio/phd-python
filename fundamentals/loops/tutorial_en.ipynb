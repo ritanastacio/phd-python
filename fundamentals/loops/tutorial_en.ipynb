{
  "cells": [
    {
      "cell_type": "markdown",
      "id": "aea01720-73f8-4d35-b630-0e58e9fb968b",
      "metadata": {},
      "source": [
        "# Loops\n",
        "\n",
        "In the previous tutorial we studied tests, which allow\n",
        "to a computer to make decisions based on specified conditions\n",
        "in a program. We will now go even further in\n",
        "automation of operations, thanks to the notion of **loop**. The\n",
        "loops will allow you to repeat an instruction several times\n",
        "similar without having to rewrite the same code each time.\n",
        "\n",
        "To illustrate this idea, let's imagine that we want to display each\n",
        "element of a list. For now, we would do:"
      ]
    },
    {
      "cell_type": "code",
      "execution_count": 3,
      "id": "f3a0c9bc",
      "metadata": {},
      "outputs": [
        {
          "name": "stdout",
          "output_type": "stream",
          "text": [
            "do\n",
            "re\n",
            "mi\n"
          ]
        }
      ],
      "source": [
        "gamme = ['do', 're', 'mi', 'fa', 'sol', 'la', 'si']\n",
        "\n",
        "print(gamme[0])\n",
        "print(gamme[1])\n",
        "print(gamme[2])"
      ]
    },
    {
      "cell_type": "markdown",
      "id": "11018198-701a-48e6-a0de-31a6bf138255",
      "metadata": {},
      "source": [
        "And so on. We see immediately that such an operation would be\n",
        "impractical for a list containing hundreds of items.\n",
        "loops will solve this problem elegantly and efficiently.\n",
        "\n",
        "## `for` loops\n",
        "\n",
        "### Definition\n",
        "\n",
        "The first type of loops we're going to look at is the\n",
        "`for` loop. A `for` loop allows you to iterate through the different\n",
        "elements contained in a so-called **iterable** object, and to carry out\n",
        "operations with these elements. Iterable objects include, among others\n",
        "all the sequential objects we've seen so far: strings\n",
        "of characters, lists, tuples, etc.\n",
        "\n",
        "Let's illustrate how a `for` loop works by solving the problem\n",
        "previously exposed."
      ]
    },
    {
      "cell_type": "code",
      "execution_count": 4,
      "id": "9796e4d3",
      "metadata": {},
      "outputs": [
        {
          "name": "stdout",
          "output_type": "stream",
          "text": [
            "do\n",
            "re\n",
            "mi\n",
            "fa\n",
            "sol\n",
            "la\n",
            "si\n"
          ]
        }
      ],
      "source": [
        "for note in gamme:\n",
        "    print(note)"
      ]
    },
    {
      "cell_type": "markdown",
      "id": "f0febbd2-556d-4a91-a39d-1fc70414314c",
      "metadata": {},
      "source": [
        "### Syntax\n",
        "\n",
        "Let's analyze the structure of a `for` loop:\n",
        "\n",
        "- The first line specifies a **`for` statement**, and like any\n",
        "statement in Python ends with `:`.\n",
        "\n",
        "- Next comes a **block of instructions**, i.e. a sequence\n",
        "of operations (only one in our example) which will be executed at\n",
        "each iteration of the loop. This block is visible by its **level\n",
        "indentation**, incremented by 1 relative to the instruction. The\n",
        "block stops when the indentation returns to its level\n",
        "initial.\n",
        "\n",
        "As with `if`/`else` type conditional statements,\n",
        "Indentation is therefore crucial. If you forget it, Python returns a\n",
        "error."
      ]
    },
    {
      "cell_type": "code",
      "execution_count": 5,
      "id": "0302ca47",
      "metadata": {},
      "outputs": [
        {
          "name": "stdout",
          "output_type": "stream",
          "text": [
            "do\n",
            "re\n",
            "mi\n",
            "fa\n",
            "sol\n",
            "la\n",
            "si\n"
          ]
        }
      ],
      "source": [
        "for note in gamme:\n",
        "    print(note)"
      ]
    },
    {
      "cell_type": "markdown",
      "id": "83291187-3a7d-4dee-8706-8e9c4bcb33f7",
      "metadata": {},
      "source": [
        "### Functioning\n",
        "\n",
        "Now let's look in more detail at what the `for` statement does.\n",
        "It defines an **iteration variable** (called `note` in our\n",
        "example), which will iterate through the elements of the specified **iterator**\n",
        "after the `in` (the `range` list in our example). The syntax of a\n",
        "loop in Python lends itself well to a literal description; in our\n",
        "case: “for each note contained in the scale list, print the note”.\n",
        "\n",
        "Let us emphasize that a loop defines a variable, without us\n",
        "needs to go through traditional assignment syntax\n",
        "`variable = value`. Also, this variable is not deleted once\n",
        "once the loop is finished, it then takes the value of the last element\n",
        "of the iterator."
      ]
    },
    {
      "cell_type": "code",
      "execution_count": 6,
      "id": "5587137a",
      "metadata": {},
      "outputs": [
        {
          "data": {
            "text/plain": [
              "'si'"
            ]
          },
          "execution_count": 6,
          "metadata": {},
          "output_type": "execute_result"
        }
      ],
      "source": [
        "note"
      ]
    },
    {
      "cell_type": "markdown",
      "id": "afacfb28-c364-4ca4-b06e-6849f5f38697",
      "metadata": {},
      "source": [
        "The iterator is not necessarily a list, it can be any object\n",
        "iterable. This includes all sequential objects that we\n",
        "we saw."
      ]
    },
    {
      "cell_type": "code",
      "execution_count": 7,
      "id": "22d99452",
      "metadata": {},
      "outputs": [
        {
          "name": "stdout",
          "output_type": "stream",
          "text": [
            "Y\n",
            "M\n",
            "C\n",
            "A\n",
            "\n",
            "9\n",
            "18\n",
            "27\n",
            "36\n",
            "45\n"
          ]
        }
      ],
      "source": [
        "for char in \"YMCA\":\n",
        "    print(char)\n",
        "    \n",
        "print()  # Line break\n",
        "    \n",
        "t = (1, 2, 3, 4, 5)\n",
        "for i in t:\n",
        "    print(i*9)"
      ]
    },
    {
      "cell_type": "markdown",
      "id": "6f7366c7-bcf6-43f4-a684-32639c44c974",
      "metadata": {},
      "source": [
        "The class of iterable objects is, however, much larger than the\n",
        "only sequential objects. For example, one can iterate over the keys of a\n",
        "dictionary, whereas we saw in a previous tutorial that this\n",
        "was not a sequential object, since there is no notion of order\n",
        "in a dictionary."
      ]
    },
    {
      "cell_type": "code",
      "execution_count": 8,
      "id": "891f3214",
      "metadata": {},
      "outputs": [
        {
          "name": "stdout",
          "output_type": "stream",
          "text": [
            "cafe\n",
            "500g\n",
            "\n",
            "lait\n",
            "1,5L\n",
            "\n",
            "cereales\n",
            "1kg\n",
            "\n"
          ]
        }
      ],
      "source": [
        "inventaire = {'cafe': '500g', 'lait': '1,5L', 'cereales': '1kg'}\n",
        "for key in inventaire:\n",
        "    print(key)\n",
        "    print(inventaire[key])\n",
        "    print()  # Line break"
      ]
    },
    {
      "cell_type": "markdown",
      "id": "862bc4b9-2175-4c6e-b383-7f117186fa60",
      "metadata": {},
      "source": [
        "### Iterating over integers with the `range` function\n",
        "\n",
        "In programming, it is common to want to iterate over a sequence\n",
        "of integers. Rather than specifying this sequence in a list, which\n",
        "is not very practical if the sequence is long, we use to do this\n",
        "the `range(n)` function. This creates an iterable object that contains\n",
        "all integers between $0$ and $n-1$, and which can be used\n",
        "within a loop.\n",
        "\n",
        "Let's look for example at how we can very simply display a table\n",
        "multiplication using this function."
      ]
    },
    {
      "cell_type": "code",
      "execution_count": 9,
      "id": "0be4c0af",
      "metadata": {},
      "outputs": [
        {
          "name": "stdout",
          "output_type": "stream",
          "text": [
            "0 0\n",
            "1 9\n",
            "2 18\n",
            "3 27\n",
            "4 36\n",
            "5 45\n",
            "6 54\n",
            "7 63\n",
            "8 72\n",
            "9 81\n",
            "10 90\n"
          ]
        }
      ],
      "source": [
        "table = 9\n",
        "\n",
        "for i in range(11):\n",
        "    print(i, i*9)"
      ]
    },
    {
      "cell_type": "markdown",
      "id": "70c4a0c7-b387-44ab-8f90-8bdf5d05e314",
      "metadata": {},
      "source": [
        "### Iteration over indices\n",
        "\n",
        "We saw that a `for` loop had the principle of iterating over the\n",
        "*elements* of an iterable. However, in the case of a sequential object\n",
        "like a list, one may sometimes want to iterate over the *indices* of\n",
        "the object, in order to be able to manipulate both the indices and the elements\n",
        "contained in the object. In this case, the `range` function can be\n",
        "used in combination with the `len` function to create an object\n",
        "iterable that contains exactly the indices of the initial list."
      ]
    },
    {
      "cell_type": "code",
      "execution_count": 10,
      "id": "68ed2cec",
      "metadata": {},
      "outputs": [
        {
          "name": "stdout",
          "output_type": "stream",
          "text": [
            "La note numéro 0 de la gamme de do majeur est do\n",
            "La note numéro 1 de la gamme de do majeur est re\n",
            "La note numéro 2 de la gamme de do majeur est mi\n",
            "La note numéro 3 de la gamme de do majeur est fa\n",
            "La note numéro 4 de la gamme de do majeur est sol\n",
            "La note numéro 5 de la gamme de do majeur est la\n",
            "La note numéro 6 de la gamme de do majeur est si\n"
          ]
        }
      ],
      "source": [
        "gamme = ['do', 're', 'mi', 'fa', 'sol', 'la', 'si']\n",
        "\n",
        "for i in range(len(gamme)):\n",
        "    print(\"La note numéro \" + str(i) + \" de la gamme de do majeur est \" + gamme[i])"
      ]
    },
    {
      "cell_type": "markdown",
      "id": "fca3ba84-3796-41cb-ad2f-d7e56f8c7b16",
      "metadata": {},
      "source": [
        "As this need is common but the above code is not very\n",
        "readable, there is a *built-in* function of Python called `enumerate`\n",
        "which allows iterating over both objects and indices. It is therefore\n",
        "It is better to use this syntax, which is clearer and allows you to avoid\n",
        "some errors.\n",
        "\n",
        "The `enumerate` function applied to an iterable object returns a new\n",
        "iterable object that contains the set of `(index, element)` pairs\n",
        "contained in the object, in the form of tuples. As it is an object of\n",
        "special type – a generator, which we will see in a later tutorial\n",
        "advanced – you need to apply the `list` function to it to display its\n",
        "content."
      ]
    },
    {
      "cell_type": "code",
      "execution_count": 11,
      "id": "b945aa99",
      "metadata": {},
      "outputs": [
        {
          "data": {
            "text/plain": [
              "[(0, 'do'), (1, 're'), (2, 'mi'), (3, 'fa'), (4, 'sol'), (5, 'la'), (6, 'si')]"
            ]
          },
          "execution_count": 11,
          "metadata": {},
          "output_type": "execute_result"
        }
      ],
      "source": [
        "list(enumerate(gamme))"
      ]
    },
    {
      "cell_type": "markdown",
      "id": "a4b4470c-3d56-4f70-b9b5-567c2e296b16",
      "metadata": {},
      "source": [
        "Let's see how to rewrite the previous loop with this new one.\n",
        "syntax."
      ]
    },
    {
      "cell_type": "code",
      "execution_count": 12,
      "id": "e5ba759e",
      "metadata": {},
      "outputs": [
        {
          "name": "stdout",
          "output_type": "stream",
          "text": [
            "La note numéro 0 de la gamme de do majeur est do\n",
            "La note numéro 1 de la gamme de do majeur est re\n",
            "La note numéro 2 de la gamme de do majeur est mi\n",
            "La note numéro 3 de la gamme de do majeur est fa\n",
            "La note numéro 4 de la gamme de do majeur est sol\n",
            "La note numéro 5 de la gamme de do majeur est la\n",
            "La note numéro 6 de la gamme de do majeur est si\n"
          ]
        }
      ],
      "source": [
        "for i, note in enumerate(gamme):\n",
        "    print(\"La note numéro \" + str(i) + \" de la gamme de do majeur est \" + note)"
      ]
    },
    {
      "cell_type": "markdown",
      "id": "a78070e1-88a8-400c-bd05-9137ae59b03c",
      "metadata": {},
      "source": [
        "NB: to assign variables in the `if` statement, we have\n",
        "used a very practical technique that we had already mentioned in a\n",
        "Lists and Tuples Tutorial Exercise: The *tuple\n",
        "unpacking*. Let's illustrate this with an example:"
      ]
    },
    {
      "cell_type": "code",
      "execution_count": 13,
      "id": "f12ea660",
      "metadata": {},
      "outputs": [
        {
          "name": "stdout",
          "output_type": "stream",
          "text": [
            "1\n",
            "2\n",
            "3\n"
          ]
        }
      ],
      "source": [
        "t = (1, 2, 3)\n",
        "a, b, c = t\n",
        "print(a)\n",
        "print(b)\n",
        "print(c)"
      ]
    },
    {
      "cell_type": "markdown",
      "id": "14fccd36-60a5-43e1-ab45-304338ed4862",
      "metadata": {},
      "source": [
        "## `while` loops\n",
        "\n",
        "### Definition\n",
        "\n",
        "`While` loops provide an alternative way to specify\n",
        "repetitive procedures. The idea is no longer to iterate over a number\n",
        "of objects fixed in advance, but to iterate as long as a condition (test\n",
        "logic) is fulfilled**."
      ]
    },
    {
      "cell_type": "code",
      "execution_count": 14,
      "id": "07f825a6",
      "metadata": {},
      "outputs": [
        {
          "name": "stdout",
          "output_type": "stream",
          "text": [
            "1\n",
            "2\n",
            "3\n",
            "4\n",
            "5\n"
          ]
        }
      ],
      "source": [
        "i = 1\n",
        "while i <= 5:\n",
        "    print(i)\n",
        "    i = i + 1"
      ]
    },
    {
      "cell_type": "markdown",
      "id": "03afdfc8-23c2-4f4f-981a-ab8938c363cf",
      "metadata": {},
      "source": [
        "### Syntax\n",
        "\n",
        "The essential difference with the `for` loop is the instruction: it is\n",
        "now a `while` statement, followed by a condition (test), and\n",
        "like any `:` statement.\n",
        "\n",
        "For the rest, the principle is the same: the `while` instruction is followed\n",
        "of a block of instructions, indented by one level, and which executes\n",
        "sequentially at each iteration of the loop.\n",
        "\n",
        "### Stopping criterion\n",
        "\n",
        "A key difference between `while` loops and loops\n",
        "`for` holds on to the stopping criterion. In a `for` loop, this criterion is\n",
        "clear: the loop iterates over the elements of an iterable object,\n",
        "necessarily of finite size. The loop therefore stops when each\n",
        "element of the iterable has been traversed.\n",
        "\n",
        "In a `while` loop on the contrary, the stopping criterion is given by\n",
        "a logical condition, so it is the user who must set the\n",
        "stopping criterion. In the example, for the loop to stop, it is necessary\n",
        "that the condition `i <= 5` becomes `False`, that is to say that `i`\n",
        "becomes strictly greater than $5$. We ensured this by\n",
        "initializing `i` to $1$ before the loop begins, then incrementing\n",
        "`i` by one at each iteration.\n",
        "\n",
        "What happens if we forget to increment `i`? The stopping criterion\n",
        "is never reached, so the loop is infinite, and you have to use the\n",
        "Jupyter “Stop” button (black square) to stop the program in\n",
        "course. Let's check this by incrementing the bad variable."
      ]
    },
    {
      "cell_type": "code",
      "execution_count": 15,
      "id": "f1d74e71",
      "metadata": {},
      "outputs": [
        {
          "ename": "KeyboardInterrupt",
          "evalue": "",
          "output_type": "error",
          "traceback": [
            "\u001b[1;31m---------------------------------------------------------------------------\u001b[0m",
            "\u001b[1;31mKeyboardInterrupt\u001b[0m                         Traceback (most recent call last)",
            "Cell \u001b[1;32mIn[15], line 3\u001b[0m\n\u001b[0;32m      1\u001b[0m i \u001b[39m=\u001b[39m \u001b[39m1\u001b[39m\n\u001b[0;32m      2\u001b[0m j \u001b[39m=\u001b[39m \u001b[39m1\u001b[39m\n\u001b[1;32m----> 3\u001b[0m \u001b[39mwhile\u001b[39;00m i \u001b[39m<\u001b[39m\u001b[39m=\u001b[39m \u001b[39m5\u001b[39m:\n\u001b[0;32m      4\u001b[0m     j \u001b[39m=\u001b[39m j \u001b[39m+\u001b[39m \u001b[39m1\u001b[39m\n",
            "\u001b[1;31mKeyboardInterrupt\u001b[0m: "
          ]
        }
      ],
      "source": [
        "i = 1\n",
        "j = 1\n",
        "while i <= 5:\n",
        "    j = j + 1"
      ]
    },
    {
      "cell_type": "markdown",
      "id": "18e6e772-5d04-47b8-a689-97e1dca8a3e6",
      "metadata": {},
      "source": [
        "So when you feel that a `while` loop is taking too long to\n",
        "turn, we must consider the hypothesis that we have fallen into a\n",
        "infinite loop, and check that the stopping criterion is achievable.\n",
        "\n",
        "### The `break` statement\n",
        "\n",
        "An alternative way to specify a stopping criterion is to use\n",
        "the `break` instruction. When this instruction is reached and\n",
        "executed, the loop is immediately interrupted.\n",
        "\n",
        "Let's illustrate how it works with an example. The first line\n",
        "creates an infinite loop, since by definition `True` is\n",
        "always evaluates to `True`. The program then asks the user\n",
        "to type a first name, and this infinitely until the user types the\n",
        "expected first name. In this case only, the `break` instruction is\n",
        "reached and the loop stops. The message “Welcome <your_first_name>”\n",
        "is finally displayed, since the second `print` is not included\n",
        "in the loop."
      ]
    },
    {
      "cell_type": "code",
      "execution_count": 16,
      "id": "a4d93153",
      "metadata": {},
      "outputs": [
        {
          "name": "stdout",
          "output_type": "stream",
          "text": [
            "Veuillez entrer votre prénom.\n",
            "Veuillez entrer votre prénom.\n",
            "Bienvenue Romain\n"
          ]
        }
      ],
      "source": [
        "votre_prenom = \"Romain\"\n",
        "\n",
        "while True:\n",
        "    print(\"Veuillez entrer votre prénom.\")\n",
        "    prenom = input()\n",
        "    if prenom == votre_prenom:\n",
        "        break\n",
        "print(\"Bienvenue \" + votre_prenom)"
      ]
    },
    {
      "cell_type": "markdown",
      "id": "5aaafc8a-a7ad-4d23-b85a-6f320d512ffa",
      "metadata": {},
      "source": [
        "It is important to note that a `break` statement only terminates the\n",
        "loop of a level directly above it. In the case of a loop\n",
        "At several levels, it is entirely possible that operations\n",
        "continue even when a `break` statement has been reached.\n",
        "\n",
        "Let us illustrate this principle with an example."
      ]
    },
    {
      "cell_type": "code",
      "execution_count": 17,
      "id": "520f1f26",
      "metadata": {},
      "outputs": [
        {
          "name": "stdout",
          "output_type": "stream",
          "text": [
            "Break.\n",
            "Break.\n",
            "Break.\n",
            "Break.\n",
            "Break.\n",
            "Break.\n"
          ]
        }
      ],
      "source": [
        "i = 0\n",
        "while i <= 5:\n",
        "    for j in range(5):\n",
        "        if j == 2:\n",
        "            print(\"Break.\")\n",
        "            break\n",
        "    i += 1"
      ]
    },
    {
      "cell_type": "markdown",
      "id": "e5a2c3d3-05d2-4210-a801-4a1f1abfc519",
      "metadata": {},
      "source": [
        "At each iteration of the `while` loop, a `for` loop is launched,\n",
        "which reaches a `break` statement on the third iteration (when\n",
        "`j` is 2). This has the effect of terminating the `for` loop, but not\n",
        "to the `while` loop, which executes the rest of its instructions\n",
        "(incrementing `i` by one) before moving on to iteration\n",
        "next.\n",
        "\n",
        "### The `continue` statement\n",
        "\n",
        "The `continue` instruction allows you to move on to the next iteration of the\n",
        "loop.\n",
        "\n",
        "Let's expand on the previous example to illustrate how it works.\n",
        "that a first name different from the expected one is entered, the instruction\n",
        "`continue` is evaluated, and the program continues to ask for a first name.\n",
        "the user. When the correct first name is entered, the program asks\n",
        "the user to enter a password. If the password is the one\n",
        "expected, the `break` statement is reached and executed, the loop\n",
        "stops. If the password is incorrect, however, the loop\n",
        "restarts at the beginning of the execution block, so you have to enter again\n",
        "a first name before the password."
      ]
    },
    {
      "cell_type": "code",
      "execution_count": 19,
      "id": "d1f86929",
      "metadata": {},
      "outputs": [
        {
          "name": "stdout",
          "output_type": "stream",
          "text": [
            "Veuillez entrer votre prénom.\n",
            "Veuillez entrer votre prénom.\n",
            "Veuillez entrer votre mot de passe.\n",
            "Veuillez entrer votre prénom.\n",
            "Veuillez entrer votre mot de passe.\n",
            "Bienvenue Rita\n"
          ]
        }
      ],
      "source": [
        "votre_prenom = \"Rita\"\n",
        "\n",
        "while True:\n",
        "    print(\"Veuillez entrer votre prénom.\")\n",
        "    prenom = input()\n",
        "    if prenom != votre_prenom:\n",
        "        continue\n",
        "    print(\"Veuillez entrer votre mot de passe.\")\n",
        "    mdp = input()\n",
        "    if mdp == \"insee2021\":\n",
        "        break\n",
        "print(\"Bienvenue \" + votre_prenom)"
      ]
    },
    {
      "cell_type": "markdown",
      "id": "a48b4422-c0f1-4ac3-98ef-e97116c47cc1",
      "metadata": {},
      "source": [
        "NB: the above code is only an example. As we will see\n",
        "in a future tutorial on good coding practices, we should not\n",
        "**never write secrets (passwords, tokens, etc.) in plain text in your\n",
        "code.**\n",
        "\n",
        "## Exercises\n",
        "\n",
        "### Comprehension questions\n",
        "\n",
        "- 1/ How does a `for` loop work?\n",
        "\n",
        "- 2/ The iteration variable defined during a `for` loop\n",
        "does it persist in memory after the loop is complete?\n",
        "\n",
        "- 3/ What does the `range` function do? Why is it particularly\n",
        "useful in `for` loops?\n",
        "\n",
        "- 4/ What does the `enumerate` function do? Why is it\n",
        "particularly useful in `for` loops?\n",
        "\n",
        "- 5/ How does a `while` loop work?\n",
        "\n",
        "- 6/ When does a `while` loop stop? How does this differ from\n",
        "`for` loops?\n",
        "\n",
        "- 7/ What does the `break` instruction do?\n",
        "\n",
        "- 8/ What does the `continue` instruction do?"
      ]
    },
    {
      "cell_type": "markdown",
      "id": "e8fe37c6-a11f-4d60-9835-ba2fdcaf0264",
      "metadata": {},
      "source": [
        "<details>\n",
        "\n",
        "<summary>\n",
        "\n",
        "Show solution\n",
        "\n",
        "</summary>\n",
        "\n",
        "1/ A `for` loop defines an iteration variable that will go through\n",
        "each element of an iterable object. At each iteration, a series\n",
        "instructions are carried out.\n",
        "\n",
        "2/ Yes, and its final value is equal to the last value of the object\n",
        "iterable.\n",
        "\n",
        "3/ The `range(n)` function creates an iterable object that contains all the\n",
        "integers between 0 and n-1. It is widely used as an iterable\n",
        "in `for` loops because it allows you to iterate over a sequence\n",
        "of integers without having to put it in a list by hand.\n",
        "\n",
        "4/ The `enumerate` function applied to an iterable object returns a\n",
        "new iterable object that contains all the pairs (index,\n",
        "element) associated with the initial object, in the form of tuples. In the framework\n",
        "of a `for` loop, it allows you to iterate over the elements of a\n",
        "iterable and on the positions of these elements.\n",
        "\n",
        "5/ A `while` loop executes a series of instructions in a\n",
        "repeated as long as the specified logical condition evaluates to True.\n",
        "\n",
        "6/ A `while` loop stops as soon as the logical condition\n",
        "specified evaluates to False. If this case never occurs, a loop\n",
        "`while` can therefore be infinite. Conversely, a `for` loop can be\n",
        "very long but never infinite, insofar as it stops as soon as\n",
        "when she has finished browsing the object.\n",
        "\n",
        "7/ The `break` instruction forces the loop of the directly higher level\n",
        "to end.\n",
        "\n",
        "8/ The `continue` instruction forces the level loop directly\n",
        "higher to move on to the next iteration.\n",
        "\n",
        "</details>"
      ]
    },
    {
      "cell_type": "markdown",
      "id": "49e9c490-2ec9-42c5-9f55-95e168d621c2",
      "metadata": {},
      "source": [
        "### Predicting `while` loop results\n",
        "\n",
        "Try to predict what the following `while` loops will produce,\n",
        "and check your results."
      ]
    },
    {
      "cell_type": "code",
      "execution_count": null,
      "id": "090850f4",
      "metadata": {},
      "outputs": [],
      "source": [
        "# 1. - 0 infinite\n",
        "i = 0\n",
        "while i <= 10:\n",
        "    print(i)\n",
        "    \n",
        "# 2. - Condition d'arrêt atteinte. * 3\n",
        "a = 1\n",
        "while (a < 10):\n",
        "    a += 1\n",
        "    if a == 5:\n",
        "        break\n",
        "    print(\"Condition d'arrêt atteinte.\")\n",
        "    \n",
        "# 3. - nothing happens\n",
        "while False:\n",
        "    print(\"hello world\")\n",
        "\n",
        "# 4. - hello world\n",
        "while True:\n",
        "    print(\"hello world\")\n",
        "    break\n",
        "\n",
        "# 5. - nothing happens, stays infinitely on the loop\n",
        "while 5 >= 3:\n",
        "    continue\n",
        "    print(\"hello world\")"
      ]
    },
    {
      "cell_type": "code",
      "execution_count": 49,
      "id": "9056a0b7",
      "metadata": {},
      "outputs": [
        {
          "ename": "KeyboardInterrupt",
          "evalue": "",
          "output_type": "error",
          "traceback": [
            "\u001b[1;31m---------------------------------------------------------------------------\u001b[0m",
            "\u001b[1;31mKeyboardInterrupt\u001b[0m                         Traceback (most recent call last)",
            "Cell \u001b[1;32mIn[49], line 4\u001b[0m\n\u001b[0;32m      1\u001b[0m \u001b[39m# Test your answer in this cell\u001b[39;00m\n\u001b[0;32m      3\u001b[0m \u001b[39mwhile\u001b[39;00m \u001b[39m5\u001b[39m \u001b[39m>\u001b[39m\u001b[39m=\u001b[39m \u001b[39m3\u001b[39m:\n\u001b[1;32m----> 4\u001b[0m     \u001b[39mcontinue\u001b[39;00m\n\u001b[0;32m      5\u001b[0m     \u001b[39mprint\u001b[39m(\u001b[39m\"\u001b[39m\u001b[39mhello world\u001b[39m\u001b[39m\"\u001b[39m)\n",
            "\u001b[1;31mKeyboardInterrupt\u001b[0m: "
          ]
        }
      ],
      "source": [
        "# Test your answer in this cell\n",
        "\n",
        "while 5 >= 3:\n",
        "    continue\n",
        "    print(\"hello world\")"
      ]
    },
    {
      "cell_type": "markdown",
      "id": "441b5687-6177-4ed7-a72f-068871ed629b",
      "metadata": {},
      "source": [
        "<details>\n",
        "\n",
        "<summary>\n",
        "\n",
        "Show solution\n",
        "\n",
        "</summary>\n",
        "\n",
        "- 1. Infinite loop because the i is never incremented, the condition\n",
        "is therefore always verified. 0 will print to infinity.\n",
        "- 1. The loop will stop at the 4th iteration, when a is 5.\n",
        "However, the print is badly indented =\\> it will print 3 times\n",
        "instead of 1.\n",
        "- 1. False evaluates to False =\\> the loop does not execute at all.\n",
        "No output.\n",
        "- 1. True evaluates to True =\\> the loop is theoretically infinite, but\n",
        "there is a break. So there will be only one iteration, that is a\n",
        "only print of “hello world”\n",
        "- 1. 5 \\>= 3 evaluates to True =\\> the loop is infinite. The continue is\n",
        "executed at each iteration before the print can\n",
        "to run. The loop runs infinitely, but with no output.\n",
        "\n",
        "</details>"
      ]
    },
    {
      "cell_type": "markdown",
      "id": "e2782e02-56f1-43de-9ca3-9e89db1c7b3f",
      "metadata": {},
      "source": [
        "### Effect of an indentation error\n",
        "\n",
        "Source :\n",
        "[python.sdv.univ-paris-diderot.fr](https://python.sdv.univ-paris-diderot.fr/06_tests/)\n",
        "\n",
        "In order to visualize the importance of indentation in blocks\n",
        "instruction, try to predict what will return respectively\n",
        "the following two programs. Which one has the expected effect?"
      ]
    },
    {
      "cell_type": "code",
      "execution_count": 50,
      "id": "a0d316d8",
      "metadata": {},
      "outputs": [
        {
          "name": "stdout",
          "output_type": "stream",
          "text": [
            "Le test est vrai\n",
            "because the variable nb is worth 5\n"
          ]
        }
      ],
      "source": [
        "nombres = [4, 5, 6]\n",
        "for nb in nombres:\n",
        "    if nb == 5:\n",
        "        print(\"Le test est vrai\")\n",
        "        print(f\"because the variable nb is worth {nb}\")"
      ]
    },
    {
      "cell_type": "code",
      "execution_count": 28,
      "id": "5757b30d",
      "metadata": {},
      "outputs": [
        {
          "name": "stdout",
          "output_type": "stream",
          "text": [
            "because the variable nb is worth 4\n",
            "Le test est vrai\n",
            "because the variable nb is worth 5\n",
            "because the variable nb is worth 6\n"
          ]
        }
      ],
      "source": [
        "nombres = [4, 5, 6]\n",
        "for nb in nombres:\n",
        "    if nb == 5:\n",
        "        print(\"Le test est vrai\")\n",
        "    print(f\"because the variable nb is worth {nb}\")"
      ]
    },
    {
      "cell_type": "code",
      "execution_count": 29,
      "id": "81395522",
      "metadata": {},
      "outputs": [
        {
          "name": "stdout",
          "output_type": "stream",
          "text": [
            "Le test est vrai\n",
            "because the variable nb is worth 6\n"
          ]
        }
      ],
      "source": [
        "# Test your answer in this cell\n",
        "nombres = [4, 5, 6]\n",
        "for nb in nombres:\n",
        "    if nb == 5:\n",
        "        print(\"Le test est vrai\")\n",
        "print(f\"because the variable nb is worth {nb}\")"
      ]
    },
    {
      "cell_type": "markdown",
      "id": "c92bb84d-61ae-4660-adce-d312d8835b59",
      "metadata": {},
      "source": [
        "<details>\n",
        "\n",
        "<summary>\n",
        "\n",
        "Show solution\n",
        "\n",
        "</summary>\n",
        "\n",
        "The first program is correct. In the second, the second `print`\n",
        "is not properly indented. As a result, it runs every\n",
        "iteration and not just when `nb == 5`.\n",
        "\n",
        "</details>"
      ]
    },
    {
      "cell_type": "markdown",
      "id": "69c9fa6d-6033-48e9-aad2-440c8f5b1dc9",
      "metadata": {},
      "source": [
        "### Convert a `for` loop to a `while` loop\n",
        "\n",
        "Rewrite the following `for` loop using a `while` loop."
      ]
    },
    {
      "cell_type": "code",
      "execution_count": null,
      "id": "c505ac2f",
      "metadata": {},
      "outputs": [],
      "source": [
        "gamme = ['do', 're', 'mi', 'fa', 'sol', 'la', 'si']\n",
        "\n",
        "for i, note in enumerate(gamme):\n",
        "    print(\"La note numéro \" + str(i) + \" de la gamme de do majeur est \" + note)"
      ]
    },
    {
      "cell_type": "code",
      "execution_count": 33,
      "id": "7a55a039",
      "metadata": {},
      "outputs": [
        {
          "name": "stdout",
          "output_type": "stream",
          "text": [
            "La note numéro 0 de la gamme de do majeur est do\n",
            "La note numéro 1 de la gamme de do majeur est re\n",
            "La note numéro 2 de la gamme de do majeur est mi\n",
            "La note numéro 3 de la gamme de do majeur est fa\n",
            "La note numéro 4 de la gamme de do majeur est sol\n",
            "La note numéro 5 de la gamme de do majeur est la\n",
            "La note numéro 6 de la gamme de do majeur est si\n"
          ]
        }
      ],
      "source": [
        "# Test your answer in this cell\n",
        "gamme = ['do', 're', 'mi', 'fa', 'sol', 'la', 'si']\n",
        "\n",
        "number_of_notes = len(gamme)\n",
        "\n",
        "n = 0\n",
        "while n < number_of_notes:\n",
        "    print(\"La note numéro \" + str(n) + \" de la gamme de do majeur est \" + gamme[n])\n",
        "    n += 1\n"
      ]
    },
    {
      "cell_type": "markdown",
      "id": "c1274874-b0a1-4efa-aef3-2bbaff971474",
      "metadata": {},
      "source": [
        "<details>\n",
        "\n",
        "<summary>\n",
        "\n",
        "Show solution\n",
        "\n",
        "</summary>\n",
        "\n",
        "``` python\n",
        "gamme = ['do', 're', 'mi', 'fa', 'sol', 'la', 'si']\n",
        "\n",
        "i = 0\n",
        "while i <= (len(gamme) - 1):\n",
        "    # On soustrait 1 à la longueur de `gamme` car l'index maximal est 6\n",
        "    print(\"La note numéro \" + str(i) + \" de la gamme de do majeur est \" + gamme[i])\n",
        "    i += 1\n",
        "```\n",
        "\n",
        "</details>"
      ]
    },
    {
      "cell_type": "markdown",
      "id": "bc76075a-af14-490a-aa97-ddcacc433579",
      "metadata": {},
      "source": [
        "### Searching for an element in a list\n",
        "\n",
        "Let a target integer `n_target` and a list of integers `l` be such that\n",
        "defined in the next cell. Using a `for` loop and the\n",
        "`enumerate` function:\n",
        "\n",
        "- check if the target integer is present in the list `l`.\n",
        "\n",
        "- if yes, display the message ‘The number `n_target` is at position\n",
        "`i` from the list’, and end the loop."
      ]
    },
    {
      "cell_type": "code",
      "execution_count": 38,
      "id": "6cb9918f",
      "metadata": {},
      "outputs": [
        {
          "name": "stdout",
          "output_type": "stream",
          "text": [
            "The number 78 is at position 4 from the list\n"
          ]
        }
      ],
      "source": [
        "n_cible = 78\n",
        "\n",
        "l = [12, 98, 65, 39, 78, 55, 119, 27, 33]\n",
        "\n",
        "for i, n in enumerate(l):\n",
        "    if n == n_cible:\n",
        "        print(\"The number \" + str(n) + \" is at position \" + str(i) + \" from the list\")\n",
        "        break\n",
        "    else:\n",
        "        i += 1"
      ]
    },
    {
      "cell_type": "code",
      "execution_count": null,
      "id": "b192ef64",
      "metadata": {},
      "outputs": [],
      "source": [
        "# Test your answer in this cell"
      ]
    },
    {
      "cell_type": "markdown",
      "id": "b16f0242-e1f0-4319-80ce-fb3338472e20",
      "metadata": {},
      "source": [
        "<details>\n",
        "\n",
        "<summary>\n",
        "\n",
        "Show solution\n",
        "\n",
        "</summary>\n",
        "\n",
        "``` python\n",
        "n_cible = 78\n",
        "\n",
        "l = [12, 98, 65, 39, 78, 55, 119, 27, 33]\n",
        "\n",
        "for i, n in enumerate(l):\n",
        "    if n == n_cible:\n",
        "        print(\"Le nombre \" + str(n) + \" est à la position \" + str(i) + \" de la liste.\")\n",
        "        break\n",
        "\n",
        "# NB : version plus efficiente sans boucle\n",
        "if n_cible in l:\n",
        "    pos = l.index(n_cible)\n",
        "    print(\"Le nombre \" + str(n_cible) + \" est à la position \" + str(pos) + \" de la liste.\")\n",
        "```\n",
        "\n",
        "</details>"
      ]
    },
    {
      "cell_type": "markdown",
      "id": "ac98ffd3-94fe-4358-8d41-237056b794d1",
      "metadata": {},
      "source": [
        "### Fibonacci Sequence\n",
        "\n",
        "The Fibonacci sequence is defined as follows:\n",
        "\n",
        "- the first two numbers are 0 and 1\n",
        "\n",
        "- each other number in the sequence is obtained by adding the two\n",
        "numbers preceding it\n",
        "\n",
        "Write a program to calculate the first $n$ terms of the\n",
        "following using a `for` loop."
      ]
    },
    {
      "cell_type": "code",
      "execution_count": 82,
      "id": "2bb651b3",
      "metadata": {},
      "outputs": [
        {
          "name": "stdout",
          "output_type": "stream",
          "text": [
            "How many terms of the Fibonacci sequence would you like to be calculated?\n",
            "The first 10terms of the Fibonacci sequence are: \n",
            "[0, 1, 1, 2, 3, 5, 8, 13, 21, 34]\n"
          ]
        }
      ],
      "source": [
        "# Test your answer in this cell\n",
        "\n",
        "print(\"How many terms of the Fibonacci sequence would you like to be calculated?\")\n",
        "numberOfTerms = int(input())\n",
        "\n",
        "firstTerm = 0\n",
        "secondTerm = 1\n",
        "Fibonacci = [firstTerm, secondTerm]\n",
        "\n",
        "n = 2\n",
        "while n < numberOfTerms: #Assuming the answer will be 3 or more\n",
        "   Fibonacci.append(Fibonacci[n-1] + Fibonacci[n-2])\n",
        "   n += 1\n",
        "\n",
        "#print(\"The first \" + str(numberOfTerms) + \" terms of the Fibonacci sequence are: \" + \"\".join(str(x) for x in Fibonacci))\n",
        "print(\"The first \" + str(numberOfTerms) + \"terms of the Fibonacci sequence are: \") \n",
        "print(Fibonacci)\n"
      ]
    },
    {
      "cell_type": "markdown",
      "id": "7661e3e7-18b3-4b2b-93d9-dae6f2bd2a92",
      "metadata": {},
      "source": [
        "<details>\n",
        "\n",
        "<summary>\n",
        "\n",
        "Show solution\n",
        "\n",
        "</summary>\n",
        "\n",
        "``` python\n",
        "n_termes = 20\n",
        "num1 = 0\n",
        "num2 = 1\n",
        "\n",
        "for i in range(n_termes):\n",
        "    print(num1)\n",
        "    num3 = num1 + num2\n",
        "    num1 = num2\n",
        "    num2 = num3\n",
        "```\n",
        "\n",
        "</details>"
      ]
    },
    {
      "cell_type": "markdown",
      "id": "57b7f3be-0d53-47e6-8b76-8a2b79fe753a",
      "metadata": {},
      "source": [
        "### Multiplication Tables Dictionary\n",
        "\n",
        "Using two nested `for` loops, build a dictionary\n",
        "`tables` allowing you to do multiplication tables up to\n",
        "table of 12. Query your dictionary to check its relevance.\n",
        "\n",
        "Here are some examples of queries your dictionary should return:\n",
        "\n",
        "- tables\\[2\\]\\[3\\] -\\> 6\n",
        "\n",
        "- tables\\[9\\]\\[5\\] -\\> 45\n",
        "\n",
        "- tables\\[12\\]\\[7\\] -\\> 84"
      ]
    },
    {
      "cell_type": "code",
      "execution_count": 83,
      "id": "3e755b84",
      "metadata": {},
      "outputs": [
        {
          "name": "stdout",
          "output_type": "stream",
          "text": [
            "12\n"
          ]
        }
      ],
      "source": [
        "# Test your answer in this cell\n",
        "\n",
        "tables = {}\n",
        "\n",
        "for i in range(13):\n",
        "    tables[i] = {}\n",
        "    for j in range(13):\n",
        "        tables[i][j] = i*j\n",
        "        \n",
        "print(tables[3][4])"
      ]
    },
    {
      "cell_type": "markdown",
      "id": "3410b434-aa75-4387-9446-9523de428201",
      "metadata": {},
      "source": [
        "<details>\n",
        "\n",
        "<summary>\n",
        "\n",
        "Show solution\n",
        "\n",
        "</summary>\n",
        "\n",
        "``` python\n",
        "tables = {}\n",
        "\n",
        "for i in range(13):\n",
        "    tables[i] = {}\n",
        "    for j in range(13):\n",
        "        tables[i][j] = i*j\n",
        "\n",
        "print(tables[2][3])\n",
        "print(tables[9][5])\n",
        "print(tables[12][7])\n",
        "```\n",
        "\n",
        "</details>"
      ]
    },
    {
      "cell_type": "markdown",
      "id": "7fe997ff-769e-4721-b1b3-11856e9b4abc",
      "metadata": {},
      "source": [
        "### Calculating the minimum and maximum of a series “by hand”\n",
        "\n",
        "Calculate the minimum and maximum of the following series of values, without\n",
        "use Python's `min` and `max` functions.\n",
        "\n",
        "x = \\[8, 18, 6, 0, 15, 17.5, 9, 1\\]"
      ]
    },
    {
      "cell_type": "code",
      "execution_count": 47,
      "id": "818bc857",
      "metadata": {},
      "outputs": [
        {
          "name": "stdout",
          "output_type": "stream",
          "text": [
            "The minimum value in the sequence x is 0 and the maximum value is 18.\n"
          ]
        }
      ],
      "source": [
        "# Test your answer in this cell\n",
        "x = [8, 18, 6, 0, 15, 17.5, 9, 1]\n",
        "\n",
        "min = x[0] # Because if we take 0 as minimum, ans 0 is not in the sequence, it will return the wrong answer.\n",
        "max = x[0]\n",
        "\n",
        "for i in x:\n",
        "    if i < min:\n",
        "        min = i\n",
        "    if i > max:\n",
        "        max = i\n",
        "\n",
        "print(\"The minimum value in the sequence x is \" + str(min) + \" and the maximum value is \" + str(max) + \".\")"
      ]
    },
    {
      "cell_type": "markdown",
      "id": "abeadaed-9f9c-4b9a-a527-9bd0f69beb41",
      "metadata": {},
      "source": [
        "<details>\n",
        "\n",
        "<summary>\n",
        "\n",
        "Show solution\n",
        "\n",
        "</summary>\n",
        "\n",
        "``` python\n",
        "x = [8, 18, 6, 0, 15, 17.5, 9, 1]\n",
        "\n",
        "current_min = x[0]\n",
        "current_max = x[0]\n",
        "for n in x[1:]:\n",
        "    if n <= current_min:\n",
        "        current_min = n\n",
        "    if n >= current_max:\n",
        "        current_max = n\n",
        "\n",
        "print(current_min == min(x))\n",
        "print(current_max == max(x))\n",
        "```\n",
        "\n",
        "</details>"
      ]
    },
    {
      "cell_type": "markdown",
      "id": "c88967f8-8992-4c36-938f-d0dd536c4d6e",
      "metadata": {},
      "source": [
        "### Calculating mean and variance “by hand”\n",
        "\n",
        "Calculate the mean and variance of the following series of values,\n",
        "without using already coded functions:\n",
        "\n",
        "x = \\[8, 18, 6, 0, 15, 17.5, 9, 1\\]\n",
        "\n",
        "As a reminder, the formulas are:\n",
        "\n",
        "- average: $$\\bar{x} = {\\frac {1}{n}}\\sum_{i=1}^{n}x_{i}$$\n",
        "\n",
        "- variance:\n",
        "$$\\sigma^2 = {\\frac {1}{n}}\\sum_{i=1}^{n} (x_{i}-\\bar{x})^2$$\n",
        "\n",
        "NB:\n",
        "\n",
        "- n to the power of k is written in Python as `n**k`\n",
        "\n",
        "- in practice, you should definitely not try to recode this yourself\n",
        "kind of functions, but use functions from packages\n",
        "adapted, like `numpy`."
      ]
    },
    {
      "cell_type": "code",
      "execution_count": 88,
      "id": "02dd07d1",
      "metadata": {},
      "outputs": [
        {
          "name": "stdout",
          "output_type": "stream",
          "text": [
            "The average of x is: 9.3125 and the variance is: 42.93359375.\n"
          ]
        }
      ],
      "source": [
        "# Test your answer in this cell\n",
        "\n",
        "x = [8, 18, 6, 0, 15, 17.5, 9, 1]\n",
        "numberOfElements = len(x)\n",
        "\n",
        "sum = 0\n",
        "for i in x:\n",
        "    sum += i\n",
        "\n",
        "average = sum / numberOfElements\n",
        "\n",
        "sum2 = 0\n",
        "for i in x:\n",
        "    sum2 += (i - average)**2\n",
        "\n",
        "variance = sum2 / numberOfElements\n",
        "\n",
        "print(\"The average of x is: \" + str(average) + \" and the variance is: \" + str(variance) + \".\")"
      ]
    },
    {
      "cell_type": "markdown",
      "id": "eda7bfd6-263c-4f50-86b3-6f0e8e9c3e7c",
      "metadata": {},
      "source": [
        "<details>\n",
        "\n",
        "<summary>\n",
        "\n",
        "Show solution\n",
        "\n",
        "</summary>\n",
        "\n",
        "``` python\n",
        "x = [8, 18, 6, 0, 15, 17.5, 9, 1]\n",
        "n = len(x)\n",
        "\n",
        "somme_moy = 0\n",
        "for x_i in x:\n",
        "    somme_moy += x_i\n",
        "moyenne = somme_moy / n\n",
        "\n",
        "somme_var = 0\n",
        "for x_i in x:\n",
        "    somme_var += (x_i - moyenne)**2\n",
        "variance = somme_var / n\n",
        "\n",
        "print(moyenne)\n",
        "print(variance)\n",
        "\n",
        "# Vérification avec les fonctions du package numpy\n",
        "import numpy as np\n",
        "print(np.mean(x))\n",
        "print(np.var(x))\n",
        "```\n",
        "\n",
        "</details>"
      ]
    },
    {
      "cell_type": "markdown",
      "id": "87434359-a50b-40f9-a3d0-a854e789aea7",
      "metadata": {},
      "source": [
        "### Advanced usage of the `range` function\n",
        "\n",
        "We saw above the basic usage of the `range` function:\n",
        "`range(n)` creates an iterable object that contains the set of integers in\n",
        "$0$ to $n-1$. The possible uses of this function are however more\n",
        "complete, and sometimes useful in the context of specific problems.\n",
        "\n",
        "The full syntax of the function is `range(start, stop, step)` where:\n",
        "\n",
        "- `start` is the integer from which the sequence of integers begins\n",
        "\n",
        "- `stop` is the integer before which the sequence of integers ends\n",
        "\n",
        "- `step` is the step, i.e. the increment value between each integer\n",
        "of the sequence.\n",
        "\n",
        "Only the `stop` parameter is mandatory, it is the one that is used\n",
        "when calling `range(n)`.\n",
        "\n",
        "Using the `range` function, display:\n",
        "\n",
        "- the set of integers from 0 to 10 (excluding 10)\n",
        "\n",
        "- the set of integers from 10 to 20 (20 inclusive)\n",
        "\n",
        "- all even numbers between 30 and 40 (40 inclusive)\n",
        "\n",
        "- all multiples of 10 between 1 and 100 (excluding 100)\n",
        "\n",
        "- the set of integers from 10 to 20 (20 inclusive), in reverse order\n",
        "(from 20 to 10)"
      ]
    },
    {
      "cell_type": "code",
      "execution_count": 100,
      "id": "2c52a0c8",
      "metadata": {},
      "outputs": [
        {
          "name": "stdout",
          "output_type": "stream",
          "text": [
            "[20, 19, 18, 17, 16, 15, 14, 13, 12, 11, 10]\n"
          ]
        }
      ],
      "source": [
        "# Test your answer in this cell\n",
        "numbers = []\n",
        "\n",
        "#for i in range(0, 10): \n",
        "    #numbers.append(i)\n",
        "#print(numbers)\n",
        "\n",
        "#for i in range(10, 21): \n",
        "    #numbers.append(i)\n",
        "#print(numbers)\n",
        "\n",
        "#for i in range(30, 41):\n",
        " #   if i % 2 == 0:\n",
        "  #      numbers.append(i)\n",
        "#print(numbers)\n",
        "\n",
        "#for i in range(0, 99, 10):\n",
        " #   numbers.append(i)\n",
        "#print(numbers)\n",
        "\n",
        "for i in range(20, 9, -1):\n",
        "   numbers.append(i)\n",
        "print(numbers)"
      ]
    },
    {
      "cell_type": "markdown",
      "id": "c0b125a6-bbc8-4c11-ba2a-bfd3e9622037",
      "metadata": {},
      "source": [
        "<details>\n",
        "\n",
        "<summary>\n",
        "\n",
        "Show solution\n",
        "\n",
        "</summary>\n",
        "\n",
        "``` python\n",
        "print(list(range(10)))\n",
        "\n",
        "print(list(range(10, 21)))\n",
        "\n",
        "print(list(range(30, 41, 2)))\n",
        "\n",
        "print(list(range(10, 100, 10)))\n",
        "\n",
        "print(list(range(20, 9, -1)))\n",
        "```\n",
        "\n",
        "</details>"
      ]
    },
    {
      "cell_type": "markdown",
      "id": "3996525e-06af-40d3-a215-702e53bb3b5d",
      "metadata": {},
      "source": [
        "### The Right Price, Improved Version\n",
        "\n",
        "In the previous tutorial we coded a price-matching game. But\n",
        "It was a bit limited, since you had to re-run the code every time\n",
        "stage of the game. Using loops, rewrite the game in such a way\n",
        "fully automatic.\n",
        "\n",
        "Reminder of the rules:\n",
        "\n",
        "**Using `input` and `if`, `elif` and `else` statements**,\n",
        "code the following program:\n",
        "\n",
        "- ask the user for a value, which will be stored in a\n",
        "variable `p`\n",
        "\n",
        "- if `p` is strictly less than $15$, print (with the function\n",
        "`print`) the message “too low!”.\n",
        "\n",
        "- if `p` is strictly greater than $15$, print the message “too\n",
        "high !\".\n",
        "\n",
        "- if `p` is equal to $15$, print the message “spot on!”\n",
        "\n",
        "Be careful, `input` returns a string by default. You must\n",
        "so convert the value of `p` to integer format (via the `int` function)\n",
        "for the game to work."
      ]
    },
    {
      "cell_type": "code",
      "execution_count": 104,
      "id": "69b3ed12",
      "metadata": {},
      "outputs": [
        {
          "name": "stdout",
          "output_type": "stream",
          "text": [
            "Which value do think is correct?\n",
            "too low\n",
            "Which value do think is correct?\n",
            "too low\n",
            "Which value do think is correct?\n",
            "too high!\n",
            "Which value do think is correct?\n",
            "spot on!\n"
          ]
        }
      ],
      "source": [
        "# Test your answer in this cell\n",
        "correct_answer = 15\n",
        "\n",
        "while True:\n",
        "    print(\"Which value do think is correct?\")\n",
        "    p = int(input())\n",
        "    if p < 15:\n",
        "        print(\"too low\")\n",
        "    elif p > 15:\n",
        "        print(\"too high!\")\n",
        "    else:\n",
        "        print(\"spot on!\")\n",
        "        break\n"
      ]
    },
    {
      "cell_type": "markdown",
      "id": "3d8912fd-dbca-4334-b870-b24fe363c9e6",
      "metadata": {},
      "source": [
        "<details>\n",
        "\n",
        "<summary>\n",
        "\n",
        "Show solution\n",
        "\n",
        "</summary>\n",
        "\n",
        "``` python\n",
        "juste_prix = 15\n",
        "\n",
        "while True:\n",
        "    print(\"Proposer un nombre entre 1 et 50.\")\n",
        "    p = input()\n",
        "    p = int(p)\n",
        "    if p < juste_prix:\n",
        "        print(\"trop bas !\")\n",
        "    elif p > juste_prix:\n",
        "        print(\"trop haut !\")\n",
        "    else:\n",
        "        break\n",
        "\n",
        "print(\"dans le mille !\")\n",
        "```\n",
        "\n",
        "</details>"
      ]
    }
  ],
  "metadata": {
    "kernelspec": {
      "display_name": "Python 3 (ipykernel)",
      "language": "python",
      "name": "python3",
      "path": "/Users/gblin/opt/anaconda3/share/jupyter/kernels/python3"
    },
    "language_info": {
      "codemirror_mode": {
        "name": "ipython",
        "version": 3
      },
      "file_extension": ".py",
      "mimetype": "text/x-python",
      "name": "python",
      "nbconvert_exporter": "python",
      "pygments_lexer": "ipython3",
      "version": "3.11.9"
    }
  },
  "nbformat": 4,
  "nbformat_minor": 5
}
