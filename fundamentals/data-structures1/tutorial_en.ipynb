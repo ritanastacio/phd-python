{
  "cells": [
    {
      "cell_type": "markdown",
      "id": "6d745948-356d-423e-bbd0-45885400c09d",
      "metadata": {},
      "source": [
        "# Data Structures 1: Lists and Tuples\n",
        "\n",
        "In this tutorial, we will focus on structures of\n",
        "basic data in Python: **lists** and **tuples**.\n",
        "Data structures can be seen as containers because they\n",
        "allow data to be stored, organized and accessed.\n",
        "Lists and tuples are **sequential containers**: the elements\n",
        "they contain are **ordered**, and their position is recorded\n",
        "in an **index**.\n",
        "\n",
        "## Lists\n",
        "\n",
        "### Definition\n",
        "\n",
        "In the previous tutorial, we saw that strings\n",
        "were **sequences** of characters. Lists are also\n",
        "sequences, that is to say ordered series of elements, but more\n",
        "general: the elements can be of different nature.\n",
        "\n",
        "Lists are constructed with brackets **\\[\\]**, and the elements\n",
        "from the list are separated by commas.\n",
        "\n",
        "Let's assign a first list to a variable `a`:"
      ]
    },
    {
      "cell_type": "code",
      "execution_count": null,
      "id": "164385b8",
      "metadata": {},
      "outputs": [],
      "source": [
        "a = [1, 2, 3]\n",
        "print(a)"
      ]
    },
    {
      "cell_type": "markdown",
      "id": "f71b594b-cec4-4b1b-b3fe-ee5a41259c70",
      "metadata": {},
      "source": [
        "The list `a` consists of integers, but a list can in practice\n",
        "contain objects of any type."
      ]
    },
    {
      "cell_type": "code",
      "execution_count": null,
      "id": "1d5a5d51",
      "metadata": {},
      "outputs": [],
      "source": [
        "b = [\"une séquence\", 56, \"d\"]\n",
        "print(b)"
      ]
    },
    {
      "cell_type": "markdown",
      "id": "b148fa8a-6a95-475e-befe-55257ea13b1e",
      "metadata": {},
      "source": [
        "It is notably possible to create lists of lists (and thus\n",
        "suite), which allows the creation of hierarchical data structures."
      ]
    },
    {
      "cell_type": "code",
      "execution_count": null,
      "id": "dcc68fe5",
      "metadata": {},
      "outputs": [],
      "source": [
        "c = [\"une séquence\", 56, [\"cette liste est imbriquée\", 75, \"o\"]]\n",
        "print(c)"
      ]
    },
    {
      "cell_type": "markdown",
      "id": "e87796df-2259-4346-a935-7c4013506d5c",
      "metadata": {},
      "source": [
        "A nested list can also be constructed from already existing lists.\n",
        "defined."
      ]
    },
    {
      "cell_type": "code",
      "execution_count": null,
      "id": "ec4fc20a",
      "metadata": {},
      "outputs": [],
      "source": [
        "item1 = [\"cafe\", \"500g\"]\n",
        "item2 = [\"biscuits\", \"20\"]\n",
        "item3 = [\"lait\", \"1L\"]\n",
        "inventaire = [item1, item2, item3]\n",
        "print(inventaire)"
      ]
    },
    {
      "cell_type": "markdown",
      "id": "1f0099c2-8fba-4092-b9ea-8c4a4de7e0c1",
      "metadata": {},
      "source": [
        "However, we will see in the next tutorial that dictionaries are\n",
        "generally data structures that are often more suitable than the\n",
        "lists to represent data in hierarchical form.\n",
        "\n",
        "### Length of a list\n",
        "\n",
        "Like strings, it is possible to use the function\n",
        "`len` to count the number of elements in a list."
      ]
    },
    {
      "cell_type": "code",
      "execution_count": null,
      "id": "50b4a633",
      "metadata": {},
      "outputs": [],
      "source": [
        "d = [\"ceci\", \"est\", \"une\", \"liste\"]\n",
        "len(d)"
      ]
    },
    {
      "cell_type": "markdown",
      "id": "560f1f44-cd5d-4fc4-8f0e-e6a690cc7a7c",
      "metadata": {},
      "source": [
        "### Indexing\n",
        "\n",
        "Since lists are sequences, they are indexed in the same way as\n",
        "strings. It is particularly important to remember that\n",
        "Position numbering starts at 0 in Python."
      ]
    },
    {
      "cell_type": "code",
      "execution_count": null,
      "id": "3612a086",
      "metadata": {},
      "outputs": [],
      "source": [
        "# Third element of list a\n",
        "print(a[2])"
      ]
    },
    {
      "cell_type": "markdown",
      "id": "7f41b780-3799-4943-b998-789a7825c5f4",
      "metadata": {},
      "source": [
        "Of course, it is not possible to request an item that does not exist.\n",
        "no. Python returns an error telling us that the requested index is\n",
        "out of bounds."
      ]
    },
    {
      "cell_type": "code",
      "execution_count": null,
      "id": "aa0694eb",
      "metadata": {},
      "outputs": [],
      "source": [
        "print(a[5])"
      ]
    },
    {
      "cell_type": "markdown",
      "id": "530c3c42-8557-4fb3-b8bd-c5cc79e501d6",
      "metadata": {},
      "source": [
        "To index a list contained in another list, we use a\n",
        "double indexing."
      ]
    },
    {
      "cell_type": "code",
      "execution_count": null,
      "id": "2bfcc8e3",
      "metadata": {},
      "outputs": [],
      "source": [
        "# First element of the sublist which is at the second position of the list c\n",
        "print(c[2][0])"
      ]
    },
    {
      "cell_type": "markdown",
      "id": "e22b1682-4277-42e8-8db1-9172d4e587c1",
      "metadata": {},
      "source": [
        "In terms of indexing, everything that was possible on the chains\n",
        "characters is also with lists."
      ]
    },
    {
      "cell_type": "code",
      "execution_count": null,
      "id": "c7ea983e",
      "metadata": {},
      "outputs": [],
      "source": [
        "# All items from 1st position\n",
        "print(b[1:])"
      ]
    },
    {
      "cell_type": "code",
      "execution_count": null,
      "id": "73393b7c",
      "metadata": {},
      "outputs": [],
      "source": [
        "# Reverse a list\n",
        "print(a[::-1])"
      ]
    },
    {
      "cell_type": "markdown",
      "id": "29dde151-3932-4432-8074-f8f2fb846e8c",
      "metadata": {},
      "source": [
        "### Editing items\n",
        "\n",
        "It is possible to modify the elements of a list manually, with\n",
        "a syntax similar to variable assignment."
      ]
    },
    {
      "cell_type": "code",
      "execution_count": null,
      "id": "dacb9b10",
      "metadata": {},
      "outputs": [],
      "source": [
        "# Reassigning an element\n",
        "d = [1, 2, \"toto\", 4]\n",
        "d[2] = 3\n",
        "print(d)"
      ]
    },
    {
      "cell_type": "code",
      "execution_count": null,
      "id": "676727e4",
      "metadata": {},
      "outputs": [],
      "source": [
        "# Substitution of an element\n",
        "a = [1, 2, 3]\n",
        "b = [\"do\", \"re\", \"mi\"]\n",
        "b[0] = a[2]\n",
        "print(b)"
      ]
    },
    {
      "cell_type": "markdown",
      "id": "5e63563d-8ea9-44b3-be25-6d46cf79a4cc",
      "metadata": {},
      "source": [
        "### Deleting items\n",
        "\n",
        "The `del` instruction allows you to delete an element by position.\n",
        "elements that were after the deleted element therefore see their\n",
        "index reduced by 1."
      ]
    },
    {
      "cell_type": "code",
      "execution_count": null,
      "id": "d8ee2044",
      "metadata": {},
      "outputs": [],
      "source": [
        "e = [1, \"do\", 6]\n",
        "print(e)\n",
        "print(e[2])\n",
        "\n",
        "del e[1]\n",
        "print(e)\n",
        "print(e[1])"
      ]
    },
    {
      "cell_type": "markdown",
      "id": "0d730a9b-23ce-42d0-bc68-48c8b9c00846",
      "metadata": {},
      "source": [
        "### Some useful properties\n",
        "\n",
        "Here again, we find properties inherent to sequences."
      ]
    },
    {
      "cell_type": "code",
      "execution_count": null,
      "id": "45b08b89",
      "metadata": {},
      "outputs": [],
      "source": [
        "# Concatenation\n",
        "[1, 2, 3] + [\"a\", 12]"
      ]
    },
    {
      "cell_type": "code",
      "execution_count": null,
      "id": "ed691a50",
      "metadata": {},
      "outputs": [],
      "source": [
        "# Replication\n",
        "[\"a\", \"b\", \"c\"] * 3"
      ]
    },
    {
      "cell_type": "markdown",
      "id": "2b70601e-3223-4ea6-bc16-63a7b3835d1c",
      "metadata": {},
      "source": [
        "### Some useful methods\n",
        "\n",
        "Like strings, lists have many\n",
        "*built-in* methods, which are used according to the format\n",
        "`object.method(parameters)`. The most useful ones are presented below\n",
        "; other methods will be used in the final exercises\n",
        "of section."
      ]
    },
    {
      "cell_type": "code",
      "execution_count": null,
      "id": "6cb6574c",
      "metadata": {},
      "outputs": [],
      "source": [
        "# Add an item\n",
        "a = [1, 2, 3]\n",
        "a.append(4)\n",
        "print(a)"
      ]
    },
    {
      "cell_type": "code",
      "execution_count": null,
      "id": "621ea582",
      "metadata": {},
      "outputs": [],
      "source": [
        "# Delete an element by position\n",
        "b = [\"do\", \"re\", \"mi\"]\n",
        "b.pop(0)\n",
        "print(b)"
      ]
    },
    {
      "cell_type": "code",
      "execution_count": null,
      "id": "2294c732",
      "metadata": {},
      "outputs": [],
      "source": [
        "# Delete an element by value\n",
        "b = [\"do\", \"re\", \"mi\"]\n",
        "b.remove(\"mi\")\n",
        "print(b)"
      ]
    },
    {
      "cell_type": "code",
      "execution_count": null,
      "id": "eb6326de",
      "metadata": {},
      "outputs": [],
      "source": [
        "# Reverse a list\n",
        "l = [1, 2, 3, 4, 5]\n",
        "l.reverse()\n",
        "print(l)"
      ]
    },
    {
      "cell_type": "code",
      "execution_count": null,
      "id": "4560698a",
      "metadata": {},
      "outputs": [],
      "source": [
        "# Find the position of an element\n",
        "b = [\"a\", \"b\", \"c\", \"d\", \"e\"]\n",
        "b.index(\"d\")"
      ]
    },
    {
      "cell_type": "markdown",
      "id": "d2f275eb-9026-43d5-b383-fdfbd2d16b69",
      "metadata": {},
      "source": [
        "## Tuples\n",
        "\n",
        "### Definition\n",
        "\n",
        "**Tuples** are another basic data structure in Python,\n",
        "similar to that of lists in their operation. There are, however,\n",
        "a fundamental difference: where the elements of a list can\n",
        "be modified by position as seen previously, tuples are\n",
        "**non-modifiable** (*immutable*). Thus, the elements of a tuple are not\n",
        "cannot be changed without completely redefining the tuple.\n",
        "\n",
        "When is it relevant to use a tuple rather than a list?\n",
        "In practice, tuples are much less frequently used than\n",
        "lists. Tuples are commonly used to store data\n",
        "which are not intended to be modified** during the execution of our\n",
        "Python program. This helps to guard against problems\n",
        "data integrity, i.e. unwanted modification of\n",
        "input data. This sometimes saves you from long and tedious\n",
        "debugging sessions.\n",
        "\n",
        "Another difference, this time a minor one, is that tuples are written\n",
        "with **parentheses** instead of square brackets. The different elements\n",
        "are always separated by commas."
      ]
    },
    {
      "cell_type": "code",
      "execution_count": null,
      "id": "22847601",
      "metadata": {},
      "outputs": [],
      "source": [
        "x = (1, 2, \"mi\", \"fa\", 5)\n",
        "x"
      ]
    },
    {
      "cell_type": "markdown",
      "id": "e82fee73-8ae3-43c1-a77b-9634cb0cfc2c",
      "metadata": {},
      "source": [
        "In order to clearly differentiate it from the normal use of parentheses\n",
        "(in calculations or to delimit expressions), a single tuple\n",
        "element is defined with a comma after the first element."
      ]
    },
    {
      "cell_type": "code",
      "execution_count": null,
      "id": "2662fc21",
      "metadata": {},
      "outputs": [],
      "source": [
        "x1 = (\"a\", )\n",
        "x1"
      ]
    },
    {
      "cell_type": "markdown",
      "id": "c2bcde28-f9f1-4370-ac2f-ecf5f3d7b09e",
      "metadata": {},
      "source": [
        "Let's check that it is impossible to modify or add an element to a\n",
        "tuple."
      ]
    },
    {
      "cell_type": "code",
      "execution_count": null,
      "id": "e475a3a3",
      "metadata": {},
      "outputs": [],
      "source": [
        "t = (\"do\", \"rez\", \"mi\")\n",
        "t[1] = \"re\""
      ]
    },
    {
      "cell_type": "code",
      "execution_count": null,
      "id": "0bf075d6",
      "metadata": {},
      "outputs": [],
      "source": [
        "t = (\"do\", \"re\", \"mi\")\n",
        "t.append(\"fa\")"
      ]
    },
    {
      "cell_type": "markdown",
      "id": "82ea224d-0435-4386-a938-e789154541ef",
      "metadata": {},
      "source": [
        "### Functioning\n",
        "\n",
        "Tuples are indexed like lists."
      ]
    },
    {
      "cell_type": "code",
      "execution_count": null,
      "id": "881ea5bc",
      "metadata": {},
      "outputs": [],
      "source": [
        "print(x[0])\n",
        "print(x[3:5])"
      ]
    },
    {
      "cell_type": "markdown",
      "id": "4312a405-c0b3-4a48-adf2-cec34bfacaae",
      "metadata": {},
      "source": [
        "And can also be used hierarchically."
      ]
    },
    {
      "cell_type": "code",
      "execution_count": null,
      "id": "cf7b7002",
      "metadata": {},
      "outputs": [],
      "source": [
        "t1 = (\"a\", \"b\", \"c\")\n",
        "t2 = (1, 2, 3)\n",
        "t3 = (t1, \"et\", t2)\n",
        "\n",
        "print(t3)\n",
        "print(t3[2][1])"
      ]
    },
    {
      "cell_type": "markdown",
      "id": "aea282f8-afbc-4fc7-9093-7f637ef280be",
      "metadata": {},
      "source": [
        "Tuples share some *built-in* methods with lists:\n",
        "those which do not cause a modification of the object."
      ]
    },
    {
      "cell_type": "code",
      "execution_count": null,
      "id": "d1004165",
      "metadata": {},
      "outputs": [],
      "source": [
        "t = (\"do\", \"re\", \"mi\")\n",
        "t.index(\"do\")"
      ]
    },
    {
      "cell_type": "code",
      "execution_count": null,
      "id": "d7565360",
      "metadata": {},
      "outputs": [],
      "source": [
        "t = (\"do\", \"re\", \"mi\", \"re\", \"do\")\n",
        "t.count(\"re\")"
      ]
    },
    {
      "cell_type": "markdown",
      "id": "8b7ab9bf-08e5-460d-83fa-165fc047c8bc",
      "metadata": {},
      "source": [
        "### Conversion\n",
        "\n",
        "The `list` and `tuple` functions allow you to convert a list into\n",
        "tuple and vice versa."
      ]
    },
    {
      "cell_type": "code",
      "execution_count": null,
      "id": "21a0b894",
      "metadata": {},
      "outputs": [],
      "source": [
        "tuple([\"do\", \"re\", \"mi\"])"
      ]
    },
    {
      "cell_type": "code",
      "execution_count": null,
      "id": "ea112e91",
      "metadata": {},
      "outputs": [],
      "source": [
        "list((1, 2, 3, 4, 5))"
      ]
    },
    {
      "cell_type": "markdown",
      "id": "fe61fc76-a754-490a-b248-fee52da608c1",
      "metadata": {},
      "source": [
        "These functions have other practical uses, which we will see in\n",
        "exercise.\n",
        "## Exercises\n",
        "### Comprehension questions\n",
        "- Why do we say that lists and tuples are containers?\n",
        "- What do lists and strings have in common?\n",
        "characters?\n",
        "- How is the order of elements in a sequence recorded in\n",
        "Python?\n",
        "- What is the fundamental difference between a list and a tuple?\n",
        "- In which case would it be better to use a tuple rather than a\n",
        "list ?\n",
        "- Can we have elements of different types (eg: `int` and\n",
        "`string`) in the same list? In the same tuple?"
      ]
    },
    {
      "cell_type": "markdown",
      "id": "0af1fb3a-2f3e-4ed4-aae9-04c3b1a8c2c0",
      "metadata": {},
      "source": [
        "<details>\n",
        "\n",
        "<summary>\n",
        "\n",
        "Show solution\n",
        "\n",
        "</summary>\n",
        "\n",
        "- 1/ We say that lists and tuples are containers because\n",
        "that they allow you to store and organize a collection\n",
        "of elements of different nature in a single structure of\n",
        "data.\n",
        "\n",
        "- 2/ Lists and strings are both\n",
        "ordered sequences of elements, which can be queried by\n",
        "position. In the case of a string, each element is\n",
        "itself a string of characters. In the case of a list, the\n",
        "elements can be of different nature (character string,\n",
        "list, tuple, etc.)\n",
        "\n",
        "- 3/ Each element of a sequence has a unique position, called\n",
        "index, which starts at 0 for the first element, 1 for the second,\n",
        "and so on. The elements are stored in the order they\n",
        "are added.\n",
        "\n",
        "- 4/ A list is a mutable object: it is possible to add,\n",
        "delete or modify items in a list after it has been created. A\n",
        "Conversely, tuples are immutable: once a tuple is\n",
        "defined, its elements cannot be changed, nor added or deleted\n",
        "elements.\n",
        "\n",
        "- 5/ By virtue of their immutability, tuples are particularly\n",
        "suitable for storing data that we want to ensure is secure.\n",
        "will not be modified by mistake. For example, to store\n",
        "constants of an algorithm (parameters, geographic coordinates,\n",
        "file path, etc).\n",
        "\n",
        "- 6/ Yes, it is quite possible to have elements of types\n",
        "different in the same list or in the same tuple. These elements\n",
        "can be of basic types (eg `int` and `string`), but\n",
        "also containers (eg: list, tuple, dictionary, etc.).\n",
        "\n",
        "</details>"
      ]
    },
    {
      "cell_type": "markdown",
      "id": "98c99c05-a277-4ef4-9997-80b11d931fed",
      "metadata": {},
      "source": [
        "### The 4 seasons\n",
        "\n",
        "Create 4 lists with the names of the 4 seasons, each containing the\n",
        "names of the associated months (the months of seasonal change will be\n",
        "assigned to the previous season). Then create a list `seasons`\n",
        "containing the 4 lists. Try to predict what will return (type of\n",
        "the object, number of elements and content) the following instructions, then\n",
        "check it.\n",
        "\n",
        "- `seasons`\n",
        "\n",
        "- `seasons[0]`\n",
        "\n",
        "- `seasons[0][0]`\n",
        "\n",
        "- `seasons[1][-1]`\n",
        "\n",
        "- `seasons[2][:3]`\n",
        "\n",
        "- `seasons[1][1:2] + seasons[-1][3:]`\n",
        "\n",
        "- `seasons[2:]`\n",
        "\n",
        "- `seasons + seasons[0]`\n",
        "\n",
        "- `seasons[3][::]`\n",
        "\n",
        "- `seasons[3][::-1]`\n",
        "\n",
        "- `seasons * 3`"
      ]
    },
    {
      "cell_type": "code",
      "execution_count": 3,
      "id": "821a0acc",
      "metadata": {},
      "outputs": [
        {
          "name": "stdout",
          "output_type": "stream",
          "text": [
            "<class 'list'> 4 [['January', 'February', 'March'], ['April', 'May', 'June'], ['July', 'August', 'September'], ['October', 'November', 'December']]\n",
            "<class 'list'> 3 ['January', 'February', 'March']\n",
            "<class 'str'> 7 January\n",
            "<class 'str'> 4 June\n",
            "<class 'list'> 3 ['July', 'August', 'September']\n",
            "<class 'list'> 1 ['May']\n",
            "<class 'list'> 2 [['July', 'August', 'September'], ['October', 'November', 'December']]\n",
            "<class 'list'> 7 [['January', 'February', 'March'], ['April', 'May', 'June'], ['July', 'August', 'September'], ['October', 'November', 'December'], 'January', 'February', 'March']\n",
            "<class 'list'> 3 ['October', 'November', 'December']\n",
            "<class 'list'> 3 ['December', 'November', 'October']\n",
            "<class 'list'> 12 [['January', 'February', 'March'], ['April', 'May', 'June'], ['July', 'August', 'September'], ['October', 'November', 'December'], ['January', 'February', 'March'], ['April', 'May', 'June'], ['July', 'August', 'September'], ['October', 'November', 'December'], ['January', 'February', 'March'], ['April', 'May', 'June'], ['July', 'August', 'September'], ['October', 'November', 'December']]\n"
          ]
        }
      ],
      "source": [
        "# Test your answer in this cell\n",
        "winter = [\"January\", \"February\", \"March\"]\n",
        "spring = [\"April\", \"May\", \"June\"]\n",
        "summer = [\"July\", \"August\", \"September\"]\n",
        "autumn = [\"October\", \"November\", \"December\"]\n",
        "seasons = [winter, spring, summer, autumn]\n",
        "\n",
        "a = seasons\n",
        "print (type(a), len(a), a)\n",
        "\n",
        "a = seasons[0]\n",
        "print (type(a), len(a), a)\n",
        "\n",
        "a = seasons[0][0]\n",
        "print (type(a), len(a), a)\n",
        "\n",
        "a = seasons[1][-1]\n",
        "print (type(a), len(a), a)\n",
        "\n",
        "a = seasons[2][:3]\n",
        "print (type(a), len(a), a)\n",
        "\n",
        "a = seasons[1][1:2] + seasons[-1][3:]\n",
        "print (type(a), len(a), a)\n",
        "\n",
        "a = seasons[2:]\n",
        "print (type(a), len(a), a)\n",
        "\n",
        "a = seasons + seasons[0]\n",
        "print (type(a), len(a), a)\n",
        "\n",
        "a = seasons[3][::]\n",
        "print (type(a), len(a), a)\n",
        "\n",
        "a = seasons[3][::-1]\n",
        "print (type(a), len(a), a)\n",
        "\n",
        "a = seasons * 3\n",
        "print (type(a), len(a), a)\n",
        "\n"
      ]
    },
    {
      "cell_type": "markdown",
      "id": "6dab1052-418f-41ab-9349-e9d08af73e57",
      "metadata": {},
      "source": [
        "<details>\n",
        "\n",
        "<summary>\n",
        "\n",
        "Show solution\n",
        "\n",
        "</summary>\n",
        "\n",
        "``` python\n",
        "printemps = [\"avril\", \"mai\", \"juin\"]\n",
        "ete = [\"juillet\", \"aout\", \"septembre\"]\n",
        "automne = [\"octobre\", \"novembre\", \"decembre\"]\n",
        "hiver = [\"janvier\", \"fevrier\", \"mars\"]\n",
        "\n",
        "saisons = [printemps, ete, automne, hiver]\n",
        "\n",
        "l = saisons\n",
        "print(type(l), len(l), l, \"\\n\")\n",
        "\n",
        "l = saisons[0]\n",
        "print(type(l), len(l), l, \"\\n\")\n",
        "\n",
        "l = saisons[0][0]\n",
        "print(type(l), len(l), l, \"\\n\")\n",
        "\n",
        "l = saisons[1][-1]\n",
        "print(type(l), len(l), l, \"\\n\")\n",
        "\n",
        "l = saisons[2][:3]\n",
        "print(type(l), len(l), l, \"\\n\")\n",
        "\n",
        "l = saisons[1][1:2] + saisons[-1][3:]\n",
        "print(type(l), len(l), l, \"\\n\")\n",
        "\n",
        "l = saisons[2:]\n",
        "print(type(l), len(l), l, \"\\n\")\n",
        "\n",
        "l = saisons + saisons[0]\n",
        "print(type(l), len(l), l, \"\\n\")\n",
        "\n",
        "l = saisons[3][::]\n",
        "print(type(l), len(l), l, \"\\n\")\n",
        "\n",
        "l = saisons[3][::-1]\n",
        "print(type(l), len(l), l, \"\\n\")\n",
        "\n",
        "l = saisons * 3\n",
        "print(type(l), len(l), l, \"\\n\")\n",
        "```\n",
        "\n",
        "</details>"
      ]
    },
    {
      "cell_type": "markdown",
      "id": "f16425e4-3f0c-4084-a139-05c328d09ad4",
      "metadata": {},
      "source": [
        "### Practice your scales\n",
        "\n",
        "By adding, removing and modifying items, clean up the list\n",
        "next so that it contains the musical notes “do re mi fa sol la\n",
        "if” in the correct order.\n",
        "\n",
        "`l = [\"do\", \"re\", \"re\", \"re\", \"fa\", \"sol\", \"solsi\", \"la\"]`"
      ]
    },
    {
      "cell_type": "code",
      "execution_count": 21,
      "id": "e61334c5",
      "metadata": {},
      "outputs": [
        {
          "name": "stdout",
          "output_type": "stream",
          "text": [
            "['do', 're', 'mi', 'fa', 'sol', 'la', 'si']\n"
          ]
        }
      ],
      "source": [
        "# Test your answer in this cell\n",
        "l = [\"do\", \"re\", \"re\", \"re\", \"fa\", \"sol\", \"solsi\", \"la\"]\n",
        "l.pop(6)\n",
        "l.pop(2)\n",
        "l.pop(1)\n",
        "l.append(\"si\")\n",
        "l.insert(2, \"mi\")\n",
        "print(l)"
      ]
    },
    {
      "cell_type": "markdown",
      "id": "ca6eb190-ee24-4e8b-954a-05e0a57bfd3b",
      "metadata": {},
      "source": [
        "<details>\n",
        "\n",
        "<summary>\n",
        "\n",
        "Show solution\n",
        "\n",
        "</summary>\n",
        "\n",
        "``` python\n",
        "l = [\"do\", \"re\", \"re\", \"re\", \"fa\", \"sol\", \"solsi\", \"la\"]\n",
        "\n",
        "del l[1]  # On aurait aussi pu utiliser : l.pop(1)\n",
        "l[2] = \"mi\"\n",
        "del l[5]\n",
        "l.append(\"si\")\n",
        "\n",
        "print(l)\n",
        "```\n",
        "\n",
        "This example was simply to practice modification and\n",
        "deletion of elements. In practice, it would have been much simpler to\n",
        "directly create the correct list.\n",
        "\n",
        "</details>"
      ]
    },
    {
      "cell_type": "markdown",
      "id": "fc9a85b1-42bc-4739-bfff-304a6fc7176f",
      "metadata": {},
      "source": [
        "### List inversion\n",
        "\n",
        "Suggest two methods to reverse the list.\n",
        "`[\"a\", \"list\", \"any\"]`. What is the major difference between\n",
        "both methods?"
      ]
    },
    {
      "cell_type": "code",
      "execution_count": 26,
      "id": "8ebefe5b",
      "metadata": {},
      "outputs": [
        {
          "name": "stdout",
          "output_type": "stream",
          "text": [
            "['any', 'list', 'a']\n",
            "['any', 'list', 'a']\n",
            "['any', 'list', 'a']\n"
          ]
        }
      ],
      "source": [
        "# Test your answer in this cell\n",
        "listOne = [\"a\", \"list\", \"any\"]\n",
        "\n",
        "listTwo = listOne[::-1]\n",
        "print(listTwo)\n",
        "\n",
        "listOne.reverse()\n",
        "print(listOne)\n",
        "\n"
      ]
    },
    {
      "cell_type": "markdown",
      "id": "4d340af0-3600-4e1b-8875-e459ef689588",
      "metadata": {},
      "source": [
        "<details>\n",
        "\n",
        "<summary>\n",
        "\n",
        "Show solution\n",
        "\n",
        "</summary>\n",
        "\n",
        "``` python\n",
        "l1 = [\"une\", \"liste\", \"quelconque\"]\n",
        "l1.reverse()\n",
        "print(l1)\n",
        "\n",
        "l2 = [\"une\", \"liste\", \"quelconque\"]\n",
        "print(l2[::-1])\n",
        "print(l2)\n",
        "```\n",
        "\n",
        "The `reverse` method modifies the list “in place”: the list is\n",
        "permanently reversed after having executed it. On the other hand, the method which\n",
        "reverses the list via indexing returns a new list and does not\n",
        "does not change the existing one. For this change to be sustainable, it is\n",
        "So you would have to overwrite the existing list, or create a new one.\n",
        "\n",
        "``` python\n",
        "l2 = l2[::-1]\n",
        "print(l2)\n",
        "```\n",
        "\n",
        "</details>"
      ]
    },
    {
      "cell_type": "markdown",
      "id": "8704e927-12aa-43d5-a5d8-6923e63e1354",
      "metadata": {},
      "source": [
        "### Pop’it\n",
        "\n",
        "We saw that the instruction `my_list.pop(i)` deleted the i-th\n",
        "element of the list `my_list`. Using the Python documentation or\n",
        "from a Google search, determine the default behavior of\n",
        "this method, that is to say what happens when we do not give any\n",
        "parameter to the `pop` function. Make sure you observe this\n",
        "behavior using an example of your choice."
      ]
    },
    {
      "cell_type": "code",
      "execution_count": 27,
      "id": "410f6249",
      "metadata": {},
      "outputs": [
        {
          "name": "stdout",
          "output_type": "stream",
          "text": [
            "['first', 'second', 'third', 'fourth']\n",
            "['first', 'second', 'third']\n"
          ]
        }
      ],
      "source": [
        "# Test your answer in this cell\n",
        "listTest = [\"first\", \"second\", \"third\", \"fourth\"]\n",
        "print(listTest)\n",
        "listTest.pop()\n",
        "print(listTest)"
      ]
    },
    {
      "cell_type": "markdown",
      "id": "05dd1079-9f94-497b-80d4-23dc1589909d",
      "metadata": {},
      "source": [
        "<details>\n",
        "\n",
        "<summary>\n",
        "\n",
        "Show solution\n",
        "\n",
        "</summary>\n",
        "\n",
        "``` python\n",
        "l = [\"do\", \"re\", \"mi\"]\n",
        "l.pop()\n",
        "print(l)\n",
        "```\n",
        "\n",
        "</details>"
      ]
    },
    {
      "cell_type": "markdown",
      "id": "9c310d80-4104-4663-a8e6-0ec63de457f5",
      "metadata": {},
      "source": [
        "### Min and max of different lists\n",
        "\n",
        "There are many other *built-in* methods for lists that\n",
        "the ones we have already seen. For example: `min` and `max`. Check\n",
        "their behavior:\n",
        "\n",
        "- on a list composed only of numeric objects (`int` and\n",
        "`float`);\n",
        "\n",
        "- on a list composed only of character strings;\n",
        "\n",
        "- on a list composed of a mixture of digital and textual objects."
      ]
    },
    {
      "cell_type": "code",
      "execution_count": 31,
      "id": "609b58b2",
      "metadata": {},
      "outputs": [
        {
          "name": "stdout",
          "output_type": "stream",
          "text": [
            "0.3 8\n",
            "bar dubai\n"
          ]
        },
        {
          "ename": "TypeError",
          "evalue": "'<' not supported between instances of 'str' and 'float'",
          "output_type": "error",
          "traceback": [
            "\u001b[1;31m---------------------------------------------------------------------------\u001b[0m",
            "\u001b[1;31mTypeError\u001b[0m                                 Traceback (most recent call last)",
            "Cell \u001b[1;32mIn[31], line 9\u001b[0m\n\u001b[0;32m      6\u001b[0m \u001b[39mprint\u001b[39m(\u001b[39mmin\u001b[39m(l2), \u001b[39mmax\u001b[39m(l2))\n\u001b[0;32m      8\u001b[0m l3 \u001b[39m=\u001b[39m [\u001b[39m0.3\u001b[39m, \u001b[39m\"\u001b[39m\u001b[39mbar\u001b[39m\u001b[39m\"\u001b[39m, \u001b[39m8\u001b[39m, \u001b[39m\"\u001b[39m\u001b[39mchocolate\u001b[39m\u001b[39m\"\u001b[39m]\n\u001b[1;32m----> 9\u001b[0m \u001b[39mprint\u001b[39m(\u001b[39mmin\u001b[39;49m(l3), \u001b[39mmax\u001b[39m(l3))\n",
            "\u001b[1;31mTypeError\u001b[0m: '<' not supported between instances of 'str' and 'float'"
          ]
        }
      ],
      "source": [
        "# Test your answer in this cell\n",
        "l1 = [1, 5, 2.4, 0.3, 8]\n",
        "print(min(l1), max(l1))\n",
        "\n",
        "l2 = [\"dubai\", \"chocolate\", \"bar\"]\n",
        "print(min(l2), max(l2))\n",
        "\n",
        "l3 = [0.3, \"bar\", 8, \"chocolate\"]\n",
        "print(min(l3), max(l3))"
      ]
    },
    {
      "cell_type": "markdown",
      "id": "f3f7b3eb-c5b2-47e6-b8be-40767624f0b5",
      "metadata": {},
      "source": [
        "<details>\n",
        "\n",
        "<summary>\n",
        "\n",
        "Show solution\n",
        "\n",
        "</summary>\n",
        "\n",
        "``` python\n",
        "a = [5, 800, 9.92, 0]\n",
        "b = [\"do\", \"re\", \"mi\", \"fa\", \"sol\"]\n",
        "c = [1, \"melange\", \"des\", 2]\n",
        "\n",
        "print(min(a), max(a))\n",
        "print(min(b), max(b))\n",
        "print(min(c), max(c))\n",
        "```\n",
        "\n",
        "The third expression returns an error: there is no relation\n",
        "of relevant order.\n",
        "\n",
        "</details>"
      ]
    },
    {
      "cell_type": "markdown",
      "id": "6eb25e44-3c0e-4a86-9e75-0d7259c577c0",
      "metadata": {},
      "source": [
        "### Empty list\n",
        "\n",
        "Try to create an empty list. Check its type. What's the point?\n",
        "could have such an object?"
      ]
    },
    {
      "cell_type": "code",
      "execution_count": 32,
      "id": "397d0d5d",
      "metadata": {},
      "outputs": [
        {
          "name": "stdout",
          "output_type": "stream",
          "text": [
            "<class 'list'>\n"
          ]
        }
      ],
      "source": [
        "# Test your answer in this cell\n",
        "emptyList = []\n",
        "print(type(emptyList))"
      ]
    },
    {
      "cell_type": "markdown",
      "id": "537b5ea5-c556-49e1-b59b-8eb6a3660078",
      "metadata": {},
      "source": [
        "<details>\n",
        "\n",
        "<summary>\n",
        "\n",
        "Show solution\n",
        "\n",
        "</summary>\n",
        "\n",
        "``` python\n",
        "l = []\n",
        "print(l)\n",
        "print(type(l))\n",
        "```\n",
        "\n",
        "So we can actually create an empty list. But what's the point? A\n",
        "A very common use is to initialize a list, which we will then\n",
        "fill in as a loop iterates. Loops\n",
        "will be the subject of a future tutorial; but here is a simple example\n",
        "of such use.\n",
        "\n",
        "``` python\n",
        "for i in range(10):\n",
        "    l.append(i)\n",
        "    \n",
        "print(l)\n",
        "```\n",
        "\n",
        "</details>"
      ]
    },
    {
      "cell_type": "markdown",
      "id": "b879c077-dcaa-4785-9696-458cdd09eb41",
      "metadata": {},
      "source": [
        "### The `list` function\n",
        "\n",
        "In the tutorial we saw the `list` and `tuple` functions which\n",
        "allow you to switch from one type to another. In reality, the operation\n",
        "of these functions is more subtle: the code `list(my_object)` returns the\n",
        "“list version” of this object, in the same way for example as\n",
        "`str(3)` returns `'3'`, that is, the *string* version of the integer\n",
        "`3`.\n",
        "\n",
        "Using the `list` function, find the “list versions” of objects\n",
        "following:\n",
        "\n",
        "- the tuple `a = (1, 2, 3)`;\n",
        "\n",
        "- the string `b = \"hello\"`;\n",
        "\n",
        "- the integer `c = 5`"
      ]
    },
    {
      "cell_type": "code",
      "execution_count": 33,
      "id": "dddd7c18",
      "metadata": {},
      "outputs": [
        {
          "name": "stdout",
          "output_type": "stream",
          "text": [
            "[1, 2, 3] <class 'list'>\n",
            "['h', 'e', 'l', 'l', 'o'] <class 'list'>\n"
          ]
        },
        {
          "ename": "TypeError",
          "evalue": "'int' object is not iterable",
          "output_type": "error",
          "traceback": [
            "\u001b[1;31m---------------------------------------------------------------------------\u001b[0m",
            "\u001b[1;31mTypeError\u001b[0m                                 Traceback (most recent call last)",
            "Cell \u001b[1;32mIn[33], line 7\u001b[0m\n\u001b[0;32m      5\u001b[0m \u001b[39mprint\u001b[39m(\u001b[39mlist\u001b[39m(a), \u001b[39mtype\u001b[39m(\u001b[39mlist\u001b[39m(a)))\n\u001b[0;32m      6\u001b[0m \u001b[39mprint\u001b[39m(\u001b[39mlist\u001b[39m(b), \u001b[39mtype\u001b[39m(\u001b[39mlist\u001b[39m(b)))\n\u001b[1;32m----> 7\u001b[0m \u001b[39mprint\u001b[39m(\u001b[39mlist\u001b[39;49m(c), \u001b[39mtype\u001b[39m(\u001b[39mlist\u001b[39m(c)))\n",
            "\u001b[1;31mTypeError\u001b[0m: 'int' object is not iterable"
          ]
        }
      ],
      "source": [
        "# Test your answer in this cell\n",
        "a = (1, 2, 3)\n",
        "b = \"hello\"\n",
        "c = 5\n",
        "print(list(a), type(list(a)))\n",
        "print(list(b), type(list(b)))\n",
        "print(list(c), type(list(c)))"
      ]
    },
    {
      "cell_type": "markdown",
      "id": "590fc3be-e5f6-4c49-8df1-0ac148037a90",
      "metadata": {},
      "source": [
        "<details>\n",
        "\n",
        "<summary>\n",
        "\n",
        "Show solution\n",
        "\n",
        "</summary>\n",
        "\n",
        "``` python\n",
        "a = (1, 2, 3)\n",
        "print(list(a))\n",
        "\n",
        "b = \"bonjour\"\n",
        "print(list(b))\n",
        "\n",
        "c = 5\n",
        "print(list(c))\n",
        "```\n",
        "\n",
        "The last expression returns an error: an integer is not a\n",
        "sequence, a “list version” therefore does not make sense. On the other hand, we can\n",
        "heard to create a list with only 5 elements.\n",
        "\n",
        "``` python\n",
        "d = [5]\n",
        "print(d)\n",
        "```\n",
        "\n",
        "</details>"
      ]
    },
    {
      "cell_type": "markdown",
      "id": "63614187-66b6-4c46-bed7-fce24f678d6a",
      "metadata": {},
      "source": [
        "### Immutability of tuples\n",
        "\n",
        "We have seen that tuples have the particularity of being\n",
        "non-modifiable. But is this property transferred in a way?\n",
        "recursive? For example, is a list contained in a tuple\n",
        "is it even non-editable? Check with an example of your\n",
        "choice."
      ]
    },
    {
      "cell_type": "code",
      "execution_count": 38,
      "id": "70868a3f",
      "metadata": {},
      "outputs": [
        {
          "name": "stdout",
          "output_type": "stream",
          "text": [
            "('is the following list immutable?', [\"let's\", 'see'])\n",
            "('is the following list immutable?', [\"let's\", 'confirm'])\n",
            "('is the following list immutable?', [\"let's\", 'confirm', 'if it works'])\n"
          ]
        }
      ],
      "source": [
        "# Test your answer in this cell\n",
        "tuple = (\"is the following list immutable?\", [\"let's\", \"see\"])\n",
        "print(tuple)\n",
        "tuple[1][1] = \"confirm\"\n",
        "print(tuple)\n",
        "tuple[1].append(\"if it works\")\n",
        "print(tuple)"
      ]
    },
    {
      "cell_type": "markdown",
      "id": "d2584785-1984-48f3-8620-5ab600cc2820",
      "metadata": {},
      "source": [
        "<details>\n",
        "\n",
        "<summary>\n",
        "\n",
        "Show solution\n",
        "\n",
        "</summary>\n",
        "\n",
        "``` python\n",
        "t = (1, 2, [\"une\", \"liste\"])\n",
        "t[2][0] = 26\n",
        "print(t)\n",
        "```\n",
        "\n",
        "Verdict: Non-modifiability only applies to the first level. It\n",
        "does not transfer to sub-elements.\n",
        "\n",
        "</details>"
      ]
    },
    {
      "cell_type": "markdown",
      "id": "b7977af4-e06e-4a4a-8d2c-d00bd9b063fd",
      "metadata": {},
      "source": [
        "### Sequence Dissociation\n",
        "\n",
        "Read the section on sequence aggregation and dissociation\n",
        "in the [documentation\n",
        "Python](https://docs.python.org/fr/3/tutorial/datastructures.html#tuples-and-sequences).\n",
        "Dissociation is a property often used in practice. Check\n",
        "that it works on the different sequential objects that we have\n",
        "seen so far (strings, lists and tuples)."
      ]
    },
    {
      "cell_type": "code",
      "execution_count": 44,
      "id": "7a7396de",
      "metadata": {},
      "outputs": [
        {
          "name": "stdout",
          "output_type": "stream",
          "text": [
            "b\n",
            "mi\n",
            "1\n",
            "2\n"
          ]
        }
      ],
      "source": [
        "# Test your answer in this cell\n",
        "x, y, z = \"abc\"\n",
        "print(y)\n",
        "a, b, c, d = [\"do\", \"re\", \"mi\", \"fa\"]\n",
        "print(c)\n",
        "r, s, t, u = (1, 2, 3, 4)\n",
        "print(r)\n",
        "q, w, e = \"123\"\n",
        "print(w)"
      ]
    },
    {
      "cell_type": "markdown",
      "id": "5161eed3-db34-4334-9c2b-b37ee42e0533",
      "metadata": {},
      "source": [
        "<details>\n",
        "\n",
        "<summary>\n",
        "\n",
        "Show solution\n",
        "\n",
        "</summary>\n",
        "\n",
        "``` python\n",
        "x, y, z = \"abc\"\n",
        "print(y)\n",
        "\n",
        "a, b, c, d = [\"do\", \"re\", \"mi\", \"fa\"]\n",
        "print(c)\n",
        "\n",
        "r, s, t, u = (\"un\", \"tuple\", \"de\", \"test\")\n",
        "print(r)\n",
        "```\n",
        "\n",
        "</details>"
      ]
    }
  ],
  "metadata": {
    "kernelspec": {
      "display_name": "Python 3 (ipykernel)",
      "language": "python",
      "name": "python3",
      "path": "/Users/gblin/opt/anaconda3/share/jupyter/kernels/python3"
    },
    "language_info": {
      "codemirror_mode": {
        "name": "ipython",
        "version": 3
      },
      "file_extension": ".py",
      "mimetype": "text/x-python",
      "name": "python",
      "nbconvert_exporter": "python",
      "pygments_lexer": "ipython3",
      "version": "3.11.9"
    }
  },
  "nbformat": 4,
  "nbformat_minor": 5
}
