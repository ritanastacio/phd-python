{
  "cells": [
    {
      "cell_type": "markdown",
      "id": "4223169f-1584-4585-8392-033fbc34f6a1",
      "metadata": {},
      "source": [
        "# Data Structures 2: Dictionaries and Sets\n",
        "\n",
        "In the previous tutorial we manipulated structures of\n",
        "sequential data types: lists and tuples. Now,\n",
        "We will discover dictionaries and sets, which are\n",
        "unordered data structures: objects are no longer stored\n",
        "by position (or index) but by **key**, that is to say an identifier\n",
        "unique.\n",
        "\n",
        "## Dictionaries\n",
        "\n",
        "### Definition\n",
        "\n",
        "Dictionaries are **unordered collections of pairs\n",
        "key-value**. A dictionary is defined using the following syntax:\n",
        "`d = {'key1': 'value1', 'key2': 'value2'}`."
      ]
    },
    {
      "cell_type": "code",
      "execution_count": 2,
      "id": "1ab0af45",
      "metadata": {},
      "outputs": [
        {
          "data": {
            "text/plain": [
              "{'cafe': '500g', 'lait': '1,5L'}"
            ]
          },
          "execution_count": 2,
          "metadata": {},
          "output_type": "execute_result"
        }
      ],
      "source": [
        "inventaire = {'cafe': '500g', 'lait': '1,5L'}\n",
        "inventaire"
      ]
    },
    {
      "cell_type": "code",
      "execution_count": 3,
      "id": "a9e2abff",
      "metadata": {},
      "outputs": [
        {
          "data": {
            "text/plain": [
              "dict"
            ]
          },
          "execution_count": 3,
          "metadata": {},
          "output_type": "execute_result"
        }
      ],
      "source": [
        "type(inventaire)"
      ]
    },
    {
      "cell_type": "markdown",
      "id": "186e0cb6-0c2a-491a-9a53-675691c4605a",
      "metadata": {},
      "source": [
        "It is possible to put as many keys as you want in a\n",
        "dictionary. On the other hand, **the keys are unique**, in order to identify\n",
        "certainly the associated value. If we try to define a\n",
        "dictionary with duplicate key, Python does not return an error,\n",
        "but only the last duplicated key is taken into account."
      ]
    },
    {
      "cell_type": "code",
      "execution_count": 4,
      "id": "8f33b970",
      "metadata": {},
      "outputs": [
        {
          "data": {
            "text/plain": [
              "{'cafe': '300g', 'lait': '1,5L'}"
            ]
          },
          "execution_count": 4,
          "metadata": {},
          "output_type": "execute_result"
        }
      ],
      "source": [
        "inventaire = {'cafe': '500g', 'lait': '1,5L', 'cafe': '300g'}\n",
        "inventaire"
      ]
    },
    {
      "cell_type": "markdown",
      "id": "84a5a247-d8a5-4461-9fab-4ca860aa9548",
      "metadata": {},
      "source": [
        "What can a dictionary contain? The keys can be of different\n",
        "types, but generally only strings or\n",
        "integers. The values ​​of a dictionary can be\n",
        "be any type of Python object.\n",
        "\n",
        "### Use\n",
        "\n",
        "Since dictionaries are **unordered**, there is no notion of\n",
        "position: a value is accessed by its associated key. For example, for\n",
        "retrieve the value (`'1.5L'`) associated with the key `'milk'`:"
      ]
    },
    {
      "cell_type": "code",
      "execution_count": 5,
      "id": "f2583159",
      "metadata": {},
      "outputs": [
        {
          "data": {
            "text/plain": [
              "'1,5L'"
            ]
          },
          "execution_count": 5,
          "metadata": {},
          "output_type": "execute_result"
        }
      ],
      "source": [
        "inventaire['lait']"
      ]
    },
    {
      "cell_type": "markdown",
      "id": "2327d35b-3aaa-42fc-943b-f26e7b5e5330",
      "metadata": {},
      "source": [
        "Additional key-value pairs can be added to a\n",
        "already existing dictionary, using the syntax of the assignment of\n",
        "variable."
      ]
    },
    {
      "cell_type": "code",
      "execution_count": 6,
      "id": "77fd68fc",
      "metadata": {},
      "outputs": [
        {
          "data": {
            "text/plain": [
              "{'cafe': '300g', 'lait': '1,5L', 'céréales': '250g'}"
            ]
          },
          "execution_count": 6,
          "metadata": {},
          "output_type": "execute_result"
        }
      ],
      "source": [
        "inventaire[\"céréales\"] = \"250g\"\n",
        "inventaire"
      ]
    },
    {
      "cell_type": "markdown",
      "id": "647f7a1a-21ff-4b5b-811f-4d9aa8094db0",
      "metadata": {},
      "source": [
        "Unlike lists, keys do not necessarily have to start\n",
        "to 0 and can be any number."
      ]
    },
    {
      "cell_type": "code",
      "execution_count": 7,
      "id": "c791fc5b",
      "metadata": {},
      "outputs": [
        {
          "name": "stdout",
          "output_type": "stream",
          "text": [
            "Le département 33 est la Gironde\n"
          ]
        }
      ],
      "source": [
        "dic1 = {12: \"Averyon\", 33: \"Gironde\"}\n",
        "\n",
        "print(\"Le département 33 est la \" + dic1[33])  # String concatenation!"
      ]
    },
    {
      "cell_type": "markdown",
      "id": "b010b868-f227-4eb1-adc0-f7804d577fd8",
      "metadata": {},
      "source": [
        "Similarly, values ​​can be of different natures, including\n",
        "data containers."
      ]
    },
    {
      "cell_type": "code",
      "execution_count": 8,
      "id": "17bc3886",
      "metadata": {},
      "outputs": [
        {
          "data": {
            "text/plain": [
              "['do', 're', 'mi', 'fa', 'sol', 'la', 'si']"
            ]
          },
          "execution_count": 8,
          "metadata": {},
          "output_type": "execute_result"
        }
      ],
      "source": [
        "dic2 = {\"gamme\" : \"do majeur\",\n",
        "        \"notes\": [\"do\", \"re\", \"mi\", \"fa\", \"sol\", \"la\", \"si\"]}\n",
        "\n",
        "dic2[\"notes\"]"
      ]
    },
    {
      "cell_type": "markdown",
      "id": "a1f56991-7ecc-45a4-9b06-7c848b755610",
      "metadata": {},
      "source": [
        "Dictionaries may contain other dictionaries, among other things.\n",
        "This makes them particularly suitable for representing structures\n",
        "hierarchical data."
      ]
    },
    {
      "cell_type": "code",
      "execution_count": 9,
      "id": "6293ff95",
      "metadata": {},
      "outputs": [
        {
          "name": "stdout",
          "output_type": "stream",
          "text": [
            "{'poste': 'manager', 'experience': 7, 'hobbies': ['couture', 'frisbee']}\n",
            "couture\n"
          ]
        }
      ],
      "source": [
        "cv = {\n",
        "    \"marc\": {\"poste\": \"manager\", \"experience\": 7, \"hobbies\": [\"couture\", \"frisbee\"]},\n",
        "    \"mirande\": {\"poste\": \"ingénieure\", \"experience\": 5, \"hobbies\": [\"trekking\"]}\n",
        "}\n",
        "\n",
        "print(cv[\"marc\"])\n",
        "print(cv[\"marc\"][\"hobbies\"][0])"
      ]
    },
    {
      "cell_type": "markdown",
      "id": "663b29a5-5f22-4617-98d8-2919f8993707",
      "metadata": {},
      "source": [
        "Let us repeat: dictionaries have no notion of order. Thus, it\n",
        "there is no point in querying the element at position `0` of a dictionary\n",
        "(unless key `0` exists..). Querying a non-existent key returns a\n",
        "error."
      ]
    },
    {
      "cell_type": "code",
      "execution_count": 10,
      "id": "5e264023",
      "metadata": {},
      "outputs": [
        {
          "ename": "KeyError",
          "evalue": "0",
          "output_type": "error",
          "traceback": [
            "\u001b[1;31m---------------------------------------------------------------------------\u001b[0m",
            "\u001b[1;31mKeyError\u001b[0m                                  Traceback (most recent call last)",
            "Cell \u001b[1;32mIn[10], line 3\u001b[0m\n\u001b[0;32m      1\u001b[0m dic1 \u001b[39m=\u001b[39m {\u001b[39m12\u001b[39m: \u001b[39m\"\u001b[39m\u001b[39mAveryon\u001b[39m\u001b[39m\"\u001b[39m, \u001b[39m33\u001b[39m: \u001b[39m\"\u001b[39m\u001b[39mGironde\u001b[39m\u001b[39m\"\u001b[39m}\n\u001b[1;32m----> 3\u001b[0m dic1[\u001b[39m0\u001b[39;49m]\n",
            "\u001b[1;31mKeyError\u001b[0m: 0"
          ]
        }
      ],
      "source": [
        "dic1 = {12: \"Averyon\", 33: \"Gironde\"}\n",
        "\n",
        "dic1[0]"
      ]
    },
    {
      "cell_type": "markdown",
      "id": "8ff8b89a-249d-4fe5-95e9-4cbcb1226d8f",
      "metadata": {},
      "source": [
        "### Editing items\n",
        "\n",
        "It is possible to modify a value associated with an existing key in\n",
        "the dictionary. The new value may be of a different type than\n",
        "the original."
      ]
    },
    {
      "cell_type": "code",
      "execution_count": 11,
      "id": "2253ca5c",
      "metadata": {},
      "outputs": [
        {
          "data": {
            "text/plain": [
              "{'cafe': {'arabica': '250g', 'robusta': '400g'}, 'lait': '1,5L'}"
            ]
          },
          "execution_count": 11,
          "metadata": {},
          "output_type": "execute_result"
        }
      ],
      "source": [
        "inventaire = {'cafe': '500g', 'lait': '1,5L'}\n",
        "inventaire['cafe'] = {'arabica': '250g', 'robusta': '400g'}\n",
        "inventaire"
      ]
    },
    {
      "cell_type": "markdown",
      "id": "1522977a-2fcc-482a-b038-ac1a94483cd3",
      "metadata": {},
      "source": [
        "### Deleting items\n",
        "\n",
        "To delete a key (and the associated value), the same operations as\n",
        "those that allow you to delete items in a list can\n",
        "be used."
      ]
    },
    {
      "cell_type": "code",
      "execution_count": 12,
      "id": "25f4b917",
      "metadata": {},
      "outputs": [
        {
          "data": {
            "text/plain": [
              "{'cafe': '500g'}"
            ]
          },
          "execution_count": 12,
          "metadata": {},
          "output_type": "execute_result"
        }
      ],
      "source": [
        "# With the `del` operator\n",
        "inventaire = {'cafe': '500g', 'lait': '1,5L'}\n",
        "del inventaire['lait']\n",
        "inventaire"
      ]
    },
    {
      "cell_type": "code",
      "execution_count": 13,
      "id": "20f8b828",
      "metadata": {},
      "outputs": [
        {
          "data": {
            "text/plain": [
              "{'cafe': '500g'}"
            ]
          },
          "execution_count": 13,
          "metadata": {},
          "output_type": "execute_result"
        }
      ],
      "source": [
        "# With the `pop` method\n",
        "inventaire = {'cafe': '500g', 'lait': '1,5L'}\n",
        "inventaire.pop('lait')\n",
        "inventaire"
      ]
    },
    {
      "cell_type": "markdown",
      "id": "29f08d51-0e0b-44d7-ac2a-a2a3dbf1b401",
      "metadata": {},
      "source": [
        "### Some useful methods\n",
        "\n",
        "We have seen previously that requesting a key that does not exist\n",
        "did not return an error. The `.get()` method allows you to request a key\n",
        "without being sure of its existence, since it does not return any errors\n",
        "in this case, but the `None` object, which we will see in a future\n",
        "tutorial."
      ]
    },
    {
      "cell_type": "code",
      "execution_count": 15,
      "id": "a5a5b0d4",
      "metadata": {},
      "outputs": [],
      "source": [
        "inventaire = {'cafe': '500g', 'lait': '1,5L'}\n",
        "inventaire.get('miel')"
      ]
    },
    {
      "cell_type": "markdown",
      "id": "2b2eda4e-3e51-4451-9ad5-5b8dcf4163b9",
      "metadata": {},
      "source": [
        "We can also specify a default value when the key\n",
        "does not exist."
      ]
    },
    {
      "cell_type": "code",
      "execution_count": 16,
      "id": "10434a1f",
      "metadata": {},
      "outputs": [
        {
          "data": {
            "text/plain": [
              "'introuvable'"
            ]
          },
          "execution_count": 16,
          "metadata": {},
          "output_type": "execute_result"
        }
      ],
      "source": [
        "inventaire.get('miel', 'introuvable')"
      ]
    },
    {
      "cell_type": "markdown",
      "id": "79260898-5913-4f6d-9317-9b85ac5de4e1",
      "metadata": {},
      "source": [
        "The `.keys()`, `.values()` and `.items()` methods return\n",
        "respectively the keys, values, and key-value pairs of a\n",
        "dictionary. The objects returned by these methods are a bit\n",
        "complex, but it is possible to transform them into a list with the\n",
        "`list` function to be able to query them by position."
      ]
    },
    {
      "cell_type": "code",
      "execution_count": 17,
      "id": "0d15e96d",
      "metadata": {},
      "outputs": [
        {
          "data": {
            "text/plain": [
              "['marc', 'mirande']"
            ]
          },
          "execution_count": 17,
          "metadata": {},
          "output_type": "execute_result"
        }
      ],
      "source": [
        "cv = {\n",
        "    \"marc\": {\"poste\": \"manager\", \"experience\": 7, \"hobbies\": [\"couture\", \"frisbee\"]},\n",
        "    \"mirande\": {\"poste\": \"ingénieure\", \"experience\": 5, \"hobbies\": [\"triathlon\"]}\n",
        "}\n",
        "\n",
        "list(cv.keys())"
      ]
    },
    {
      "cell_type": "code",
      "execution_count": 18,
      "id": "495e613b",
      "metadata": {},
      "outputs": [
        {
          "data": {
            "text/plain": [
              "[{'poste': 'manager', 'experience': 7, 'hobbies': ['couture', 'frisbee']},\n",
              " {'poste': 'ingénieure', 'experience': 5, 'hobbies': ['triathlon']}]"
            ]
          },
          "execution_count": 18,
          "metadata": {},
          "output_type": "execute_result"
        }
      ],
      "source": [
        "list(cv.values())"
      ]
    },
    {
      "cell_type": "code",
      "execution_count": 19,
      "id": "04b34453",
      "metadata": {},
      "outputs": [
        {
          "data": {
            "text/plain": [
              "[('marc',\n",
              "  {'poste': 'manager', 'experience': 7, 'hobbies': ['couture', 'frisbee']}),\n",
              " ('mirande',\n",
              "  {'poste': 'ingénieure', 'experience': 5, 'hobbies': ['triathlon']})]"
            ]
          },
          "execution_count": 19,
          "metadata": {},
          "output_type": "execute_result"
        }
      ],
      "source": [
        "list(cv.items())"
      ]
    },
    {
      "cell_type": "markdown",
      "id": "6186500d-1955-43d3-8d16-13ab01396748",
      "metadata": {},
      "source": [
        "## Sets\n",
        "\n",
        "### Definition\n",
        "\n",
        "Sets are **unordered collections of unique items**. In\n",
        "This means that they can be seen as valueless dictionaries, which\n",
        "would have kept only the keys (unique by definition in a\n",
        "Another analogy is that of mathematical sets,\n",
        "whose elements are also unordered and unique.\n",
        "\n",
        "Due to their proximity to dictionaries, sets are\n",
        "also defined by curly braces `{}`."
      ]
    },
    {
      "cell_type": "code",
      "execution_count": 20,
      "id": "7790c021",
      "metadata": {},
      "outputs": [
        {
          "data": {
            "text/plain": [
              "{1, 2, 3}"
            ]
          },
          "execution_count": 20,
          "metadata": {},
          "output_type": "execute_result"
        }
      ],
      "source": [
        "x = {3, 2, 1}\n",
        "x"
      ]
    },
    {
      "cell_type": "code",
      "execution_count": 21,
      "id": "d48f11c3",
      "metadata": {},
      "outputs": [
        {
          "data": {
            "text/plain": [
              "set"
            ]
          },
          "execution_count": 21,
          "metadata": {},
          "output_type": "execute_result"
        }
      ],
      "source": [
        "type(x)"
      ]
    },
    {
      "cell_type": "markdown",
      "id": "79b213e4-775f-427d-8366-f839eb981fb7",
      "metadata": {},
      "source": [
        "Similar to dictionaries, sets are\n",
        "**unordered**, so there is no notion of position. Ask\n",
        "the element at position `i`, as in a list, returns an error."
      ]
    },
    {
      "cell_type": "code",
      "execution_count": 22,
      "id": "f85f7171",
      "metadata": {},
      "outputs": [
        {
          "ename": "TypeError",
          "evalue": "'set' object is not subscriptable",
          "output_type": "error",
          "traceback": [
            "\u001b[1;31m---------------------------------------------------------------------------\u001b[0m",
            "\u001b[1;31mTypeError\u001b[0m                                 Traceback (most recent call last)",
            "Cell \u001b[1;32mIn[22], line 2\u001b[0m\n\u001b[0;32m      1\u001b[0m x \u001b[39m=\u001b[39m {\u001b[39m3\u001b[39m, \u001b[39m2\u001b[39m, \u001b[39m1\u001b[39m}\n\u001b[1;32m----> 2\u001b[0m x[\u001b[39m0\u001b[39;49m]\n",
            "\u001b[1;31mTypeError\u001b[0m: 'set' object is not subscriptable"
          ]
        }
      ],
      "source": [
        "x = {3, 2, 1}\n",
        "x[0]"
      ]
    },
    {
      "cell_type": "markdown",
      "id": "0ae5725b-aa90-4e7b-a6f2-cce4cd927dda",
      "metadata": {},
      "source": [
        "### Editing items\n",
        "\n",
        "It is possible to add an element to a set via the `add` method."
      ]
    },
    {
      "cell_type": "code",
      "execution_count": 23,
      "id": "cf06e3f1",
      "metadata": {},
      "outputs": [
        {
          "data": {
            "text/plain": [
              "{1, 2, 3, '4'}"
            ]
          },
          "execution_count": 23,
          "metadata": {},
          "output_type": "execute_result"
        }
      ],
      "source": [
        "x = {3, 2, 1}\n",
        "x.add(\"4\")\n",
        "x"
      ]
    },
    {
      "cell_type": "markdown",
      "id": "77c907be-a4f9-424e-81f1-ebb3ea32c89e",
      "metadata": {},
      "source": [
        "Adding an existing element does not change anything by definition."
      ]
    },
    {
      "cell_type": "code",
      "execution_count": 24,
      "id": "ba1d0151",
      "metadata": {},
      "outputs": [
        {
          "data": {
            "text/plain": [
              "{1, 2, 3}"
            ]
          },
          "execution_count": 24,
          "metadata": {},
          "output_type": "execute_result"
        }
      ],
      "source": [
        "x = {3, 2, 1}\n",
        "x.add(2)\n",
        "x"
      ]
    },
    {
      "cell_type": "markdown",
      "id": "746797dc-4d4c-4980-ac37-9cfab7cd52c6",
      "metadata": {},
      "source": [
        "It is possible to remove an element from a set via the `remove` method."
      ]
    },
    {
      "cell_type": "code",
      "execution_count": 25,
      "id": "d780f401",
      "metadata": {},
      "outputs": [
        {
          "data": {
            "text/plain": [
              "{1, 3}"
            ]
          },
          "execution_count": 25,
          "metadata": {},
          "output_type": "execute_result"
        }
      ],
      "source": [
        "x = {3, 2, 1}\n",
        "x.remove(2)\n",
        "x"
      ]
    },
    {
      "cell_type": "markdown",
      "id": "2dddf112-d756-47df-ba41-e9c831686073",
      "metadata": {},
      "source": [
        "### Use\n",
        "\n",
        "Sets are not used very often in practice, but they\n",
        "prove to be very useful in certain specific situations. Due to\n",
        "the uniqueness of the elements they contain, sets allow\n",
        "simply and efficiently remove duplicates in a container\n",
        "sequential, like a list.\n",
        "\n",
        "**Deduplication**\n",
        "\n",
        "Suppose we want to remove duplicates in a given list.\n",
        "By definition, transforming a list into a set removes the\n",
        "duplicates. However, one usually wants to go back to a list,\n",
        "as sets do not offer the same flexibility as\n",
        "lists (e.g. the ability to find an item by position).\n",
        "It is therefore common to make the chain of operation\n",
        "`list -> set -> list` to deduplicate a list."
      ]
    },
    {
      "cell_type": "code",
      "execution_count": 26,
      "id": "aefc0a5a",
      "metadata": {},
      "outputs": [
        {
          "data": {
            "text/plain": [
              "[1, 2, 3]"
            ]
          },
          "execution_count": 26,
          "metadata": {},
          "output_type": "execute_result"
        }
      ],
      "source": [
        "l = [1, 2, 3, 3, 2, 1]\n",
        "l_dedup = list(set(l))\n",
        "l_dedup"
      ]
    },
    {
      "cell_type": "markdown",
      "id": "32b061b0-8d1d-463b-a742-f927049805f0",
      "metadata": {},
      "source": [
        "**Set operations**\n",
        "\n",
        "As sets programmatically represent sets\n",
        "mathematics, it is not surprising that they allow us to carry out\n",
        "elementary set operations. For example, the union and\n",
        "the intersection."
      ]
    },
    {
      "cell_type": "code",
      "execution_count": 27,
      "id": "12469a8c",
      "metadata": {},
      "outputs": [],
      "source": [
        "l1 = [5, 3, 2, 3, 3, 5, 8, 9]\n",
        "l2 = [3, 7, 0, 0, 1, 9, 4, 6]"
      ]
    },
    {
      "cell_type": "code",
      "execution_count": 28,
      "id": "220137ec",
      "metadata": {},
      "outputs": [
        {
          "data": {
            "text/plain": [
              "[0, 1, 2, 3, 4, 5, 6, 7, 8, 9]"
            ]
          },
          "execution_count": 28,
          "metadata": {},
          "output_type": "execute_result"
        }
      ],
      "source": [
        "# Union: elements either in l1, or in l2, or in both\n",
        "l_union = list(set(l1) | set(l2))\n",
        "l_union"
      ]
    },
    {
      "cell_type": "code",
      "execution_count": 29,
      "id": "4bc4b342",
      "metadata": {},
      "outputs": [
        {
          "data": {
            "text/plain": [
              "[9, 3]"
            ]
          },
          "execution_count": 29,
          "metadata": {},
          "output_type": "execute_result"
        }
      ],
      "source": [
        "# Intersection: elements in both l1 and l2\n",
        "l_inter = list(set(l1) & set(l2))\n",
        "l_inter"
      ]
    },
    {
      "cell_type": "markdown",
      "id": "932cee35-6fa8-44ad-9999-f8f1198ab277",
      "metadata": {},
      "source": [
        "**Membership tests**\n",
        "\n",
        "Sets are also widely used for performing tests.\n",
        "belonging, as they offer much better\n",
        "performance than the lists for this type of test.\n",
        "\n",
        "The concept of testing will be the subject of a future tutorial. For now,\n",
        "let us remember that a membership test of the type “is the element `a`\n",
        "in list `l`” is written in Python as `a in l` and returns `True` or\n",
        "`False` depending on whether `a` is actually present in list `l` or\n",
        "No."
      ]
    },
    {
      "cell_type": "code",
      "execution_count": 30,
      "id": "871c369b",
      "metadata": {},
      "outputs": [
        {
          "data": {
            "text/plain": [
              "True"
            ]
          },
          "execution_count": 30,
          "metadata": {},
          "output_type": "execute_result"
        }
      ],
      "source": [
        "l = [1, 2, 3]\n",
        "2 in l"
      ]
    },
    {
      "cell_type": "code",
      "execution_count": 31,
      "id": "6af06051",
      "metadata": {},
      "outputs": [
        {
          "data": {
            "text/plain": [
              "False"
            ]
          },
          "execution_count": 31,
          "metadata": {},
          "output_type": "execute_result"
        }
      ],
      "source": [
        "4 in l"
      ]
    },
    {
      "cell_type": "markdown",
      "id": "9e1ec7c7-637e-489a-bbe6-41509bbb33b0",
      "metadata": {},
      "source": [
        "Now, let's imagine we perform this test on a list\n",
        "containing millions of elements. By exaggerating, the Python interpreter\n",
        "should then iterate through all the elements in the list one by one until\n",
        "find the item in question, which can take a very long time.\n",
        "\n",
        "Conversely, since the elements of a set are unique, Python can\n",
        "easily keep in mind the list of unique items contained in\n",
        "the set, and therefore conclude the test very quickly. We will see a\n",
        "performance comparison in an end-of-tutorial exercise.\n",
        "\n",
        "NB: the computer implementation of the concepts mentioned above\n",
        "is called a “hash table”. The interested reader\n",
        "will be able to find more information about this structure\n",
        "[ici](http://mpechaud.fr/scripts/donnees/tablesdehachage.html) data.\n",
        "\n",
        "## Exercises\n",
        "\n",
        "### Comprehension questions\n",
        "\n",
        "- 1/ Can we access the `i`th element of a dictionary? of a set?\n",
        "\n",
        "- 2/ What types of objects can be used as keys to a\n",
        "dictionary? As values?\n",
        "\n",
        "- 3/ For what types of data is it useful to use a\n",
        "dictionary ?\n",
        "\n",
        "- 4/ Can a dictionary have duplicates in its keys?\n",
        "\n",
        "- 5/ Why can we say that a set is a particular dictionary?\n",
        "\n",
        "- 6/ Why are sets used to deduplicate lists?\n",
        "\n",
        "- 7/ Why are sets more relevant than lists for\n",
        "carry out membership tests?"
      ]
    },
    {
      "cell_type": "markdown",
      "id": "ee24a25d-6953-45f5-b4be-f77e3dbe3bc1",
      "metadata": {},
      "source": [
        "<details>\n",
        "\n",
        "<summary>\n",
        "\n",
        "Show solution\n",
        "\n",
        "</summary>\n",
        "\n",
        "1/ No, dictionaries and sets are unordered collections\n",
        "of object.\n",
        "\n",
        "2/ For values: any type of object. For keys, we use\n",
        "generally restricted to strings and/or integers.\n",
        "\n",
        "3/ Hierarchical type data.\n",
        "\n",
        "4/ No, the keys are unique.\n",
        "\n",
        "5/ A set only contains unique elements and is written with\n",
        "braces. It can therefore be seen as a special dictionary\n",
        "containing only keys.\n",
        "\n",
        "6/ By definition, the elements of a set are unique. Transforming a\n",
        "list in set therefore removes duplicates.\n",
        "\n",
        "7/ Due to the uniqueness of the elements, Python can keep in memory the\n",
        "position of the different elements. The membership tests are therefore\n",
        "highly optimized compared to when done with a list.\n",
        "\n",
        "</details>"
      ]
    },
    {
      "cell_type": "markdown",
      "id": "9cc92d84-03cf-472d-b1f5-5ba92b218c82",
      "metadata": {},
      "source": [
        "### Querying a dictionary\n",
        "\n",
        "Let the dictionary be defined in the cell below.\n",
        "\n",
        "Display using `print` operations:\n",
        "\n",
        "- the list of names of the different classes\n",
        "\n",
        "- Miranda's history grade\n",
        "\n",
        "- the list of grades obtained by Hypolyte\n",
        "\n",
        "- the list of names of students in 6th grade B\n",
        "\n",
        "- the list of subjects taught in 6th A\n",
        "\n",
        "- the list of all subjects taught\n",
        "\n",
        "- the list of marks obtained by the girls of the two classes"
      ]
    },
    {
      "cell_type": "code",
      "execution_count": 41,
      "id": "9e811cc2",
      "metadata": {},
      "outputs": [],
      "source": [
        "resultats = {\n",
        "    \"6emeA\": {\"Miranda\" : {\"notes\": {\"physique\": 16, \"histoire\": 12}},\n",
        "              \"Celestin\": {\"notes\": {\"physique\": \"absent\", \"histoire\": 18}}\n",
        "             },\n",
        "    \"6emeB\": {\"Hypolyte\": {\"notes\": {\"maths\": 11, \"anglais\": 0}},\n",
        "              \"Josephine\": {\"notes\": {\"maths\": 16, \"anglais\": 20}}\n",
        "             }\n",
        "}"
      ]
    },
    {
      "cell_type": "code",
      "execution_count": 51,
      "id": "f240f921",
      "metadata": {},
      "outputs": [
        {
          "name": "stdout",
          "output_type": "stream",
          "text": [
            "['Miranda', 'Celestin', 'Hypolyte', 'Josephine']\n",
            "12\n",
            "[11, 0]\n",
            "['Hypolyte', 'Josephine']\n",
            "['physique', 'histoire']\n",
            "['physique', 'histoire', 'maths', 'anglais']\n",
            "[16, 12, 16, 20]\n"
          ]
        }
      ],
      "source": [
        "# Test your answer in this cell\n",
        "print(list(resultats[\"6emeA\"].keys()) + list(resultats[\"6emeB\"].keys()))\n",
        "print(resultats[\"6emeA\"][\"Miranda\"][\"notes\"][\"histoire\"])\n",
        "print(list(resultats[\"6emeB\"][\"Hypolyte\"][\"notes\"].values()))\n",
        "print(list(resultats[\"6emeB\"].keys()))\n",
        "print(list(resultats[\"6emeA\"][\"Miranda\"][\"notes\"].keys()))\n",
        "print(list(resultats[\"6emeA\"][\"Miranda\"][\"notes\"].keys()) + list(resultats[\"6emeB\"][\"Hypolyte\"][\"notes\"].keys()))\n",
        "print(list(resultats[\"6emeA\"][\"Miranda\"][\"notes\"].values())+list(resultats[\"6emeB\"][\"Josephine\"][\"notes\"].values()))"
      ]
    },
    {
      "cell_type": "markdown",
      "id": "594424b2-876e-428f-81ad-a6f670163a6b",
      "metadata": {},
      "source": [
        "<details>\n",
        "\n",
        "<summary>\n",
        "\n",
        "Show solution\n",
        "\n",
        "</summary>\n",
        "\n",
        "``` python\n",
        "print(list(resultats.keys()))\n",
        "\n",
        "print(resultats[\"6emeA\"][\"Miranda\"][\"notes\"][\"histoire\"])\n",
        "\n",
        "print(list(resultats[\"6emeB\"][\"Hypolyte\"][\"notes\"].values()))\n",
        "\n",
        "print(list(resultats[\"6emeB\"].keys()))\n",
        "\n",
        "print(list(resultats[\"6emeA\"][\"Miranda\"][\"notes\"].keys()))\n",
        "\n",
        "print(list(resultats[\"6emeA\"][\"Miranda\"][\"notes\"].keys()) \n",
        "      + list(resultats[\"6emeB\"][\"Josephine\"][\"notes\"].keys()))\n",
        "\n",
        "print(list(resultats[\"6emeA\"][\"Miranda\"][\"notes\"].values()) \n",
        "      + list(resultats[\"6emeB\"][\"Josephine\"][\"notes\"].values()))\n",
        "```\n",
        "\n",
        "</details>"
      ]
    },
    {
      "cell_type": "markdown",
      "id": "f21c5cd9-08ac-4676-8d95-94032b5dcd38",
      "metadata": {},
      "source": [
        "### Length of a dictionary\n",
        "\n",
        "In previous tutorials we saw the `len` function, which\n",
        "allows you to count the number of elements in a sequence. Is this\n",
        "function works with dictionaries? What does it count then?"
      ]
    },
    {
      "cell_type": "code",
      "execution_count": 52,
      "id": "dde0e866",
      "metadata": {},
      "outputs": [
        {
          "data": {
            "text/plain": [
              "2"
            ]
          },
          "execution_count": 52,
          "metadata": {},
          "output_type": "execute_result"
        }
      ],
      "source": [
        "# Test your answer in this cell\n",
        "len(resultats)"
      ]
    },
    {
      "cell_type": "markdown",
      "id": "3b55f2ea-fe11-4027-9775-d7fd32a3d9c4",
      "metadata": {},
      "source": [
        "<details>\n",
        "\n",
        "<summary>\n",
        "\n",
        "Show solution\n",
        "\n",
        "</summary>\n",
        "\n",
        "``` python\n",
        "cv = {\n",
        "    \"marc\": {\"poste\": \"manager\", \"experience\": 7, \"hobbies\": [\"couture\", \"frisbee\"]},\n",
        "    \"miranda\": {\"poste\": \"ingénieure\", \"experience\": 5, \"hobbies\": [\"trekking\"]}\n",
        "}\n",
        "\n",
        "print(len(cv))\n",
        "print(len(cv[\"marc\"]))\n",
        "```\n",
        "\n",
        "The len function applied to a dictionary counts the number of keys.\n",
        "\n",
        "</details>"
      ]
    },
    {
      "cell_type": "markdown",
      "id": "b1dcffc6-1336-40e6-b8bc-854267c1b8fd",
      "metadata": {},
      "source": [
        "### Deleting dictionary items\n",
        "\n",
        "We saw that we could delete a key from a dictionary of two\n",
        "different ways:\n",
        "\n",
        "- with the `del` operator: `del my_dict[key]`\n",
        "\n",
        "- with the `pop` method: `my_dict.pop(key)`\n",
        "\n",
        "Beyond syntax, what are the two major differences between\n",
        "these two ways to delete a key from a dictionary? Feel free\n",
        "to experiment with examples of your choice."
      ]
    },
    {
      "cell_type": "code",
      "execution_count": 60,
      "id": "a280a828",
      "metadata": {},
      "outputs": [
        {
          "name": "stdout",
          "output_type": "stream",
          "text": [
            "26\n"
          ]
        }
      ],
      "source": [
        "# Test your answer in this cell\n",
        "dictionary = {\"Rita\": 26, \"Diogo\":26, \"Pedro\": 58, \"Paula\": 50, \"Bernardo\": 2}\n",
        "#print(del dictionary[\"Diogo\"])\n",
        "print(dictionary.pop(\"Diogo\"))"
      ]
    },
    {
      "cell_type": "markdown",
      "id": "fb876955-93b9-45c6-9bfa-c1d5742cb02a",
      "metadata": {},
      "source": [
        "<details>\n",
        "\n",
        "<summary>\n",
        "\n",
        "Show solution\n",
        "\n",
        "</summary>\n",
        "\n",
        "``` python\n",
        "inventaire = {'cafe': '500g', 'lait': '1,5L'}\n",
        "\n",
        "print(inventaire.pop('cafe'))\n",
        "print(inventaire.pop('orange', 'indisponible'))\n",
        "```\n",
        "\n",
        "1st difference: when deleting an existing key with the method\n",
        "pop, the value associated with the key is returned. The del operation does not\n",
        "returns nothing (actually, an object of type None)\n",
        "\n",
        "2nd difference: the pop method allows you to specify a value by\n",
        "defaults if the key does not exist, and therefore does not return\n",
        "error in this case. The del operation necessarily returns an error\n",
        "when the key does not exist.\n",
        "\n",
        "</details>"
      ]
    },
    {
      "cell_type": "markdown",
      "id": "ae7b5ff7-64ee-49b8-8df6-b64a001906a0",
      "metadata": {},
      "source": [
        "### Renaming a dictionary key\n",
        "\n",
        "By exploiting the fact that the `pop` method used to delete a\n",
        "key of a dictionary returns the value associated with that key, propose\n",
        "a method to rename a dictionary key to a single\n",
        "operation."
      ]
    },
    {
      "cell_type": "code",
      "execution_count": 62,
      "id": "9b1c7179",
      "metadata": {},
      "outputs": [
        {
          "data": {
            "text/plain": [
              "{'Bordeaux': 5, 'Paris': 10, 'Nice': 2}"
            ]
          },
          "execution_count": 62,
          "metadata": {},
          "output_type": "execute_result"
        }
      ],
      "source": [
        "# Test your answer in this cell\n",
        "dictionary2 = {\"Marseille\": 2, \"Bordeaux\": 5, \"Paris\": 10}\n",
        "dictionary2[\"Nice\"]=dictionary2.pop(\"Marseille\")\n",
        "dictionary2"
      ]
    },
    {
      "cell_type": "markdown",
      "id": "e141350d-14c4-4b59-9e31-1f90b3761346",
      "metadata": {},
      "source": [
        "<details>\n",
        "\n",
        "<summary>\n",
        "\n",
        "Show solution\n",
        "\n",
        "</summary>\n",
        "\n",
        "``` python\n",
        "inventaire = {'cafe': '500g', 'lait': '1,5L'}\n",
        "\n",
        "inventaire['eau'] = inventaire.pop('lait')\n",
        "\n",
        "inventaire\n",
        "```\n",
        "\n",
        "</details>"
      ]
    },
    {
      "cell_type": "markdown",
      "id": "f30a15a8-57d7-48c1-8d9b-bdd1c2cf9c57",
      "metadata": {},
      "source": [
        "### Dictionary membership tests\n",
        "\n",
        "Consider the following dictionary:\n",
        "\n",
        "`animals = {'cats': 5, 'dogs': 12}`\n",
        "\n",
        "What will the following membership tests return? Check your\n",
        "predictions.\n",
        "\n",
        "- `'cats' in animals.keys()`\n",
        "\n",
        "- `'cats' in animals.values()`\n",
        "\n",
        "- `'cats' in animals`"
      ]
    },
    {
      "cell_type": "code",
      "execution_count": 68,
      "id": "26e18d4a",
      "metadata": {},
      "outputs": [
        {
          "data": {
            "text/plain": [
              "True"
            ]
          },
          "execution_count": 68,
          "metadata": {},
          "output_type": "execute_result"
        }
      ],
      "source": [
        "# Test your answer in this cell\n",
        "animals = {\"cats\": 5, \"dogs\": 12}\n",
        "\"cats\" in animals.keys()\n",
        "\"cats\" in animals.values()\n",
        "\"cats\" in animals"
      ]
    },
    {
      "cell_type": "markdown",
      "id": "91a5f507-b1b4-4c78-95b9-da6e8416440e",
      "metadata": {},
      "source": [
        "<details>\n",
        "\n",
        "<summary>\n",
        "\n",
        "Show solution\n",
        "\n",
        "</summary>\n",
        "\n",
        "``` python\n",
        "animaux = {'chats': 5, 'chiens': 12}\n",
        "\n",
        "print(animaux.keys())\n",
        "print('chats' in animaux.keys()) \n",
        "# True : 'chats' est bien dans les clés de `animaux`\n",
        "\n",
        "print()\n",
        "print(animaux.values())\n",
        "print('chats' in animaux.values()) \n",
        "# False : 'chats' n'est pas une valeur de `animaux`\n",
        "\n",
        "print()\n",
        "print(animaux)\n",
        "print('chats' in animaux) \n",
        "# True : ce test est strictement équivalent à 'chats' in animaux.keys()\n",
        "```\n",
        "\n",
        "</details>"
      ]
    },
    {
      "cell_type": "markdown",
      "id": "c978177a-885d-42b5-be89-7e00da02ef0b",
      "metadata": {},
      "source": [
        "### Deleting a non-existent key\n",
        "\n",
        "We saw that the `del` operation returned an error when\n",
        "used it to remove a non-existent key from a dictionary. A\n",
        "using your new knowledge about membership tests,\n",
        "can you imagine a method (without necessarily implementing it) that\n",
        "would allow this case to be handled without error?"
      ]
    },
    {
      "cell_type": "code",
      "execution_count": null,
      "id": "f457c64e",
      "metadata": {},
      "outputs": [],
      "source": [
        "# Test your answer in this cell"
      ]
    },
    {
      "cell_type": "markdown",
      "id": "a783ea54-595d-46c9-8e32-417f82855840",
      "metadata": {},
      "source": [
        "<details>\n",
        "\n",
        "<summary>\n",
        "\n",
        "Show solution\n",
        "\n",
        "</summary>\n",
        "\n",
        "``` python\n",
        "inventaire = {'cafe': '500g', 'lait': '1,5L'}\n",
        "\n",
        "cle = 'chocolat'\n",
        "\n",
        "if cle in inventaire.keys():\n",
        "    del inventaire[cle]\n",
        "```\n",
        "\n",
        "We use a membership test: if the key exists in the keys of the\n",
        "dictionary, it is deleted. Otherwise, nothing happens. This\n",
        "syntax will become clearer with the next tutorial.\n",
        "\n",
        "</details>"
      ]
    },
    {
      "cell_type": "markdown",
      "id": "8b588558-e110-462d-a037-61c36d966a3e",
      "metadata": {},
      "source": [
        "### Deduplication\n",
        "\n",
        "Consider the following repeating string:\n",
        "\n",
        "`x = \"cdabcdabcdabcdabcdabcdabcdabcdabcdab\"`\n",
        "\n",
        "Construct a list of the unique characters found in this\n",
        "chain, listed in alphabetical order, namely:\n",
        "\n",
        "`l = ['a', 'b', 'c', 'd']`\n",
        "\n",
        "Hint: The procedure is similar to removing duplicates.\n",
        "from a list."
      ]
    },
    {
      "cell_type": "code",
      "execution_count": 70,
      "id": "860d543e",
      "metadata": {},
      "outputs": [
        {
          "data": {
            "text/plain": [
              "['a', 'b', 'c', 'd']"
            ]
          },
          "execution_count": 70,
          "metadata": {},
          "output_type": "execute_result"
        }
      ],
      "source": [
        "# Test your answer in this cell\n",
        "x = \"cdabcdabcdabcdabcdabcdabcdabcdabcdab\"\n",
        "l = list(set(list(x)))\n",
        "l.sort()\n",
        "l"
      ]
    },
    {
      "cell_type": "markdown",
      "id": "8dc29621-1c30-4ee1-a58b-c87e74b805a0",
      "metadata": {},
      "source": [
        "<details>\n",
        "\n",
        "<summary>\n",
        "\n",
        "Show solution\n",
        "\n",
        "</summary>\n",
        "\n",
        "``` python\n",
        "x = \"cdabcdabcdabcdabcdabcdabcdabcdabcdab\"\n",
        "l = list(set(x))\n",
        "l.sort()\n",
        "l\n",
        "```\n",
        "\n",
        "</details>"
      ]
    },
    {
      "cell_type": "markdown",
      "id": "e68e3dd6-77c3-4571-b451-f8938184b15e",
      "metadata": {},
      "source": [
        "### Intersections and unions of strings\n",
        "\n",
        "Consider the following two strings.\n",
        "\n",
        "`cyrano1 = 'It's a rock! … it's a peak! … it's a cape!'`\n",
        "\n",
        "`cyrano2 = 'What am I saying, it's a cape? … It's a peninsula!'`\n",
        "\n",
        "Question 1: Find the characters that appear in both\n",
        "two chains.\n",
        "\n",
        "Question 2: Find the characters that appear in at least one\n",
        "of the two texts."
      ]
    },
    {
      "cell_type": "code",
      "execution_count": 73,
      "id": "4713e2a1",
      "metadata": {},
      "outputs": [
        {
          "name": "stdout",
          "output_type": "stream",
          "text": [
            "{' ', 'a', 'I', '…', 'i', 'c', 'e', 'p', 't', \"'\", '!', 's'}\n",
            "{'n', 'I', '…', 'i', 'm', 'g', 'p', 'u', 'h', ',', 'a', 'W', 'o', '!', '?', ' ', 'l', 'c', 'r', 't', 's', 'y', 'e', \"'\", 'k'}\n"
          ]
        }
      ],
      "source": [
        "# Test your answer in this cell\n",
        "cyrano1 = \"It's a rock! … it's a peak! … it's a cape!\"\n",
        "\n",
        "cyrano2 = \"What am I saying, it's a cape? … It's a peninsula!\"\n",
        "\n",
        "char1 = set(list(cyrano1))\n",
        "char2 = set(list(cyrano2))\n",
        "\n",
        "print(char1 & char2)\n",
        "print(char1 | char2)"
      ]
    },
    {
      "cell_type": "markdown",
      "id": "3846e419-ff96-481c-86b4-f13cc26a26df",
      "metadata": {},
      "source": [
        "<details>\n",
        "\n",
        "<summary>\n",
        "\n",
        "Show solution\n",
        "\n",
        "</summary>\n",
        "\n",
        "``` python\n",
        "cyrano1 = 'C’est un roc ! … c’est un pic ! … c’est un cap !'\n",
        "cyrano2 = 'Que dis-je, c’est un cap ? … C’est une péninsule !'\n",
        "\n",
        "# Question 1\n",
        "\n",
        "inter = list(set(cyrano1) & set(cyrano2))\n",
        "print(inter)\n",
        "\n",
        "# Question 2\n",
        "\n",
        "union = list(set(cyrano1) | set(cyrano2))\n",
        "print(union)\n",
        "```\n",
        "\n",
        "</details>"
      ]
    },
    {
      "cell_type": "markdown",
      "id": "e168bf1a-a530-4490-abdb-641d74524d1c",
      "metadata": {},
      "source": [
        "### On the interest of sets for membership tests\n",
        "\n",
        "The code below generates a list with the letters a, b, c and d\n",
        "repeated 1 million times. Then it performs a membership test\n",
        "of a letter that does not exist in the list, and calculates the time taken by\n",
        "the Python interpreter to perform the test.\n",
        "\n",
        "Using this syntax, compare the time taken by the same test\n",
        "of membership when we transform the list into a set beforehand."
      ]
    },
    {
      "cell_type": "code",
      "execution_count": 74,
      "id": "50f9a357",
      "metadata": {},
      "outputs": [
        {
          "name": "stdout",
          "output_type": "stream",
          "text": [
            "['a', 'b', 'c', 'd', 'a', 'b', 'c', 'd', 'a', 'b']\n",
            "CPU times: total: 93.8 ms\n",
            "Wall time: 101 ms\n"
          ]
        },
        {
          "data": {
            "text/plain": [
              "False"
            ]
          },
          "execution_count": 74,
          "metadata": {},
          "output_type": "execute_result"
        }
      ],
      "source": [
        "x = ['a', 'b', 'c', 'd'] * 1000000\n",
        "print(x[:10])\n",
        "\n",
        "%time 'e' in x"
      ]
    },
    {
      "cell_type": "code",
      "execution_count": 77,
      "id": "94793681",
      "metadata": {},
      "outputs": [
        {
          "name": "stdout",
          "output_type": "stream",
          "text": [
            "['a', 'b', 'c', 'd', 'a', 'b', 'c', 'd', 'a', 'b']\n",
            "{'d', 'a', 'b', 'c'}\n",
            "CPU times: total: 15.6 ms\n",
            "Wall time: 91.6 ms\n",
            "CPU times: total: 0 ns\n",
            "Wall time: 0 ns\n"
          ]
        },
        {
          "data": {
            "text/plain": [
              "False"
            ]
          },
          "execution_count": 77,
          "metadata": {},
          "output_type": "execute_result"
        }
      ],
      "source": [
        "# Test your answer in this cell\n",
        "x = ['a', 'b', 'c', 'd'] * 1000000\n",
        "print(x[:10])\n",
        "x_set = set(x)\n",
        "print(x_set)\n",
        "\n",
        "%time 'e' in x\n",
        "%time 'e' in x_set"
      ]
    },
    {
      "cell_type": "markdown",
      "id": "d5b9c151-59cf-4d2e-b043-f4d8fddd90fb",
      "metadata": {},
      "source": [
        "<details>\n",
        "\n",
        "<summary>\n",
        "\n",
        "Show solution\n",
        "\n",
        "</summary>\n",
        "\n",
        "``` python\n",
        "x = ['a', 'b', 'c', 'd'] * 1000000\n",
        "print(x[:10])\n",
        "\n",
        "x_set = set(x)\n",
        "print(x_set)\n",
        "\n",
        "%time 'e' in x\n",
        "%time 'e' in x_set\n",
        "```\n",
        "\n",
        "The initial membership test is measured in milliseconds. The\n",
        "performed on the set is measured in microseconds. The test is much\n",
        "faster when converting to a set first.\n",
        "\n",
        "</details>"
      ]
    }
  ],
  "metadata": {
    "kernelspec": {
      "display_name": "Python 3 (ipykernel)",
      "language": "python",
      "name": "python3",
      "path": "/Users/gblin/opt/anaconda3/share/jupyter/kernels/python3"
    },
    "language_info": {
      "codemirror_mode": {
        "name": "ipython",
        "version": 3
      },
      "file_extension": ".py",
      "mimetype": "text/x-python",
      "name": "python",
      "nbconvert_exporter": "python",
      "pygments_lexer": "ipython3",
      "version": "3.11.9"
    }
  },
  "nbformat": 4,
  "nbformat_minor": 5
}
