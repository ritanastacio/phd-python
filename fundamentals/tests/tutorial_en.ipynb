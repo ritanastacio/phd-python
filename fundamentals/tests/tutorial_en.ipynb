{
  "cells": [
    {
      "cell_type": "markdown",
      "id": "2d8b730e-fa82-49a2-8ce9-a7df538d449c",
      "metadata": {},
      "source": [
        "# Logical tests\n",
        "\n",
        "In the previous tutorial, we mentioned – without explaining it – the\n",
        "notion of **test**, through the example of membership tests. A\n",
        "Now we will go into detail about how the tests work.\n",
        "logic in Python. These are an essential tool in the\n",
        "creation of programs to automate operations, in the\n",
        "to the extent that they allow code to be executed – or not – according to certain\n",
        "conditions**. They therefore allow the computer to take\n",
        "decisions based on criteria set by the user.\n",
        "\n",
        "## The Boolean type\n",
        "\n",
        "In its simplest form, a test in Python is an expression that\n",
        "evaluates to “true” or “false”. For example, the expression $3 > 2$ is true,\n",
        "the associated test will therefore return “true”. For this type of evaluation, Python\n",
        "has a special type of objects: **Booleans**. Unlike\n",
        "to the object types we have already seen (`int`, `float`, `str`..), the\n",
        "Booleans can only take two values: `True` and `False`."
      ]
    },
    {
      "cell_type": "code",
      "execution_count": null,
      "id": "7bba8103",
      "metadata": {},
      "outputs": [],
      "source": [
        "type(True)"
      ]
    },
    {
      "cell_type": "markdown",
      "id": "b27b07f9-4d33-49cd-afdd-902ccc8a81dd",
      "metadata": {},
      "source": [
        "Like any object, Booleans can be assigned to\n",
        "variables."
      ]
    },
    {
      "cell_type": "code",
      "execution_count": null,
      "id": "c30dc3ef",
      "metadata": {},
      "outputs": [],
      "source": [
        "a = False\n",
        "print(a)\n",
        "print(type(a))"
      ]
    },
    {
      "cell_type": "markdown",
      "id": "c9c03e37-8d41-4a8b-b417-0b68b5d3d15b",
      "metadata": {},
      "source": [
        "The values ​​`True` and `False` should be written in this way\n",
        "precisely (first letter in capitals, no quotation marks). They do not\n",
        "cannot otherwise be used as variable names in order to\n",
        "limit ambiguities."
      ]
    },
    {
      "cell_type": "code",
      "execution_count": null,
      "id": "5e55ffc6",
      "metadata": {},
      "outputs": [],
      "source": [
        "a = true  # Python looking for variable `true` but it doesn't exist"
      ]
    },
    {
      "cell_type": "code",
      "execution_count": null,
      "id": "71c68ff5",
      "metadata": {},
      "outputs": [],
      "source": [
        "True = 3"
      ]
    },
    {
      "cell_type": "markdown",
      "id": "b7d5876e-6ee8-438c-b633-a91abd7e1ec5",
      "metadata": {},
      "source": [
        "## Comparison Operators\n",
        "\n",
        "Comparison operators formalize mathematical operations\n",
        "of comparison (equality, non-equality, inequalities). They **compare two\n",
        "values ​​and return a boolean value**.\n",
        "\n",
        "| Operator | Meaning |\n",
        "|----------|------------------------|\n",
        "| == | Equal to |\n",
        "| != | Not equal to |\n",
        "| \\< | Strictly less than |\n",
        "| \\> | Strictly greater than |\n",
        "| \\<= | Less than or equal to |\n",
        "| \\>= | Greater than or equal to |\n",
        "\n",
        "Let us illustrate these operators with some examples."
      ]
    },
    {
      "cell_type": "code",
      "execution_count": null,
      "id": "8440da52",
      "metadata": {},
      "outputs": [],
      "source": [
        "3 == 3"
      ]
    },
    {
      "cell_type": "code",
      "execution_count": null,
      "id": "4a1b0e2b",
      "metadata": {},
      "outputs": [],
      "source": [
        "63 == 36"
      ]
    },
    {
      "cell_type": "code",
      "execution_count": null,
      "id": "91dce8bf",
      "metadata": {},
      "outputs": [],
      "source": [
        "2 != 3"
      ]
    },
    {
      "cell_type": "code",
      "execution_count": null,
      "id": "714f007b",
      "metadata": {},
      "outputs": [],
      "source": [
        "2 != 2"
      ]
    },
    {
      "cell_type": "code",
      "execution_count": null,
      "id": "ef31f43b",
      "metadata": {},
      "outputs": [],
      "source": [
        "3 > 2"
      ]
    },
    {
      "cell_type": "code",
      "execution_count": null,
      "id": "028bca04",
      "metadata": {},
      "outputs": [],
      "source": [
        "a = 36\n",
        "a <= a"
      ]
    },
    {
      "cell_type": "code",
      "execution_count": null,
      "id": "4778e9e8",
      "metadata": {},
      "outputs": [],
      "source": [
        "a < a"
      ]
    },
    {
      "cell_type": "markdown",
      "id": "4443a0f7-3f6b-4402-8eda-e8a964954d27",
      "metadata": {},
      "source": [
        "Everything seems to work fine for math operations\n",
        "usual. But these operators actually work on any\n",
        "object type."
      ]
    },
    {
      "cell_type": "code",
      "execution_count": null,
      "id": "950845db",
      "metadata": {},
      "outputs": [],
      "source": [
        "'do re mi fa sol' == 'do re mi fa sol'"
      ]
    },
    {
      "cell_type": "code",
      "execution_count": null,
      "id": "320be6f8",
      "metadata": {},
      "outputs": [],
      "source": [
        "'do re mi fa sol' == 'Do Re Mi Fa Sol'"
      ]
    },
    {
      "cell_type": "code",
      "execution_count": null,
      "id": "f1c50cd0",
      "metadata": {},
      "outputs": [],
      "source": [
        "'canard' != 'abeille'"
      ]
    },
    {
      "cell_type": "code",
      "execution_count": null,
      "id": "d9e93b12",
      "metadata": {},
      "outputs": [],
      "source": [
        "True == True"
      ]
    },
    {
      "cell_type": "code",
      "execution_count": null,
      "id": "c9d603c1",
      "metadata": {},
      "outputs": [],
      "source": [
        "True == False"
      ]
    },
    {
      "cell_type": "code",
      "execution_count": null,
      "id": "84066bfb",
      "metadata": {},
      "outputs": [],
      "source": [
        "[1, 2, 3] == [1, 2, 3]"
      ]
    },
    {
      "cell_type": "code",
      "execution_count": null,
      "id": "bf84004b",
      "metadata": {},
      "outputs": [],
      "source": [
        "[1, 2] != [3, 4]"
      ]
    },
    {
      "cell_type": "markdown",
      "id": "626878f9-1123-4759-ae1f-fd06bb2987ea",
      "metadata": {},
      "source": [
        "Finally, it is possible to perform chain comparisons.\n",
        "The expression returns `True` provided that each of the comparisons\n",
        "be true."
      ]
    },
    {
      "cell_type": "code",
      "execution_count": null,
      "id": "23b690c9",
      "metadata": {},
      "outputs": [],
      "source": [
        "5 < 7 <= 8"
      ]
    },
    {
      "cell_type": "code",
      "execution_count": null,
      "id": "75a90b0f",
      "metadata": {},
      "outputs": [],
      "source": [
        "5 < 7 <= 6"
      ]
    },
    {
      "cell_type": "markdown",
      "id": "382415af-7c25-4edb-914a-fa33209a44d4",
      "metadata": {},
      "source": [
        "## Boolean Operators\n",
        "\n",
        "Boolean operators allow you to **test multiple\n",
        "logical expressions**. Basically, these operators take into account\n",
        "input two boolean values, and return a single boolean value\n",
        "according to fixed rules of logic. These rules are stated in\n",
        "**truth tables**.\n",
        "\n",
        "### `and` operator\n",
        "\n",
        "The first boolean operator is `and`. Let's look at its truth table:\n",
        "\n",
        "| Phrase | Evaluation |\n",
        "|--------|------------|\n",
        "| `True and True` | `True` |\n",
        "| `True and False` | `False` |\n",
        "| `False and True` | `False` |\n",
        "| `False and False` | `False` |\n",
        "\n",
        "Let's check these rules in practice using a few examples."
      ]
    },
    {
      "cell_type": "code",
      "execution_count": null,
      "id": "81348eb3",
      "metadata": {},
      "outputs": [],
      "source": [
        "True and True"
      ]
    },
    {
      "cell_type": "code",
      "execution_count": null,
      "id": "960d137d",
      "metadata": {},
      "outputs": [],
      "source": [
        "False and True"
      ]
    },
    {
      "cell_type": "markdown",
      "id": "77091d1e-d2d7-4eb1-9784-956aca68421a",
      "metadata": {},
      "source": [
        "The rules seem to work on boolean values. Good\n",
        "understood, in practice, we are rather interested in evaluating real\n",
        "logical expressions. We can therefore use these operators to test\n",
        "expressions that *return* a boolean value."
      ]
    },
    {
      "cell_type": "code",
      "execution_count": null,
      "id": "3aa63688",
      "metadata": {},
      "outputs": [],
      "source": [
        "(3 > 2) and (5 <= 9)"
      ]
    },
    {
      "cell_type": "code",
      "execution_count": null,
      "id": "5f4260f6",
      "metadata": {},
      "outputs": [],
      "source": [
        "a = (\"x\" != \"z\")\n",
        "b = (\"x\" == \"y\")\n",
        "a and b"
      ]
    },
    {
      "cell_type": "markdown",
      "id": "eeec85af-b89c-42c7-b9e6-0c7217bc6146",
      "metadata": {},
      "source": [
        "Note the use of parentheses to delimit the tests: they are not\n",
        "not mandatory, but strongly recommended as they\n",
        "greatly improve the readability of your tests.\n",
        "### The `or` operator\n",
        "The second Boolean operator is `or`. Its truth table is:\n",
        "| Phrase | Evaluation |\n",
        "|----------------------|------------|\n",
        "| `True or True` | `True` |\n",
        "| `True or False` | `True` |\n",
        "| `False or True` | `True` |\n",
        "| `False or False` | `False` |"
      ]
    },
    {
      "cell_type": "code",
      "execution_count": null,
      "id": "4d3b9cda",
      "metadata": {},
      "outputs": [],
      "source": [
        "True or True"
      ]
    },
    {
      "cell_type": "code",
      "execution_count": null,
      "id": "fc1c69d5",
      "metadata": {},
      "outputs": [],
      "source": [
        "False or True"
      ]
    },
    {
      "cell_type": "code",
      "execution_count": null,
      "id": "34976138",
      "metadata": {},
      "outputs": [],
      "source": [
        "(3 > 2) or (5 <= 9)"
      ]
    },
    {
      "cell_type": "code",
      "execution_count": null,
      "id": "c6ce484c",
      "metadata": {},
      "outputs": [],
      "source": [
        "a = (\"x\" != \"z\")\n",
        "b = (\"x\" == \"y\")\n",
        "a or b"
      ]
    },
    {
      "cell_type": "markdown",
      "id": "7a68cd8f-9e46-4f51-b8eb-cfb800fb9a43",
      "metadata": {},
      "source": [
        "### The `not` operator\n",
        "\n",
        "The last boolean operator is `not`. Its truth table is\n",
        "next:\n",
        "\n",
        "| Expression | Evaluation |\n",
        "|-------------|-------------|\n",
        "| `not True` | `False` |\n",
        "| `not False` | `True` |"
      ]
    },
    {
      "cell_type": "code",
      "execution_count": null,
      "id": "4288345f",
      "metadata": {},
      "outputs": [],
      "source": [
        "not True"
      ]
    },
    {
      "cell_type": "code",
      "execution_count": null,
      "id": "cd4962ba",
      "metadata": {},
      "outputs": [],
      "source": [
        "not False"
      ]
    },
    {
      "cell_type": "code",
      "execution_count": null,
      "id": "7200b45c",
      "metadata": {},
      "outputs": [],
      "source": [
        "not (3 + 3 == 6)"
      ]
    },
    {
      "cell_type": "code",
      "execution_count": null,
      "id": "1f3dd5f8",
      "metadata": {},
      "outputs": [],
      "source": [
        "not (7 < 7)"
      ]
    },
    {
      "cell_type": "markdown",
      "id": "a8d3c6a6-fec5-4a54-90d5-859787ecd4e8",
      "metadata": {},
      "source": [
        "## Conditional structures\n",
        "\n",
        "All the expressions we have seen previously are\n",
        "boolean expressions: a test is performed, and the operation returns\n",
        "`True` or `False` depending on whether the evaluated expression is true or not. In\n",
        "the framework of a computer program that performs operations\n",
        "automated, we will want to use them as **conditions**: *if*\n",
        "the expression is true, then the computer must do such and such\n",
        "operation. **Conditional structures** allow precisely this\n",
        "use.\n",
        "\n",
        "Let us illustrate this principle by implementing the following program:\n",
        "\n",
        "- Let `x` be a variable.\n",
        "\n",
        "- If `x` is greater than $5$, then print in the console the\n",
        "message “The expression is true.”\n",
        "\n",
        "- Otherwise, print the message to the console\n",
        "“The expression is wrong.”\n",
        "\n",
        "Vary the value of `x` to verify that the\n",
        "test."
      ]
    },
    {
      "cell_type": "code",
      "execution_count": null,
      "id": "19d67fab",
      "metadata": {},
      "outputs": [],
      "source": [
        "x = 7\n",
        "\n",
        "if x >= 5:\n",
        "    print(\"L'expression est vraie.\")\n",
        "else:\n",
        "    print(\"L'expression est fausse.\")"
      ]
    },
    {
      "cell_type": "markdown",
      "id": "4f68a92b-f049-4aac-b14d-fab9819d05a4",
      "metadata": {},
      "source": [
        "### Instruction blocks and indentation\n",
        "The previous example illustrates the syntax of conditional structures.\n",
        "in Python. These structures are based on *instruction blocks*,\n",
        "which delimit the set of instructions that must be executed\n",
        "when a test is true. Conditional structures have three rules:\n",
        "- the line that specifies the test ends with `:`\n",
        "- all instructions that must be executed if the test is\n",
        "true are located at the same indentation level;\n",
        "- the conditional structure ends when the indentation returns\n",
        "to its original level.\n",
        "Note that conditional structures can absolutely be\n",
        "nested, as illustrated in the following example."
      ]
    },
    {
      "cell_type": "code",
      "execution_count": null,
      "id": "41aff72f",
      "metadata": {},
      "outputs": [],
      "source": [
        "x = 7\n",
        "\n",
        "if x >= 5:\n",
        "    print(\"L'expression 1 est vraie.\")\n",
        "    if x >= 12:\n",
        "        print(\"L'expression 2 est vraie.\")"
      ]
    },
    {
      "cell_type": "markdown",
      "id": "6ed7521a-bb9c-4a5f-bd85-c3fa28769f38",
      "metadata": {},
      "source": [
        "When `x = 7`, the first test returns `True`, the statement block\n",
        "at indentation level 1 is therefore executed line by line. The second\n",
        "test returns `False`, the block of instructions at level\n",
        "indentation 2 is not executed.\n",
        "\n",
        "Vary the value of `x` so that both blocks are executed.\n",
        "\n",
        "### `if`, `else` and `elif` statements\n",
        "\n",
        "In conditional structures, tests can be specified at\n",
        "using three statements: `if`, `else` and `elif`. Examples\n",
        "previous ones have already illustrated the functioning of the first two (and\n",
        "most frequent) instructions.\n",
        "\n",
        "In the case of a simple test (one condition only), only one will be used\n",
        "`if` statement, which works simply: if the condition\n",
        "(test) returns `True`, then the following (indented) block of statements\n",
        "is executed. If the condition returns `False`, nothing happens.\n",
        "Let us illustrate this with a membership test, of which we have seen examples\n",
        "examples in the previous tutorial."
      ]
    },
    {
      "cell_type": "code",
      "execution_count": null,
      "id": "522576f5",
      "metadata": {},
      "outputs": [],
      "source": [
        "client = \"Isidore\"\n",
        "\n",
        "if client in [\"Alexandrine\", \"Achille\", \"Colette\"]:\n",
        "    print(\"Client connu.\")"
      ]
    },
    {
      "cell_type": "markdown",
      "id": "b33fad77-b405-4097-8996-7e5bd6c6fc99",
      "metadata": {},
      "source": [
        "In practice, one often wishes to specify an alternative, when the\n",
        "The condition of the `if` statement returns `False`. The `else` statement\n",
        "allows you to specify an alternative statement block."
      ]
    },
    {
      "cell_type": "code",
      "execution_count": null,
      "id": "4875f472",
      "metadata": {},
      "outputs": [],
      "source": [
        "client = \"Isidore\"\n",
        "\n",
        "if client in [\"Alexandrine\", \"Achille\", \"Colette\"]:\n",
        "    print(\"Client connu.\")\n",
        "else:\n",
        "    print(\"Client inconnu.\")"
      ]
    },
    {
      "cell_type": "markdown",
      "id": "88ccdf06-ce43-4921-a55c-35421e7c4be7",
      "metadata": {},
      "source": [
        "Finally, one may want to specify multiple alternatives. In this case, one\n",
        "will use `elif` statements. The first `elif` statement does not\n",
        "will only execute if the test in the `if` statement returns False. The\n",
        "second `elif` statement will only execute if the test of the\n",
        "first `elif` statement returns `False`, and so on. There\n",
        "Again, one can specify a final `else` statement, which does not\n",
        "only runs if none of the previous tests returned `True`."
      ]
    },
    {
      "cell_type": "code",
      "execution_count": null,
      "id": "de2a99c0",
      "metadata": {},
      "outputs": [],
      "source": [
        "client = \"Isidore\"\n",
        "\n",
        "if client == \"Alexandrine\":\n",
        "    print(\"Bonjour Alexandrine.\")\n",
        "elif client == \"Achille\":\n",
        "    print(\"Bonjour Achille.\")\n",
        "elif client == \"Colette\":\n",
        "    print(\"Bonjour Colette.\")\n",
        "else:\n",
        "    print(\"Bonjour cher inconnu.\")"
      ]
    },
    {
      "cell_type": "markdown",
      "id": "41eeb487-9999-4498-90b1-7aa88fea0a79",
      "metadata": {},
      "source": [
        "NB: The above instructions are for example purposes only.\n",
        "In practice, there are much more concise ways to code a\n",
        "program that performs the same operations.\n",
        "## Exercises\n",
        "### Comprehension questions\n",
        "- 1/ What is the particularity of Booleans compared to others?\n",
        "basic object types in Python?\n",
        "- 2/ What are the inputs and outputs of an operator?\n",
        "comparison ?\n",
        "- 3/ What types of objects can be compared using a comparison operator?\n",
        "comparison ?\n",
        "- 4/ What is the difference between the `=` operator and the `==` operator?\n",
        "- 5/ What are the inputs and outputs of a Boolean operator?\n",
        "- 6/ Explain in French the principle of the Boolean operator `and`.\n",
        "Same questions for `or` and `not`.\n",
        "- 7/ What is the difference between boolean expression and condition?\n",
        "- 8/ What is the structure of a conditional statement?\n",
        "- 9/ Can we nest conditional statements?\n",
        "- 10/ Among the `if`, `else`, and `elif` instructions, which are\n",
        "mandatory and which are optional?"
      ]
    },
    {
      "cell_type": "markdown",
      "id": "134fc7fe-ac27-450d-8eb7-157b319a8fa3",
      "metadata": {},
      "source": [
        "<details>\n",
        "<summary>\n",
        "Show solution\n",
        "</summary>\n",
        "1/ They have only two values: True and False. The other types have one\n",
        "infinite number of possible values.\n",
        "2/ Inputs: two values. Output: boolean value.\n",
        "3/ All types of objects. In practice, however, there are not many\n",
        "meaning to compare objects of different type, the result will be\n",
        "usually `False`.\n",
        "4/ The `=` operator assigns a value to a variable. The `==` operator\n",
        "tests the equality of two objects.\n",
        "5/ Inputs: two boolean values, or two expressions that return\n",
        "booleans. Output: boolean value.\n",
        "6/ The `and` operator returns `True` if both of its inputs are `True`, and\n",
        "`False` in all other cases. The `or` operator returns `True` if at least\n",
        "at least one of its two inputs is `True`, and `False` in the case where they\n",
        "are both `False`. The `not` operator returns `False` if its\n",
        "input is `True`, and `True` otherwise.\n",
        "7/ In both cases, these are tests. We speak of a condition when\n",
        "expressions are used within structures\n",
        "conditional.\n",
        "8/ The conditional statement begins with an `if` statement,\n",
        "`else` or `elif`, which ends with `:`. Next comes, indented by one\n",
        "level, a block of operations that are executed only if the instruction\n",
        "is `True`. The block ends when the indentation returns to its\n",
        "initial level.\n",
        "9/ Yes, conditional statements can be nested infinitely.\n",
        "(in theory) You just have to be careful to respect the levels\n",
        "indentation.\n",
        "10/ Only the `if` statement is mandatory.\n",
        "</details>"
      ]
    },
    {
      "cell_type": "markdown",
      "id": "85bfdee1-096c-4dec-8a24-89aa69bb1967",
      "metadata": {},
      "source": [
        "### Test Results Prediction\n",
        "\n",
        "Predict the results of the following tests, and check your predictions:\n",
        "\n",
        "- `'Simon' in ['simon', 'oceane', 'veronique']`\n",
        "\n",
        "- `[1, 2, 3] == ['1', '2', '3']`\n",
        "\n",
        "- `'x' != 'x'`\n",
        "\n",
        "- `(9 > 5) and (3 == 5)`\n",
        "\n",
        "- `(3 > 2 and 5 >= 1) or (5 <= 9 and 6 > 12)`\n",
        "\n",
        "- `not (9 > 2*3)`\n",
        "\n",
        "- `not (9 > (2*3))`\n",
        "\n",
        "- `not ((7 > 8) or (5 <= 5))`\n",
        "\n",
        "- `(True and True) or (True == False)`\n",
        "\n",
        "- `(not False) or (not True)`"
      ]
    },
    {
      "cell_type": "code",
      "execution_count": 39,
      "id": "75ec3ebf",
      "metadata": {},
      "outputs": [
        {
          "data": {
            "text/plain": [
              "False"
            ]
          },
          "execution_count": 39,
          "metadata": {},
          "output_type": "execute_result"
        }
      ],
      "source": [
        "# Test your answer in this cell\n",
        "\n",
        "#'Simon' in ['simon', 'oceane', 'veronique'] #False\n",
        "\n",
        "#[1, 2, 3] == ['1', '2', '3'] #False\n",
        "\n",
        "#'x' != 'x' #False\n",
        "\n",
        "#(9 > 5) and (3 == 5) #False\n",
        "\n",
        "#(3 > 2 and 5 >= 1) or (5 <= 9 and 6 > 12) #True\n",
        "\n",
        "#not (9 > 2*3) #False\n",
        "\n",
        "#not (9 > (2*3)) #False\n",
        "\n",
        "#not ((7 > 8) or (5 <= 5)) #False\n",
        "\n",
        "#(True and True) or (True == False) #True\n",
        "\n",
        "#(not False) or (not True) #True"
      ]
    },
    {
      "cell_type": "markdown",
      "id": "5ca70026-7a83-4746-bc2c-ae19f42ae080",
      "metadata": {},
      "source": [
        "<details>\n",
        "\n",
        "<summary>\n",
        "\n",
        "Show solution\n",
        "\n",
        "</summary>\n",
        "\n",
        "- `'Simon' in ['simon', 'oceane', 'veronique']` : False\n",
        "\n",
        "- `[1, 2, 3] == ['1', '2', '3']`: False\n",
        "\n",
        "- `'x' != 'x'` : False\n",
        "\n",
        "- `(9 > 5) and (3 == 5)`: False\n",
        "\n",
        "- `(3 > 2 and 5 >= 1) or (5 <= 9 and 6 > 12)`: True\n",
        "\n",
        "- `not (9 > 2*3)` : False\n",
        "\n",
        "- `not (9 > (2*3))` : False\n",
        "\n",
        "- `not ((7 > 8) or (5 <= 5))`: False\n",
        "\n",
        "- `(True and True) or (True == False)`: True\n",
        "\n",
        "- `(not False) or (not True)`: True\n",
        "\n",
        "</details>"
      ]
    },
    {
      "cell_type": "markdown",
      "id": "d8597dd5-7de1-4d4f-ab8e-0029bb91a1fd",
      "metadata": {},
      "source": [
        "### Nested Test Prediction\n",
        "\n",
        "Consider the program written in the following cell."
      ]
    },
    {
      "cell_type": "code",
      "execution_count": null,
      "id": "d1f23427",
      "metadata": {},
      "outputs": [],
      "source": [
        "x = 10\n",
        "\n",
        "if True:\n",
        "    print(\"Initialisation.\")\n",
        "    l = []\n",
        "    if x > 8:\n",
        "        l.append(\"a\")\n",
        "    elif x >= 2:\n",
        "        l.append(\"b\")\n",
        "    else:\n",
        "        l.append(\"c\")\n",
        "    if x - 6 < 0:\n",
        "        print(\"Négatif.\")\n",
        "        \n",
        "print(l)"
      ]
    },
    {
      "cell_type": "markdown",
      "id": "4990da0c-ddb1-4f85-9b75-1fdd55cffdf4",
      "metadata": {},
      "source": [
        "For the following values:\n",
        "\n",
        "- x = 1\n",
        "\n",
        "- x = 5\n",
        "\n",
        "- x = 10\n",
        "\n",
        "predict program results:\n",
        "\n",
        "- what is `l` at the end of the program?\n",
        "\n",
        "- what is printed in the console as the program runs?\n",
        "\n",
        "Check your results."
      ]
    },
    {
      "cell_type": "code",
      "execution_count": 42,
      "id": "0281ffd9",
      "metadata": {},
      "outputs": [
        {
          "name": "stdout",
          "output_type": "stream",
          "text": [
            "Initialisation.\n",
            "['a']\n"
          ]
        }
      ],
      "source": [
        "# Test your answer in this cell\n",
        "\n",
        "#x = 1 #Answer: Initialisation. Négatif. [c]\n",
        "#x = 5 #Answer: Initialisation. Négatif. [b]\n",
        "#x = 10 #Answer: Initialisation. [a]\n",
        "\n",
        "if True:\n",
        "    print(\"Initialisation.\")\n",
        "    l = []\n",
        "    if x > 8:\n",
        "        l.append(\"a\")\n",
        "    elif x >= 2:\n",
        "        l.append(\"b\")\n",
        "    else:\n",
        "        l.append(\"c\")\n",
        "    if x - 6 < 0:\n",
        "        print(\"Négatif.\")\n",
        "        \n",
        "print(l)"
      ]
    },
    {
      "cell_type": "markdown",
      "id": "0f418ca5-6c69-4ab0-9995-83e768d0d19d",
      "metadata": {},
      "source": [
        "<details>\n",
        "\n",
        "<summary>\n",
        "\n",
        "Show solution\n",
        "\n",
        "</summary>\n",
        "\n",
        "- `x = 1` : `l = ['c']` and printed messages: ‘Initialization’ and\n",
        "'Negative'\n",
        "\n",
        "- `x = 5` : `l = ['b']` and printed messages: ‘Initialization’ and\n",
        "'Negative'\n",
        "\n",
        "- `x = 10` : `l = ['a']` and printed messages: ‘Initialization’\n",
        "\n",
        "</details>"
      ]
    },
    {
      "cell_type": "markdown",
      "id": "d920d228-2c1e-4ad9-b676-0fcee8510876",
      "metadata": {},
      "source": [
        "### Three and no more\n",
        "\n",
        "Write a program that performs the following operations:\n",
        "\n",
        "- Define a list that contains 4 first names\n",
        "\n",
        "- Write a test that displays the message (‘Too many people.’) if the list\n",
        "contains more than three people\n",
        "\n",
        "- Delete a person from the list (using the `del` function)\n",
        "or the `pop` method seen in a previous tutorial)\n",
        "\n",
        "- Run the test again, there should be no output anymore."
      ]
    },
    {
      "cell_type": "code",
      "execution_count": 4,
      "id": "303fdb1c",
      "metadata": {},
      "outputs": [
        {
          "name": "stdout",
          "output_type": "stream",
          "text": [
            "['Silvia', 'Anna', 'Rita', 'Sudeep']\n",
            "Too many people.\n",
            "['Silvia', 'Anna', 'Rita']\n",
            "['Silvia', 'Anna', 'Rita']\n"
          ]
        }
      ],
      "source": [
        "# Test your answer in this cell\n",
        "list_of_names = [\"Silvia\", \"Anna\", \"Rita\", \"Sudeep\"]\n",
        "print(list_of_names)\n",
        "number_of_names = len(list_of_names)\n",
        "if number_of_names > 3:\n",
        "    print(\"Too many people.\")\n",
        "    list_of_names.pop()\n",
        "print(list_of_names)\n",
        "number_of_names = len(list_of_names)\n",
        "if number_of_names > 3:\n",
        "    print(\"Too many people.\")\n",
        "    list_of_names.pop()\n",
        "print(list_of_names)"
      ]
    },
    {
      "cell_type": "markdown",
      "id": "af67c731-fe3d-4703-aa63-745bf93a3887",
      "metadata": {},
      "source": [
        "<details>\n",
        "\n",
        "<summary>\n",
        "\n",
        "Show solution\n",
        "\n",
        "</summary>\n",
        "\n",
        "``` python\n",
        "people = [\"Romuald\", \"Ursula\", \"Jean-Vincent\", \"Philomène\"]\n",
        "\n",
        "if len(people) > 3:\n",
        "    print('Trop de monde.')\n",
        "\n",
        "print(people)    \n",
        "people.remove(\"Jean-Vincent\")\n",
        "print(people)\n",
        "\n",
        "if len(people) > 3:\n",
        "    print('Trop de monde.')\n",
        "```\n",
        "\n",
        "</details>"
      ]
    },
    {
      "cell_type": "markdown",
      "id": "1b36d20a-4755-4e1b-b468-a244ebda3d56",
      "metadata": {},
      "source": [
        "### The right price\n",
        "\n",
        "The `input` function is used to prompt the user to enter a\n",
        "value within a Python program. The syntax is:\n",
        "`x = input()`. When this command is executed, the user must\n",
        "enter a value, which is then assigned to the variable x.\n",
        "\n",
        "**Using `input` and `if`, `elif` and `else` statements**,\n",
        "code the following program:\n",
        "\n",
        "- ask the user for a value, which will be stored in a\n",
        "variable `p`\n",
        "\n",
        "- if `p` is strictly less than $15$, print (with the function\n",
        "`print`) the message “too low!”.\n",
        "\n",
        "- if `p` is strictly greater than $15$, print the message “too\n",
        "high !\".\n",
        "\n",
        "- if `p` is equal to $15$, print the message “spot on!”\n",
        "\n",
        "Be careful, `input` returns a string by default. You must\n",
        "so convert the value of `p` to integer format (via the `int` function)\n",
        "for the game to work."
      ]
    },
    {
      "cell_type": "code",
      "execution_count": 11,
      "id": "d9db8b4b",
      "metadata": {},
      "outputs": [
        {
          "name": "stdout",
          "output_type": "stream",
          "text": [
            "spot on!\n"
          ]
        }
      ],
      "source": [
        "# Test your answer in this cell\n",
        "p = input()\n",
        "p = int(p)\n",
        "if p < 15:\n",
        "    print(\"too low!\")\n",
        "elif p > 15:\n",
        "    print(\"too high!\")\n",
        "else:\n",
        "    print(\"spot on!\")\n"
      ]
    },
    {
      "cell_type": "markdown",
      "id": "c1c6136f-4d20-4553-9a5c-0c73f68392f4",
      "metadata": {},
      "source": [
        "<details>\n",
        "\n",
        "<summary>\n",
        "\n",
        "Show solution\n",
        "\n",
        "</summary>\n",
        "\n",
        "``` python\n",
        "p = input()\n",
        "p = int(p)\n",
        "\n",
        "if p < 15:\n",
        "    print(\"trop bas !\")\n",
        "elif p > 15:\n",
        "    print(\"trop haut !\")\n",
        "else:\n",
        "    print(\"dans le mille !\")\n",
        "```\n",
        "\n",
        "</details>"
      ]
    },
    {
      "cell_type": "markdown",
      "id": "e2ca927b-e46c-4a54-8c63-0d5a48ebeb00",
      "metadata": {},
      "source": [
        "### Boolean evaluation of various objects\n",
        "\n",
        "In Python, all objects evaluate to `True` or `False` within the scope\n",
        "of a conditional test (`if`/`else`). The general rule is that the\n",
        "objects that are zero or empty (eg: an empty list, a dictionary\n",
        "empty) evaluate to `False`, and vice versa. But there is no need to\n",
        "know these rules by heart: they are easily found in\n",
        "practice! For example, we can use the following conditional test:"
      ]
    },
    {
      "cell_type": "code",
      "execution_count": 12,
      "id": "c7e3316a",
      "metadata": {},
      "outputs": [
        {
          "name": "stdout",
          "output_type": "stream",
          "text": [
            "True.\n"
          ]
        }
      ],
      "source": [
        "if \"test\":\n",
        "    print(\"True.\")\n",
        "else:\n",
        "    print(\"False.\")"
      ]
    },
    {
      "cell_type": "markdown",
      "id": "a5c3b1c3-9f95-4fbe-b952-8dae9c47c651",
      "metadata": {},
      "source": [
        "Predict what Boolean value the following objects will evaluate to, and\n",
        "check using the previous syntax.\n",
        "\n",
        "- `0`\n",
        "\n",
        "- `1`\n",
        "\n",
        "- `12`\n",
        "\n",
        "- `-1`\n",
        "\n",
        "- ’’ (*empty string*)\n",
        "\n",
        "- ’ ’ (*string* containing only a space)\n",
        "\n",
        "- `[]` (liste vide)\n",
        "\n",
        "- `['']` (liste contenant seulement un *string* vide)\n",
        "\n",
        "- `{}`\n",
        "\n",
        "- `{-1}`"
      ]
    },
    {
      "cell_type": "code",
      "execution_count": 24,
      "id": "a04a3ccd",
      "metadata": {},
      "outputs": [
        {
          "name": "stdout",
          "output_type": "stream",
          "text": [
            "True.\n"
          ]
        }
      ],
      "source": [
        "# Test your answer in this cell\n",
        "if {-1}:\n",
        "    print(\"True.\")\n",
        "else:\n",
        "    print(\"False.\")"
      ]
    },
    {
      "cell_type": "markdown",
      "id": "0ca6c332-dbdc-4f03-92fa-7469f2715402",
      "metadata": {},
      "source": [
        "<details>\n",
        "\n",
        "<summary>\n",
        "\n",
        "Show solution\n",
        "\n",
        "</summary>\n",
        "\n",
        "- `0` : False\n",
        "\n",
        "- `1` : True\n",
        "\n",
        "- `12` : True\n",
        "\n",
        "- `-1`: True\n",
        "\n",
        "- `''` (empty *string*): False\n",
        "\n",
        "- `' '` (*string* containing only a space): True\n",
        "\n",
        "- `[]` (liste vide): False\n",
        "\n",
        "- `['']` (liste contenant seulement un *string* vide): True\n",
        "\n",
        "- `{}`: False\n",
        "\n",
        "- `{-1}`: True\n",
        "\n",
        "</details>"
      ]
    },
    {
      "cell_type": "markdown",
      "id": "da4b1993-fddd-44d4-8bb6-2c7b0671ff36",
      "metadata": {},
      "source": [
        "### Chained comparisons\n",
        "\n",
        "We have seen that it is possible to make comparisons in\n",
        "string, which return `True` provided that each of the comparisons\n",
        "includes is true. Find a way to rewrite the comparison as\n",
        "next string using boolean operators.\n",
        "\n",
        "`5 < 7 <= 8 < 18`"
      ]
    },
    {
      "cell_type": "code",
      "execution_count": 27,
      "id": "7590f689",
      "metadata": {},
      "outputs": [
        {
          "name": "stdout",
          "output_type": "stream",
          "text": [
            "True\n",
            "True\n"
          ]
        }
      ],
      "source": [
        "# Test your answer in this cell\n",
        "print(5 < 7 <= 8 < 18)\n",
        "print(5 < 7 and 7 <= 8 and 8 < 18)\n"
      ]
    },
    {
      "cell_type": "markdown",
      "id": "075427b6-52e8-4de3-9f58-c3a84d87392c",
      "metadata": {},
      "source": [
        "<details>\n",
        "\n",
        "<summary>\n",
        "\n",
        "Show solution\n",
        "\n",
        "</summary>\n",
        "\n",
        "``` python\n",
        "print(5 < 7 <= 8 < 18)\n",
        "\n",
        "print(5 < 7 and 7 <= 8 and 8 < 18)\n",
        "```\n",
        "\n",
        "A string comparison can be rewritten with `and` operators.\n",
        "Logic: each comparison must be true for the whole\n",
        "so be it. In practice, the version with the `and` is probably\n",
        "preferable for readability.\n",
        "\n",
        "</details>"
      ]
    },
    {
      "cell_type": "markdown",
      "id": "db8f47b3-eb75-4f79-830d-43b21fdcd923",
      "metadata": {},
      "source": [
        "### Booleans and binary language\n",
        "\n",
        "Booleans are strongly related to binary language, in which the `1`\n",
        "corresponds to “true” and the `0` to “false”. We will check if this link exists\n",
        "in the context of Python. To do this:\n",
        "\n",
        "- calculate the “integer representation” of the boolean value of\n",
        "your choice using the `int` function;\n",
        "\n",
        "- use booleans in mathematical calculations to\n",
        "check their behavior in this context."
      ]
    },
    {
      "cell_type": "code",
      "execution_count": 29,
      "id": "5a54aa0e",
      "metadata": {},
      "outputs": [
        {
          "name": "stdout",
          "output_type": "stream",
          "text": [
            "2\n",
            "1\n"
          ]
        }
      ],
      "source": [
        "# Test your answer in this cell\n",
        "T1 = int(True)\n",
        "a = T1 + 1\n",
        "print(a)\n",
        "F1 = int(False)\n",
        "b = F1 + 1\n",
        "print(b)"
      ]
    },
    {
      "cell_type": "markdown",
      "id": "ee5f49f7-4bc6-4f92-a4b6-fe135ca37d05",
      "metadata": {},
      "source": [
        "<details>\n",
        "\n",
        "<summary>\n",
        "\n",
        "Show solution\n",
        "\n",
        "</summary>\n",
        "\n",
        "``` python\n",
        "print(int(True))  \n",
        "```\n",
        "\n",
        "A Boolean evaluated as an integer does indeed give the associated binary value.\n",
        "\n",
        "``` python\n",
        "print(True + 3)  \n",
        "```\n",
        "\n",
        "Booleans behave like their associated integer value in\n",
        "calculations.\n",
        "\n",
        "</details>"
      ]
    },
    {
      "cell_type": "markdown",
      "id": "d3dd5c45-5b31-45f1-9829-668728513f3c",
      "metadata": {},
      "source": [
        "### *Strings* Comparisons\n",
        "\n",
        "What do the inequality-type comparison tests return when applied to\n",
        "strings? Produce some examples to test the\n",
        "behavior."
      ]
    },
    {
      "cell_type": "code",
      "execution_count": 45,
      "id": "82656e8b",
      "metadata": {},
      "outputs": [
        {
          "name": "stdout",
          "output_type": "stream",
          "text": [
            "True\n",
            "False\n",
            "True\n",
            "False\n"
          ]
        }
      ],
      "source": [
        "# Test your answer in this cell\n",
        "print(\"chemistry\"!=\"chemistree\")\n",
        "print(\"chemistry\"<\"chemistree\")\n",
        "print(\"love\">\"hate\")\n",
        "print(\"pizza without ananas\" < \"pizza with ananas\")"
      ]
    },
    {
      "cell_type": "markdown",
      "id": "b21104a0-7886-4ca5-9240-d9a7d68dfb91",
      "metadata": {},
      "source": [
        "<details>\n",
        "\n",
        "<summary>\n",
        "\n",
        "Show solution\n",
        "\n",
        "</summary>\n",
        "\n",
        "``` python\n",
        "print(\"a\" > \"b\")\n",
        "print(\"a\" < \"b\")\n",
        "print(\"abricot\" > \"avocat\")\n",
        "print(\"abricot\" < \"avocat\")\n",
        "print(\"1\" > \"2\")\n",
        "print(\"1\" < \"2\")\n",
        "print(\"A1\" < \"A2\")\n",
        "```\n",
        "\n",
        "</details>"
      ]
    },
    {
      "cell_type": "markdown",
      "id": "79de8760-c97c-4344-be1e-690269303101",
      "metadata": {},
      "source": [
        "The order relation used is the alphanumeric order: each\n",
        "character is taken individually, and the orders are A \\< Z and 1 \\<\n",
        "9.\n",
        "\n",
        "### Equality tests on *floats*\n",
        "\n",
        "Equality tests between real numbers (type `float` in Python) can\n",
        "be misleading. To convince yourself, perform the following test:\n",
        "`(6 - 5.8) == 0.2`\n",
        "\n",
        "To understand the result of the test, perform the calculation of the member of\n",
        "left of the test alone. What do you notice?\n",
        "\n",
        "Imagine (without necessarily implementing it) another test, based on\n",
        "inequalities, which would allow us to test approximate equality."
      ]
    },
    {
      "cell_type": "code",
      "execution_count": 47,
      "id": "5a4ac3cb",
      "metadata": {},
      "outputs": [
        {
          "name": "stdout",
          "output_type": "stream",
          "text": [
            "False\n",
            "0.20000000000000018\n"
          ]
        },
        {
          "ename": "",
          "evalue": "",
          "output_type": "error",
          "traceback": [
            "\u001b[1;31mThe Kernel crashed while executing code in the the current cell or a previous cell. Please review the code in the cell(s) to identify a possible cause of the failure. Click <a href='https://aka.ms/vscodeJupyterKernelCrash'>here</a> for more info. View Jupyter <a href='command:jupyter.viewOutput'>log</a> for further details."
          ]
        }
      ],
      "source": [
        "# Test your answer in this cell\n",
        "\n",
        "print((6 - 5.8) == 0.2)\n",
        "print(6 - 5.8)\n"
      ]
    },
    {
      "cell_type": "markdown",
      "id": "64b4078e-9249-4809-917f-44a427499772",
      "metadata": {},
      "source": [
        "<details>\n",
        "\n",
        "<summary>\n",
        "\n",
        "Show solution\n",
        "\n",
        "</summary>\n",
        "\n",
        "``` python\n",
        "diff = 3 - 2.7\n",
        "\n",
        "print(diff == 0.3)\n",
        "\n",
        "print(diff)\n",
        "```\n",
        "\n",
        "In Python, floating-point numbers are always approximate values.\n",
        "So we can have this kind of surprise in the calculations.\n",
        "\n",
        "``` python\n",
        "tolerance = 0.0001\n",
        "new_test = (0.3 - tolerance) < diff < (0.3 + tolerance)\n",
        "print(new_test)\n",
        "```\n",
        "\n",
        "This last test allows to test the equality between diff and 0.3 in a way\n",
        "approximated, allowing a certain tolerance in the comparison.\n",
        "\n",
        "</details>"
      ]
    }
  ],
  "metadata": {
    "kernelspec": {
      "display_name": "Python 3 (ipykernel)",
      "language": "python",
      "name": "python3",
      "path": "/Users/gblin/opt/anaconda3/share/jupyter/kernels/python3"
    },
    "language_info": {
      "codemirror_mode": {
        "name": "ipython",
        "version": 3
      },
      "file_extension": ".py",
      "mimetype": "text/x-python",
      "name": "python",
      "nbconvert_exporter": "python",
      "pygments_lexer": "ipython3",
      "version": "3.11.9"
    }
  },
  "nbformat": 4,
  "nbformat_minor": 5
}
