{
 "cells": [
  {
   "attachments": {},
   "cell_type": "markdown",
   "metadata": {},
   "source": [
    "### First class - 16/01/2025"
   ]
  },
  {
   "attachments": {},
   "cell_type": "markdown",
   "metadata": {},
   "source": [
    "String methods available at: https://docs.python.org/3/library/stdtypes.html#string-methods\n",
    "Python tutor: explains the steps behind the execution"
   ]
  },
  {
   "attachments": {},
   "cell_type": "markdown",
   "metadata": {},
   "source": [
    "Exercises Bacis types and variables:\n",
    "Types de base: int, float, str\n",
    "\n",
    "Conversion of integer to real number, and vice-versa: int(12.3) or float(12) will give 12 and 12.0, respectively\n",
    "\n",
    "How to define a string: using \" \" or ' '\n",
    "\n",
    "What is a Traceback: the first line of code where an error was detected\n",
    "\n",
    "What is the difference between a synthax error and an exception error: Exception error occurs during the execution of the code, while a synthax error is related to mistakes using the programming language, and so the program will not even run.\n",
    "\n",
    "Function print: shows multiple values, regardless of their type\n",
    "\n",
    "Function len: calculates the length of a string, with spaces included. Cannot be used for numbers. Only if they are put between \" \" or ' '\n",
    "\n",
    "What is a built-in method: it means that Python has functions related to the object classes.\n",
    "\n",
    "What are the variables for: to facilitate the programming and make the code easier to read. One can attribute strings or numbers to variables and call those variables later in the code.\n",
    "\n",
    "Why is Pyton considered \"dynamiquement typé\"? The type of the variables can change during the execution of the code. In C for example this is not the case. The type of the variables are known before execution."
   ]
  },
  {
   "attachments": {},
   "cell_type": "markdown",
   "metadata": {},
   "source": [
    "Exercises Data Structures 1:\n",
    "\n",
    "- Why do we say that lists and tuples are containers?\n",
    "They can store information and allow organization.\n",
    "\n",
    "- What do lists and strings have in common?\n",
    "They store characters/strings that can be accessed through their positioning in the string/list, respectively.\n",
    "\n",
    "- How is the order of elements in a sequence recorded in\n",
    "Python?\n",
    "The elements are stored in the same order of addition to the string/list. The first element has index zero, the second has index one, and so on.\n",
    "\n",
    "- What is the fundamental difference between a list and a tuple?\n",
    "A list allows for modifications of its elements/positions, while a tuple is unchangeable.\n",
    "\n",
    "- In which case would it be better to use a tuple rather than a\n",
    "list ?\n",
    "When one wants to store information and prevent it from being modified or suppressed.\n",
    "\n",
    "- Can we have elements of different types (eg: `int` and\n",
    "`string`) in the same list? In the same tuple?\n",
    "Yes. The elements can be integers, floats, strings, but also lists, tuples and dictionaries."
   ]
  },
  {
   "attachments": {},
   "cell_type": "markdown",
   "metadata": {},
   "source": [
    "Exercises Data Structures 2:\n",
    "- 1/ Can we access the `i`th element of a dictionary? of a set?\n",
    "No. A dictionary is an unordered set of data. We can access the values, by calling their respective keys. Same for sets, they are also unordered.\n",
    "\n",
    "- 2/ What types of objects can be used as keys to a\n",
    "dictionary? As values?\n",
    "Keys are usually strings or integers. For the values, any type of object can be used.\n",
    "\n",
    "- 3/ For what types of data is it useful to use a\n",
    "dictionary ?\n",
    "Hierarchical type data\n",
    "\n",
    "- 4/ Can a dictionary have duplicates in its keys?\n",
    "No\n",
    "\n",
    "- 5/ Why can we say that a set is a particular dictionary?\n",
    "Because it's the same thing, without values.\n",
    "\n",
    "- 6/ Why are sets used to deduplicate lists?\n",
    "Because in sets, we cannot have duplicate values, so if we convert a list to set and then back to list, we will have removed all the duplicates.\n",
    "\n",
    "- 7/ Why are sets more relevant than lists for\n",
    "carry out membership tests?\n",
    "Because they are more efficient for the computer, they work with hash tables, rather than searching one by one, following the indexes of the list."
   ]
  }
 ],
 "metadata": {
  "kernelspec": {
   "display_name": "Python 3",
   "language": "python",
   "name": "python3"
  },
  "language_info": {
   "codemirror_mode": {
    "name": "ipython",
    "version": 3
   },
   "file_extension": ".py",
   "mimetype": "text/x-python",
   "name": "python",
   "nbconvert_exporter": "python",
   "pygments_lexer": "ipython3",
   "version": "3.11.9"
  },
  "orig_nbformat": 4
 },
 "nbformat": 4,
 "nbformat_minor": 2
}
