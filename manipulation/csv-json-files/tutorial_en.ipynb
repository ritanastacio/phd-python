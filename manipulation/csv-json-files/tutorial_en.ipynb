{
  "cells": [
    {
      "cell_type": "markdown",
      "id": "744c13c4-8dbb-48db-9053-3792045944e6",
      "metadata": {},
      "source": [
        "# Working with CSV and JSON files\n",
        "\n",
        "In the previous tutorial we saw how to use functions\n",
        "from modules, as well as how to read and write files\n",
        "text. In this tutorial, we will take advantage of these new\n",
        "skills by taking an interest in **two types of very text files\n",
        "frequently used to store and distribute data: files\n",
        "CSV and JSON** files. We will learn how to manipulate these two\n",
        "file types using Python modules dedicated to their processing\n",
        "respectively: **the `csv` module and the `json` module**.\n",
        "\n",
        "## Manipulating CSV files\n",
        "\n",
        "### CSV files\n",
        "\n",
        "CSV stands for ***comma-separated values***, or in plain English “values”.\n",
        "separated by commas”. CSV files are intended to reproduce the\n",
        "**structure of data from spreadsheets** such as Microsoft Excel or\n",
        "LibreOffice Calc, reduced to strict textual data (more than\n",
        "formatting, more column types, etc.).\n",
        "\n",
        "We will take as an example the CSV file which contains the list\n",
        "departments in 2021, from the Official Geographic Code (COG).\n",
        "Let's look at the first lines of this file using a command\n",
        "`shell` to get a good idea of ​​the structure of such a file."
      ]
    },
    {
      "cell_type": "code",
      "execution_count": 2,
      "id": "580e2125",
      "metadata": {},
      "outputs": [
        {
          "name": "stderr",
          "output_type": "stream",
          "text": [
            "'head' is not recognized as an internal or external command,\n",
            "operable program or batch file.\n"
          ]
        }
      ],
      "source": [
        "!head -n 5 departement2021.csv"
      ]
    },
    {
      "cell_type": "markdown",
      "id": "af26959b-827d-472c-9dc2-70f27cb5a274",
      "metadata": {},
      "source": [
        "To use the analogy of a file from a spreadsheet, each\n",
        "A line in the file represents a row in the spreadsheet, and the cells in a\n",
        "lines are separated by commas. The first line can contain a\n",
        "`header`, i.e. the name of the columns, but it is not\n",
        "still the case.\n",
        "\n",
        "The main advantages of CSV files are:\n",
        "\n",
        "- their **simplicity**: they contain raw textual data,\n",
        "so very light and can be easily edited via\n",
        "any text editor or programming language\n",
        "\n",
        "- their **universality**: they are very widely used as a\n",
        "standard data exchange format\n",
        "\n",
        "### The `csv` module\n",
        "\n",
        "Since the data contained in a CSV is text data, we can\n",
        "wondering why we need a particular module for the\n",
        "manipulate, and why the tools we saw in the tutorial\n",
        "previous would not be sufficient. The main reason is that the\n",
        "CSV files still have some subtleties and standards, often\n",
        "invisible to the user, but very important in practice. By\n",
        "example: if we want to separate the different data according to the\n",
        "commas, what if the text data itself\n",
        "contain commas?\n",
        "\n",
        "This is why we use the **csv module** to interact\n",
        "with this type of files, in order to capitalize on the fact that others\n",
        "asked themselves all these questions, and therefore not having to reinvent\n",
        "the wheel with each CSV file import.\n",
        "\n",
        "Note that in practice, we tend to manipulate this type of\n",
        "data in the form of DataFrames (as in `R`), in order to take advantage\n",
        "of their **tabular structure**. We will study in a future tutorial\n",
        "the ***package* `Pandas`** which allows you to do precisely this in\n",
        "Python. However, it is always useful to know how to manipulate the\n",
        "data from a CSV as text data, and therefore to know the\n",
        "`csv` module.\n",
        "\n",
        "### Reading"
      ]
    },
    {
      "cell_type": "code",
      "execution_count": 3,
      "id": "af71533f",
      "metadata": {},
      "outputs": [],
      "source": [
        "import csv"
      ]
    },
    {
      "cell_type": "markdown",
      "id": "eb778544-76f6-4361-83a6-c4b47a515373",
      "metadata": {},
      "source": [
        "The syntax for reading and manipulating CSV files in Python\n",
        "is very close to that for simple text files. The only\n",
        "difference is that we have to create a `reader` object from the object\n",
        "file to be able to iterate over the lines."
      ]
    },
    {
      "cell_type": "code",
      "execution_count": 4,
      "id": "caf07cbe",
      "metadata": {},
      "outputs": [
        {
          "data": {
            "text/plain": [
              "[['DEP', 'REG', 'CHEFLIEU', 'TNCC', 'NCC', 'NCCENR', 'LIBELLE'],\n",
              " ['01', '84', '01053', '5', 'AIN', 'Ain', 'Ain'],\n",
              " ['02', '32', '02408', '5', 'AISNE', 'Aisne', 'Aisne'],\n",
              " ['03', '84', '03190', '5', 'ALLIER', 'Allier', 'Allier']]"
            ]
          },
          "execution_count": 4,
          "metadata": {},
          "output_type": "execute_result"
        }
      ],
      "source": [
        "rows = []\n",
        "\n",
        "with open(\"departement2021.csv\") as file_in:\n",
        "    csv_reader = csv.reader(file_in)\n",
        "    for row in csv_reader:\n",
        "        rows.append(row)\n",
        "\n",
        "rows[:4]"
      ]
    },
    {
      "cell_type": "markdown",
      "id": "14351a0c-6c6a-41bf-98c1-019f8a5dd003",
      "metadata": {},
      "source": [
        "We find the same syntax as for simple text files:\n",
        "Once the `reader` is created, we can iterate over the lines and perform\n",
        "operations with them; for example, storing them in a list\n",
        "as above.\n",
        "\n",
        "When we have a CSV file with column names like in our\n",
        "case, it is interesting to use them to manipulate the named data,\n",
        "rather than by position using a simple list. We use for\n",
        "this a `DictReader` instead of the `reader`. Now, when iterating over\n",
        "the `DictReader` object created, each line is a dictionary, so the key\n",
        "is the name of the column and the value is the cell data.\n",
        "\n",
        "To illustrate its interest, let's display the names of the departments so the\n",
        "department number is between 20 and 29."
      ]
    },
    {
      "cell_type": "code",
      "execution_count": 5,
      "id": "a57f7186",
      "metadata": {},
      "outputs": [
        {
          "name": "stdout",
          "output_type": "stream",
          "text": [
            "CÃ´te-d'Or\n",
            "CÃ´tes-d'Armor\n",
            "Creuse\n",
            "Dordogne\n",
            "Doubs\n",
            "DrÃ´me\n",
            "Eure\n",
            "Eure-et-Loir\n",
            "FinistÃ¨re\n",
            "Corse-du-Sud\n",
            "Haute-Corse\n"
          ]
        }
      ],
      "source": [
        "with open(\"departement2021.csv\") as file_in:\n",
        "    dict_reader = csv.DictReader(file_in)\n",
        "    for row in dict_reader:\n",
        "        if row[\"DEP\"].startswith(\"2\"):\n",
        "            print(row[\"LIBELLE\"])"
      ]
    },
    {
      "cell_type": "markdown",
      "id": "6f7d36dc-ffc1-4db0-83f7-25bcd8f2d4af",
      "metadata": {},
      "source": [
        "The code is much more readable: we easily understand what\n",
        "data is manipulated and how.\n",
        "\n",
        "### Writing\n",
        "\n",
        "The syntax for writing is again quite close to that for\n",
        "text files. The difference is that we are dealing with 2D data\n",
        "(line x column), we can no longer pass only one string of\n",
        "character when writing, you must **pass a list of elements**."
      ]
    },
    {
      "cell_type": "code",
      "execution_count": 6,
      "id": "81247965",
      "metadata": {},
      "outputs": [],
      "source": [
        "header = [\"nom\", \"classe\", \"age\"]\n",
        "row1 = [\"Maurice\", \"5èmeB\", 12]\n",
        "row2 = [\"Manuela\", \"6èmeA\", 11]\n",
        "\n",
        "with open(\"test.csv\", \"w\") as file_out:\n",
        "    csv_writer = csv.writer(file_out)\n",
        "    csv_writer.writerow(header)\n",
        "    csv_writer.writerow(row1)\n",
        "    csv_writer.writerow(row2)"
      ]
    },
    {
      "cell_type": "markdown",
      "id": "c81f1085-9050-438c-92e6-18cd6d1c9da2",
      "metadata": {},
      "source": [
        "Let's check that our raw CSV file looks like what we\n",
        "were waiting."
      ]
    },
    {
      "cell_type": "code",
      "execution_count": 7,
      "id": "d19bba0a",
      "metadata": {},
      "outputs": [
        {
          "name": "stderr",
          "output_type": "stream",
          "text": [
            "'cat' is not recognized as an internal or external command,\n",
            "operable program or batch file.\n"
          ]
        }
      ],
      "source": [
        "# Shell command to display the contents of a file\n",
        "!cat test.csv"
      ]
    },
    {
      "cell_type": "markdown",
      "id": "79863430-ca4b-4132-887c-d7b538bc564e",
      "metadata": {},
      "source": [
        "### The *header*\n",
        "\n",
        "As in a spreadsheet-type document, the first line of a file\n",
        "CSV usually contains **variable names** (columns).\n",
        "call this line the ***header***. This line is not mandatory\n",
        "in theory, but it is still very practical to understand\n",
        "quickly the nature of the data that is in a CSV file.\n",
        "So it is a good practice to include a *header* when generating a\n",
        "CSV file.\n",
        "\n",
        "We saw in the previous example that the writing of the *header* is\n",
        "was like any other data line. It is\n",
        "when reading things get complicated, since it is necessary\n",
        "retrieve the *header* separately from other data if the CSV file is\n",
        "contains one. Let's use the CSV generated in the previous step to illustrate\n",
        "that."
      ]
    },
    {
      "cell_type": "code",
      "execution_count": 8,
      "id": "2b1fde8a",
      "metadata": {},
      "outputs": [],
      "source": [
        "data = []\n",
        "with open(\"test.csv\", \"r\") as file_in:\n",
        "    csv_reader = csv.reader(file_in)\n",
        "    header = next(csv_reader)\n",
        "    for row in csv_reader:\n",
        "        data.append(row)"
      ]
    },
    {
      "cell_type": "code",
      "execution_count": 9,
      "id": "acae611e",
      "metadata": {},
      "outputs": [
        {
          "name": "stdout",
          "output_type": "stream",
          "text": [
            "['nom', 'classe', 'age']\n"
          ]
        }
      ],
      "source": [
        "print(header)"
      ]
    },
    {
      "cell_type": "code",
      "execution_count": 10,
      "id": "481ff4e0",
      "metadata": {},
      "outputs": [
        {
          "name": "stdout",
          "output_type": "stream",
          "text": [
            "[[], ['Maurice', '5èmeB', '12'], [], ['Manuela', '6èmeA', '11'], []]\n"
          ]
        }
      ],
      "source": [
        "print(data)"
      ]
    },
    {
      "cell_type": "markdown",
      "id": "753d9a60-7623-4f61-bf76-f9fea261e143",
      "metadata": {},
      "source": [
        "To retrieve the *header*, we use the `next` function. This is a\n",
        "*built-in* function that will call the object's `__next__` method\n",
        "`reader`, which allows you to iterate one step over the `reader`. The first call\n",
        "to the `next` function therefore returns the first line of the document. If a\n",
        "*header* is present in the file (which must be ensured),\n",
        "The returned element is the *header*. We then classically retrieve the\n",
        "rest of the data through a loop on the `reader` object, which we store\n",
        "in a list of lists (one list per line).\n",
        "\n",
        "### Importance of the delimiter\n",
        "\n",
        "The **delimiter** is the character that is used to delimit\n",
        "successive values ​​of a row in a CSV file.\n",
        "\n",
        "The CSV standard uses — as its name suggests — the comma as\n",
        "delimiter, but this is modifiable, and **it is not uncommon to fall\n",
        "on CSV files that have another delimiter**. In this case, you must\n",
        "go look directly in the raw text what the delimiter is\n",
        "used. For example, we often find a delimitation by `tabs`\n",
        "(the character is `\\t`), i.e. a given number of spaces, in which case the\n",
        "file may have the extension `.tsv` for *tab-separated value*. It\n",
        "then you must specify the delimiter with the `delimiter` parameter\n",
        "when creating the `reader`.\n",
        "\n",
        "In practice, as with encoding a text file, **there are few\n",
        "valid reason to change the delimiter**. Even if commas\n",
        "appear in values ​​in the file — for example, in an address\n",
        "— these values ​​are then surrounded by quotation marks, which allows\n",
        "the separation of values ​​to be done correctly in the large\n",
        "majority of cases.\n",
        "\n",
        "## Manipulating JSON files\n",
        "\n",
        "### JSON files\n",
        "\n",
        "JSON (*JavaScript Object Notation*) is a very common file format.\n",
        "popular for writing and exchanging data in the form of a\n",
        "unique, human-readable string —\n",
        "at least in theory.\n",
        "\n",
        "As the name suggests, JSON is related to the *JavaScript* language in\n",
        "the extent that it constitutes a derivative of the notation of objects in this\n",
        "language. The format is however now independent of any language\n",
        "programming, but is very frequently used in different\n",
        "languages.\n",
        "\n",
        "The JSON format is particularly important for statisticians and\n",
        "data scientists because it constitutes the **quasi-standard response format\n",
        "[API](https://fr.wikipedia.org/wiki/Interface_de_programmation)**.\n",
        "Dialogue with APIs goes beyond the scope of this course.\n",
        "introductory. However, APIs tend to become more widespread as a mode\n",
        "standard communication for data exchange, it is important to\n",
        "master the basics of the JSON format in order to manipulate the responses of\n",
        "API when we need to interact with them.\n",
        "\n",
        "The JSON storing objects as **key-value pairs** and where\n",
        "values ​​can be ***arrays*** — a fairly broad concept in\n",
        "computer science which includes in particular the lists that we know - it\n",
        "closely resembles Python dictionaries. It thus constitutes a\n",
        "quite a natural file format to ***serialize*** these,\n",
        "that is to say, moving from a data structure in memory (here, a\n",
        "dictionary) to a sequence of bytes that can be universally read\n",
        "by any computer. Let's look at the JSON representation as an example\n",
        "from a Python dictionary."
      ]
    },
    {
      "cell_type": "code",
      "execution_count": 11,
      "id": "9d2c22a5",
      "metadata": {},
      "outputs": [
        {
          "name": "stdout",
          "output_type": "stream",
          "text": [
            "{'marc': {'poste': 'manager', 'experience': 7, 'hobbies': ['couture', 'frisbee']}, 'miranda': {'poste': 'ingénieure', 'experience': 5, 'hobbies': ['trekking']}}\n"
          ]
        }
      ],
      "source": [
        "cv = {\n",
        "    \"marc\": {\"poste\": \"manager\", \"experience\": 7, \"hobbies\": [\"couture\", \"frisbee\"]},\n",
        "    \"miranda\": {\"poste\": \"ingénieure\", \"experience\": 5, \"hobbies\": [\"trekking\"]}\n",
        "}\n",
        "\n",
        "print(cv)"
      ]
    },
    {
      "cell_type": "code",
      "execution_count": 12,
      "id": "18a825ec",
      "metadata": {},
      "outputs": [
        {
          "name": "stdout",
          "output_type": "stream",
          "text": [
            "{\"marc\": {\"poste\": \"manager\", \"experience\": 7, \"hobbies\": [\"couture\", \"frisbee\"]}, \"miranda\": {\"poste\": \"ing\\u00e9nieure\", \"experience\": 5, \"hobbies\": [\"trekking\"]}}\n"
          ]
        }
      ],
      "source": [
        "import json\n",
        "\n",
        "print(json.dumps(cv))"
      ]
    },
    {
      "cell_type": "markdown",
      "id": "88b34eb9-4a60-4a8d-9945-0ff473bf5c46",
      "metadata": {},
      "source": [
        "We can see that the JSON representation is quite close to that of the\n",
        "Python dictionary, with **some peculiarities**. In this case by\n",
        "For example, special characters like accents are automatically\n",
        "encoded in *Unicode*.\n",
        "\n",
        "### The `json` module\n",
        "\n",
        "The `json` module handles importing JSON files and exporting objects\n",
        "Python in JSON format. It is particularly responsible for managing the constraints of\n",
        "conversion to JSON mentioned previously, such as that of accents.\n",
        "\n",
        "In particular, **JSON can store most types of objects\n",
        "*built-in* features of Python** that we have seen so far (*strings*,\n",
        "numeric values, Booleans, lists, dictionaries, `NoneType`) and more\n",
        "others, but it cannot represent Python objects created\n",
        "manually via classes for example.\n",
        "\n",
        "### Writing\n",
        "\n",
        "Let's start this time with writing. As we saw in\n",
        "In the previous example, the `dumps` function (for *dump string*) converts\n",
        "a **serializable** Python value into its JSON representation in the form\n",
        "of character string."
      ]
    },
    {
      "cell_type": "code",
      "execution_count": 13,
      "id": "a47326c5",
      "metadata": {},
      "outputs": [
        {
          "data": {
            "text/plain": [
              "'\"test\"'"
            ]
          },
          "execution_count": 13,
          "metadata": {},
          "output_type": "execute_result"
        }
      ],
      "source": [
        "x = \"test\"\n",
        "json.dumps(x)"
      ]
    },
    {
      "cell_type": "code",
      "execution_count": 14,
      "id": "ec2ac60a",
      "metadata": {},
      "outputs": [
        {
          "data": {
            "text/plain": [
              "'[1, 2, 3]'"
            ]
          },
          "execution_count": 14,
          "metadata": {},
          "output_type": "execute_result"
        }
      ],
      "source": [
        "x = [1, 2, 3]\n",
        "json.dumps(x)"
      ]
    },
    {
      "cell_type": "markdown",
      "id": "bceadfde-673d-413d-b36f-5cd7268ce7dc",
      "metadata": {},
      "source": [
        "Writing a JSON file from Python is simply a matter of writing\n",
        "this representation in a text file, to which we will give\n",
        "the `.json` extension to clearly indicate that it is a text file\n",
        "particular. As this operation is very frequent, there is a\n",
        "very similar function, `dump`, which performs both the conversion and\n",
        "writing."
      ]
    },
    {
      "cell_type": "code",
      "execution_count": 15,
      "id": "1ec69e8a",
      "metadata": {},
      "outputs": [],
      "source": [
        "with open(\"cv.json\", \"w\") as file_out:\n",
        "    json.dump(cv, file_out)"
      ]
    },
    {
      "cell_type": "code",
      "execution_count": 16,
      "id": "bc5d641a",
      "metadata": {},
      "outputs": [
        {
          "name": "stderr",
          "output_type": "stream",
          "text": [
            "'cat' is not recognized as an internal or external command,\n",
            "operable program or batch file.\n"
          ]
        }
      ],
      "source": [
        "!cat cv.json"
      ]
    },
    {
      "cell_type": "markdown",
      "id": "095da7f0-fde8-409e-8d5c-0fb4da4aa881",
      "metadata": {},
      "source": [
        "In a single operation, we serialized a Python dictionary (the object\n",
        "`cv`) in a JSON file.\n",
        "\n",
        "### Reading\n",
        "\n",
        "The `json` module provides the `load` and `loads` functions, which perform\n",
        "respectively the opposite operations of the `dump` and `dumps` functions:\n",
        "\n",
        "- the `load` function allows you to import JSON content present in a\n",
        "text file and convert it to a dictionary\n",
        "\n",
        "- the `loads` function allows you to convert JSON content present in\n",
        "a string into a dictionary\n",
        "\n",
        "Let's take the CV that we serialized previously in JSON format\n",
        "to illustrate reading from a file."
      ]
    },
    {
      "cell_type": "code",
      "execution_count": 17,
      "id": "46f7d347",
      "metadata": {},
      "outputs": [
        {
          "data": {
            "text/plain": [
              "{'marc': {'poste': 'manager',\n",
              "  'experience': 7,\n",
              "  'hobbies': ['couture', 'frisbee']},\n",
              " 'miranda': {'poste': 'ingénieure', 'experience': 5, 'hobbies': ['trekking']}}"
            ]
          },
          "execution_count": 17,
          "metadata": {},
          "output_type": "execute_result"
        }
      ],
      "source": [
        "with open(\"cv.json\", \"r\") as file_in:\n",
        "    data = json.load(file_in)\n",
        "    \n",
        "data"
      ]
    },
    {
      "cell_type": "markdown",
      "id": "85024c4c-1abf-4058-86b9-077df77e3acc",
      "metadata": {},
      "source": [
        "We will illustrate reading JSON content from a string\n",
        "of characters from a realistic example: that of querying a\n",
        "API. For the example, we will query the National Address Base\n",
        "(BAN), which allows any national address to be geolocated.\n",
        "\n",
        "API querying in Python is very simple thanks to the\n",
        "library `requests`. Let's look for example at how we can retrieve\n",
        "in just two lines of code geographic information about\n",
        "all the routes that contain the name “comedy” in France."
      ]
    },
    {
      "cell_type": "code",
      "execution_count": 18,
      "id": "49e3f7ec",
      "metadata": {},
      "outputs": [
        {
          "ename": "ModuleNotFoundError",
          "evalue": "No module named 'requests'",
          "output_type": "error",
          "traceback": [
            "\u001b[1;31m---------------------------------------------------------------------------\u001b[0m",
            "\u001b[1;31mModuleNotFoundError\u001b[0m                       Traceback (most recent call last)",
            "Cell \u001b[1;32mIn[18], line 1\u001b[0m\n\u001b[1;32m----> 1\u001b[0m \u001b[39mimport\u001b[39;00m\u001b[39m \u001b[39m\u001b[39mrequests\u001b[39;00m\n",
            "\u001b[1;31mModuleNotFoundError\u001b[0m: No module named 'requests'"
          ]
        }
      ],
      "source": [
        "import requests"
      ]
    },
    {
      "cell_type": "code",
      "execution_count": 19,
      "id": "898b2650",
      "metadata": {},
      "outputs": [
        {
          "ename": "NameError",
          "evalue": "name 'requests' is not defined",
          "output_type": "error",
          "traceback": [
            "\u001b[1;31m---------------------------------------------------------------------------\u001b[0m",
            "\u001b[1;31mNameError\u001b[0m                                 Traceback (most recent call last)",
            "Cell \u001b[1;32mIn[19], line 1\u001b[0m\n\u001b[1;32m----> 1\u001b[0m response \u001b[39m=\u001b[39m requests\u001b[39m.\u001b[39mget(\u001b[39m\"\u001b[39m\u001b[39mhttps://api-adresse.data.gouv.fr/search/?q=comedie&type=street\u001b[39m\u001b[39m\"\u001b[39m)\n\u001b[0;32m      2\u001b[0m r_text \u001b[39m=\u001b[39m response\u001b[39m.\u001b[39mtext\n\u001b[0;32m      3\u001b[0m \u001b[39mprint\u001b[39m(r_text[:\u001b[39m150\u001b[39m])\n",
            "\u001b[1;31mNameError\u001b[0m: name 'requests' is not defined"
          ]
        }
      ],
      "source": [
        "response = requests.get(\"https://api-adresse.data.gouv.fr/search/?q=comedie&type=street\")\n",
        "r_text = response.text\n",
        "print(r_text[:150])"
      ]
    },
    {
      "cell_type": "markdown",
      "id": "5b4028c5-e123-4254-94d4-8856760edd40",
      "metadata": {},
      "source": [
        "The API returns a response to us, from which we extract the text content.\n",
        "As with the vast majority of APIs, this content is JSON.\n",
        "can then import it into a Python dictionary via the function\n",
        "`loads` (for *load string*) to be able to manipulate the data it\n",
        "contains."
      ]
    },
    {
      "cell_type": "code",
      "execution_count": 20,
      "id": "466e30b5",
      "metadata": {},
      "outputs": [
        {
          "ename": "NameError",
          "evalue": "name 'r_text' is not defined",
          "output_type": "error",
          "traceback": [
            "\u001b[1;31m---------------------------------------------------------------------------\u001b[0m",
            "\u001b[1;31mNameError\u001b[0m                                 Traceback (most recent call last)",
            "Cell \u001b[1;32mIn[20], line 1\u001b[0m\n\u001b[1;32m----> 1\u001b[0m r_dict \u001b[39m=\u001b[39m json\u001b[39m.\u001b[39mloads(r_text)\n",
            "\u001b[1;31mNameError\u001b[0m: name 'r_text' is not defined"
          ]
        }
      ],
      "source": [
        "r_dict = json.loads(r_text)"
      ]
    },
    {
      "cell_type": "code",
      "execution_count": null,
      "id": "46b9397d",
      "metadata": {},
      "outputs": [],
      "source": [
        "r_dict.keys()"
      ]
    },
    {
      "cell_type": "code",
      "execution_count": null,
      "id": "cb3465ca",
      "metadata": {},
      "outputs": [],
      "source": [
        "type(r_dict[\"features\"])"
      ]
    },
    {
      "cell_type": "markdown",
      "id": "0d6527e8-d759-46c8-a98f-71e7bcef80b1",
      "metadata": {},
      "source": [
        "The results that interest us are contained in the value of the\n",
        "dictionary associated with the key `features`, which is a list of\n",
        "dictionaries, one per result."
      ]
    },
    {
      "cell_type": "code",
      "execution_count": null,
      "id": "7deb9b58",
      "metadata": {},
      "outputs": [],
      "source": [
        "r_dict[\"features\"][0]"
      ]
    },
    {
      "cell_type": "code",
      "execution_count": null,
      "id": "b286362d",
      "metadata": {},
      "outputs": [],
      "source": [
        "r_dict[\"features\"][1]"
      ]
    },
    {
      "cell_type": "markdown",
      "id": "d3971911-d844-44d0-bebd-72e9a1a034cf",
      "metadata": {},
      "source": [
        "## Exercises\n",
        "\n",
        "### Comprehension questions\n",
        "\n",
        "- 1/ What is a CSV file?\n",
        "\n",
        "- 2/ What are the advantages of the CSV format?\n",
        "\n",
        "- 3/ Why do we use the `csv` module to read and write\n",
        "CSV files?\n",
        "\n",
        "- 4/ Are the data in a CSV file necessarily separated by\n",
        "commas?\n",
        "\n",
        "- 5/ What is the *header* of a CSV file? Does it exist?\n",
        "necessarily?\n",
        "\n",
        "- 6/ Why is the JSON format widely used in data manipulation?\n",
        "data ?\n",
        "\n",
        "- 7/ What Python object does content in JSON format look like?\n",
        "\n",
        "- 8/ What types of Python objects can be converted to JSON?\n",
        "\n",
        "- 9/ What is the serialization of a Python object?\n",
        "\n",
        "- 10/ What is the main common point between CSV files and\n",
        "JSON files?\n",
        "\n",
        "- 11/ Does a file with the extension .json necessarily contain\n",
        "JSON?"
      ]
    },
    {
      "cell_type": "markdown",
      "id": "445eab17-9e69-4561-a69e-6b31f88f7e52",
      "metadata": {},
      "source": [
        "<details>\n",
        "\n",
        "<summary>\n",
        "\n",
        "Show solution\n",
        "\n",
        "</summary>\n",
        "\n",
        "- 1/ A CSV is a text file that represents the raw information\n",
        "of a spreadsheet-type document. Each line of the file represents a\n",
        "spreadsheet row, and cells in a row are separated by\n",
        "commas. The first line may contain a `header`,\n",
        "that is, the name of the columns, but this is not always the case.\n",
        "\n",
        "- 2/ Simplicity of reading and editing, universality.\n",
        "\n",
        "- 3/ Even if the CSV format is very simple, it presents certain\n",
        "characteristics (delimiter, end-of-line character, etc.) including\n",
        "must be taken into account when reading or editing CSV. The csv module\n",
        "provides functions that take these particularities into account.\n",
        "\n",
        "- 4/ No, in theory we can separate the data by any\n",
        "character or sequence of characters. In practice, you must follow the\n",
        "convention in most cases, which is to use a comma.\n",
        "\n",
        "- 5/ This is the first line of the CSV file, which normally contains\n",
        "variable names, but this is not always the case.\n",
        "\n",
        "- 6/ This is the majority response format of APIs, which are very\n",
        "used for data dissemination and exchange.\n",
        "\n",
        "- 7/ To dictionaries.\n",
        "\n",
        "- 8/ All so-called serializable objects, which includes most of the\n",
        "basic objects that we have seen, but not the created objects\n",
        "manually via classes.\n",
        "\n",
        "- 9/ Serializing a Python object (serializable) consists of\n",
        "convert the data contained in this object into a sequence\n",
        "of bytes, that is, in a message that can be understood by\n",
        "any computer.\n",
        "\n",
        "- 10/ These are text files.\n",
        "\n",
        "- 11/ No, JSON files like CSV files are files\n",
        "text. The extension is a convention which allows in the large\n",
        "majority of cases to know what the file contains, but it does not\n",
        "can't guarantee it.\n",
        "\n",
        "</details>"
      ]
    },
    {
      "cell_type": "markdown",
      "id": "425fde7d-2078-4b4d-a229-c45277591a5b",
      "metadata": {},
      "source": [
        "### Sort keys when writing JSON\n",
        "\n",
        "The next cell contains a dictionary. The goal of the exercise is\n",
        "to write this data into a JSON file, sorting the keys of the\n",
        "dictionary in alphabetical order.\n",
        "\n",
        "Hint: The `dump` function of the `json` module contains a parameter\n",
        "to sort the keys. Read the [documentation of the\n",
        "function](https://docs.python.org/fr/3/library/json.html#json.dump) for\n",
        "determine it."
      ]
    },
    {
      "cell_type": "code",
      "execution_count": 21,
      "id": "2c0e177e",
      "metadata": {},
      "outputs": [],
      "source": [
        "data = {\"id\": 1, \"nom\": \"Isidore\", \"age\": 29}"
      ]
    },
    {
      "cell_type": "code",
      "execution_count": 23,
      "id": "53d36ecc",
      "metadata": {},
      "outputs": [],
      "source": [
        "# Test your answer in this cell\n",
        "from pathlib import Path\n",
        "newfile = Path.cwd() / \"sortedkeys.json\"\n",
        "with open(\"sortedkeys.json\", \"w\") as newfile:\n",
        "    json.dump(data, newfile, sort_keys=True)"
      ]
    },
    {
      "cell_type": "markdown",
      "id": "2a3c8136-0814-4237-9ee8-04de2215ceae",
      "metadata": {},
      "source": [
        "<details>\n",
        "\n",
        "<summary>\n",
        "\n",
        "Show solution\n",
        "\n",
        "</summary>\n",
        "\n",
        "``` python\n",
        "import json\n",
        "\n",
        "data = {\"id\": 1, \"nom\": \"Isidore\", \"age\": 29}\n",
        "\n",
        "with open(\"data_sorted.json\", \"w\") as file_out:\n",
        "    json.dump(data, file_out, sort_keys=True)\n",
        "```\n",
        "\n",
        "</details>"
      ]
    },
    {
      "cell_type": "markdown",
      "id": "eab5bd1c-2edd-452f-b4ba-ff7d1cf16c79",
      "metadata": {},
      "source": [
        "### Convert a non-serializable object to JSON\n",
        "\n",
        "We have seen that the objects that we create manually via classes\n",
        "are generally not serializable. The following cell shows one\n",
        "example with our `Lemon` object used in the OOP tutorial.\n",
        "Trying to convert the object directly to JSON returns an error.\n",
        "\n",
        "You need to modify the following code in order to be able to serialize the object.\n",
        "To do this, you must:\n",
        "\n",
        "- convert the `mon_citron` instance using the *built-in* method\n",
        "`__dict__` that all Python objects have\n",
        "\n",
        "- convert the resulting dictionary to JSON as a string\n",
        "characters"
      ]
    },
    {
      "cell_type": "code",
      "execution_count": 24,
      "id": "3677e7ca",
      "metadata": {},
      "outputs": [
        {
          "ename": "TypeError",
          "evalue": "Object of type Citron is not JSON serializable",
          "output_type": "error",
          "traceback": [
            "\u001b[1;31m---------------------------------------------------------------------------\u001b[0m",
            "\u001b[1;31mTypeError\u001b[0m                                 Traceback (most recent call last)",
            "Cell \u001b[1;32mIn[24], line 11\u001b[0m\n\u001b[0;32m      8\u001b[0m         \u001b[39mself\u001b[39m\u001b[39m.\u001b[39mjus \u001b[39m=\u001b[39m qte_jus\n\u001b[0;32m     10\u001b[0m mon_citron \u001b[39m=\u001b[39m Citron(couleur\u001b[39m=\u001b[39m\u001b[39m\"\u001b[39m\u001b[39mjaune\u001b[39m\u001b[39m\"\u001b[39m, qte_jus\u001b[39m=\u001b[39m\u001b[39m45\u001b[39m)\n\u001b[1;32m---> 11\u001b[0m json\u001b[39m.\u001b[39;49mdumps(mon_citron)\n",
            "File \u001b[1;32mC:\\Program Files\\WindowsApps\\PythonSoftwareFoundation.Python.3.11_3.11.2544.0_x64__qbz5n2kfra8p0\\Lib\\json\\__init__.py:231\u001b[0m, in \u001b[0;36mdumps\u001b[1;34m(obj, skipkeys, ensure_ascii, check_circular, allow_nan, cls, indent, separators, default, sort_keys, **kw)\u001b[0m\n\u001b[0;32m    226\u001b[0m \u001b[39m# cached encoder\u001b[39;00m\n\u001b[0;32m    227\u001b[0m \u001b[39mif\u001b[39;00m (\u001b[39mnot\u001b[39;00m skipkeys \u001b[39mand\u001b[39;00m ensure_ascii \u001b[39mand\u001b[39;00m\n\u001b[0;32m    228\u001b[0m     check_circular \u001b[39mand\u001b[39;00m allow_nan \u001b[39mand\u001b[39;00m\n\u001b[0;32m    229\u001b[0m     \u001b[39mcls\u001b[39m \u001b[39mis\u001b[39;00m \u001b[39mNone\u001b[39;00m \u001b[39mand\u001b[39;00m indent \u001b[39mis\u001b[39;00m \u001b[39mNone\u001b[39;00m \u001b[39mand\u001b[39;00m separators \u001b[39mis\u001b[39;00m \u001b[39mNone\u001b[39;00m \u001b[39mand\u001b[39;00m\n\u001b[0;32m    230\u001b[0m     default \u001b[39mis\u001b[39;00m \u001b[39mNone\u001b[39;00m \u001b[39mand\u001b[39;00m \u001b[39mnot\u001b[39;00m sort_keys \u001b[39mand\u001b[39;00m \u001b[39mnot\u001b[39;00m kw):\n\u001b[1;32m--> 231\u001b[0m     \u001b[39mreturn\u001b[39;00m _default_encoder\u001b[39m.\u001b[39;49mencode(obj)\n\u001b[0;32m    232\u001b[0m \u001b[39mif\u001b[39;00m \u001b[39mcls\u001b[39m \u001b[39mis\u001b[39;00m \u001b[39mNone\u001b[39;00m:\n\u001b[0;32m    233\u001b[0m     \u001b[39mcls\u001b[39m \u001b[39m=\u001b[39m JSONEncoder\n",
            "File \u001b[1;32mC:\\Program Files\\WindowsApps\\PythonSoftwareFoundation.Python.3.11_3.11.2544.0_x64__qbz5n2kfra8p0\\Lib\\json\\encoder.py:200\u001b[0m, in \u001b[0;36mJSONEncoder.encode\u001b[1;34m(self, o)\u001b[0m\n\u001b[0;32m    196\u001b[0m         \u001b[39mreturn\u001b[39;00m encode_basestring(o)\n\u001b[0;32m    197\u001b[0m \u001b[39m# This doesn't pass the iterator directly to ''.join() because the\u001b[39;00m\n\u001b[0;32m    198\u001b[0m \u001b[39m# exceptions aren't as detailed.  The list call should be roughly\u001b[39;00m\n\u001b[0;32m    199\u001b[0m \u001b[39m# equivalent to the PySequence_Fast that ''.join() would do.\u001b[39;00m\n\u001b[1;32m--> 200\u001b[0m chunks \u001b[39m=\u001b[39m \u001b[39mself\u001b[39;49m\u001b[39m.\u001b[39;49miterencode(o, _one_shot\u001b[39m=\u001b[39;49m\u001b[39mTrue\u001b[39;49;00m)\n\u001b[0;32m    201\u001b[0m \u001b[39mif\u001b[39;00m \u001b[39mnot\u001b[39;00m \u001b[39misinstance\u001b[39m(chunks, (\u001b[39mlist\u001b[39m, \u001b[39mtuple\u001b[39m)):\n\u001b[0;32m    202\u001b[0m     chunks \u001b[39m=\u001b[39m \u001b[39mlist\u001b[39m(chunks)\n",
            "File \u001b[1;32mC:\\Program Files\\WindowsApps\\PythonSoftwareFoundation.Python.3.11_3.11.2544.0_x64__qbz5n2kfra8p0\\Lib\\json\\encoder.py:258\u001b[0m, in \u001b[0;36mJSONEncoder.iterencode\u001b[1;34m(self, o, _one_shot)\u001b[0m\n\u001b[0;32m    253\u001b[0m \u001b[39melse\u001b[39;00m:\n\u001b[0;32m    254\u001b[0m     _iterencode \u001b[39m=\u001b[39m _make_iterencode(\n\u001b[0;32m    255\u001b[0m         markers, \u001b[39mself\u001b[39m\u001b[39m.\u001b[39mdefault, _encoder, \u001b[39mself\u001b[39m\u001b[39m.\u001b[39mindent, floatstr,\n\u001b[0;32m    256\u001b[0m         \u001b[39mself\u001b[39m\u001b[39m.\u001b[39mkey_separator, \u001b[39mself\u001b[39m\u001b[39m.\u001b[39mitem_separator, \u001b[39mself\u001b[39m\u001b[39m.\u001b[39msort_keys,\n\u001b[0;32m    257\u001b[0m         \u001b[39mself\u001b[39m\u001b[39m.\u001b[39mskipkeys, _one_shot)\n\u001b[1;32m--> 258\u001b[0m \u001b[39mreturn\u001b[39;00m _iterencode(o, \u001b[39m0\u001b[39;49m)\n",
            "File \u001b[1;32mC:\\Program Files\\WindowsApps\\PythonSoftwareFoundation.Python.3.11_3.11.2544.0_x64__qbz5n2kfra8p0\\Lib\\json\\encoder.py:180\u001b[0m, in \u001b[0;36mJSONEncoder.default\u001b[1;34m(self, o)\u001b[0m\n\u001b[0;32m    161\u001b[0m \u001b[39mdef\u001b[39;00m\u001b[39m \u001b[39m\u001b[39mdefault\u001b[39m(\u001b[39mself\u001b[39m, o):\n\u001b[0;32m    162\u001b[0m \u001b[39m    \u001b[39m\u001b[39m\"\"\"Implement this method in a subclass such that it returns\u001b[39;00m\n\u001b[0;32m    163\u001b[0m \u001b[39m    a serializable object for ``o``, or calls the base implementation\u001b[39;00m\n\u001b[0;32m    164\u001b[0m \u001b[39m    (to raise a ``TypeError``).\u001b[39;00m\n\u001b[1;32m   (...)\u001b[0m\n\u001b[0;32m    178\u001b[0m \n\u001b[0;32m    179\u001b[0m \u001b[39m    \"\"\"\u001b[39;00m\n\u001b[1;32m--> 180\u001b[0m     \u001b[39mraise\u001b[39;00m \u001b[39mTypeError\u001b[39;00m(\u001b[39mf\u001b[39m\u001b[39m'\u001b[39m\u001b[39mObject of type \u001b[39m\u001b[39m{\u001b[39;00mo\u001b[39m.\u001b[39m\u001b[39m__class__\u001b[39m\u001b[39m.\u001b[39m\u001b[39m__name__\u001b[39m\u001b[39m}\u001b[39;00m\u001b[39m \u001b[39m\u001b[39m'\u001b[39m\n\u001b[0;32m    181\u001b[0m                     \u001b[39mf\u001b[39m\u001b[39m'\u001b[39m\u001b[39mis not JSON serializable\u001b[39m\u001b[39m'\u001b[39m)\n",
            "\u001b[1;31mTypeError\u001b[0m: Object of type Citron is not JSON serializable"
          ]
        }
      ],
      "source": [
        "import json\n",
        "\n",
        "class Citron:\n",
        "\n",
        "    def __init__(self, couleur, qte_jus):\n",
        "        self.saveur = \"acide\"\n",
        "        self.couleur = couleur\n",
        "        self.jus = qte_jus\n",
        "        \n",
        "mon_citron = Citron(couleur=\"jaune\", qte_jus=45)\n",
        "json.dumps(mon_citron)"
      ]
    },
    {
      "cell_type": "code",
      "execution_count": 28,
      "id": "d4edf317",
      "metadata": {},
      "outputs": [
        {
          "data": {
            "text/plain": [
              "'{\"saveur\": \"acide\", \"couleur\": \"jaune\", \"jus\": 45}'"
            ]
          },
          "execution_count": 28,
          "metadata": {},
          "output_type": "execute_result"
        }
      ],
      "source": [
        "# Test your answer in this cell\n",
        "import json\n",
        "mon_citron_dict = mon_citron.__dict__\n",
        "json.dumps(mon_citron_dict)"
      ]
    },
    {
      "cell_type": "markdown",
      "id": "4a70570e-2542-4e03-8b13-906cc97c0361",
      "metadata": {},
      "source": [
        "<details>\n",
        "\n",
        "<summary>\n",
        "\n",
        "Show solution\n",
        "\n",
        "</summary>\n",
        "\n",
        "``` python\n",
        "import json\n",
        "\n",
        "class Citron:\n",
        "\n",
        "    def __init__(self, couleur, qte_jus):\n",
        "        self.saveur = \"acide\"\n",
        "        self.couleur = couleur\n",
        "        self.jus = qte_jus\n",
        "        \n",
        "mon_citron = Citron(couleur=\"jaune\", qte_jus=45)\n",
        "mon_citron_dict = mon_citron.__dict__\n",
        "\n",
        "json.dumps(mon_citron_dict)\n",
        "```\n",
        "\n",
        "</details>"
      ]
    },
    {
      "cell_type": "markdown",
      "id": "64edf73f-87d9-4c02-9b61-57aa08b51dc0",
      "metadata": {},
      "source": [
        "### Change the delimiter of a CSV file\n",
        "\n",
        "Your current directory contains the file `nat2020.csv`. This is the\n",
        "first name file distributed by INSEE: it contains data on\n",
        "first names given to children born in France between 1900 and 2020.\n",
        "\n",
        "Problem: Unlike the CSV standard, the delimiter used is not\n",
        "not the comma. So you must:\n",
        "\n",
        "- find the separator used (via the Jupyter text editor, via\n",
        "a shell command, testing with the `csv` module in Python..)\n",
        "to read the file correctly\n",
        "\n",
        "- generate a new CSV file `nat2020_corr.csv` containing the\n",
        "same data, but this time with the comma as separator."
      ]
    },
    {
      "cell_type": "code",
      "execution_count": null,
      "id": "7e535466",
      "metadata": {},
      "outputs": [],
      "source": [
        "# Test your answer in this cell"
      ]
    },
    {
      "cell_type": "markdown",
      "id": "2f45d782-1063-4c5e-9278-dfce976f2a49",
      "metadata": {},
      "source": [
        "<details>\n",
        "\n",
        "<summary>\n",
        "\n",
        "Show solution\n",
        "\n",
        "</summary>\n",
        "\n",
        "``` python\n",
        "# Trouvons à l'aide d'une commande shell le séparateur utilisé\n",
        "!head -n 3 nat2020.csv\n",
        "\n",
        "with open('nat2020.csv', 'r') as file_in:\n",
        "    # Lecture du fichier CSV existant\n",
        "    reader = csv.reader(file_in, delimiter=';')\n",
        "    with open('nat2020_corr.csv', 'w') as file_out:\n",
        "        # Ecriture dans le nouveau fichier CSV\n",
        "        writer = csv.writer(file_out)  # Par défaut, le délimiteur est la virgule\n",
        "        for row in reader:\n",
        "            writer.writerow(row)\n",
        "            \n",
        "# Vérification à l'aide d'une commande shell\n",
        "!head -n 3 nat2020_corr.csv\n",
        "```\n",
        "\n",
        "</details>"
      ]
    },
    {
      "cell_type": "markdown",
      "id": "32461e85-43f5-4d6a-80cd-e10183d0d552",
      "metadata": {},
      "source": [
        "### Extract and save data from an API\n",
        "\n",
        "The exercise consists of making a request to the Address Base API\n",
        "National, and save the results in a CSV file. Here are the\n",
        "steps to implement:\n",
        "\n",
        "- perform a street name query with a keyword as in the\n",
        "tutorial (if you want to make a more complex query, you\n",
        "can watch the [documentation of\n",
        "the API](https://adresse.data.gouv.fr/api-doc/adresse)) and store the\n",
        "results in a dictionary\n",
        "\n",
        "- create a CSV file `resultats_ban.csv` in which we will store\n",
        "the following information: ‘name’, ‘city’, ‘commune_code’,\n",
        "‘longitude’, ‘latitude’\n",
        "\n",
        "- using a `writer` object and looping through the results\n",
        "returned by the API, write each line to the CSV\n",
        "\n",
        "For example, for the path query containing the word “comedy”, here is\n",
        "the CSV to obtain:\n",
        "\n",
        "name, city, municipality_code, longitude, latitude\n",
        "Old Comedy Street, Lille, 59350, 3.063832, 50.635192\n",
        "Comedy Square, Montpellier, 34172, 3.879638, 43.608525\n",
        "Comedy Street, Cherbourg-en-Cotentin, 50129, -1.629732, 49.641574\n",
        "Allee de la Comedie,Villeneuve-d’Ascq,59009,3.162808,50.64628\n",
        "Old Comedy Street, Poitiers, 86194, 0.342649, 46.580457"
      ]
    },
    {
      "cell_type": "code",
      "execution_count": null,
      "id": "ec73cdfe",
      "metadata": {},
      "outputs": [],
      "source": [
        "# Test your answer in this cell"
      ]
    },
    {
      "cell_type": "markdown",
      "id": "adfe7148-7d1a-47a1-947a-97b3ff70ec11",
      "metadata": {},
      "source": [
        "<details>\n",
        "\n",
        "<summary>\n",
        "\n",
        "Show solution\n",
        "\n",
        "</summary>\n",
        "\n",
        "``` python\n",
        "response = requests.get(\"https://api-adresse.data.gouv.fr/search/?q=comedie&type=street\")\n",
        "r_text = response.text\n",
        "r_dict = json.loads(r_text)\n",
        "\n",
        "with open('resultats_ban.csv', 'w') as file_out:\n",
        "    header = ['nom', 'ville', 'code_commune', 'longitude', 'latitude']\n",
        "    csv_writer = csv.writer(file_out)\n",
        "    csv_writer.writerow(header)\n",
        "    for result in r_dict['features']:\n",
        "        nom = result['properties']['name']\n",
        "        commune = result['properties']['city']\n",
        "        code_commune = result['properties']['citycode']\n",
        "        long, lat = result['geometry']['coordinates']\n",
        "        row = [nom, commune, code_commune, long, lat]\n",
        "        csv_writer.writerow(row)\n",
        "```\n",
        "\n",
        "</details>"
      ]
    },
    {
      "cell_type": "markdown",
      "id": "84b67f8d-313e-40ae-b51d-1f7790759bdb",
      "metadata": {},
      "source": [
        "### Cut the base of departments by regions\n",
        "\n",
        "The objective of this exercise is to cut the CSV file of\n",
        "departments that we used in the tutorial into several small ones\n",
        "CSV, one per region. This type of operation can be useful for example\n",
        "when working with a very large file, which does not pass\n",
        "not in memory; cut it into several files that we process\n",
        "independently, where possible, helps reduce the\n",
        "volumetry.\n",
        "\n",
        "Here is the list of operations to be carried out:\n",
        "\n",
        "- create a `dep` folder in the current directory using the module\n",
        "`pathlib` (see previous tutorial)\n",
        "\n",
        "- with a `reader` object from the `csv` module, loop through the\n",
        "lines from the CSV file of the departments. Be careful not to include\n",
        "the *header*, using the `next` function to skip to the first\n",
        "line. For each subsequent line:\n",
        "\n",
        "- retrieve the region code (variable `REG`)\n",
        "\n",
        "- generate the path of the CSV file `dep/{REG}.csv` where {REG} is at\n",
        "replace with the region code of the line\n",
        "\n",
        "- open this CSV file in `append` mode to write the line to the\n",
        "end of file"
      ]
    },
    {
      "cell_type": "code",
      "execution_count": null,
      "id": "f692c7e0",
      "metadata": {},
      "outputs": [],
      "source": [
        "# Test your answer in this cell"
      ]
    },
    {
      "cell_type": "markdown",
      "id": "1fb76165-3553-4c58-837f-371445ad18fb",
      "metadata": {},
      "source": [
        "<details>\n",
        "\n",
        "<summary>\n",
        "\n",
        "Show solution\n",
        "\n",
        "</summary>\n",
        "\n",
        "``` python\n",
        "from pathlib import Path\n",
        "\n",
        "path_dep = Path(\"dep/\")\n",
        "path_dep.mkdir(exist_ok=True)\n",
        "\n",
        "with open('departement2021.csv', 'r') as file_in:\n",
        "    csv_reader = csv.reader(file_in)\n",
        "    next(csv_reader)  # Passe le header\n",
        "    for row in csv_reader:\n",
        "        reg = row[1]\n",
        "        filename = reg + '.csv'\n",
        "        path_reg_file = path_dep / filename  # Chemin du fichier csv region\n",
        "        with open(path_reg_file, 'a') as file_reg_in:\n",
        "                writer = csv.writer(file_reg_in)\n",
        "                writer.writerow(row)\n",
        "```\n",
        "\n",
        "</details>"
      ]
    },
    {
      "cell_type": "markdown",
      "id": "891f79ae-9ab9-43b3-950d-06dd241fff05",
      "metadata": {},
      "source": [
        "### Add missing *headers*\n",
        "\n",
        "In the previous exercise, we split the CSV file from\n",
        "French departments into several CSV files, one per region. But\n",
        "we have not included in the different files the *header*,\n",
        "i.e. the first line that contains the column names. So we will\n",
        "manually add it to each of the CSV files created during\n",
        "the previous exercise.\n",
        "\n",
        "Here is the list of operations to be carried out:\n",
        "\n",
        "- read the complete departments file and retrieve the `header`\n",
        "in a list with the `next` function\n",
        "\n",
        "- save the paths of the different CSV files in a list\n",
        "contained in the `dep` folder with the `glob` method of `pathlib`\n",
        "(see previous tutorial)\n",
        "\n",
        "- for each path:\n",
        "\n",
        "- open the existing CSV file, and retrieve the data\n",
        "as a list of lists (one list per line)\n",
        "\n",
        "- open the CSV file for writing to reset it, write\n",
        "the header first, then write the data we have to the\n",
        "previously saved in a list box"
      ]
    },
    {
      "cell_type": "code",
      "execution_count": null,
      "id": "560743ef",
      "metadata": {},
      "outputs": [],
      "source": [
        "# Test your answer in this cell"
      ]
    },
    {
      "cell_type": "markdown",
      "id": "ed1314dc-5ded-43b8-932d-ac1fd88ec13f",
      "metadata": {},
      "source": [
        "<details>\n",
        "\n",
        "<summary>\n",
        "\n",
        "Show solution\n",
        "\n",
        "</summary>\n",
        "\n",
        "``` python\n",
        "from pathlib import Path\n",
        "\n",
        "with open('departement2021.csv', 'r') as file_in:\n",
        "    csv_reader = csv.reader(file_in)\n",
        "    header = next(csv_reader)\n",
        "\n",
        "dep_files_paths = list(Path(\"dep/\").glob('*.csv'))\n",
        "\n",
        "for path in dep_files_paths:\n",
        "    # Lecture du fichier existant, dont on stocke les lignes dans une liste\n",
        "    with open(path, 'r') as file_dep_in:\n",
        "        reader = csv.reader(file_dep_in)\n",
        "        dep_rows = []\n",
        "        for row in reader:\n",
        "            dep_rows.append(row)\n",
        "    # On réécrit le fichier de sortie, en rajoutant au préalable le header\n",
        "    with open(path, 'w') as file_dep_out:\n",
        "        writer = csv.writer(file_dep_out)\n",
        "        writer.writerow(header)\n",
        "        for row in dep_rows:\n",
        "            writer.writerow(row)\n",
        "```\n",
        "\n",
        "</details>"
      ]
    }
  ],
  "metadata": {
    "kernelspec": {
      "display_name": "Python 3 (ipykernel)",
      "language": "python",
      "name": "python3",
      "path": "/Users/gblin/opt/anaconda3/share/jupyter/kernels/python3"
    },
    "language_info": {
      "codemirror_mode": {
        "name": "ipython",
        "version": 3
      },
      "file_extension": ".py",
      "mimetype": "text/x-python",
      "name": "python",
      "nbconvert_exporter": "python",
      "pygments_lexer": "ipython3",
      "version": "3.11.9"
    }
  },
  "nbformat": 4,
  "nbformat_minor": 5
}
