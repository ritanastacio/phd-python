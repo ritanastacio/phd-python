{
  "cells": [
    {
      "cell_type": "markdown",
      "id": "1d4651b7-4565-481b-a6cb-bcc583a052fc",
      "metadata": {},
      "source": [
        "# Processing tabular data with Pandas\n",
        "\n",
        "Statistical analysis is usually based on **data\n",
        "tabular**, in which each line represents an observation and\n",
        "each column a variable. To process this type of data and\n",
        "easily apply standard data analysis methods,\n",
        "dedicated objects have been designed: `DataFrames`. `R` users\n",
        "are familiar with this data structure, which is native to this language\n",
        "statistically oriented. In `Python`, a general-purpose language, this object\n",
        "does not exist natively. Fortunately, a very complete library and\n",
        "very practical, thought of as an overlay to `NumPy`, introduced in\n",
        "`Python` the `DataFrame` object and allows manipulation and analysis of\n",
        "data in a simple and intuitive way: `Pandas`.\n",
        "\n",
        "> **Note**\n",
        "> Pandas being the central element of the data science ecosystem in\n",
        "> Python, it offers data processing possibilities\n",
        "> almost infinite. In addition to that, there are usually multiple\n",
        "> ways to perform the same operation in Pandas. As a result, this\n",
        "> chapter is particularly long and dense with news\n",
        "> features. The goal is not to retain all the methods\n",
        "> presented throughout this chapter, but rather to have a vision\n",
        "> general of what it is possible to do in order to be able to mobilize\n",
        "> the right tools in projects. In particular, the end-of-project exercises\n",
        "> chapter and the end-of-training mini-projects will be an opportunity\n",
        "> to apply this new knowledge to problems\n",
        "> concrete.\n",
        "\n",
        "We start by importing the `Pandas` library. The common usage is\n",
        "to give it the alias `pd` in order to simplify future calls to\n",
        "objects and functions from the package. We also import `NumPy` because we are going to\n",
        "compare the fundamental objects of the two packages."
      ]
    },
    {
      "cell_type": "code",
      "execution_count": 1,
      "id": "f8d0e9e4",
      "metadata": {},
      "outputs": [],
      "source": [
        "import pandas as pd\n",
        "import numpy as np"
      ]
    },
    {
      "cell_type": "markdown",
      "id": "6da34757-ca59-404b-a7c9-9fb9370e8449",
      "metadata": {},
      "source": [
        "## Data Structures\n",
        "\n",
        "To fully understand how `Pandas` works, you need to take an interest\n",
        "to its fundamental objects. We will therefore first study the `Series`, of which\n",
        "concatenation is used to construct a `DataFrame`.\n",
        "\n",
        "### The `Series`\n",
        "\n",
        "A Series is a one-dimensional data container that can\n",
        "accommodate any data type (integers, *strings*, objects\n",
        "Python…). A Series is nevertheless of a given type: a Series does not\n",
        "containing only integers will be of type `int`, and a Series containing\n",
        "objects of different nature will be of type `object`. Let's build\n",
        "our first Series from a list to check this\n",
        "behavior."
      ]
    },
    {
      "cell_type": "code",
      "execution_count": 2,
      "id": "a9665b0f",
      "metadata": {},
      "outputs": [
        {
          "name": "stdout",
          "output_type": "stream",
          "text": [
            "0    1\n",
            "1    X\n",
            "2    3\n",
            "dtype: object\n"
          ]
        }
      ],
      "source": [
        "l = [1, \"X\", 3]\n",
        "s = pd.Series(l)\n",
        "print(s)"
      ]
    },
    {
      "cell_type": "markdown",
      "id": "574ae273-a9eb-4625-aa29-686b8cee9c54",
      "metadata": {},
      "source": [
        "In particular, you can access the data of a Series by position, like\n",
        "for a list or array."
      ]
    },
    {
      "cell_type": "code",
      "execution_count": 3,
      "id": "0345d456",
      "metadata": {},
      "outputs": [
        {
          "name": "stdout",
          "output_type": "stream",
          "text": [
            "X\n"
          ]
        }
      ],
      "source": [
        "print(s[1])"
      ]
    },
    {
      "cell_type": "markdown",
      "id": "c9d8c4fa-44da-4411-95f5-3a3e6052b4ad",
      "metadata": {},
      "source": [
        "At first glance, we don't see much difference between a Series and a\n",
        "*array* `NumPy` 1-dimensional. However, there is a difference in\n",
        "size which is the presence of an index: the observations have a label\n",
        "associated. When creating a Series without specifying anything, the index is\n",
        "automatically set to integers from 0 to n-1 (with n the number of elements\n",
        "of the Series). But it is possible to pass a specific index (eg:\n",
        "dates, names of municipalities, etc.)."
      ]
    },
    {
      "cell_type": "code",
      "execution_count": 4,
      "id": "94e8bf63",
      "metadata": {},
      "outputs": [
        {
          "name": "stdout",
          "output_type": "stream",
          "text": [
            "a    1\n",
            "b    X\n",
            "c    3\n",
            "dtype: object\n"
          ]
        }
      ],
      "source": [
        "s = pd.Series(l, index=[\"a\", \"b\", \"c\"])\n",
        "print(s)"
      ]
    },
    {
      "cell_type": "markdown",
      "id": "1acc68ea-c7cb-4104-9038-47b545da08fa",
      "metadata": {},
      "source": [
        "Which allows access to data by label:"
      ]
    },
    {
      "cell_type": "code",
      "execution_count": 5,
      "id": "893699d0",
      "metadata": {},
      "outputs": [
        {
          "data": {
            "text/plain": [
              "'X'"
            ]
          },
          "execution_count": 5,
          "metadata": {},
          "output_type": "execute_result"
        }
      ],
      "source": [
        "s[\"b\"]"
      ]
    },
    {
      "cell_type": "markdown",
      "id": "449c8392-e3d4-438e-a45d-2f0f557df89b",
      "metadata": {},
      "source": [
        "This difference appears secondary at first glance, but will become\n",
        "essential for the construction of the DataFrame. For the rest, the Series\n",
        "behave very similarly to NumPy arrays: the calculations are\n",
        "vectorized, we can directly add two Series, etc.\n",
        "Moreover, we can very easily convert a Series into an array via\n",
        "the `values` attribute. Which, of course, causes the index to be lost…"
      ]
    },
    {
      "cell_type": "code",
      "execution_count": 6,
      "id": "ae8d5cf2",
      "metadata": {},
      "outputs": [
        {
          "data": {
            "text/plain": [
              "array([1, 'X', 3], dtype=object)"
            ]
          },
          "execution_count": 6,
          "metadata": {},
          "output_type": "execute_result"
        }
      ],
      "source": [
        "s = pd.Series(l, index=[\"a\", \"b\", \"c\"])\n",
        "s.values"
      ]
    },
    {
      "attachments": {
        "img/structure_df.png": {
          "image/png": "[encoded data removed]"
        }
      },
      "cell_type": "markdown",
      "id": "50a0668a-8f39-4157-98e6-54032118a999",
      "metadata": {},
      "source": [
        "### The `DataFrame`\n",
        "\n",
        "Basically, a DataFrame consists of a collection of Series,\n",
        "aligned by the indexes. This concatenation therefore constructs a table of\n",
        "data, whose Series correspond to the columns, and whose index\n",
        "identifies the lines. The following figure\n",
        "([source](https://www.geeksforgeeks.org/creating-a-pandas-dataframe/))\n",
        "allows you to understand this data structure well.\n",
        "\n",
        "![](attachment:img/structure_df.png)\n",
        "\n",
        "A DataFrame can be constructed in multiple ways. In practice, we\n",
        "usually constructs a DataFrame directly from files\n",
        "tabular data (eg CSV, excel), rarely by hand. We will illustrate\n",
        "so only the most common manual construction method: to\n",
        "from a data dictionary."
      ]
    },
    {
      "cell_type": "code",
      "execution_count": 7,
      "id": "6d9b3eb2",
      "metadata": {},
      "outputs": [
        {
          "data": {
            "text/html": [
              "<div>\n",
              "<style scoped>\n",
              "    .dataframe tbody tr th:only-of-type {\n",
              "        vertical-align: middle;\n",
              "    }\n",
              "\n",
              "    .dataframe tbody tr th {\n",
              "        vertical-align: top;\n",
              "    }\n",
              "\n",
              "    .dataframe thead th {\n",
              "        text-align: right;\n",
              "    }\n",
              "</style>\n",
              "<table border=\"1\" class=\"dataframe\">\n",
              "  <thead>\n",
              "    <tr style=\"text-align: right;\">\n",
              "      <th></th>\n",
              "      <th>var1</th>\n",
              "      <th>var2</th>\n",
              "      <th>experiment</th>\n",
              "      <th>date</th>\n",
              "      <th>sample</th>\n",
              "    </tr>\n",
              "  </thead>\n",
              "  <tbody>\n",
              "    <tr>\n",
              "      <th>0</th>\n",
              "      <td>1.3</td>\n",
              "      <td>-9</td>\n",
              "      <td>test</td>\n",
              "      <td>2022-01-01</td>\n",
              "      <td>sample1</td>\n",
              "    </tr>\n",
              "    <tr>\n",
              "      <th>1</th>\n",
              "      <td>5.6</td>\n",
              "      <td>-6</td>\n",
              "      <td>train</td>\n",
              "      <td>2022-01-02</td>\n",
              "      <td>sample1</td>\n",
              "    </tr>\n",
              "    <tr>\n",
              "      <th>2</th>\n",
              "      <td>NaN</td>\n",
              "      <td>5</td>\n",
              "      <td>test</td>\n",
              "      <td>2022-01-03</td>\n",
              "      <td>sample1</td>\n",
              "    </tr>\n",
              "    <tr>\n",
              "      <th>3</th>\n",
              "      <td>NaN</td>\n",
              "      <td>1</td>\n",
              "      <td>train</td>\n",
              "      <td>2022-01-04</td>\n",
              "      <td>sample1</td>\n",
              "    </tr>\n",
              "    <tr>\n",
              "      <th>4</th>\n",
              "      <td>0.0</td>\n",
              "      <td>3</td>\n",
              "      <td>train</td>\n",
              "      <td>2022-01-05</td>\n",
              "      <td>sample1</td>\n",
              "    </tr>\n",
              "    <tr>\n",
              "      <th>5</th>\n",
              "      <td>NaN</td>\n",
              "      <td>3</td>\n",
              "      <td>validation</td>\n",
              "      <td>2022-01-06</td>\n",
              "      <td>sample1</td>\n",
              "    </tr>\n",
              "  </tbody>\n",
              "</table>\n",
              "</div>"
            ],
            "text/plain": [
              "   var1  var2  experiment        date   sample\n",
              "0   1.3    -9        test  2022-01-01  sample1\n",
              "1   5.6    -6       train  2022-01-02  sample1\n",
              "2   NaN     5        test  2022-01-03  sample1\n",
              "3   NaN     1       train  2022-01-04  sample1\n",
              "4   0.0     3       train  2022-01-05  sample1\n",
              "5   NaN     3  validation  2022-01-06  sample1"
            ]
          },
          "execution_count": 7,
          "metadata": {},
          "output_type": "execute_result"
        }
      ],
      "source": [
        "df = pd.DataFrame(\n",
        "    data = {\n",
        "        \"var1\": [1.3, 5.6, np.nan, np.nan, 0, np.nan],\n",
        "        \"var2\": np.random.randint(-10, 10, 6),\n",
        "        \"experiment\": [\"test\", \"train\", \"test\", \"train\", \"train\", \"validation\"],\n",
        "        \"date\": [\"2022-01-01\", \"2022-01-02\", \"2022-01-03\", \"2022-01-04\", \"2022-01-05\", \"2022-01-06\"],\n",
        "        \"sample\": \"sample1\"\n",
        "    }\n",
        ")\n",
        "\n",
        "df"
      ]
    },
    {
      "cell_type": "markdown",
      "id": "1c0907bd-81b3-4b74-93fd-371ef9bcb60d",
      "metadata": {},
      "source": [
        "A Pandas DataFrame has a set of useful attributes that we\n",
        "will discover throughout this tutorial. For now,\n",
        "Let's look at the most basic ones: the index and the column names.\n",
        "default, the index is initialized as for Series to the list of\n",
        "positions of the observations. An alternative index could have been specified\n",
        "when constructing the DataFrame by specifying the `index` argument of\n",
        "the `pd.DataFrame` function."
      ]
    },
    {
      "cell_type": "code",
      "execution_count": 8,
      "id": "f3903949",
      "metadata": {},
      "outputs": [
        {
          "data": {
            "text/plain": [
              "RangeIndex(start=0, stop=6, step=1)"
            ]
          },
          "execution_count": 8,
          "metadata": {},
          "output_type": "execute_result"
        }
      ],
      "source": [
        "df.index"
      ]
    },
    {
      "cell_type": "code",
      "execution_count": 9,
      "id": "abf08be4",
      "metadata": {},
      "outputs": [
        {
          "data": {
            "text/plain": [
              "Index(['var1', 'var2', 'experiment', 'date', 'sample'], dtype='object')"
            ]
          },
          "execution_count": 9,
          "metadata": {},
          "output_type": "execute_result"
        }
      ],
      "source": [
        "df.columns"
      ]
    },
    {
      "cell_type": "markdown",
      "id": "4deea207-623f-4c9f-b42f-3e3896521124",
      "metadata": {},
      "source": [
        "Often, rather than specifying an index by hand when\n",
        "construction of the DataFrame, we will want to use a certain column\n",
        "of the DataFrame as an index. For this we use the `set_index` method\n",
        "associated with DataFrames."
      ]
    },
    {
      "cell_type": "code",
      "execution_count": 10,
      "id": "6a6e16a5",
      "metadata": {},
      "outputs": [
        {
          "data": {
            "text/html": [
              "<div>\n",
              "<style scoped>\n",
              "    .dataframe tbody tr th:only-of-type {\n",
              "        vertical-align: middle;\n",
              "    }\n",
              "\n",
              "    .dataframe tbody tr th {\n",
              "        vertical-align: top;\n",
              "    }\n",
              "\n",
              "    .dataframe thead th {\n",
              "        text-align: right;\n",
              "    }\n",
              "</style>\n",
              "<table border=\"1\" class=\"dataframe\">\n",
              "  <thead>\n",
              "    <tr style=\"text-align: right;\">\n",
              "      <th></th>\n",
              "      <th>var1</th>\n",
              "      <th>var2</th>\n",
              "      <th>experiment</th>\n",
              "      <th>sample</th>\n",
              "    </tr>\n",
              "    <tr>\n",
              "      <th>date</th>\n",
              "      <th></th>\n",
              "      <th></th>\n",
              "      <th></th>\n",
              "      <th></th>\n",
              "    </tr>\n",
              "  </thead>\n",
              "  <tbody>\n",
              "    <tr>\n",
              "      <th>2022-01-01</th>\n",
              "      <td>1.3</td>\n",
              "      <td>-9</td>\n",
              "      <td>test</td>\n",
              "      <td>sample1</td>\n",
              "    </tr>\n",
              "    <tr>\n",
              "      <th>2022-01-02</th>\n",
              "      <td>5.6</td>\n",
              "      <td>-6</td>\n",
              "      <td>train</td>\n",
              "      <td>sample1</td>\n",
              "    </tr>\n",
              "    <tr>\n",
              "      <th>2022-01-03</th>\n",
              "      <td>NaN</td>\n",
              "      <td>5</td>\n",
              "      <td>test</td>\n",
              "      <td>sample1</td>\n",
              "    </tr>\n",
              "    <tr>\n",
              "      <th>2022-01-04</th>\n",
              "      <td>NaN</td>\n",
              "      <td>1</td>\n",
              "      <td>train</td>\n",
              "      <td>sample1</td>\n",
              "    </tr>\n",
              "    <tr>\n",
              "      <th>2022-01-05</th>\n",
              "      <td>0.0</td>\n",
              "      <td>3</td>\n",
              "      <td>train</td>\n",
              "      <td>sample1</td>\n",
              "    </tr>\n",
              "    <tr>\n",
              "      <th>2022-01-06</th>\n",
              "      <td>NaN</td>\n",
              "      <td>3</td>\n",
              "      <td>validation</td>\n",
              "      <td>sample1</td>\n",
              "    </tr>\n",
              "  </tbody>\n",
              "</table>\n",
              "</div>"
            ],
            "text/plain": [
              "            var1  var2  experiment   sample\n",
              "date                                       \n",
              "2022-01-01   1.3    -9        test  sample1\n",
              "2022-01-02   5.6    -6       train  sample1\n",
              "2022-01-03   NaN     5        test  sample1\n",
              "2022-01-04   NaN     1       train  sample1\n",
              "2022-01-05   0.0     3       train  sample1\n",
              "2022-01-06   NaN     3  validation  sample1"
            ]
          },
          "execution_count": 10,
          "metadata": {},
          "output_type": "execute_result"
        }
      ],
      "source": [
        "df = df.set_index(\"date\")\n",
        "df"
      ]
    },
    {
      "cell_type": "markdown",
      "id": "fbe403b4-07b3-4c6b-9643-af430749b5f9",
      "metadata": {},
      "source": [
        "The index attribute has naturally changed:"
      ]
    },
    {
      "cell_type": "code",
      "execution_count": 11,
      "id": "cbb511d1",
      "metadata": {},
      "outputs": [
        {
          "data": {
            "text/plain": [
              "Index(['2022-01-01', '2022-01-02', '2022-01-03', '2022-01-04', '2022-01-05',\n",
              "       '2022-01-06'],\n",
              "      dtype='object', name='date')"
            ]
          },
          "execution_count": 11,
          "metadata": {},
          "output_type": "execute_result"
        }
      ],
      "source": [
        "df.index"
      ]
    },
    {
      "cell_type": "markdown",
      "id": "549ec408-b065-48b2-9b9d-6de7edcd44b4",
      "metadata": {},
      "source": [
        "## Select data\n",
        "\n",
        "When manipulating tabular data, it is common to\n",
        "want to extract specific columns from a `DataFrame`. This\n",
        "Extraction is easy with `Pandas` thanks to the use of hooks.\n",
        "\n",
        "### Select columns\n",
        "\n",
        "#### Select a single column\n",
        "\n",
        "To extract a single column, we can use the following syntax:"
      ]
    },
    {
      "cell_type": "code",
      "execution_count": 12,
      "id": "36d67355",
      "metadata": {},
      "outputs": [
        {
          "data": {
            "text/plain": [
              "date\n",
              "2022-01-01    1.3\n",
              "2022-01-02    5.6\n",
              "2022-01-03    NaN\n",
              "2022-01-04    NaN\n",
              "2022-01-05    0.0\n",
              "2022-01-06    NaN\n",
              "Name: var1, dtype: float64"
            ]
          },
          "execution_count": 12,
          "metadata": {},
          "output_type": "execute_result"
        }
      ],
      "source": [
        "selected_column = df[\"var1\"]\n",
        "selected_column"
      ]
    },
    {
      "cell_type": "markdown",
      "id": "73df1c4e-a410-4461-abc1-7812de9ce2ff",
      "metadata": {},
      "source": [
        "The `selected_column` object here returns the column named `var1` of the\n",
        "`DataFrame` `df`. But what type is this object? To answer\n",
        "This question uses the `type()` function:"
      ]
    },
    {
      "cell_type": "code",
      "execution_count": 13,
      "id": "b63eae8e",
      "metadata": {},
      "outputs": [
        {
          "data": {
            "text/plain": [
              "pandas.core.series.Series"
            ]
          },
          "execution_count": 13,
          "metadata": {},
          "output_type": "execute_result"
        }
      ],
      "source": [
        "type(selected_column)"
      ]
    },
    {
      "cell_type": "markdown",
      "id": "2980b050-c196-417a-8d19-b932a0a5cba8",
      "metadata": {},
      "source": [
        "As we can see, the result is a `Series`, which is an object\n",
        "one-dimensional in `Pandas`.\n",
        "\n",
        "Another useful attribute to know is `shape`. It allows you to know\n",
        "the dimension of the object. For a `Series`, `shape` will return a tuple\n",
        "whose first element indicates the number of lines."
      ]
    },
    {
      "cell_type": "code",
      "execution_count": 14,
      "id": "80ffc90b",
      "metadata": {},
      "outputs": [
        {
          "data": {
            "text/plain": [
              "(6,)"
            ]
          },
          "execution_count": 14,
          "metadata": {},
          "output_type": "execute_result"
        }
      ],
      "source": [
        "selected_column.shape"
      ]
    },
    {
      "cell_type": "markdown",
      "id": "6a9e4365-0285-47f8-be28-44211326aa06",
      "metadata": {},
      "source": [
        "#### Select multiple columns\n",
        "\n",
        "To extract multiple columns, simply pass a list of names\n",
        "desired columns:"
      ]
    },
    {
      "cell_type": "code",
      "execution_count": 15,
      "id": "05146701",
      "metadata": {},
      "outputs": [
        {
          "data": {
            "text/html": [
              "<div>\n",
              "<style scoped>\n",
              "    .dataframe tbody tr th:only-of-type {\n",
              "        vertical-align: middle;\n",
              "    }\n",
              "\n",
              "    .dataframe tbody tr th {\n",
              "        vertical-align: top;\n",
              "    }\n",
              "\n",
              "    .dataframe thead th {\n",
              "        text-align: right;\n",
              "    }\n",
              "</style>\n",
              "<table border=\"1\" class=\"dataframe\">\n",
              "  <thead>\n",
              "    <tr style=\"text-align: right;\">\n",
              "      <th></th>\n",
              "      <th>var1</th>\n",
              "      <th>var2</th>\n",
              "      <th>experiment</th>\n",
              "    </tr>\n",
              "    <tr>\n",
              "      <th>date</th>\n",
              "      <th></th>\n",
              "      <th></th>\n",
              "      <th></th>\n",
              "    </tr>\n",
              "  </thead>\n",
              "  <tbody>\n",
              "    <tr>\n",
              "      <th>2022-01-01</th>\n",
              "      <td>1.3</td>\n",
              "      <td>-9</td>\n",
              "      <td>test</td>\n",
              "    </tr>\n",
              "    <tr>\n",
              "      <th>2022-01-02</th>\n",
              "      <td>5.6</td>\n",
              "      <td>-6</td>\n",
              "      <td>train</td>\n",
              "    </tr>\n",
              "    <tr>\n",
              "      <th>2022-01-03</th>\n",
              "      <td>NaN</td>\n",
              "      <td>5</td>\n",
              "      <td>test</td>\n",
              "    </tr>\n",
              "    <tr>\n",
              "      <th>2022-01-04</th>\n",
              "      <td>NaN</td>\n",
              "      <td>1</td>\n",
              "      <td>train</td>\n",
              "    </tr>\n",
              "    <tr>\n",
              "      <th>2022-01-05</th>\n",
              "      <td>0.0</td>\n",
              "      <td>3</td>\n",
              "      <td>train</td>\n",
              "    </tr>\n",
              "    <tr>\n",
              "      <th>2022-01-06</th>\n",
              "      <td>NaN</td>\n",
              "      <td>3</td>\n",
              "      <td>validation</td>\n",
              "    </tr>\n",
              "  </tbody>\n",
              "</table>\n",
              "</div>"
            ],
            "text/plain": [
              "            var1  var2  experiment\n",
              "date                              \n",
              "2022-01-01   1.3    -9        test\n",
              "2022-01-02   5.6    -6       train\n",
              "2022-01-03   NaN     5        test\n",
              "2022-01-04   NaN     1       train\n",
              "2022-01-05   0.0     3       train\n",
              "2022-01-06   NaN     3  validation"
            ]
          },
          "execution_count": 15,
          "metadata": {},
          "output_type": "execute_result"
        }
      ],
      "source": [
        "selected_columns = df[[\"var1\", \"var2\", \"experiment\"]]\n",
        "selected_columns"
      ]
    },
    {
      "cell_type": "markdown",
      "id": "572869e6-7a36-42a3-add1-9ecc414a7d64",
      "metadata": {},
      "source": [
        "This snippet shows the `var1`, `var2` and `experiment` columns of the\n",
        "`DataFrame` `df`. Now let's check its type:"
      ]
    },
    {
      "cell_type": "code",
      "execution_count": 16,
      "id": "affa4bb9",
      "metadata": {},
      "outputs": [
        {
          "data": {
            "text/plain": [
              "pandas.core.frame.DataFrame"
            ]
          },
          "execution_count": 16,
          "metadata": {},
          "output_type": "execute_result"
        }
      ],
      "source": [
        "type(selected_columns)"
      ]
    },
    {
      "cell_type": "markdown",
      "id": "0fc6a840-d53f-4632-b95f-796c9c34d766",
      "metadata": {},
      "source": [
        "The result is a `DataFrame`, because it is a two-dimensional object.\n",
        "We can also check its shape with the `shape` attribute. In this case, the\n",
        "tuple returned by `shape` will contain two elements: the number of rows\n",
        "and the number of columns."
      ]
    },
    {
      "cell_type": "code",
      "execution_count": 17,
      "id": "48111279",
      "metadata": {},
      "outputs": [
        {
          "data": {
            "text/plain": [
              "(6, 3)"
            ]
          },
          "execution_count": 17,
          "metadata": {},
          "output_type": "execute_result"
        }
      ],
      "source": [
        "selected_columns.shape"
      ]
    },
    {
      "cell_type": "markdown",
      "id": "7a7f1149-d5ce-4bd4-ac51-3b2571a56bb5",
      "metadata": {},
      "source": [
        "### Select lines\n",
        "\n",
        "#### Using `loc` and `iloc`\n",
        "\n",
        "When we want to select specific rows in a DataFrame, we\n",
        "can use two main methods: `loc` and `iloc`.\n",
        "\n",
        "- `iloc` allows you to select rows and columns by their\n",
        "position, that is, by numerical indices.\n",
        "\n",
        "Example, selection of the first 3 lines:"
      ]
    },
    {
      "cell_type": "code",
      "execution_count": 18,
      "id": "e9b51b72",
      "metadata": {},
      "outputs": [
        {
          "data": {
            "text/html": [
              "<div>\n",
              "<style scoped>\n",
              "    .dataframe tbody tr th:only-of-type {\n",
              "        vertical-align: middle;\n",
              "    }\n",
              "\n",
              "    .dataframe tbody tr th {\n",
              "        vertical-align: top;\n",
              "    }\n",
              "\n",
              "    .dataframe thead th {\n",
              "        text-align: right;\n",
              "    }\n",
              "</style>\n",
              "<table border=\"1\" class=\"dataframe\">\n",
              "  <thead>\n",
              "    <tr style=\"text-align: right;\">\n",
              "      <th></th>\n",
              "      <th>var1</th>\n",
              "      <th>var2</th>\n",
              "      <th>experiment</th>\n",
              "      <th>sample</th>\n",
              "    </tr>\n",
              "    <tr>\n",
              "      <th>date</th>\n",
              "      <th></th>\n",
              "      <th></th>\n",
              "      <th></th>\n",
              "      <th></th>\n",
              "    </tr>\n",
              "  </thead>\n",
              "  <tbody>\n",
              "    <tr>\n",
              "      <th>2022-01-01</th>\n",
              "      <td>1.3</td>\n",
              "      <td>-9</td>\n",
              "      <td>test</td>\n",
              "      <td>sample1</td>\n",
              "    </tr>\n",
              "    <tr>\n",
              "      <th>2022-01-02</th>\n",
              "      <td>5.6</td>\n",
              "      <td>-6</td>\n",
              "      <td>train</td>\n",
              "      <td>sample1</td>\n",
              "    </tr>\n",
              "    <tr>\n",
              "      <th>2022-01-03</th>\n",
              "      <td>NaN</td>\n",
              "      <td>5</td>\n",
              "      <td>test</td>\n",
              "      <td>sample1</td>\n",
              "    </tr>\n",
              "  </tbody>\n",
              "</table>\n",
              "</div>"
            ],
            "text/plain": [
              "            var1  var2 experiment   sample\n",
              "date                                      \n",
              "2022-01-01   1.3    -9       test  sample1\n",
              "2022-01-02   5.6    -6      train  sample1\n",
              "2022-01-03   NaN     5       test  sample1"
            ]
          },
          "execution_count": 18,
          "metadata": {},
          "output_type": "execute_result"
        }
      ],
      "source": [
        "df.iloc[0:3, :]"
      ]
    },
    {
      "cell_type": "markdown",
      "id": "94341ce5-d487-40d3-a0aa-27a1e93dfca8",
      "metadata": {},
      "source": [
        "- `loc` on the other hand, works with labels. If the indexes of the\n",
        "DataFrame are numbers, they look like positions, but this\n",
        "is not necessarily the case. It is crucial to note that,\n",
        "Unlike `iloc`, with `loc` the end index is included in\n",
        "the selection."
      ]
    },
    {
      "cell_type": "code",
      "execution_count": 19,
      "id": "4854228b",
      "metadata": {},
      "outputs": [
        {
          "data": {
            "text/html": [
              "<div>\n",
              "<style scoped>\n",
              "    .dataframe tbody tr th:only-of-type {\n",
              "        vertical-align: middle;\n",
              "    }\n",
              "\n",
              "    .dataframe tbody tr th {\n",
              "        vertical-align: top;\n",
              "    }\n",
              "\n",
              "    .dataframe thead th {\n",
              "        text-align: right;\n",
              "    }\n",
              "</style>\n",
              "<table border=\"1\" class=\"dataframe\">\n",
              "  <thead>\n",
              "    <tr style=\"text-align: right;\">\n",
              "      <th></th>\n",
              "      <th>var1</th>\n",
              "      <th>var2</th>\n",
              "      <th>experiment</th>\n",
              "      <th>sample</th>\n",
              "    </tr>\n",
              "    <tr>\n",
              "      <th>date</th>\n",
              "      <th></th>\n",
              "      <th></th>\n",
              "      <th></th>\n",
              "      <th></th>\n",
              "    </tr>\n",
              "  </thead>\n",
              "  <tbody>\n",
              "    <tr>\n",
              "      <th>2022-01-01</th>\n",
              "      <td>1.3</td>\n",
              "      <td>-9</td>\n",
              "      <td>test</td>\n",
              "      <td>sample1</td>\n",
              "    </tr>\n",
              "    <tr>\n",
              "      <th>2022-01-02</th>\n",
              "      <td>5.6</td>\n",
              "      <td>-6</td>\n",
              "      <td>train</td>\n",
              "      <td>sample1</td>\n",
              "    </tr>\n",
              "    <tr>\n",
              "      <th>2022-01-03</th>\n",
              "      <td>NaN</td>\n",
              "      <td>5</td>\n",
              "      <td>test</td>\n",
              "      <td>sample1</td>\n",
              "    </tr>\n",
              "  </tbody>\n",
              "</table>\n",
              "</div>"
            ],
            "text/plain": [
              "            var1  var2 experiment   sample\n",
              "date                                      \n",
              "2022-01-01   1.3    -9       test  sample1\n",
              "2022-01-02   5.6    -6      train  sample1\n",
              "2022-01-03   NaN     5       test  sample1"
            ]
          },
          "execution_count": 19,
          "metadata": {},
          "output_type": "execute_result"
        }
      ],
      "source": [
        "df.loc[\"2022-01-01\":\"2022-01-03\", :]"
      ]
    },
    {
      "cell_type": "markdown",
      "id": "9d83beb7-ed55-43da-b4f3-38fe3a8e793e",
      "metadata": {},
      "source": [
        "#### Filtering data based on conditions\n",
        "\n",
        "In practice, rather than selecting lines based on\n",
        "positions or labels, we often want to filter a DataFrame according to\n",
        "certain conditions. In this case, filters are mainly used\n",
        "booleans.\n",
        "\n",
        "- **Inequalities**: We may want to keep only the lines which\n",
        "meet a certain condition.\n",
        "\n",
        "Example, filter rows where the value of column `var2` is\n",
        "greater than 0:"
      ]
    },
    {
      "cell_type": "code",
      "execution_count": 20,
      "id": "9d8f95d0",
      "metadata": {},
      "outputs": [
        {
          "data": {
            "text/html": [
              "<div>\n",
              "<style scoped>\n",
              "    .dataframe tbody tr th:only-of-type {\n",
              "        vertical-align: middle;\n",
              "    }\n",
              "\n",
              "    .dataframe tbody tr th {\n",
              "        vertical-align: top;\n",
              "    }\n",
              "\n",
              "    .dataframe thead th {\n",
              "        text-align: right;\n",
              "    }\n",
              "</style>\n",
              "<table border=\"1\" class=\"dataframe\">\n",
              "  <thead>\n",
              "    <tr style=\"text-align: right;\">\n",
              "      <th></th>\n",
              "      <th>var1</th>\n",
              "      <th>var2</th>\n",
              "      <th>experiment</th>\n",
              "      <th>sample</th>\n",
              "    </tr>\n",
              "    <tr>\n",
              "      <th>date</th>\n",
              "      <th></th>\n",
              "      <th></th>\n",
              "      <th></th>\n",
              "      <th></th>\n",
              "    </tr>\n",
              "  </thead>\n",
              "  <tbody>\n",
              "    <tr>\n",
              "      <th>2022-01-03</th>\n",
              "      <td>NaN</td>\n",
              "      <td>5</td>\n",
              "      <td>test</td>\n",
              "      <td>sample1</td>\n",
              "    </tr>\n",
              "    <tr>\n",
              "      <th>2022-01-04</th>\n",
              "      <td>NaN</td>\n",
              "      <td>1</td>\n",
              "      <td>train</td>\n",
              "      <td>sample1</td>\n",
              "    </tr>\n",
              "    <tr>\n",
              "      <th>2022-01-05</th>\n",
              "      <td>0.0</td>\n",
              "      <td>3</td>\n",
              "      <td>train</td>\n",
              "      <td>sample1</td>\n",
              "    </tr>\n",
              "    <tr>\n",
              "      <th>2022-01-06</th>\n",
              "      <td>NaN</td>\n",
              "      <td>3</td>\n",
              "      <td>validation</td>\n",
              "      <td>sample1</td>\n",
              "    </tr>\n",
              "  </tbody>\n",
              "</table>\n",
              "</div>"
            ],
            "text/plain": [
              "            var1  var2  experiment   sample\n",
              "date                                       \n",
              "2022-01-03   NaN     5        test  sample1\n",
              "2022-01-04   NaN     1       train  sample1\n",
              "2022-01-05   0.0     3       train  sample1\n",
              "2022-01-06   NaN     3  validation  sample1"
            ]
          },
          "execution_count": 20,
          "metadata": {},
          "output_type": "execute_result"
        }
      ],
      "source": [
        "df[df['var2'] >= 0]"
      ]
    },
    {
      "cell_type": "markdown",
      "id": "41345491-c274-425e-9de8-f4bd7b2463ad",
      "metadata": {},
      "source": [
        "- **Membership with `isin`**: If we want to filter the data based\n",
        "on a list of possible values, the `isin` method is very\n",
        "useful.\n",
        "\n",
        "Example, to keep only rows where the `experiment` column has\n",
        "‘test’ or ‘validation’ values:"
      ]
    },
    {
      "cell_type": "code",
      "execution_count": 21,
      "id": "4431f26e",
      "metadata": {},
      "outputs": [
        {
          "data": {
            "text/html": [
              "<div>\n",
              "<style scoped>\n",
              "    .dataframe tbody tr th:only-of-type {\n",
              "        vertical-align: middle;\n",
              "    }\n",
              "\n",
              "    .dataframe tbody tr th {\n",
              "        vertical-align: top;\n",
              "    }\n",
              "\n",
              "    .dataframe thead th {\n",
              "        text-align: right;\n",
              "    }\n",
              "</style>\n",
              "<table border=\"1\" class=\"dataframe\">\n",
              "  <thead>\n",
              "    <tr style=\"text-align: right;\">\n",
              "      <th></th>\n",
              "      <th>var1</th>\n",
              "      <th>var2</th>\n",
              "      <th>experiment</th>\n",
              "      <th>sample</th>\n",
              "    </tr>\n",
              "    <tr>\n",
              "      <th>date</th>\n",
              "      <th></th>\n",
              "      <th></th>\n",
              "      <th></th>\n",
              "      <th></th>\n",
              "    </tr>\n",
              "  </thead>\n",
              "  <tbody>\n",
              "    <tr>\n",
              "      <th>2022-01-02</th>\n",
              "      <td>5.6</td>\n",
              "      <td>-6</td>\n",
              "      <td>train</td>\n",
              "      <td>sample1</td>\n",
              "    </tr>\n",
              "    <tr>\n",
              "      <th>2022-01-04</th>\n",
              "      <td>NaN</td>\n",
              "      <td>1</td>\n",
              "      <td>train</td>\n",
              "      <td>sample1</td>\n",
              "    </tr>\n",
              "    <tr>\n",
              "      <th>2022-01-05</th>\n",
              "      <td>0.0</td>\n",
              "      <td>3</td>\n",
              "      <td>train</td>\n",
              "      <td>sample1</td>\n",
              "    </tr>\n",
              "    <tr>\n",
              "      <th>2022-01-06</th>\n",
              "      <td>NaN</td>\n",
              "      <td>3</td>\n",
              "      <td>validation</td>\n",
              "      <td>sample1</td>\n",
              "    </tr>\n",
              "  </tbody>\n",
              "</table>\n",
              "</div>"
            ],
            "text/plain": [
              "            var1  var2  experiment   sample\n",
              "date                                       \n",
              "2022-01-02   5.6    -6       train  sample1\n",
              "2022-01-04   NaN     1       train  sample1\n",
              "2022-01-05   0.0     3       train  sample1\n",
              "2022-01-06   NaN     3  validation  sample1"
            ]
          },
          "execution_count": 21,
          "metadata": {},
          "output_type": "execute_result"
        }
      ],
      "source": [
        "df[df['experiment'].isin(['train', 'validation'])]"
      ]
    },
    {
      "cell_type": "markdown",
      "id": "178169b3-ec6a-418d-a627-646531d9444e",
      "metadata": {},
      "source": [
        "These methods can be combined to create more favorable conditions.\n",
        "complex. It is also possible to use logical operators (`&`\n",
        "for “and”, `|` for “or”) to combine multiple conditions. Be careful,\n",
        "It is important to take care to frame each condition with\n",
        "parentheses when combining.\n",
        "\n",
        "Example, select rows where `var2` is greater than 0 and\n",
        "`experiment` is equal to `test` or `validation`:"
      ]
    },
    {
      "cell_type": "code",
      "execution_count": 22,
      "id": "dd207457",
      "metadata": {},
      "outputs": [
        {
          "data": {
            "text/html": [
              "<div>\n",
              "<style scoped>\n",
              "    .dataframe tbody tr th:only-of-type {\n",
              "        vertical-align: middle;\n",
              "    }\n",
              "\n",
              "    .dataframe tbody tr th {\n",
              "        vertical-align: top;\n",
              "    }\n",
              "\n",
              "    .dataframe thead th {\n",
              "        text-align: right;\n",
              "    }\n",
              "</style>\n",
              "<table border=\"1\" class=\"dataframe\">\n",
              "  <thead>\n",
              "    <tr style=\"text-align: right;\">\n",
              "      <th></th>\n",
              "      <th>var1</th>\n",
              "      <th>var2</th>\n",
              "      <th>experiment</th>\n",
              "      <th>sample</th>\n",
              "    </tr>\n",
              "    <tr>\n",
              "      <th>date</th>\n",
              "      <th></th>\n",
              "      <th></th>\n",
              "      <th></th>\n",
              "      <th></th>\n",
              "    </tr>\n",
              "  </thead>\n",
              "  <tbody>\n",
              "    <tr>\n",
              "      <th>2022-01-04</th>\n",
              "      <td>NaN</td>\n",
              "      <td>1</td>\n",
              "      <td>train</td>\n",
              "      <td>sample1</td>\n",
              "    </tr>\n",
              "    <tr>\n",
              "      <th>2022-01-05</th>\n",
              "      <td>0.0</td>\n",
              "      <td>3</td>\n",
              "      <td>train</td>\n",
              "      <td>sample1</td>\n",
              "    </tr>\n",
              "    <tr>\n",
              "      <th>2022-01-06</th>\n",
              "      <td>NaN</td>\n",
              "      <td>3</td>\n",
              "      <td>validation</td>\n",
              "      <td>sample1</td>\n",
              "    </tr>\n",
              "  </tbody>\n",
              "</table>\n",
              "</div>"
            ],
            "text/plain": [
              "            var1  var2  experiment   sample\n",
              "date                                       \n",
              "2022-01-04   NaN     1       train  sample1\n",
              "2022-01-05   0.0     3       train  sample1\n",
              "2022-01-06   NaN     3  validation  sample1"
            ]
          },
          "execution_count": 22,
          "metadata": {},
          "output_type": "execute_result"
        }
      ],
      "source": [
        "df[(df['var2'] >= 0) & (df['experiment'].isin(['train', 'validation']))]"
      ]
    },
    {
      "cell_type": "markdown",
      "id": "0a050567-3293-4a2e-b31c-b9f8db45757f",
      "metadata": {},
      "source": [
        "## Exploring tabular data\n",
        "\n",
        "In public statistics, the starting point is generally not the\n",
        "manual generation of data, but rather tabular files\n",
        "pre-existing. These files, whether from surveys, databases\n",
        "administrative or other sources, constitute the raw material\n",
        "for any further analysis. Pandas offers powerful tools for\n",
        "import these tabular files and explore them for manipulation\n",
        "more advanced.\n",
        "\n",
        "### Import and export data\n",
        "\n",
        "#### Import a CSV file\n",
        "\n",
        "As we saw in a previous TP, the CSV format is one of the\n",
        "most common formats for storing tabular data. We\n",
        "previously used the `csv` library to manipulate them as\n",
        "text files, but it was not very practical. As a reminder, the\n",
        "syntax to read a CSV file and display the first lines was\n",
        "the following:"
      ]
    },
    {
      "cell_type": "code",
      "execution_count": 23,
      "id": "a9ff0413",
      "metadata": {},
      "outputs": [
        {
          "data": {
            "text/plain": [
              "[['DEP', 'REG', 'CHEFLIEU', 'TNCC', 'NCC', 'NCCENR', 'LIBELLE'],\n",
              " ['01', '84', '01053', '5', 'AIN', 'Ain', 'Ain'],\n",
              " ['02', '32', '02408', '5', 'AISNE', 'Aisne', 'Aisne'],\n",
              " ['03', '84', '03190', '5', 'ALLIER', 'Allier', 'Allier'],\n",
              " ['04',\n",
              "  '93',\n",
              "  '04070',\n",
              "  '4',\n",
              "  'ALPES DE HAUTE PROVENCE',\n",
              "  'Alpes-de-Haute-Provence',\n",
              "  'Alpes-de-Haute-Provence']]"
            ]
          },
          "execution_count": 23,
          "metadata": {},
          "output_type": "execute_result"
        }
      ],
      "source": [
        "import csv\n",
        "\n",
        "rows = []\n",
        "\n",
        "with open(\"data/departement2021.csv\") as file_in:\n",
        "    csv_reader = csv.reader(file_in)\n",
        "    for row in csv_reader:\n",
        "        rows.append(row)\n",
        "\n",
        "rows[:5]"
      ]
    },
    {
      "cell_type": "markdown",
      "id": "0381830c-82c3-491d-bf51-1b914e148121",
      "metadata": {},
      "source": [
        "With Pandas, you just need to use the `read_csv()` function to import\n",
        "the file as a DataFrame, then the `head()` function."
      ]
    },
    {
      "cell_type": "code",
      "execution_count": 26,
      "id": "3e940af5",
      "metadata": {},
      "outputs": [
        {
          "data": {
            "text/html": [
              "<div>\n",
              "<style scoped>\n",
              "    .dataframe tbody tr th:only-of-type {\n",
              "        vertical-align: middle;\n",
              "    }\n",
              "\n",
              "    .dataframe tbody tr th {\n",
              "        vertical-align: top;\n",
              "    }\n",
              "\n",
              "    .dataframe thead th {\n",
              "        text-align: right;\n",
              "    }\n",
              "</style>\n",
              "<table border=\"1\" class=\"dataframe\">\n",
              "  <thead>\n",
              "    <tr style=\"text-align: right;\">\n",
              "      <th></th>\n",
              "      <th>DEP</th>\n",
              "      <th>REG</th>\n",
              "      <th>CHEFLIEU</th>\n",
              "      <th>TNCC</th>\n",
              "      <th>NCC</th>\n",
              "      <th>NCCENR</th>\n",
              "      <th>LIBELLE</th>\n",
              "    </tr>\n",
              "  </thead>\n",
              "  <tbody>\n",
              "    <tr>\n",
              "      <th>0</th>\n",
              "      <td>01</td>\n",
              "      <td>84</td>\n",
              "      <td>01053</td>\n",
              "      <td>5</td>\n",
              "      <td>AIN</td>\n",
              "      <td>Ain</td>\n",
              "      <td>Ain</td>\n",
              "    </tr>\n",
              "    <tr>\n",
              "      <th>1</th>\n",
              "      <td>02</td>\n",
              "      <td>32</td>\n",
              "      <td>02408</td>\n",
              "      <td>5</td>\n",
              "      <td>AISNE</td>\n",
              "      <td>Aisne</td>\n",
              "      <td>Aisne</td>\n",
              "    </tr>\n",
              "    <tr>\n",
              "      <th>2</th>\n",
              "      <td>03</td>\n",
              "      <td>84</td>\n",
              "      <td>03190</td>\n",
              "      <td>5</td>\n",
              "      <td>ALLIER</td>\n",
              "      <td>Allier</td>\n",
              "      <td>Allier</td>\n",
              "    </tr>\n",
              "    <tr>\n",
              "      <th>3</th>\n",
              "      <td>04</td>\n",
              "      <td>93</td>\n",
              "      <td>04070</td>\n",
              "      <td>4</td>\n",
              "      <td>ALPES DE HAUTE PROVENCE</td>\n",
              "      <td>Alpes-de-Haute-Provence</td>\n",
              "      <td>Alpes-de-Haute-Provence</td>\n",
              "    </tr>\n",
              "    <tr>\n",
              "      <th>4</th>\n",
              "      <td>05</td>\n",
              "      <td>93</td>\n",
              "      <td>05061</td>\n",
              "      <td>4</td>\n",
              "      <td>HAUTES ALPES</td>\n",
              "      <td>Hautes-Alpes</td>\n",
              "      <td>Hautes-Alpes</td>\n",
              "    </tr>\n",
              "  </tbody>\n",
              "</table>\n",
              "</div>"
            ],
            "text/plain": [
              "  DEP  REG CHEFLIEU  TNCC                      NCC                   NCCENR  \\\n",
              "0  01   84    01053     5                      AIN                      Ain   \n",
              "1  02   32    02408     5                    AISNE                    Aisne   \n",
              "2  03   84    03190     5                   ALLIER                   Allier   \n",
              "3  04   93    04070     4  ALPES DE HAUTE PROVENCE  Alpes-de-Haute-Provence   \n",
              "4  05   93    05061     4             HAUTES ALPES             Hautes-Alpes   \n",
              "\n",
              "                   LIBELLE  \n",
              "0                      Ain  \n",
              "1                    Aisne  \n",
              "2                   Allier  \n",
              "3  Alpes-de-Haute-Provence  \n",
              "4             Hautes-Alpes  "
            ]
          },
          "execution_count": 26,
          "metadata": {},
          "output_type": "execute_result"
        }
      ],
      "source": [
        "df_departements = pd.read_csv('data/departement2021.csv')\n",
        "df_departements.head()"
      ]
    },
    {
      "cell_type": "markdown",
      "id": "8e333195-ac98-4ead-ba75-a8feb2c8ea89",
      "metadata": {},
      "source": [
        "It is also possible to import a CSV file directly from\n",
        "of a URL. This is especially useful when the data is\n",
        "regularly updated on a website and that we wish to access\n",
        "to the latest version without having to manually download the\n",
        "file each time. Let's take the example of a CSV file available on\n",
        "the INSEE website: the first name file, from state data\n",
        "civil. We note in passing another very practical feature: the\n",
        "CSV file is compressed (`zip` format), but Pandas is able to\n",
        "recognize and decompress it before importing it."
      ]
    },
    {
      "cell_type": "code",
      "execution_count": 30,
      "id": "86116ec8",
      "metadata": {},
      "outputs": [
        {
          "data": {
            "text/html": [
              "<div>\n",
              "<style scoped>\n",
              "    .dataframe tbody tr th:only-of-type {\n",
              "        vertical-align: middle;\n",
              "    }\n",
              "\n",
              "    .dataframe tbody tr th {\n",
              "        vertical-align: top;\n",
              "    }\n",
              "\n",
              "    .dataframe thead th {\n",
              "        text-align: right;\n",
              "    }\n",
              "</style>\n",
              "<table border=\"1\" class=\"dataframe\">\n",
              "  <thead>\n",
              "    <tr style=\"text-align: right;\">\n",
              "      <th></th>\n",
              "      <th>sexe</th>\n",
              "      <th>preusuel</th>\n",
              "      <th>annais</th>\n",
              "      <th>nombre</th>\n",
              "    </tr>\n",
              "  </thead>\n",
              "  <tbody>\n",
              "    <tr>\n",
              "      <th>0</th>\n",
              "      <td>1</td>\n",
              "      <td>_PRENOMS_RARES</td>\n",
              "      <td>1900</td>\n",
              "      <td>1249</td>\n",
              "    </tr>\n",
              "    <tr>\n",
              "      <th>1</th>\n",
              "      <td>1</td>\n",
              "      <td>_PRENOMS_RARES</td>\n",
              "      <td>1901</td>\n",
              "      <td>1342</td>\n",
              "    </tr>\n",
              "    <tr>\n",
              "      <th>2</th>\n",
              "      <td>1</td>\n",
              "      <td>_PRENOMS_RARES</td>\n",
              "      <td>1902</td>\n",
              "      <td>1330</td>\n",
              "    </tr>\n",
              "    <tr>\n",
              "      <th>3</th>\n",
              "      <td>1</td>\n",
              "      <td>_PRENOMS_RARES</td>\n",
              "      <td>1903</td>\n",
              "      <td>1286</td>\n",
              "    </tr>\n",
              "    <tr>\n",
              "      <th>4</th>\n",
              "      <td>1</td>\n",
              "      <td>_PRENOMS_RARES</td>\n",
              "      <td>1904</td>\n",
              "      <td>1430</td>\n",
              "    </tr>\n",
              "  </tbody>\n",
              "</table>\n",
              "</div>"
            ],
            "text/plain": [
              "   sexe        preusuel annais  nombre\n",
              "0     1  _PRENOMS_RARES   1900    1249\n",
              "1     1  _PRENOMS_RARES   1901    1342\n",
              "2     1  _PRENOMS_RARES   1902    1330\n",
              "3     1  _PRENOMS_RARES   1903    1286\n",
              "4     1  _PRENOMS_RARES   1904    1430"
            ]
          },
          "execution_count": 30,
          "metadata": {},
          "output_type": "execute_result"
        }
      ],
      "source": [
        "# Import CSV file from URL\n",
        "url = \"https://www.insee.fr/fr/statistiques/fichier/2540004/nat2021_csv.zip\"\n",
        "df_prenoms_url = pd.read_csv(url, sep=\";\")\n",
        "df_prenoms_url.head()"
      ]
    },
    {
      "cell_type": "markdown",
      "id": "91fcd1c3-4ce6-4501-8d93-fef224769c76",
      "metadata": {},
      "source": [
        "When working with CSV files, there are many arguments\n",
        "optional functions available in the `read_csv()` function that allow\n",
        "to adjust the import process according to the specificities of the\n",
        "file. These arguments can notably be used to define a\n",
        "specific delimiter (as above for the first name file),\n",
        "skip certain lines at the beginning of the file, or even define the\n",
        "data types for each column, and many more. All these\n",
        "parameters and their usage are detailed in the [documentation\n",
        "official](https://pandas.pydata.org/docs/reference/api/pandas.read_csv.html).\n",
        "\n",
        "#### Export to CSV\n",
        "\n",
        "Once the data has been processed and modified within\n",
        "Pandas, it is common to want to export the result as\n",
        "CSV file to share, archive or use in other\n",
        "tools. Pandas offers a simple method for this operation:\n",
        "`to_csv()`. For example, suppose we want to export the data\n",
        "from the DataFrame `df_departements` specific to the five departments\n",
        "from overseas."
      ]
    },
    {
      "cell_type": "code",
      "execution_count": 40,
      "id": "0a561ba9",
      "metadata": {},
      "outputs": [
        {
          "data": {
            "text/html": [
              "<div>\n",
              "<style scoped>\n",
              "    .dataframe tbody tr th:only-of-type {\n",
              "        vertical-align: middle;\n",
              "    }\n",
              "\n",
              "    .dataframe tbody tr th {\n",
              "        vertical-align: top;\n",
              "    }\n",
              "\n",
              "    .dataframe thead th {\n",
              "        text-align: right;\n",
              "    }\n",
              "</style>\n",
              "<table border=\"1\" class=\"dataframe\">\n",
              "  <thead>\n",
              "    <tr style=\"text-align: right;\">\n",
              "      <th></th>\n",
              "      <th>DEP</th>\n",
              "      <th>REG</th>\n",
              "      <th>CHEFLIEU</th>\n",
              "      <th>TNCC</th>\n",
              "      <th>NCC</th>\n",
              "      <th>NCCENR</th>\n",
              "      <th>LIBELLE</th>\n",
              "    </tr>\n",
              "  </thead>\n",
              "  <tbody>\n",
              "    <tr>\n",
              "      <th>96</th>\n",
              "      <td>971</td>\n",
              "      <td>1</td>\n",
              "      <td>97105</td>\n",
              "      <td>3</td>\n",
              "      <td>GUADELOUPE</td>\n",
              "      <td>Guadeloupe</td>\n",
              "      <td>Guadeloupe</td>\n",
              "    </tr>\n",
              "    <tr>\n",
              "      <th>97</th>\n",
              "      <td>972</td>\n",
              "      <td>2</td>\n",
              "      <td>97209</td>\n",
              "      <td>3</td>\n",
              "      <td>MARTINIQUE</td>\n",
              "      <td>Martinique</td>\n",
              "      <td>Martinique</td>\n",
              "    </tr>\n",
              "    <tr>\n",
              "      <th>98</th>\n",
              "      <td>973</td>\n",
              "      <td>3</td>\n",
              "      <td>97302</td>\n",
              "      <td>3</td>\n",
              "      <td>GUYANE</td>\n",
              "      <td>Guyane</td>\n",
              "      <td>Guyane</td>\n",
              "    </tr>\n",
              "    <tr>\n",
              "      <th>99</th>\n",
              "      <td>974</td>\n",
              "      <td>4</td>\n",
              "      <td>97411</td>\n",
              "      <td>0</td>\n",
              "      <td>LA REUNION</td>\n",
              "      <td>La Réunion</td>\n",
              "      <td>La Réunion</td>\n",
              "    </tr>\n",
              "  </tbody>\n",
              "</table>\n",
              "</div>"
            ],
            "text/plain": [
              "    DEP  REG CHEFLIEU  TNCC         NCC      NCCENR     LIBELLE\n",
              "96  971    1    97105     3  GUADELOUPE  Guadeloupe  Guadeloupe\n",
              "97  972    2    97209     3  MARTINIQUE  Martinique  Martinique\n",
              "98  973    3    97302     3      GUYANE      Guyane      Guyane\n",
              "99  974    4    97411     0  LA REUNION  La Réunion  La Réunion"
            ]
          },
          "execution_count": 40,
          "metadata": {},
          "output_type": "execute_result"
        }
      ],
      "source": [
        "df_departements_dom = df_departements[df_departements[\"DEP\"].isin([\"971\", \"972\", \"973\", \"974\", \"975\"])] #The second part of this equation will produce a series of boolean values\n",
        "df_departements_dom.to_csv('departements2021_dom.csv', sep = \";\")\n",
        "df_departements_dom\n",
        "#!cat output/departments2021_dom.csv #The teacher added this. Doesn't work. I don't know what it does. The exclamation point refers to a shell operation."
      ]
    },
    {
      "cell_type": "markdown",
      "id": "943b8bd0-fa33-422e-a19b-7240d62eadc2",
      "metadata": {},
      "source": [
        "One of the key arguments of the `to_csv()` method is `index`. By default,\n",
        "`index=True`, which means that the DataFrame's index will also be\n",
        "written in the CSV file. This can be verified by printing the\n",
        "first lines of our CSV file: Pandas added a column\n",
        "unnamed, which contains the index of the retained lines."
      ]
    },
    {
      "cell_type": "code",
      "execution_count": 41,
      "id": "00592eb7",
      "metadata": {},
      "outputs": [
        {
          "name": "stdout",
          "output_type": "stream",
          "text": [
            ";DEP;REG;CHEFLIEU;TNCC;NCC;NCCENR;LIBELLE\n",
            "96;971;1;97105;3;GUADELOUPE;Guadeloupe;Guadeloupe\n",
            "97;972;2;97209;3;MARTINIQUE;Martinique;Martinique\n",
            "98;973;3;97302;3;GUYANE;Guyane;Guyane\n",
            "99;974;4;97411;0;LA REUNION;La RÃ©union;La RÃ©union\n"
          ]
        }
      ],
      "source": [
        "with open(\"departements2021_dom.csv\") as file_in:\n",
        "    for i in range(5):\n",
        "        row = next(file_in).strip()\n",
        "        print(row)"
      ]
    },
    {
      "cell_type": "markdown",
      "id": "040b875a-b773-424b-898c-00e5e94f3d09",
      "metadata": {},
      "source": [
        "In some cases, particularly when the index does not provide information\n",
        "useful or is simply automatically generated by Pandas, one could\n",
        "want to exclude it from the exported file. To do this, you can define\n",
        "`index=False`."
      ]
    },
    {
      "cell_type": "code",
      "execution_count": 42,
      "id": "148eb7b4",
      "metadata": {},
      "outputs": [],
      "source": [
        "df_departements_dom.to_csv('departements2021_dom_noindex.csv', index=False)"
      ]
    },
    {
      "cell_type": "markdown",
      "id": "3b601534-f841-4d66-8639-d6b1ad92a4e9",
      "metadata": {},
      "source": [
        "#### Import a Parquet file\n",
        "\n",
        "Parquet format is another format for data storage\n",
        "tabular, increasingly frequently used. Without going into the\n",
        "technical details, the Parquet format presents different\n",
        "features that make it a preferred choice for storage and\n",
        "processing of large volumes of data. Due to these advantages, this\n",
        "format is increasingly used for data provision\n",
        "at INSEE. It is therefore essential to know how to import and request\n",
        "Parquet files with Pandas.\n",
        "\n",
        "Importing a Parquet file into a Pandas DataFrame is just as easy\n",
        "easily than for a CSV file. The function is called\n",
        "`read_parquet()`."
      ]
    },
    {
      "cell_type": "code",
      "execution_count": 46,
      "id": "8c31f76a",
      "metadata": {},
      "outputs": [
        {
          "name": "stderr",
          "output_type": "stream",
          "text": [
            "\n",
            "[notice] A new release of pip is available: 24.0 -> 25.0.1\n",
            "[notice] To update, run: C:\\Users\\rita_\\AppData\\Local\\Microsoft\\WindowsApps\\PythonSoftwareFoundation.Python.3.11_qbz5n2kfra8p0\\python.exe -m pip install --upgrade pip\n"
          ]
        },
        {
          "name": "stdout",
          "output_type": "stream",
          "text": [
            "Requirement already satisfied: pandas in c:\\users\\rita_\\appdata\\local\\packages\\pythonsoftwarefoundation.python.3.11_qbz5n2kfra8p0\\localcache\\local-packages\\python311\\site-packages (2.1.1)\n",
            "Collecting fastparquet\n",
            "  Downloading fastparquet-2024.11.0-cp311-cp311-win_amd64.whl.metadata (4.3 kB)\n",
            "Requirement already satisfied: numpy>=1.23.2 in c:\\users\\rita_\\appdata\\local\\packages\\pythonsoftwarefoundation.python.3.11_qbz5n2kfra8p0\\localcache\\local-packages\\python311\\site-packages (from pandas) (1.26.0)\n",
            "Requirement already satisfied: python-dateutil>=2.8.2 in c:\\users\\rita_\\appdata\\local\\packages\\pythonsoftwarefoundation.python.3.11_qbz5n2kfra8p0\\localcache\\local-packages\\python311\\site-packages (from pandas) (2.8.2)\n",
            "Requirement already satisfied: pytz>=2020.1 in c:\\users\\rita_\\appdata\\local\\packages\\pythonsoftwarefoundation.python.3.11_qbz5n2kfra8p0\\localcache\\local-packages\\python311\\site-packages (from pandas) (2023.3.post1)\n",
            "Requirement already satisfied: tzdata>=2022.1 in c:\\users\\rita_\\appdata\\local\\packages\\pythonsoftwarefoundation.python.3.11_qbz5n2kfra8p0\\localcache\\local-packages\\python311\\site-packages (from pandas) (2023.3)\n",
            "Collecting cramjam>=2.3 (from fastparquet)\n",
            "  Downloading cramjam-2.9.1-cp311-cp311-win_amd64.whl.metadata (5.0 kB)\n",
            "Collecting fsspec (from fastparquet)\n",
            "  Downloading fsspec-2025.2.0-py3-none-any.whl.metadata (11 kB)\n",
            "Requirement already satisfied: packaging in c:\\users\\rita_\\appdata\\local\\packages\\pythonsoftwarefoundation.python.3.11_qbz5n2kfra8p0\\localcache\\local-packages\\python311\\site-packages (from fastparquet) (23.2)\n",
            "Requirement already satisfied: six>=1.5 in c:\\users\\rita_\\appdata\\local\\packages\\pythonsoftwarefoundation.python.3.11_qbz5n2kfra8p0\\localcache\\local-packages\\python311\\site-packages (from python-dateutil>=2.8.2->pandas) (1.16.0)\n",
            "Downloading fastparquet-2024.11.0-cp311-cp311-win_amd64.whl (671 kB)\n",
            "   ---------------------------------------- 0.0/671.0 kB ? eta -:--:--\n",
            "    --------------------------------------- 10.2/671.0 kB ? eta -:--:--\n",
            "   - ------------------------------------- 30.7/671.0 kB 445.2 kB/s eta 0:00:02\n",
            "   - ------------------------------------- 30.7/671.0 kB 445.2 kB/s eta 0:00:02\n",
            "   -- ------------------------------------ 41.0/671.0 kB 245.8 kB/s eta 0:00:03\n",
            "   --- ----------------------------------- 61.4/671.0 kB 299.4 kB/s eta 0:00:03\n",
            "   --- ----------------------------------- 61.4/671.0 kB 299.4 kB/s eta 0:00:03\n",
            "   --- ----------------------------------- 61.4/671.0 kB 299.4 kB/s eta 0:00:03\n",
            "   ----- --------------------------------- 92.2/671.0 kB 262.6 kB/s eta 0:00:03\n",
            "   --------- ---------------------------- 174.1/671.0 kB 436.9 kB/s eta 0:00:02\n",
            "   --------- ---------------------------- 174.1/671.0 kB 436.9 kB/s eta 0:00:02\n",
            "   ----------- -------------------------- 204.8/671.0 kB 429.5 kB/s eta 0:00:02\n",
            "   ----------- -------------------------- 204.8/671.0 kB 429.5 kB/s eta 0:00:02\n",
            "   ----------- -------------------------- 204.8/671.0 kB 429.5 kB/s eta 0:00:02\n",
            "   ----------- -------------------------- 204.8/671.0 kB 429.5 kB/s eta 0:00:02\n",
            "   ----------------- -------------------- 307.2/671.0 kB 452.7 kB/s eta 0:00:01\n",
            "   ----------------- -------------------- 317.4/671.0 kB 468.3 kB/s eta 0:00:01\n",
            "   ------------------- ------------------ 348.2/671.0 kB 450.6 kB/s eta 0:00:01\n",
            "   ------------------- ------------------ 348.2/671.0 kB 450.6 kB/s eta 0:00:01\n",
            "   -------------------- ----------------- 368.6/671.0 kB 432.9 kB/s eta 0:00:01\n",
            "   ----------------------- -------------- 419.8/671.0 kB 476.8 kB/s eta 0:00:01\n",
            "   --------------------------- ---------- 481.3/671.0 kB 502.7 kB/s eta 0:00:01\n",
            "   --------------------------- ---------- 481.3/671.0 kB 502.7 kB/s eta 0:00:01\n",
            "   ---------------------------- --------- 501.8/671.0 kB 484.3 kB/s eta 0:00:01\n",
            "   ---------------------------- --------- 512.0/671.0 kB 486.7 kB/s eta 0:00:01\n",
            "   --------------------------------- ---- 593.9/671.0 kB 526.3 kB/s eta 0:00:01\n",
            "   ---------------------------------- --- 614.4/671.0 kB 515.9 kB/s eta 0:00:01\n",
            "   ----------------------------------- -- 634.9/671.0 kB 533.4 kB/s eta 0:00:01\n",
            "   ------------------------------------ - 645.1/671.0 kB 501.9 kB/s eta 0:00:01\n",
            "   -------------------------------------- 671.0/671.0 kB 515.8 kB/s eta 0:00:00\n",
            "Downloading cramjam-2.9.1-cp311-cp311-win_amd64.whl (2.1 MB)\n",
            "   ---------------------------------------- 0.0/2.1 MB ? eta -:--:--\n",
            "    --------------------------------------- 0.0/2.1 MB 653.6 kB/s eta 0:00:04\n",
            "    --------------------------------------- 0.0/2.1 MB 653.6 kB/s eta 0:00:04\n",
            "   - -------------------------------------- 0.1/2.1 MB 871.5 kB/s eta 0:00:03\n",
            "   -- ------------------------------------- 0.1/2.1 MB 726.2 kB/s eta 0:00:03\n",
            "   --- ------------------------------------ 0.2/2.1 MB 794.9 kB/s eta 0:00:03\n",
            "   ---- ----------------------------------- 0.2/2.1 MB 808.4 kB/s eta 0:00:03\n",
            "   ---- ----------------------------------- 0.3/2.1 MB 827.5 kB/s eta 0:00:03\n",
            "   ----- ---------------------------------- 0.3/2.1 MB 770.1 kB/s eta 0:00:03\n",
            "   ------ --------------------------------- 0.3/2.1 MB 838.1 kB/s eta 0:00:03\n",
            "   ------ --------------------------------- 0.3/2.1 MB 746.0 kB/s eta 0:00:03\n",
            "   ------- -------------------------------- 0.4/2.1 MB 804.0 kB/s eta 0:00:03\n",
            "   ------- -------------------------------- 0.4/2.1 MB 752.1 kB/s eta 0:00:03\n",
            "   -------- ------------------------------- 0.5/2.1 MB 741.3 kB/s eta 0:00:03\n",
            "   -------- ------------------------------- 0.5/2.1 MB 702.9 kB/s eta 0:00:03\n",
            "   --------- ------------------------------ 0.5/2.1 MB 701.0 kB/s eta 0:00:03\n",
            "   --------- ------------------------------ 0.5/2.1 MB 697.9 kB/s eta 0:00:03\n",
            "   --------- ------------------------------ 0.5/2.1 MB 697.9 kB/s eta 0:00:03\n",
            "   ---------- ----------------------------- 0.5/2.1 MB 630.7 kB/s eta 0:00:03\n",
            "   ---------- ----------------------------- 0.6/2.1 MB 643.7 kB/s eta 0:00:03\n",
            "   ----------- ---------------------------- 0.6/2.1 MB 644.2 kB/s eta 0:00:03\n",
            "   ----------- ---------------------------- 0.6/2.1 MB 655.0 kB/s eta 0:00:03\n",
            "   ------------ --------------------------- 0.6/2.1 MB 624.9 kB/s eta 0:00:03\n",
            "   ------------ --------------------------- 0.6/2.1 MB 624.9 kB/s eta 0:00:03\n",
            "   ------------- -------------------------- 0.7/2.1 MB 618.6 kB/s eta 0:00:03\n",
            "   ------------- -------------------------- 0.7/2.1 MB 619.0 kB/s eta 0:00:03\n",
            "   ------------- -------------------------- 0.7/2.1 MB 611.6 kB/s eta 0:00:03\n",
            "   ------------- -------------------------- 0.7/2.1 MB 611.6 kB/s eta 0:00:03\n",
            "   --------------- ------------------------ 0.8/2.1 MB 600.0 kB/s eta 0:00:03\n",
            "   --------------- ------------------------ 0.8/2.1 MB 615.8 kB/s eta 0:00:03\n",
            "   --------------- ------------------------ 0.8/2.1 MB 615.8 kB/s eta 0:00:03\n",
            "   --------------- ------------------------ 0.8/2.1 MB 615.8 kB/s eta 0:00:03\n",
            "   ---------------- ----------------------- 0.9/2.1 MB 578.6 kB/s eta 0:00:03\n",
            "   ---------------- ----------------------- 0.9/2.1 MB 561.8 kB/s eta 0:00:03\n",
            "   ---------------- ----------------------- 0.9/2.1 MB 561.8 kB/s eta 0:00:03\n",
            "   ----------------- ---------------------- 0.9/2.1 MB 548.2 kB/s eta 0:00:03\n",
            "   ----------------- ---------------------- 0.9/2.1 MB 545.1 kB/s eta 0:00:03\n",
            "   ----------------- ---------------------- 0.9/2.1 MB 545.1 kB/s eta 0:00:03\n",
            "   ------------------ --------------------- 1.0/2.1 MB 555.9 kB/s eta 0:00:02\n",
            "   ------------------- -------------------- 1.0/2.1 MB 564.1 kB/s eta 0:00:02\n",
            "   -------------------- ------------------- 1.1/2.1 MB 572.0 kB/s eta 0:00:02\n",
            "   -------------------- ------------------- 1.1/2.1 MB 568.6 kB/s eta 0:00:02\n",
            "   --------------------- ------------------ 1.1/2.1 MB 596.3 kB/s eta 0:00:02\n",
            "   --------------------- ------------------ 1.1/2.1 MB 596.3 kB/s eta 0:00:02\n",
            "   --------------------- ------------------ 1.1/2.1 MB 596.3 kB/s eta 0:00:02\n",
            "   ----------------------- ---------------- 1.2/2.1 MB 581.5 kB/s eta 0:00:02\n",
            "   ----------------------- ---------------- 1.2/2.1 MB 581.9 kB/s eta 0:00:02\n",
            "   ------------------------ --------------- 1.3/2.1 MB 594.0 kB/s eta 0:00:02\n",
            "   ------------------------- -------------- 1.3/2.1 MB 590.3 kB/s eta 0:00:02\n",
            "   ------------------------- -------------- 1.3/2.1 MB 590.3 kB/s eta 0:00:02\n",
            "   -------------------------- ------------- 1.4/2.1 MB 588.5 kB/s eta 0:00:02\n",
            "   -------------------------- ------------- 1.4/2.1 MB 585.4 kB/s eta 0:00:02\n",
            "   -------------------------- ------------- 1.4/2.1 MB 585.4 kB/s eta 0:00:02\n",
            "   -------------------------- ------------- 1.4/2.1 MB 585.4 kB/s eta 0:00:02\n",
            "   -------------------------- ------------- 1.4/2.1 MB 585.4 kB/s eta 0:00:02\n",
            "   -------------------------- ------------- 1.4/2.1 MB 549.4 kB/s eta 0:00:02\n",
            "   -------------------------- ------------- 1.4/2.1 MB 549.4 kB/s eta 0:00:02\n",
            "   --------------------------- ------------ 1.4/2.1 MB 538.9 kB/s eta 0:00:02\n",
            "   --------------------------- ------------ 1.4/2.1 MB 538.9 kB/s eta 0:00:02\n",
            "   ---------------------------- ----------- 1.5/2.1 MB 538.5 kB/s eta 0:00:02\n",
            "   ---------------------------- ----------- 1.5/2.1 MB 538.5 kB/s eta 0:00:02\n",
            "   ----------------------------- ---------- 1.5/2.1 MB 545.5 kB/s eta 0:00:02\n",
            "   ----------------------------- ---------- 1.5/2.1 MB 545.5 kB/s eta 0:00:02\n",
            "   ----------------------------- ---------- 1.5/2.1 MB 545.5 kB/s eta 0:00:02\n",
            "   ----------------------------- ---------- 1.5/2.1 MB 517.3 kB/s eta 0:00:02\n",
            "   ----------------------------- ---------- 1.6/2.1 MB 518.8 kB/s eta 0:00:02\n",
            "   ------------------------------ --------- 1.6/2.1 MB 511.5 kB/s eta 0:00:02\n",
            "   ------------------------------ --------- 1.6/2.1 MB 517.1 kB/s eta 0:00:01\n",
            "   -------------------------------- ------- 1.7/2.1 MB 535.4 kB/s eta 0:00:01\n",
            "   --------------------------------- ------ 1.7/2.1 MB 542.3 kB/s eta 0:00:01\n",
            "   ---------------------------------- ----- 1.8/2.1 MB 554.5 kB/s eta 0:00:01\n",
            "   ---------------------------------- ----- 1.8/2.1 MB 554.5 kB/s eta 0:00:01\n",
            "   ---------------------------------- ----- 1.8/2.1 MB 544.6 kB/s eta 0:00:01\n",
            "   ---------------------------------- ----- 1.8/2.1 MB 544.6 kB/s eta 0:00:01\n",
            "   ----------------------------------- ---- 1.8/2.1 MB 535.6 kB/s eta 0:00:01\n",
            "   ----------------------------------- ---- 1.9/2.1 MB 534.3 kB/s eta 0:00:01\n",
            "   ----------------------------------- ---- 1.9/2.1 MB 530.1 kB/s eta 0:00:01\n",
            "   ----------------------------------- ---- 1.9/2.1 MB 530.1 kB/s eta 0:00:01\n",
            "   ----------------------------------- ---- 1.9/2.1 MB 530.1 kB/s eta 0:00:01\n",
            "   ----------------------------------- ---- 1.9/2.1 MB 530.1 kB/s eta 0:00:01\n",
            "   ------------------------------------ --- 1.9/2.1 MB 510.9 kB/s eta 0:00:01\n",
            "   ------------------------------------ --- 1.9/2.1 MB 507.3 kB/s eta 0:00:01\n",
            "   ------------------------------------- -- 1.9/2.1 MB 509.7 kB/s eta 0:00:01\n",
            "   ------------------------------------- -- 2.0/2.1 MB 510.3 kB/s eta 0:00:01\n",
            "   -------------------------------------- - 2.0/2.1 MB 511.2 kB/s eta 0:00:01\n",
            "   ---------------------------------------  2.1/2.1 MB 524.8 kB/s eta 0:00:01\n",
            "   ---------------------------------------  2.1/2.1 MB 524.8 kB/s eta 0:00:01\n",
            "   ---------------------------------------  2.1/2.1 MB 524.8 kB/s eta 0:00:01\n",
            "   ---------------------------------------- 2.1/2.1 MB 512.4 kB/s eta 0:00:00\n",
            "Downloading fsspec-2025.2.0-py3-none-any.whl (184 kB)\n",
            "   ---------------------------------------- 0.0/184.5 kB ? eta -:--:--\n",
            "   -- ------------------------------------- 10.2/184.5 kB ? eta -:--:--\n",
            "   ------ -------------------------------- 30.7/184.5 kB 217.9 kB/s eta 0:00:01\n",
            "   -------- ------------------------------ 41.0/184.5 kB 245.8 kB/s eta 0:00:01\n",
            "   -------- ------------------------------ 41.0/184.5 kB 245.8 kB/s eta 0:00:01\n",
            "   ------------ -------------------------- 61.4/184.5 kB 251.0 kB/s eta 0:00:01\n",
            "   ------------------- ------------------- 92.2/184.5 kB 308.0 kB/s eta 0:00:01\n",
            "   ------------------------- ------------ 122.9/184.5 kB 359.9 kB/s eta 0:00:01\n",
            "   ------------------------------- ------ 153.6/184.5 kB 398.2 kB/s eta 0:00:01\n",
            "   ----------------------------------- -- 174.1/184.5 kB 436.9 kB/s eta 0:00:01\n",
            "   ----------------------------------- -- 174.1/184.5 kB 436.9 kB/s eta 0:00:01\n",
            "   -------------------------------------- 184.5/184.5 kB 359.3 kB/s eta 0:00:00\n",
            "Installing collected packages: fsspec, cramjam, fastparquet\n",
            "Successfully installed cramjam-2.9.1 fastparquet-2024.11.0 fsspec-2025.2.0\n"
          ]
        },
        {
          "data": {
            "text/html": [
              "<div>\n",
              "<style scoped>\n",
              "    .dataframe tbody tr th:only-of-type {\n",
              "        vertical-align: middle;\n",
              "    }\n",
              "\n",
              "    .dataframe tbody tr th {\n",
              "        vertical-align: top;\n",
              "    }\n",
              "\n",
              "    .dataframe thead th {\n",
              "        text-align: right;\n",
              "    }\n",
              "</style>\n",
              "<table border=\"1\" class=\"dataframe\">\n",
              "  <thead>\n",
              "    <tr style=\"text-align: right;\">\n",
              "      <th></th>\n",
              "      <th>DEP</th>\n",
              "      <th>REG</th>\n",
              "      <th>CHEFLIEU</th>\n",
              "      <th>TNCC</th>\n",
              "      <th>NCC</th>\n",
              "      <th>NCCENR</th>\n",
              "      <th>LIBELLE</th>\n",
              "    </tr>\n",
              "  </thead>\n",
              "  <tbody>\n",
              "    <tr>\n",
              "      <th>0</th>\n",
              "      <td>01</td>\n",
              "      <td>84</td>\n",
              "      <td>01053</td>\n",
              "      <td>5</td>\n",
              "      <td>AIN</td>\n",
              "      <td>Ain</td>\n",
              "      <td>Ain</td>\n",
              "    </tr>\n",
              "    <tr>\n",
              "      <th>1</th>\n",
              "      <td>02</td>\n",
              "      <td>32</td>\n",
              "      <td>02408</td>\n",
              "      <td>5</td>\n",
              "      <td>AISNE</td>\n",
              "      <td>Aisne</td>\n",
              "      <td>Aisne</td>\n",
              "    </tr>\n",
              "    <tr>\n",
              "      <th>2</th>\n",
              "      <td>03</td>\n",
              "      <td>84</td>\n",
              "      <td>03190</td>\n",
              "      <td>5</td>\n",
              "      <td>ALLIER</td>\n",
              "      <td>Allier</td>\n",
              "      <td>Allier</td>\n",
              "    </tr>\n",
              "    <tr>\n",
              "      <th>3</th>\n",
              "      <td>04</td>\n",
              "      <td>93</td>\n",
              "      <td>04070</td>\n",
              "      <td>4</td>\n",
              "      <td>ALPES DE HAUTE PROVENCE</td>\n",
              "      <td>Alpes-de-Haute-Provence</td>\n",
              "      <td>Alpes-de-Haute-Provence</td>\n",
              "    </tr>\n",
              "    <tr>\n",
              "      <th>4</th>\n",
              "      <td>05</td>\n",
              "      <td>93</td>\n",
              "      <td>05061</td>\n",
              "      <td>4</td>\n",
              "      <td>HAUTES ALPES</td>\n",
              "      <td>Hautes-Alpes</td>\n",
              "      <td>Hautes-Alpes</td>\n",
              "    </tr>\n",
              "  </tbody>\n",
              "</table>\n",
              "</div>"
            ],
            "text/plain": [
              "  DEP  REG CHEFLIEU  TNCC                      NCC                   NCCENR  \\\n",
              "0  01   84    01053     5                      AIN                      Ain   \n",
              "1  02   32    02408     5                    AISNE                    Aisne   \n",
              "2  03   84    03190     5                   ALLIER                   Allier   \n",
              "3  04   93    04070     4  ALPES DE HAUTE PROVENCE  Alpes-de-Haute-Provence   \n",
              "4  05   93    05061     4             HAUTES ALPES             Hautes-Alpes   \n",
              "\n",
              "                   LIBELLE  \n",
              "0                      Ain  \n",
              "1                    Aisne  \n",
              "2                   Allier  \n",
              "3  Alpes-de-Haute-Provence  \n",
              "4             Hautes-Alpes  "
            ]
          },
          "execution_count": 46,
          "metadata": {},
          "output_type": "execute_result"
        }
      ],
      "source": [
        "!pip install pandas fastparquet\n",
        "df_departements = pd.read_parquet('data/departement2021.parquet')\n",
        "df_departements.head()"
      ]
    },
    {
      "cell_type": "markdown",
      "id": "442c04e5-d37e-4e06-971b-153aba892120",
      "metadata": {},
      "source": [
        "#### Export to Parquet format\n",
        "\n",
        "Here again, everything happens as in the world of CSV: we use the\n",
        "`to_parquet()` method to export a DataFrame to a file\n",
        "Parquet. Similarly, one can choose whether or not to export the index, using the\n",
        "`index` parameter (which is `True` by default)."
      ]
    },
    {
      "cell_type": "code",
      "execution_count": 49,
      "id": "2748b2ea",
      "metadata": {},
      "outputs": [],
      "source": [
        "#!pip install pandas pyarrow\n",
        "df_departements_dom = df_departements[df_departements[\"DEP\"].isin([\"971\", \"972\", \"973\", \"974\", \"975\"])]\n",
        "df_departements_dom.to_parquet('departements2021_dom.parquet', index=False)"
      ]
    },
    {
      "cell_type": "markdown",
      "id": "89195d15-5052-44c6-a01b-7025f909c580",
      "metadata": {},
      "source": [
        "One of the great strengths of the Parquet format, compared to other formats\n",
        "text like CSV, is its ability to store metadata, i.e.\n",
        "data to better understand the data contained in the\n",
        "file. In particular, a Parquet file includes in its metadata\n",
        "the data schema (variable names, variable types, etc.),\n",
        "which makes it a very suitable format for data dissemination.\n",
        "Let's check this behavior by taking the DataFrame we have\n",
        "previously defined."
      ]
    },
    {
      "cell_type": "code",
      "execution_count": 50,
      "id": "378c1e4b",
      "metadata": {},
      "outputs": [],
      "source": [
        "df = pd.DataFrame(\n",
        "    data = {\n",
        "        \"var1\": [1.3, 5.6, np.nan, np.nan, 0, np.nan],\n",
        "        \"var2\": np.random.randint(-10, 10, 6),\n",
        "        \"experiment\": [\"test\", \"train\", \"test\", \"train\", \"train\", \"validation\"],\n",
        "        \"date\": [\"2022-01-01\", \"2022-01-02\", \"2022-01-03\", \"2022-01-04\", \"2022-01-05\", \"2022-01-06\"],\n",
        "        \"sample\": \"sample1\"\n",
        "    }\n",
        ")\n",
        "\n",
        "df = df.assign(\n",
        "    experiment=pd.Categorical(df[\"experiment\"]),\n",
        "    date=pd.to_datetime(df[\"date\"])\n",
        ")"
      ]
    },
    {
      "cell_type": "markdown",
      "id": "a84438ef-512f-4658-8905-8dcb7a079aad",
      "metadata": {},
      "source": [
        "This time we use two specific types of data, for the\n",
        "categorical data (`category`) and for temporal data\n",
        "(`datetime`). We will see later in the tutorial how to use these\n",
        "types. For now, let's just note that Pandas stores these types\n",
        "in the data schema."
      ]
    },
    {
      "cell_type": "code",
      "execution_count": 51,
      "id": "664470db",
      "metadata": {},
      "outputs": [
        {
          "name": "stdout",
          "output_type": "stream",
          "text": [
            "<class 'pandas.core.frame.DataFrame'>\n",
            "RangeIndex: 6 entries, 0 to 5\n",
            "Data columns (total 5 columns):\n",
            " #   Column      Non-Null Count  Dtype         \n",
            "---  ------      --------------  -----         \n",
            " 0   var1        3 non-null      float64       \n",
            " 1   var2        6 non-null      int32         \n",
            " 2   experiment  6 non-null      category      \n",
            " 3   date        6 non-null      datetime64[ns]\n",
            " 4   sample      6 non-null      object        \n",
            "dtypes: category(1), datetime64[ns](1), float64(1), int32(1), object(1)\n",
            "memory usage: 438.0+ bytes\n"
          ]
        }
      ],
      "source": [
        "df.info()"
      ]
    },
    {
      "cell_type": "markdown",
      "id": "4ac286c2-ca3e-4788-aa44-1d66d8362831",
      "metadata": {},
      "source": [
        "Now let's check that the export and re-import of this data in\n",
        "Parquet preserves the pattern."
      ]
    },
    {
      "cell_type": "code",
      "execution_count": 53,
      "id": "75834cd8",
      "metadata": {},
      "outputs": [
        {
          "name": "stdout",
          "output_type": "stream",
          "text": [
            "<class 'pandas.core.frame.DataFrame'>\n",
            "RangeIndex: 6 entries, 0 to 5\n",
            "Data columns (total 5 columns):\n",
            " #   Column      Non-Null Count  Dtype         \n",
            "---  ------      --------------  -----         \n",
            " 0   var1        3 non-null      float64       \n",
            " 1   var2        6 non-null      int32         \n",
            " 2   experiment  6 non-null      category      \n",
            " 3   date        6 non-null      datetime64[ns]\n",
            " 4   sample      6 non-null      object        \n",
            "dtypes: category(1), datetime64[ns](1), float64(1), int32(1), object(1)\n",
            "memory usage: 438.0+ bytes\n"
          ]
        }
      ],
      "source": [
        "df.to_parquet(\"df_test_schema.parquet\", index=False)\n",
        "df_test_schema_parquet = pd.read_parquet('df_test_schema.parquet')\n",
        "\n",
        "df_test_schema_parquet.info()"
      ]
    },
    {
      "cell_type": "markdown",
      "id": "c02871c8-a1d9-48b2-987c-36d841446956",
      "metadata": {},
      "source": [
        "Conversely, a CSV file, which by definition only contains text, does not\n",
        "does not allow us to preserve this data. The variables we have\n",
        "specified type are imported as strings (type `object` in\n",
        "Pandas)."
      ]
    },
    {
      "cell_type": "code",
      "execution_count": 55,
      "id": "7bae4650",
      "metadata": {},
      "outputs": [
        {
          "name": "stdout",
          "output_type": "stream",
          "text": [
            "<class 'pandas.core.frame.DataFrame'>\n",
            "RangeIndex: 6 entries, 0 to 5\n",
            "Data columns (total 5 columns):\n",
            " #   Column      Non-Null Count  Dtype  \n",
            "---  ------      --------------  -----  \n",
            " 0   var1        3 non-null      float64\n",
            " 1   var2        6 non-null      int64  \n",
            " 2   experiment  6 non-null      object \n",
            " 3   date        6 non-null      object \n",
            " 4   sample      6 non-null      object \n",
            "dtypes: float64(1), int64(1), object(3)\n",
            "memory usage: 372.0+ bytes\n"
          ]
        }
      ],
      "source": [
        "df.to_csv(\"df_test_schema.csv\", index=False)\n",
        "df_test_schema_csv = pd.read_csv('df_test_schema.csv')\n",
        "\n",
        "df_test_schema_csv.info()"
      ]
    },
    {
      "cell_type": "markdown",
      "id": "5653b47b-6650-4fcc-8f00-b0fb0074aa9d",
      "metadata": {},
      "source": [
        "### View a sample of the data\n",
        "\n",
        "When working with large datasets, it is often\n",
        "useful to quickly view a sample of the data to get a\n",
        "idea of ​​their structure, their format or even to detect\n",
        "potential problems. Pandas offers several methods for this.\n",
        "\n",
        "The `head()` method is used to display the first rows of the DataFrame.\n",
        "By default it returns the first 5 lines, but you can specify\n",
        "another number as an argument if necessary."
      ]
    },
    {
      "cell_type": "code",
      "execution_count": 56,
      "id": "2ce10d60",
      "metadata": {},
      "outputs": [
        {
          "data": {
            "text/html": [
              "<div>\n",
              "<style scoped>\n",
              "    .dataframe tbody tr th:only-of-type {\n",
              "        vertical-align: middle;\n",
              "    }\n",
              "\n",
              "    .dataframe tbody tr th {\n",
              "        vertical-align: top;\n",
              "    }\n",
              "\n",
              "    .dataframe thead th {\n",
              "        text-align: right;\n",
              "    }\n",
              "</style>\n",
              "<table border=\"1\" class=\"dataframe\">\n",
              "  <thead>\n",
              "    <tr style=\"text-align: right;\">\n",
              "      <th></th>\n",
              "      <th>DEP</th>\n",
              "      <th>REG</th>\n",
              "      <th>CHEFLIEU</th>\n",
              "      <th>TNCC</th>\n",
              "      <th>NCC</th>\n",
              "      <th>NCCENR</th>\n",
              "      <th>LIBELLE</th>\n",
              "    </tr>\n",
              "  </thead>\n",
              "  <tbody>\n",
              "    <tr>\n",
              "      <th>0</th>\n",
              "      <td>01</td>\n",
              "      <td>84</td>\n",
              "      <td>01053</td>\n",
              "      <td>5</td>\n",
              "      <td>AIN</td>\n",
              "      <td>Ain</td>\n",
              "      <td>Ain</td>\n",
              "    </tr>\n",
              "    <tr>\n",
              "      <th>1</th>\n",
              "      <td>02</td>\n",
              "      <td>32</td>\n",
              "      <td>02408</td>\n",
              "      <td>5</td>\n",
              "      <td>AISNE</td>\n",
              "      <td>Aisne</td>\n",
              "      <td>Aisne</td>\n",
              "    </tr>\n",
              "    <tr>\n",
              "      <th>2</th>\n",
              "      <td>03</td>\n",
              "      <td>84</td>\n",
              "      <td>03190</td>\n",
              "      <td>5</td>\n",
              "      <td>ALLIER</td>\n",
              "      <td>Allier</td>\n",
              "      <td>Allier</td>\n",
              "    </tr>\n",
              "    <tr>\n",
              "      <th>3</th>\n",
              "      <td>04</td>\n",
              "      <td>93</td>\n",
              "      <td>04070</td>\n",
              "      <td>4</td>\n",
              "      <td>ALPES DE HAUTE PROVENCE</td>\n",
              "      <td>Alpes-de-Haute-Provence</td>\n",
              "      <td>Alpes-de-Haute-Provence</td>\n",
              "    </tr>\n",
              "    <tr>\n",
              "      <th>4</th>\n",
              "      <td>05</td>\n",
              "      <td>93</td>\n",
              "      <td>05061</td>\n",
              "      <td>4</td>\n",
              "      <td>HAUTES ALPES</td>\n",
              "      <td>Hautes-Alpes</td>\n",
              "      <td>Hautes-Alpes</td>\n",
              "    </tr>\n",
              "  </tbody>\n",
              "</table>\n",
              "</div>"
            ],
            "text/plain": [
              "  DEP  REG CHEFLIEU  TNCC                      NCC                   NCCENR  \\\n",
              "0  01   84    01053     5                      AIN                      Ain   \n",
              "1  02   32    02408     5                    AISNE                    Aisne   \n",
              "2  03   84    03190     5                   ALLIER                   Allier   \n",
              "3  04   93    04070     4  ALPES DE HAUTE PROVENCE  Alpes-de-Haute-Provence   \n",
              "4  05   93    05061     4             HAUTES ALPES             Hautes-Alpes   \n",
              "\n",
              "                   LIBELLE  \n",
              "0                      Ain  \n",
              "1                    Aisne  \n",
              "2                   Allier  \n",
              "3  Alpes-de-Haute-Provence  \n",
              "4             Hautes-Alpes  "
            ]
          },
          "execution_count": 56,
          "metadata": {},
          "output_type": "execute_result"
        }
      ],
      "source": [
        "df_departements.head()"
      ]
    },
    {
      "cell_type": "code",
      "execution_count": 57,
      "id": "1fe3a363",
      "metadata": {},
      "outputs": [
        {
          "data": {
            "text/html": [
              "<div>\n",
              "<style scoped>\n",
              "    .dataframe tbody tr th:only-of-type {\n",
              "        vertical-align: middle;\n",
              "    }\n",
              "\n",
              "    .dataframe tbody tr th {\n",
              "        vertical-align: top;\n",
              "    }\n",
              "\n",
              "    .dataframe thead th {\n",
              "        text-align: right;\n",
              "    }\n",
              "</style>\n",
              "<table border=\"1\" class=\"dataframe\">\n",
              "  <thead>\n",
              "    <tr style=\"text-align: right;\">\n",
              "      <th></th>\n",
              "      <th>DEP</th>\n",
              "      <th>REG</th>\n",
              "      <th>CHEFLIEU</th>\n",
              "      <th>TNCC</th>\n",
              "      <th>NCC</th>\n",
              "      <th>NCCENR</th>\n",
              "      <th>LIBELLE</th>\n",
              "    </tr>\n",
              "  </thead>\n",
              "  <tbody>\n",
              "    <tr>\n",
              "      <th>0</th>\n",
              "      <td>01</td>\n",
              "      <td>84</td>\n",
              "      <td>01053</td>\n",
              "      <td>5</td>\n",
              "      <td>AIN</td>\n",
              "      <td>Ain</td>\n",
              "      <td>Ain</td>\n",
              "    </tr>\n",
              "    <tr>\n",
              "      <th>1</th>\n",
              "      <td>02</td>\n",
              "      <td>32</td>\n",
              "      <td>02408</td>\n",
              "      <td>5</td>\n",
              "      <td>AISNE</td>\n",
              "      <td>Aisne</td>\n",
              "      <td>Aisne</td>\n",
              "    </tr>\n",
              "    <tr>\n",
              "      <th>2</th>\n",
              "      <td>03</td>\n",
              "      <td>84</td>\n",
              "      <td>03190</td>\n",
              "      <td>5</td>\n",
              "      <td>ALLIER</td>\n",
              "      <td>Allier</td>\n",
              "      <td>Allier</td>\n",
              "    </tr>\n",
              "    <tr>\n",
              "      <th>3</th>\n",
              "      <td>04</td>\n",
              "      <td>93</td>\n",
              "      <td>04070</td>\n",
              "      <td>4</td>\n",
              "      <td>ALPES DE HAUTE PROVENCE</td>\n",
              "      <td>Alpes-de-Haute-Provence</td>\n",
              "      <td>Alpes-de-Haute-Provence</td>\n",
              "    </tr>\n",
              "    <tr>\n",
              "      <th>4</th>\n",
              "      <td>05</td>\n",
              "      <td>93</td>\n",
              "      <td>05061</td>\n",
              "      <td>4</td>\n",
              "      <td>HAUTES ALPES</td>\n",
              "      <td>Hautes-Alpes</td>\n",
              "      <td>Hautes-Alpes</td>\n",
              "    </tr>\n",
              "    <tr>\n",
              "      <th>5</th>\n",
              "      <td>06</td>\n",
              "      <td>93</td>\n",
              "      <td>06088</td>\n",
              "      <td>4</td>\n",
              "      <td>ALPES MARITIMES</td>\n",
              "      <td>Alpes-Maritimes</td>\n",
              "      <td>Alpes-Maritimes</td>\n",
              "    </tr>\n",
              "    <tr>\n",
              "      <th>6</th>\n",
              "      <td>07</td>\n",
              "      <td>84</td>\n",
              "      <td>07186</td>\n",
              "      <td>5</td>\n",
              "      <td>ARDECHE</td>\n",
              "      <td>Ardèche</td>\n",
              "      <td>Ardèche</td>\n",
              "    </tr>\n",
              "    <tr>\n",
              "      <th>7</th>\n",
              "      <td>08</td>\n",
              "      <td>44</td>\n",
              "      <td>08105</td>\n",
              "      <td>4</td>\n",
              "      <td>ARDENNES</td>\n",
              "      <td>Ardennes</td>\n",
              "      <td>Ardennes</td>\n",
              "    </tr>\n",
              "    <tr>\n",
              "      <th>8</th>\n",
              "      <td>09</td>\n",
              "      <td>76</td>\n",
              "      <td>09122</td>\n",
              "      <td>5</td>\n",
              "      <td>ARIEGE</td>\n",
              "      <td>Ariège</td>\n",
              "      <td>Ariège</td>\n",
              "    </tr>\n",
              "    <tr>\n",
              "      <th>9</th>\n",
              "      <td>10</td>\n",
              "      <td>44</td>\n",
              "      <td>10387</td>\n",
              "      <td>5</td>\n",
              "      <td>AUBE</td>\n",
              "      <td>Aube</td>\n",
              "      <td>Aube</td>\n",
              "    </tr>\n",
              "  </tbody>\n",
              "</table>\n",
              "</div>"
            ],
            "text/plain": [
              "  DEP  REG CHEFLIEU  TNCC                      NCC                   NCCENR  \\\n",
              "0  01   84    01053     5                      AIN                      Ain   \n",
              "1  02   32    02408     5                    AISNE                    Aisne   \n",
              "2  03   84    03190     5                   ALLIER                   Allier   \n",
              "3  04   93    04070     4  ALPES DE HAUTE PROVENCE  Alpes-de-Haute-Provence   \n",
              "4  05   93    05061     4             HAUTES ALPES             Hautes-Alpes   \n",
              "5  06   93    06088     4          ALPES MARITIMES          Alpes-Maritimes   \n",
              "6  07   84    07186     5                  ARDECHE                  Ardèche   \n",
              "7  08   44    08105     4                 ARDENNES                 Ardennes   \n",
              "8  09   76    09122     5                   ARIEGE                   Ariège   \n",
              "9  10   44    10387     5                     AUBE                     Aube   \n",
              "\n",
              "                   LIBELLE  \n",
              "0                      Ain  \n",
              "1                    Aisne  \n",
              "2                   Allier  \n",
              "3  Alpes-de-Haute-Provence  \n",
              "4             Hautes-Alpes  \n",
              "5          Alpes-Maritimes  \n",
              "6                  Ardèche  \n",
              "7                 Ardennes  \n",
              "8                   Ariège  \n",
              "9                     Aube  "
            ]
          },
          "execution_count": 57,
          "metadata": {},
          "output_type": "execute_result"
        }
      ],
      "source": [
        "df_departements.head(10)"
      ]
    },
    {
      "cell_type": "markdown",
      "id": "3b88b59d-1f6e-45bd-bb50-89cf244cc575",
      "metadata": {},
      "source": [
        "Conversely, the `tail()` method gives a preview of the last few lines of the\n",
        "DataFrame."
      ]
    },
    {
      "cell_type": "code",
      "execution_count": 58,
      "id": "3f63af23",
      "metadata": {},
      "outputs": [
        {
          "data": {
            "text/html": [
              "<div>\n",
              "<style scoped>\n",
              "    .dataframe tbody tr th:only-of-type {\n",
              "        vertical-align: middle;\n",
              "    }\n",
              "\n",
              "    .dataframe tbody tr th {\n",
              "        vertical-align: top;\n",
              "    }\n",
              "\n",
              "    .dataframe thead th {\n",
              "        text-align: right;\n",
              "    }\n",
              "</style>\n",
              "<table border=\"1\" class=\"dataframe\">\n",
              "  <thead>\n",
              "    <tr style=\"text-align: right;\">\n",
              "      <th></th>\n",
              "      <th>DEP</th>\n",
              "      <th>REG</th>\n",
              "      <th>CHEFLIEU</th>\n",
              "      <th>TNCC</th>\n",
              "      <th>NCC</th>\n",
              "      <th>NCCENR</th>\n",
              "      <th>LIBELLE</th>\n",
              "    </tr>\n",
              "  </thead>\n",
              "  <tbody>\n",
              "    <tr>\n",
              "      <th>96</th>\n",
              "      <td>971</td>\n",
              "      <td>1</td>\n",
              "      <td>97105</td>\n",
              "      <td>3</td>\n",
              "      <td>GUADELOUPE</td>\n",
              "      <td>Guadeloupe</td>\n",
              "      <td>Guadeloupe</td>\n",
              "    </tr>\n",
              "    <tr>\n",
              "      <th>97</th>\n",
              "      <td>972</td>\n",
              "      <td>2</td>\n",
              "      <td>97209</td>\n",
              "      <td>3</td>\n",
              "      <td>MARTINIQUE</td>\n",
              "      <td>Martinique</td>\n",
              "      <td>Martinique</td>\n",
              "    </tr>\n",
              "    <tr>\n",
              "      <th>98</th>\n",
              "      <td>973</td>\n",
              "      <td>3</td>\n",
              "      <td>97302</td>\n",
              "      <td>3</td>\n",
              "      <td>GUYANE</td>\n",
              "      <td>Guyane</td>\n",
              "      <td>Guyane</td>\n",
              "    </tr>\n",
              "    <tr>\n",
              "      <th>99</th>\n",
              "      <td>974</td>\n",
              "      <td>4</td>\n",
              "      <td>97411</td>\n",
              "      <td>0</td>\n",
              "      <td>LA REUNION</td>\n",
              "      <td>La Réunion</td>\n",
              "      <td>La Réunion</td>\n",
              "    </tr>\n",
              "    <tr>\n",
              "      <th>100</th>\n",
              "      <td>976</td>\n",
              "      <td>6</td>\n",
              "      <td>97608</td>\n",
              "      <td>0</td>\n",
              "      <td>MAYOTTE</td>\n",
              "      <td>Mayotte</td>\n",
              "      <td>Mayotte</td>\n",
              "    </tr>\n",
              "  </tbody>\n",
              "</table>\n",
              "</div>"
            ],
            "text/plain": [
              "     DEP  REG CHEFLIEU  TNCC         NCC      NCCENR     LIBELLE\n",
              "96   971    1    97105     3  GUADELOUPE  Guadeloupe  Guadeloupe\n",
              "97   972    2    97209     3  MARTINIQUE  Martinique  Martinique\n",
              "98   973    3    97302     3      GUYANE      Guyane      Guyane\n",
              "99   974    4    97411     0  LA REUNION  La Réunion  La Réunion\n",
              "100  976    6    97608     0     MAYOTTE     Mayotte     Mayotte"
            ]
          },
          "execution_count": 58,
          "metadata": {},
          "output_type": "execute_result"
        }
      ],
      "source": [
        "df_departements.tail()"
      ]
    },
    {
      "cell_type": "markdown",
      "id": "799787b9-adff-4f3a-9039-80c0884e8021",
      "metadata": {},
      "source": [
        "Sometimes the display of the first or last lines may not be\n",
        "representative of the entire dataset, when the data is\n",
        "sorted for example. In order to minimize the risk of getting a preview\n",
        "biased data, one can use the `sample()` method, which\n",
        "selects a random sample of rows. By default, it\n",
        "returns a single row, but a specific number of rows can be requested.\n",
        "lines using the `n` argument."
      ]
    },
    {
      "cell_type": "code",
      "execution_count": 61,
      "id": "23749b86",
      "metadata": {},
      "outputs": [
        {
          "data": {
            "text/html": [
              "<div>\n",
              "<style scoped>\n",
              "    .dataframe tbody tr th:only-of-type {\n",
              "        vertical-align: middle;\n",
              "    }\n",
              "\n",
              "    .dataframe tbody tr th {\n",
              "        vertical-align: top;\n",
              "    }\n",
              "\n",
              "    .dataframe thead th {\n",
              "        text-align: right;\n",
              "    }\n",
              "</style>\n",
              "<table border=\"1\" class=\"dataframe\">\n",
              "  <thead>\n",
              "    <tr style=\"text-align: right;\">\n",
              "      <th></th>\n",
              "      <th>DEP</th>\n",
              "      <th>REG</th>\n",
              "      <th>CHEFLIEU</th>\n",
              "      <th>TNCC</th>\n",
              "      <th>NCC</th>\n",
              "      <th>NCCENR</th>\n",
              "      <th>LIBELLE</th>\n",
              "    </tr>\n",
              "  </thead>\n",
              "  <tbody>\n",
              "    <tr>\n",
              "      <th>14</th>\n",
              "      <td>15</td>\n",
              "      <td>84</td>\n",
              "      <td>15014</td>\n",
              "      <td>2</td>\n",
              "      <td>CANTAL</td>\n",
              "      <td>Cantal</td>\n",
              "      <td>Cantal</td>\n",
              "    </tr>\n",
              "    <tr>\n",
              "      <th>99</th>\n",
              "      <td>974</td>\n",
              "      <td>4</td>\n",
              "      <td>97411</td>\n",
              "      <td>0</td>\n",
              "      <td>LA REUNION</td>\n",
              "      <td>La Réunion</td>\n",
              "      <td>La Réunion</td>\n",
              "    </tr>\n",
              "    <tr>\n",
              "      <th>31</th>\n",
              "      <td>31</td>\n",
              "      <td>76</td>\n",
              "      <td>31555</td>\n",
              "      <td>3</td>\n",
              "      <td>HAUTE GARONNE</td>\n",
              "      <td>Haute-Garonne</td>\n",
              "      <td>Haute-Garonne</td>\n",
              "    </tr>\n",
              "    <tr>\n",
              "      <th>44</th>\n",
              "      <td>44</td>\n",
              "      <td>52</td>\n",
              "      <td>44109</td>\n",
              "      <td>3</td>\n",
              "      <td>LOIRE ATLANTIQUE</td>\n",
              "      <td>Loire-Atlantique</td>\n",
              "      <td>Loire-Atlantique</td>\n",
              "    </tr>\n",
              "    <tr>\n",
              "      <th>39</th>\n",
              "      <td>39</td>\n",
              "      <td>27</td>\n",
              "      <td>39300</td>\n",
              "      <td>2</td>\n",
              "      <td>JURA</td>\n",
              "      <td>Jura</td>\n",
              "      <td>Jura</td>\n",
              "    </tr>\n",
              "  </tbody>\n",
              "</table>\n",
              "</div>"
            ],
            "text/plain": [
              "    DEP  REG CHEFLIEU  TNCC               NCC            NCCENR  \\\n",
              "14   15   84    15014     2            CANTAL            Cantal   \n",
              "99  974    4    97411     0        LA REUNION        La Réunion   \n",
              "31   31   76    31555     3     HAUTE GARONNE     Haute-Garonne   \n",
              "44   44   52    44109     3  LOIRE ATLANTIQUE  Loire-Atlantique   \n",
              "39   39   27    39300     2              JURA              Jura   \n",
              "\n",
              "             LIBELLE  \n",
              "14            Cantal  \n",
              "99        La Réunion  \n",
              "31     Haute-Garonne  \n",
              "44  Loire-Atlantique  \n",
              "39              Jura  "
            ]
          },
          "execution_count": 61,
          "metadata": {},
          "output_type": "execute_result"
        }
      ],
      "source": [
        "df_departements.sample(n=5)"
      ]
    },
    {
      "cell_type": "markdown",
      "id": "b59b39c3-82e0-4f20-87b4-ea4fa9e801ba",
      "metadata": {},
      "source": [
        "### Get an overview of the data\n",
        "\n",
        "One of the first steps when exploring new data\n",
        "is to understand the general structure of the dataset. The method\n",
        "Pandas' `info()` provides a quick overview of the data,\n",
        "especially in terms of data types, presence of values\n",
        "missing and used memory."
      ]
    },
    {
      "cell_type": "code",
      "execution_count": 62,
      "id": "2d072a4b",
      "metadata": {},
      "outputs": [
        {
          "name": "stdout",
          "output_type": "stream",
          "text": [
            "<class 'pandas.core.frame.DataFrame'>\n",
            "RangeIndex: 6 entries, 0 to 5\n",
            "Data columns (total 5 columns):\n",
            " #   Column      Non-Null Count  Dtype         \n",
            "---  ------      --------------  -----         \n",
            " 0   var1        3 non-null      float64       \n",
            " 1   var2        6 non-null      int32         \n",
            " 2   experiment  6 non-null      category      \n",
            " 3   date        6 non-null      datetime64[ns]\n",
            " 4   sample      6 non-null      object        \n",
            "dtypes: category(1), datetime64[ns](1), float64(1), int32(1), object(1)\n",
            "memory usage: 438.0+ bytes\n"
          ]
        }
      ],
      "source": [
        "df.info()"
      ]
    },
    {
      "cell_type": "markdown",
      "id": "06c3cd4d-873f-4963-aff4-f45c2e19f93a",
      "metadata": {},
      "source": [
        "Several key pieces of information can be extracted from this\n",
        "result :\n",
        "\n",
        "- **index**: the DataFrame has a `RangeIndex`, which means that\n",
        "The index consists of a simple numerical sequence. Here, the index goes\n",
        "from 0 to 5, or 6 entries in total.\n",
        "\n",
        "- **schema**: the list of columns is displayed with\n",
        "very useful information about the data schema:\n",
        "\n",
        "- **Non-Null Count**: the number of **non-missing** values\n",
        "(non `nan`) in the column. If this number is less than the\n",
        "total number of entries (in our case 6), this means that the\n",
        "column contains missing values. Beware of ambiguity\n",
        "possible on “null”: this means missing values,\n",
        "not values ​​equal to 0. So, in our case, the number of\n",
        "“non-null” values ​​for variable `var1` is 5.\n",
        "\n",
        "- **Dtype**: The data type of the column, which allows\n",
        "understand the nature of the information stored in each\n",
        "column. For example, `float64` (real numbers), `int32`\n",
        "(integers), `category` (categorical variable),\n",
        "`datetime64[ns]` (information temporelle) and `object` (data\n",
        "textual or mixed).\n",
        "\n",
        "Using `info()` is a quick and efficient way to get a\n",
        "overview of a DataFrame, to quickly identify the columns\n",
        "containing missing values ​​and to understand the structure of the\n",
        "data.\n",
        "\n",
        "### Calculate descriptive statistics\n",
        "\n",
        "In addition to the information returned by the `info()` method, we\n",
        "may want to obtain simple descriptive statistics in order to\n",
        "quickly visualize the distributions of variables. The method\n",
        "`describe()` allows you to have a synthetic view of the distribution of\n",
        "data in each column."
      ]
    },
    {
      "cell_type": "code",
      "execution_count": 63,
      "id": "b0325a0e",
      "metadata": {},
      "outputs": [
        {
          "data": {
            "text/html": [
              "<div>\n",
              "<style scoped>\n",
              "    .dataframe tbody tr th:only-of-type {\n",
              "        vertical-align: middle;\n",
              "    }\n",
              "\n",
              "    .dataframe tbody tr th {\n",
              "        vertical-align: top;\n",
              "    }\n",
              "\n",
              "    .dataframe thead th {\n",
              "        text-align: right;\n",
              "    }\n",
              "</style>\n",
              "<table border=\"1\" class=\"dataframe\">\n",
              "  <thead>\n",
              "    <tr style=\"text-align: right;\">\n",
              "      <th></th>\n",
              "      <th>var1</th>\n",
              "      <th>var2</th>\n",
              "      <th>date</th>\n",
              "    </tr>\n",
              "  </thead>\n",
              "  <tbody>\n",
              "    <tr>\n",
              "      <th>count</th>\n",
              "      <td>3.00000</td>\n",
              "      <td>6.000000</td>\n",
              "      <td>6</td>\n",
              "    </tr>\n",
              "    <tr>\n",
              "      <th>mean</th>\n",
              "      <td>2.30000</td>\n",
              "      <td>-2.500000</td>\n",
              "      <td>2022-01-03 12:00:00</td>\n",
              "    </tr>\n",
              "    <tr>\n",
              "      <th>min</th>\n",
              "      <td>0.00000</td>\n",
              "      <td>-9.000000</td>\n",
              "      <td>2022-01-01 00:00:00</td>\n",
              "    </tr>\n",
              "    <tr>\n",
              "      <th>25%</th>\n",
              "      <td>0.65000</td>\n",
              "      <td>-5.500000</td>\n",
              "      <td>2022-01-02 06:00:00</td>\n",
              "    </tr>\n",
              "    <tr>\n",
              "      <th>50%</th>\n",
              "      <td>1.30000</td>\n",
              "      <td>-2.500000</td>\n",
              "      <td>2022-01-03 12:00:00</td>\n",
              "    </tr>\n",
              "    <tr>\n",
              "      <th>75%</th>\n",
              "      <td>3.45000</td>\n",
              "      <td>0.500000</td>\n",
              "      <td>2022-01-04 18:00:00</td>\n",
              "    </tr>\n",
              "    <tr>\n",
              "      <th>max</th>\n",
              "      <td>5.60000</td>\n",
              "      <td>4.000000</td>\n",
              "      <td>2022-01-06 00:00:00</td>\n",
              "    </tr>\n",
              "    <tr>\n",
              "      <th>std</th>\n",
              "      <td>2.93087</td>\n",
              "      <td>4.764452</td>\n",
              "      <td>NaN</td>\n",
              "    </tr>\n",
              "  </tbody>\n",
              "</table>\n",
              "</div>"
            ],
            "text/plain": [
              "          var1      var2                 date\n",
              "count  3.00000  6.000000                    6\n",
              "mean   2.30000 -2.500000  2022-01-03 12:00:00\n",
              "min    0.00000 -9.000000  2022-01-01 00:00:00\n",
              "25%    0.65000 -5.500000  2022-01-02 06:00:00\n",
              "50%    1.30000 -2.500000  2022-01-03 12:00:00\n",
              "75%    3.45000  0.500000  2022-01-04 18:00:00\n",
              "max    5.60000  4.000000  2022-01-06 00:00:00\n",
              "std    2.93087  4.764452                  NaN"
            ]
          },
          "execution_count": 63,
          "metadata": {},
          "output_type": "execute_result"
        }
      ],
      "source": [
        "df.describe()"
      ]
    },
    {
      "cell_type": "markdown",
      "id": "6c16ec7c-fc0b-47ff-bc2a-7e123144235b",
      "metadata": {},
      "source": [
        "Note that `describe()` only returns statistics for\n",
        "numeric columns by default. If you want to include numeric columns\n",
        "other types, it is necessary to specify it via the argument\n",
        "`include`. For example, `df.describe(include='all')` will return\n",
        "statistics for all columns, including metrics like the\n",
        "unique number, most frequent value and frequency of the value\n",
        "most common for non-numeric columns."
      ]
    },
    {
      "cell_type": "code",
      "execution_count": 64,
      "id": "5db8899a",
      "metadata": {},
      "outputs": [
        {
          "data": {
            "text/html": [
              "<div>\n",
              "<style scoped>\n",
              "    .dataframe tbody tr th:only-of-type {\n",
              "        vertical-align: middle;\n",
              "    }\n",
              "\n",
              "    .dataframe tbody tr th {\n",
              "        vertical-align: top;\n",
              "    }\n",
              "\n",
              "    .dataframe thead th {\n",
              "        text-align: right;\n",
              "    }\n",
              "</style>\n",
              "<table border=\"1\" class=\"dataframe\">\n",
              "  <thead>\n",
              "    <tr style=\"text-align: right;\">\n",
              "      <th></th>\n",
              "      <th>var1</th>\n",
              "      <th>var2</th>\n",
              "      <th>experiment</th>\n",
              "      <th>date</th>\n",
              "      <th>sample</th>\n",
              "    </tr>\n",
              "  </thead>\n",
              "  <tbody>\n",
              "    <tr>\n",
              "      <th>count</th>\n",
              "      <td>3.00000</td>\n",
              "      <td>6.000000</td>\n",
              "      <td>6</td>\n",
              "      <td>6</td>\n",
              "      <td>6</td>\n",
              "    </tr>\n",
              "    <tr>\n",
              "      <th>unique</th>\n",
              "      <td>NaN</td>\n",
              "      <td>NaN</td>\n",
              "      <td>3</td>\n",
              "      <td>NaN</td>\n",
              "      <td>1</td>\n",
              "    </tr>\n",
              "    <tr>\n",
              "      <th>top</th>\n",
              "      <td>NaN</td>\n",
              "      <td>NaN</td>\n",
              "      <td>train</td>\n",
              "      <td>NaN</td>\n",
              "      <td>sample1</td>\n",
              "    </tr>\n",
              "    <tr>\n",
              "      <th>freq</th>\n",
              "      <td>NaN</td>\n",
              "      <td>NaN</td>\n",
              "      <td>3</td>\n",
              "      <td>NaN</td>\n",
              "      <td>6</td>\n",
              "    </tr>\n",
              "    <tr>\n",
              "      <th>mean</th>\n",
              "      <td>2.30000</td>\n",
              "      <td>-2.500000</td>\n",
              "      <td>NaN</td>\n",
              "      <td>2022-01-03 12:00:00</td>\n",
              "      <td>NaN</td>\n",
              "    </tr>\n",
              "    <tr>\n",
              "      <th>min</th>\n",
              "      <td>0.00000</td>\n",
              "      <td>-9.000000</td>\n",
              "      <td>NaN</td>\n",
              "      <td>2022-01-01 00:00:00</td>\n",
              "      <td>NaN</td>\n",
              "    </tr>\n",
              "    <tr>\n",
              "      <th>25%</th>\n",
              "      <td>0.65000</td>\n",
              "      <td>-5.500000</td>\n",
              "      <td>NaN</td>\n",
              "      <td>2022-01-02 06:00:00</td>\n",
              "      <td>NaN</td>\n",
              "    </tr>\n",
              "    <tr>\n",
              "      <th>50%</th>\n",
              "      <td>1.30000</td>\n",
              "      <td>-2.500000</td>\n",
              "      <td>NaN</td>\n",
              "      <td>2022-01-03 12:00:00</td>\n",
              "      <td>NaN</td>\n",
              "    </tr>\n",
              "    <tr>\n",
              "      <th>75%</th>\n",
              "      <td>3.45000</td>\n",
              "      <td>0.500000</td>\n",
              "      <td>NaN</td>\n",
              "      <td>2022-01-04 18:00:00</td>\n",
              "      <td>NaN</td>\n",
              "    </tr>\n",
              "    <tr>\n",
              "      <th>max</th>\n",
              "      <td>5.60000</td>\n",
              "      <td>4.000000</td>\n",
              "      <td>NaN</td>\n",
              "      <td>2022-01-06 00:00:00</td>\n",
              "      <td>NaN</td>\n",
              "    </tr>\n",
              "    <tr>\n",
              "      <th>std</th>\n",
              "      <td>2.93087</td>\n",
              "      <td>4.764452</td>\n",
              "      <td>NaN</td>\n",
              "      <td>NaN</td>\n",
              "      <td>NaN</td>\n",
              "    </tr>\n",
              "  </tbody>\n",
              "</table>\n",
              "</div>"
            ],
            "text/plain": [
              "           var1      var2 experiment                 date   sample\n",
              "count   3.00000  6.000000          6                    6        6\n",
              "unique      NaN       NaN          3                  NaN        1\n",
              "top         NaN       NaN      train                  NaN  sample1\n",
              "freq        NaN       NaN          3                  NaN        6\n",
              "mean    2.30000 -2.500000        NaN  2022-01-03 12:00:00      NaN\n",
              "min     0.00000 -9.000000        NaN  2022-01-01 00:00:00      NaN\n",
              "25%     0.65000 -5.500000        NaN  2022-01-02 06:00:00      NaN\n",
              "50%     1.30000 -2.500000        NaN  2022-01-03 12:00:00      NaN\n",
              "75%     3.45000  0.500000        NaN  2022-01-04 18:00:00      NaN\n",
              "max     5.60000  4.000000        NaN  2022-01-06 00:00:00      NaN\n",
              "std     2.93087  4.764452        NaN                  NaN      NaN"
            ]
          },
          "execution_count": 64,
          "metadata": {},
          "output_type": "execute_result"
        }
      ],
      "source": [
        "df.describe(include='all')"
      ]
    },
    {
      "cell_type": "markdown",
      "id": "78d7897f-9bf5-49fc-9a58-46e608e58648",
      "metadata": {},
      "source": [
        "Note that, again, the `count` variable returns the number of values\n",
        "**non-missing** in each variable.\n",
        "\n",
        "## Main data manipulations\n",
        "\n",
        "### Transform data\n",
        "\n",
        "Data transformation operations are essential for\n",
        "shape, clean and prepare data for analysis.\n",
        "transformations can affect the entire DataFrame, columns\n",
        "specific or even specific lines.\n",
        "\n",
        "#### Transform a DataFrame\n",
        "\n",
        "To transform a complete DataFrame (or a sub-DataFrame), it is\n",
        "possible to use vectorized functions, which allow\n",
        "to quickly apply an operation to all elements of the\n",
        "DataFrame. This includes a number of methods available for\n",
        "the `Series`, but also the mathematical functions of `NumPy`, etc.\n",
        "\n",
        "For example, passing each numeric value of a DataFrame to the\n",
        "power 2:"
      ]
    },
    {
      "cell_type": "code",
      "execution_count": 65,
      "id": "9e5aa12d",
      "metadata": {},
      "outputs": [
        {
          "data": {
            "text/html": [
              "<div>\n",
              "<style scoped>\n",
              "    .dataframe tbody tr th:only-of-type {\n",
              "        vertical-align: middle;\n",
              "    }\n",
              "\n",
              "    .dataframe tbody tr th {\n",
              "        vertical-align: top;\n",
              "    }\n",
              "\n",
              "    .dataframe thead th {\n",
              "        text-align: right;\n",
              "    }\n",
              "</style>\n",
              "<table border=\"1\" class=\"dataframe\">\n",
              "  <thead>\n",
              "    <tr style=\"text-align: right;\">\n",
              "      <th></th>\n",
              "      <th>var1</th>\n",
              "      <th>var2</th>\n",
              "    </tr>\n",
              "  </thead>\n",
              "  <tbody>\n",
              "    <tr>\n",
              "      <th>0</th>\n",
              "      <td>1.69</td>\n",
              "      <td>49</td>\n",
              "    </tr>\n",
              "    <tr>\n",
              "      <th>1</th>\n",
              "      <td>31.36</td>\n",
              "      <td>64</td>\n",
              "    </tr>\n",
              "    <tr>\n",
              "      <th>2</th>\n",
              "      <td>NaN</td>\n",
              "      <td>81</td>\n",
              "    </tr>\n",
              "    <tr>\n",
              "      <th>3</th>\n",
              "      <td>NaN</td>\n",
              "      <td>1</td>\n",
              "    </tr>\n",
              "    <tr>\n",
              "      <th>4</th>\n",
              "      <td>0.00</td>\n",
              "      <td>1</td>\n",
              "    </tr>\n",
              "    <tr>\n",
              "      <th>5</th>\n",
              "      <td>NaN</td>\n",
              "      <td>1</td>\n",
              "    </tr>\n",
              "  </tbody>\n",
              "</table>\n",
              "</div>"
            ],
            "text/plain": [
              "    var1  var2\n",
              "0   1.69    49\n",
              "1  31.36    64\n",
              "2    NaN    81\n",
              "3    NaN     1\n",
              "4   0.00     1\n",
              "5    NaN     1"
            ]
          },
          "execution_count": 65,
          "metadata": {},
          "output_type": "execute_result"
        }
      ],
      "source": [
        "df = pd.DataFrame(\n",
        "    data = {\n",
        "        \"var1\": [1.3, 5.6, np.nan, np.nan, 0, np.nan],\n",
        "        \"var2\": np.random.randint(-10, 10, 6),\n",
        "    }\n",
        ")\n",
        "\n",
        "df ** 2"
      ]
    },
    {
      "cell_type": "markdown",
      "id": "ca8c763f-7c10-4ea5-b971-d9774b198604",
      "metadata": {},
      "source": [
        "or pass them in absolute value:"
      ]
    },
    {
      "cell_type": "code",
      "execution_count": 66,
      "id": "6c1ffa67",
      "metadata": {},
      "outputs": [
        {
          "data": {
            "text/html": [
              "<div>\n",
              "<style scoped>\n",
              "    .dataframe tbody tr th:only-of-type {\n",
              "        vertical-align: middle;\n",
              "    }\n",
              "\n",
              "    .dataframe tbody tr th {\n",
              "        vertical-align: top;\n",
              "    }\n",
              "\n",
              "    .dataframe thead th {\n",
              "        text-align: right;\n",
              "    }\n",
              "</style>\n",
              "<table border=\"1\" class=\"dataframe\">\n",
              "  <thead>\n",
              "    <tr style=\"text-align: right;\">\n",
              "      <th></th>\n",
              "      <th>var1</th>\n",
              "      <th>var2</th>\n",
              "    </tr>\n",
              "  </thead>\n",
              "  <tbody>\n",
              "    <tr>\n",
              "      <th>0</th>\n",
              "      <td>1.3</td>\n",
              "      <td>7</td>\n",
              "    </tr>\n",
              "    <tr>\n",
              "      <th>1</th>\n",
              "      <td>5.6</td>\n",
              "      <td>8</td>\n",
              "    </tr>\n",
              "    <tr>\n",
              "      <th>2</th>\n",
              "      <td>NaN</td>\n",
              "      <td>9</td>\n",
              "    </tr>\n",
              "    <tr>\n",
              "      <th>3</th>\n",
              "      <td>NaN</td>\n",
              "      <td>1</td>\n",
              "    </tr>\n",
              "    <tr>\n",
              "      <th>4</th>\n",
              "      <td>0.0</td>\n",
              "      <td>1</td>\n",
              "    </tr>\n",
              "    <tr>\n",
              "      <th>5</th>\n",
              "      <td>NaN</td>\n",
              "      <td>1</td>\n",
              "    </tr>\n",
              "  </tbody>\n",
              "</table>\n",
              "</div>"
            ],
            "text/plain": [
              "   var1  var2\n",
              "0   1.3     7\n",
              "1   5.6     8\n",
              "2   NaN     9\n",
              "3   NaN     1\n",
              "4   0.0     1\n",
              "5   NaN     1"
            ]
          },
          "execution_count": 66,
          "metadata": {},
          "output_type": "execute_result"
        }
      ],
      "source": [
        "np.abs(df)"
      ]
    },
    {
      "cell_type": "markdown",
      "id": "69b99c47-b30f-4ff0-b242-06388a8e7c48",
      "metadata": {},
      "source": [
        "Some methods, available for `Series`, can also be\n",
        "used to transform a complete DataFrame. For example, the well\n",
        "useful method\n",
        "[replace()](https://pandas.pydata.org/pandas-docs/stable/reference/api/pandas.DataFrame.replace.html),\n",
        "which allows you to replace all occurrences of a given value with\n",
        "another value. For example, suppose the value 0 in the column\n",
        "`var1` actually indicates a measurement error. It would be better to\n",
        "replace with missing value."
      ]
    },
    {
      "cell_type": "code",
      "execution_count": 67,
      "id": "5247e1bd",
      "metadata": {},
      "outputs": [
        {
          "data": {
            "text/html": [
              "<div>\n",
              "<style scoped>\n",
              "    .dataframe tbody tr th:only-of-type {\n",
              "        vertical-align: middle;\n",
              "    }\n",
              "\n",
              "    .dataframe tbody tr th {\n",
              "        vertical-align: top;\n",
              "    }\n",
              "\n",
              "    .dataframe thead th {\n",
              "        text-align: right;\n",
              "    }\n",
              "</style>\n",
              "<table border=\"1\" class=\"dataframe\">\n",
              "  <thead>\n",
              "    <tr style=\"text-align: right;\">\n",
              "      <th></th>\n",
              "      <th>var1</th>\n",
              "      <th>var2</th>\n",
              "    </tr>\n",
              "  </thead>\n",
              "  <tbody>\n",
              "    <tr>\n",
              "      <th>0</th>\n",
              "      <td>1.3</td>\n",
              "      <td>7</td>\n",
              "    </tr>\n",
              "    <tr>\n",
              "      <th>1</th>\n",
              "      <td>5.6</td>\n",
              "      <td>8</td>\n",
              "    </tr>\n",
              "    <tr>\n",
              "      <th>2</th>\n",
              "      <td>NaN</td>\n",
              "      <td>-9</td>\n",
              "    </tr>\n",
              "    <tr>\n",
              "      <th>3</th>\n",
              "      <td>NaN</td>\n",
              "      <td>1</td>\n",
              "    </tr>\n",
              "    <tr>\n",
              "      <th>4</th>\n",
              "      <td>NaN</td>\n",
              "      <td>-1</td>\n",
              "    </tr>\n",
              "    <tr>\n",
              "      <th>5</th>\n",
              "      <td>NaN</td>\n",
              "      <td>1</td>\n",
              "    </tr>\n",
              "  </tbody>\n",
              "</table>\n",
              "</div>"
            ],
            "text/plain": [
              "   var1  var2\n",
              "0   1.3     7\n",
              "1   5.6     8\n",
              "2   NaN    -9\n",
              "3   NaN     1\n",
              "4   NaN    -1\n",
              "5   NaN     1"
            ]
          },
          "execution_count": 67,
          "metadata": {},
          "output_type": "execute_result"
        }
      ],
      "source": [
        "df.replace(0, np.nan)"
      ]
    },
    {
      "cell_type": "markdown",
      "id": "0862a5f4-6008-495b-8c91-0cfeafb7ba29",
      "metadata": {},
      "source": [
        "> **Assignment or *in place* methods?**\n",
        "> In the previous example, the application of the method\n",
        "> [replace()](https://pandas.pydata.org/pandas-docs/stable/reference/api/pandas.DataFrame.replace.html)\n",
        "> does not directly modify the DataFrame. For the modification to be\n",
        "> persistent, a first possibility is to assign the result to a\n",
        "> subject:\n"
      ]
    },
    {
      "cell_type": "code",
      "execution_count": 68,
      "id": "f6ff742f",
      "metadata": {},
      "outputs": [],
      "source": [
        "\n",
        "df = df.replace(0, np.nan)"
      ]
    },
    {
      "cell_type": "markdown",
      "id": "4443b6b8",
      "metadata": {},
      "source": [
        "\n",
        "> A second possibility is, when the methods suggest it,\n",
        "> to use the `inplace` argument. When `inplace=True`, the operation\n",
        "> is performed “in place”, and the DataFrame is therefore modified\n",
        "> directly.\n"
      ]
    },
    {
      "cell_type": "code",
      "execution_count": 69,
      "id": "78a3a960",
      "metadata": {},
      "outputs": [],
      "source": [
        "\n",
        "df.replace(0, np.nan, inplace=True)"
      ]
    },
    {
      "cell_type": "markdown",
      "id": "c07f9d6b",
      "metadata": {},
      "source": [
        "\n",
        "> In practice, it is better to limit `inplace` operations.\n",
        "> They do not promote the reproducibility of analyses, in the\n",
        "> as the re-execution of the same cell will give each time\n",
        "> different results.\n",
        "\n",
        "#### Transform columns\n",
        "\n",
        "In some cases, we will not want to apply the transformations to\n",
        "the entire data set, but to specific variables. The\n",
        "transformations that are possible at the DataFrame scale (functions\n",
        "vectorized, methods like\n",
        "[replace()](https://pandas.pydata.org/pandas-docs/stable/reference/api/pandas.DataFrame.replace.html),\n",
        "etc) remain naturally possible on the scale of a column."
      ]
    },
    {
      "cell_type": "code",
      "execution_count": 70,
      "id": "cbe1324c",
      "metadata": {},
      "outputs": [
        {
          "data": {
            "text/plain": [
              "0    3\n",
              "1    0\n",
              "2    7\n",
              "3    6\n",
              "4    3\n",
              "5    9\n",
              "Name: var2, dtype: int32"
            ]
          },
          "execution_count": 70,
          "metadata": {},
          "output_type": "execute_result"
        }
      ],
      "source": [
        "df = pd.DataFrame(\n",
        "    data = {\n",
        "        \"var1\": [1.3, 5.6, np.nan, np.nan, 0, np.nan],\n",
        "        \"var2\": np.random.randint(-10, 10, 6),\n",
        "    }\n",
        ")\n",
        "\n",
        "np.abs(df[\"var2\"])"
      ]
    },
    {
      "cell_type": "code",
      "execution_count": 71,
      "id": "a78115c8",
      "metadata": {},
      "outputs": [
        {
          "data": {
            "text/plain": [
              "0    1.3\n",
              "1    5.6\n",
              "2    NaN\n",
              "3    NaN\n",
              "4    NaN\n",
              "5    NaN\n",
              "Name: var1, dtype: float64"
            ]
          },
          "execution_count": 71,
          "metadata": {},
          "output_type": "execute_result"
        }
      ],
      "source": [
        "df[\"var1\"].replace(0, np.nan)"
      ]
    },
    {
      "cell_type": "markdown",
      "id": "e9816169-2878-40e2-bc9a-60c8330f1449",
      "metadata": {},
      "source": [
        "But there are other transformations that are commonly applied\n",
        "at the level of one or a few columns. For example, when the schema\n",
        "was not properly recognized on import, it may happen that variables\n",
        "numeric values ​​are defined as strings (type `object` in Pandas)."
      ]
    },
    {
      "cell_type": "code",
      "execution_count": 72,
      "id": "1041b7c1",
      "metadata": {},
      "outputs": [
        {
          "name": "stdout",
          "output_type": "stream",
          "text": [
            "<class 'pandas.core.frame.DataFrame'>\n",
            "RangeIndex: 3 entries, 0 to 2\n",
            "Data columns (total 2 columns):\n",
            " #   Column  Non-Null Count  Dtype  \n",
            "---  ------  --------------  -----  \n",
            " 0   var1    2 non-null      float64\n",
            " 1   var2    3 non-null      object \n",
            "dtypes: float64(1), object(1)\n",
            "memory usage: 180.0+ bytes\n"
          ]
        }
      ],
      "source": [
        "df = pd.DataFrame(\n",
        "    data = {\n",
        "        \"var1\": [1.3, 5.6, np.nan],\n",
        "        \"var2\": [\"1\", \"5\", \"18\"],\n",
        "    }\n",
        ")\n",
        "\n",
        "df.info()"
      ]
    },
    {
      "cell_type": "markdown",
      "id": "b46a419a-ee29-4c1e-8514-f5b57a15c8ba",
      "metadata": {},
      "source": [
        "In this case, we can use the `astype` method to convert the\n",
        "column in the desired type."
      ]
    },
    {
      "cell_type": "code",
      "execution_count": 73,
      "id": "f0e985b4",
      "metadata": {},
      "outputs": [
        {
          "name": "stdout",
          "output_type": "stream",
          "text": [
            "<class 'pandas.core.frame.DataFrame'>\n",
            "RangeIndex: 3 entries, 0 to 2\n",
            "Data columns (total 2 columns):\n",
            " #   Column  Non-Null Count  Dtype  \n",
            "---  ------  --------------  -----  \n",
            " 0   var1    2 non-null      float64\n",
            " 1   var2    3 non-null      int32  \n",
            "dtypes: float64(1), int32(1)\n",
            "memory usage: 168.0 bytes\n"
          ]
        }
      ],
      "source": [
        "df['var2'] = df['var2'].astype(int)\n",
        "\n",
        "df.info()"
      ]
    },
    {
      "cell_type": "markdown",
      "id": "0eeb2582-00eb-492f-92d1-0e3c297fc76d",
      "metadata": {},
      "source": [
        "Another common operation is renaming one or more\n",
        "columns. For this, we can use the method\n",
        "[rename()](https://pandas.pydata.org/pandas-docs/stable/reference/api/pandas.DataFrame.rename.html),\n",
        "to which we pass a dictionary which contains as many pairs\n",
        "key-value than variables to rename, and in which each pair\n",
        "key-value is of the form `'old_name': 'new_name'`."
      ]
    },
    {
      "cell_type": "code",
      "execution_count": 74,
      "id": "9ffb8472",
      "metadata": {},
      "outputs": [
        {
          "data": {
            "text/html": [
              "<div>\n",
              "<style scoped>\n",
              "    .dataframe tbody tr th:only-of-type {\n",
              "        vertical-align: middle;\n",
              "    }\n",
              "\n",
              "    .dataframe tbody tr th {\n",
              "        vertical-align: top;\n",
              "    }\n",
              "\n",
              "    .dataframe thead th {\n",
              "        text-align: right;\n",
              "    }\n",
              "</style>\n",
              "<table border=\"1\" class=\"dataframe\">\n",
              "  <thead>\n",
              "    <tr style=\"text-align: right;\">\n",
              "      <th></th>\n",
              "      <th>var1</th>\n",
              "      <th>age</th>\n",
              "    </tr>\n",
              "  </thead>\n",
              "  <tbody>\n",
              "    <tr>\n",
              "      <th>0</th>\n",
              "      <td>1.3</td>\n",
              "      <td>1</td>\n",
              "    </tr>\n",
              "    <tr>\n",
              "      <th>1</th>\n",
              "      <td>5.6</td>\n",
              "      <td>5</td>\n",
              "    </tr>\n",
              "    <tr>\n",
              "      <th>2</th>\n",
              "      <td>NaN</td>\n",
              "      <td>18</td>\n",
              "    </tr>\n",
              "  </tbody>\n",
              "</table>\n",
              "</div>"
            ],
            "text/plain": [
              "   var1  age\n",
              "0   1.3    1\n",
              "1   5.6    5\n",
              "2   NaN   18"
            ]
          },
          "execution_count": 74,
          "metadata": {},
          "output_type": "execute_result"
        }
      ],
      "source": [
        "df.rename(columns={'var2': 'age'})"
      ]
    },
    {
      "cell_type": "markdown",
      "id": "f4ee8679-51ba-4acb-af06-f328790a0da1",
      "metadata": {},
      "source": [
        "Finally, one may wish to remove columns from the DataFrame that are not\n",
        "not or no longer useful for analysis. For this, we use the method\n",
        "[drop()](https://pandas.pydata.org/pandas-docs/stable/reference/api/pandas.DataFrame.drop.html),\n",
        "to which we pass either a string (name of a column if we wish\n",
        "delete only one) or a list of column names to\n",
        "DELETE."
      ]
    },
    {
      "cell_type": "code",
      "execution_count": 75,
      "id": "f35f4dd9",
      "metadata": {},
      "outputs": [
        {
          "data": {
            "text/html": [
              "<div>\n",
              "<style scoped>\n",
              "    .dataframe tbody tr th:only-of-type {\n",
              "        vertical-align: middle;\n",
              "    }\n",
              "\n",
              "    .dataframe tbody tr th {\n",
              "        vertical-align: top;\n",
              "    }\n",
              "\n",
              "    .dataframe thead th {\n",
              "        text-align: right;\n",
              "    }\n",
              "</style>\n",
              "<table border=\"1\" class=\"dataframe\">\n",
              "  <thead>\n",
              "    <tr style=\"text-align: right;\">\n",
              "      <th></th>\n",
              "      <th>var2</th>\n",
              "    </tr>\n",
              "  </thead>\n",
              "  <tbody>\n",
              "    <tr>\n",
              "      <th>0</th>\n",
              "      <td>1</td>\n",
              "    </tr>\n",
              "    <tr>\n",
              "      <th>1</th>\n",
              "      <td>5</td>\n",
              "    </tr>\n",
              "    <tr>\n",
              "      <th>2</th>\n",
              "      <td>18</td>\n",
              "    </tr>\n",
              "  </tbody>\n",
              "</table>\n",
              "</div>"
            ],
            "text/plain": [
              "   var2\n",
              "0     1\n",
              "1     5\n",
              "2    18"
            ]
          },
          "execution_count": 75,
          "metadata": {},
          "output_type": "execute_result"
        }
      ],
      "source": [
        "df.drop(columns=['var1'])"
      ]
    },
    {
      "cell_type": "markdown",
      "id": "97cd413d-37be-4458-99ad-0d762eabf984",
      "metadata": {},
      "source": [
        "#### Transform lines\n",
        "\n",
        "In statistics, we generally apply transformations that make\n",
        "intervene one or more columns. However, in some cases, it\n",
        "It is necessary to apply transformations at the line level.\n",
        "For this, we can use the method\n",
        "[apply()](https://pandas.pydata.org/pandas-docs/stable/reference/api/pandas.DataFrame.apply.html)\n",
        "of Pandas, applied to the axis of the lines (`axis=1`). Let us illustrate its\n",
        "operation with a simple case. To do this, we first generate\n",
        "data."
      ]
    },
    {
      "cell_type": "code",
      "execution_count": 76,
      "id": "12c4cde1",
      "metadata": {},
      "outputs": [
        {
          "data": {
            "text/html": [
              "<div>\n",
              "<style scoped>\n",
              "    .dataframe tbody tr th:only-of-type {\n",
              "        vertical-align: middle;\n",
              "    }\n",
              "\n",
              "    .dataframe tbody tr th {\n",
              "        vertical-align: top;\n",
              "    }\n",
              "\n",
              "    .dataframe thead th {\n",
              "        text-align: right;\n",
              "    }\n",
              "</style>\n",
              "<table border=\"1\" class=\"dataframe\">\n",
              "  <thead>\n",
              "    <tr style=\"text-align: right;\">\n",
              "      <th></th>\n",
              "      <th>var1</th>\n",
              "      <th>var2</th>\n",
              "      <th>date</th>\n",
              "    </tr>\n",
              "  </thead>\n",
              "  <tbody>\n",
              "    <tr>\n",
              "      <th>0</th>\n",
              "      <td>1</td>\n",
              "      <td>3</td>\n",
              "      <td>2022-01-01</td>\n",
              "    </tr>\n",
              "    <tr>\n",
              "      <th>1</th>\n",
              "      <td>5</td>\n",
              "      <td>7</td>\n",
              "      <td>2022-01-02</td>\n",
              "    </tr>\n",
              "    <tr>\n",
              "      <th>2</th>\n",
              "      <td>9</td>\n",
              "      <td>11</td>\n",
              "      <td>2022-01-03</td>\n",
              "    </tr>\n",
              "    <tr>\n",
              "      <th>3</th>\n",
              "      <td>13</td>\n",
              "      <td>15</td>\n",
              "      <td>2022-01-04</td>\n",
              "    </tr>\n",
              "  </tbody>\n",
              "</table>\n",
              "</div>"
            ],
            "text/plain": [
              "   var1  var2        date\n",
              "0     1     3  2022-01-01\n",
              "1     5     7  2022-01-02\n",
              "2     9    11  2022-01-03\n",
              "3    13    15  2022-01-04"
            ]
          },
          "execution_count": 76,
          "metadata": {},
          "output_type": "execute_result"
        }
      ],
      "source": [
        "df = pd.DataFrame(\n",
        "    data = {\n",
        "        \"var1\": [1, 5, 9, 13],\n",
        "        \"var2\": [3, 7, 11, 15],\n",
        "        \"date\": [\"2022-01-01\", \"2022-01-02\", \"2022-01-03\", \"2022-01-04\"],\n",
        "    }\n",
        ")\n",
        "\n",
        "df.head()"
      ]
    },
    {
      "cell_type": "markdown",
      "id": "dfc1bf60-4f20-4c94-ad1e-b8d4492cb5ca",
      "metadata": {},
      "source": [
        "We now apply the `apply()` function to the DataFrame in order to\n",
        "calculate a new variable which is the sum of the two existing ones."
      ]
    },
    {
      "cell_type": "code",
      "execution_count": 77,
      "id": "a8a8d336",
      "metadata": {},
      "outputs": [
        {
          "data": {
            "text/html": [
              "<div>\n",
              "<style scoped>\n",
              "    .dataframe tbody tr th:only-of-type {\n",
              "        vertical-align: middle;\n",
              "    }\n",
              "\n",
              "    .dataframe tbody tr th {\n",
              "        vertical-align: top;\n",
              "    }\n",
              "\n",
              "    .dataframe thead th {\n",
              "        text-align: right;\n",
              "    }\n",
              "</style>\n",
              "<table border=\"1\" class=\"dataframe\">\n",
              "  <thead>\n",
              "    <tr style=\"text-align: right;\">\n",
              "      <th></th>\n",
              "      <th>var1</th>\n",
              "      <th>var2</th>\n",
              "      <th>date</th>\n",
              "      <th>sum_row</th>\n",
              "    </tr>\n",
              "  </thead>\n",
              "  <tbody>\n",
              "    <tr>\n",
              "      <th>0</th>\n",
              "      <td>1</td>\n",
              "      <td>3</td>\n",
              "      <td>2022-01-01</td>\n",
              "      <td>4</td>\n",
              "    </tr>\n",
              "    <tr>\n",
              "      <th>1</th>\n",
              "      <td>5</td>\n",
              "      <td>7</td>\n",
              "      <td>2022-01-02</td>\n",
              "      <td>12</td>\n",
              "    </tr>\n",
              "    <tr>\n",
              "      <th>2</th>\n",
              "      <td>9</td>\n",
              "      <td>11</td>\n",
              "      <td>2022-01-03</td>\n",
              "      <td>20</td>\n",
              "    </tr>\n",
              "    <tr>\n",
              "      <th>3</th>\n",
              "      <td>13</td>\n",
              "      <td>15</td>\n",
              "      <td>2022-01-04</td>\n",
              "      <td>28</td>\n",
              "    </tr>\n",
              "  </tbody>\n",
              "</table>\n",
              "</div>"
            ],
            "text/plain": [
              "   var1  var2        date  sum_row\n",
              "0     1     3  2022-01-01        4\n",
              "1     5     7  2022-01-02       12\n",
              "2     9    11  2022-01-03       20\n",
              "3    13    15  2022-01-04       28"
            ]
          },
          "execution_count": 77,
          "metadata": {},
          "output_type": "execute_result"
        }
      ],
      "source": [
        "df['sum_row'] = df.apply(lambda row: row['var1'] + row['var2'], axis=1)\n",
        "\n",
        "df.head()"
      ]
    },
    {
      "cell_type": "markdown",
      "id": "0ec41d3d-0f4c-4a92-b65c-f7702d78c889",
      "metadata": {},
      "source": [
        "> **Lambda functions**\n",
        "> A `lambda` function is a small anonymous function. It can\n",
        "> take any number of arguments, but can only have one\n",
        "> single expression. In the example above, the `lambda` function takes\n",
        "> a line as an argument and returns the sum of the columns `var1` and\n",
        "> `var2` for this line.\n",
        "> `lambda` functions allow you to easily define functions\n",
        "> “on the fly”, without having to give them a name. In our example, this\n",
        "> would have been perfectly equivalent to the following code:\n"
      ]
    },
    {
      "cell_type": "code",
      "execution_count": 78,
      "id": "20e289f3",
      "metadata": {},
      "outputs": [],
      "source": [
        "\n",
        "def sum_row(row):\n",
        "     return row['var1'] + row['var2']\n",
        "df['sum_row'] = df.apply(sum_row, axis=1)"
      ]
    },
    {
      "cell_type": "markdown",
      "id": "ba79dacc",
      "metadata": {},
      "source": [
        "\n",
        "Although `apply()` offers great flexibility, it is not the\n",
        "most efficient method, especially for large data sets.\n",
        "Vectorized operations are always preferable because they deal with\n",
        "data in bulk rather than line by line. In our case, it\n",
        "It would of course have been preferable to create our variable using\n",
        "operations on columns."
      ]
    },
    {
      "cell_type": "code",
      "execution_count": null,
      "id": "6e7f1ec1",
      "metadata": {},
      "outputs": [],
      "source": [
        "df['sum_row_vect'] = df['var1'] + df['var2']\n",
        "\n",
        "df.head()"
      ]
    },
    {
      "cell_type": "markdown",
      "id": "0cf4bedc-5aeb-469b-b1dc-1a047a608f65",
      "metadata": {},
      "source": [
        "However, we can find ourselves in certain (rare) cases where a\n",
        "operation cannot be easily vectorized or where the logic is\n",
        "complex. For example, suppose we want to combine the values\n",
        "of multiple columns based on certain conditions."
      ]
    },
    {
      "cell_type": "code",
      "execution_count": null,
      "id": "cba7e247",
      "metadata": {},
      "outputs": [],
      "source": [
        "def combine_columns(row):\n",
        "    if row['var1'] > 6:\n",
        "        return str(row['var2'])\n",
        "    else:\n",
        "        return str(row['var2']) + \"_\" + row['date']\n",
        "\n",
        "df['combined_column'] = df.apply(combine_columns, axis=1)\n",
        "\n",
        "df"
      ]
    },
    {
      "cell_type": "markdown",
      "id": "d8b3d727-7413-4792-8e65-70bf7f1072fa",
      "metadata": {},
      "source": [
        "### Sort values\n",
        "\n",
        "Sorting data is particularly useful for exploration and\n",
        "data visualization. With Pandas, we use the method\n",
        "[sort_values()](https://pandas.pydata.org/pandas-docs/stable/reference/api/pandas.DataFrame.sort_values.html)\n",
        "to sort the values ​​of a DataFrame by one or more columns."
      ]
    },
    {
      "cell_type": "code",
      "execution_count": null,
      "id": "46fed05a",
      "metadata": {},
      "outputs": [],
      "source": [
        "df = pd.DataFrame(\n",
        "    data = {\n",
        "        \"var1\": [1, 5, 9, 13],\n",
        "        \"var2\": [3, 7, 11, 15],\n",
        "        \"date\": [\"2022-01-01\", \"2022-01-02\", \"2022-01-03\", \"2022-01-04\"],\n",
        "    }\n",
        ")\n",
        "\n",
        "df"
      ]
    },
    {
      "cell_type": "markdown",
      "id": "fa9db58b-90db-4119-904a-a142d020896f",
      "metadata": {},
      "source": [
        "To sort the values ​​by a single column, simply pass the\n",
        "column name as parameter."
      ]
    },
    {
      "cell_type": "code",
      "execution_count": null,
      "id": "54aa0b59",
      "metadata": {},
      "outputs": [],
      "source": [
        "df.sort_values(by='var1')"
      ]
    },
    {
      "cell_type": "markdown",
      "id": "41fb89b4-48d3-4470-ac64-a708a05af853",
      "metadata": {},
      "source": [
        "By default, sorting is done in ascending order. To sort the\n",
        "values ​​in descending order, just set\n",
        "`ascending=False`."
      ]
    },
    {
      "cell_type": "code",
      "execution_count": null,
      "id": "447c1a49",
      "metadata": {},
      "outputs": [],
      "source": [
        "df.sort_values(by='var1', ascending=False)"
      ]
    },
    {
      "cell_type": "markdown",
      "id": "4bcbbd9f-8f20-4f47-8dcc-d6a7144dbb03",
      "metadata": {},
      "source": [
        "If we want to sort the DataFrame on multiple columns, we can\n",
        "provide a list of column names. One can also choose to\n",
        "sort ascending for some columns and descending for\n",
        "others.\n",
        "\n",
        "### Aggregate data\n",
        "\n",
        "Data aggregation is a process in which data goes\n",
        "be broken down into groups according to certain criteria, then aggregated according to\n",
        "an aggregation function applied independently to each group.\n",
        "This operation is common during exploratory analysis or during the\n",
        "data preprocessing for visualization or modeling\n",
        "statistical."
      ]
    },
    {
      "cell_type": "code",
      "execution_count": null,
      "id": "9651a486",
      "metadata": {},
      "outputs": [],
      "source": [
        "df = pd.DataFrame(\n",
        "    data = {\n",
        "        \"var1\": [1.3, 5.6, np.nan, np.nan, 0, np.nan],\n",
        "        \"var2\": np.random.randint(-10, 10, 6),\n",
        "        \"experiment\": [\"test\", \"train\", \"test\", \"train\", \"train\", \"validation\"],\n",
        "        \"date\": [\"2022-01-01\", \"2022-01-02\", \"2022-01-03\", \"2022-01-04\", \"2022-01-05\", \"2022-01-06\"],\n",
        "        \"sample\": \"sample1\"\n",
        "    }\n",
        ")\n",
        "\n",
        "df.head()"
      ]
    },
    {
      "cell_type": "markdown",
      "id": "50fd8416-7990-45ee-9c71-9f2ac4c04e12",
      "metadata": {},
      "source": [
        "#### The `groupBy` operation\n",
        "\n",
        "Pandas `groupBy` method allows you to divide the DataFrame into\n",
        "subsets according to the values ​​of one or more columns, then\n",
        "to apply an aggregation function to each subset. It\n",
        "returns an object of type `DataFrameGroupBy` that does not have a large\n",
        "interest in itself, but constitutes the essential intermediate step for\n",
        "to then be able to apply one or more aggregation function(s) to the\n",
        "different groups."
      ]
    },
    {
      "cell_type": "code",
      "execution_count": null,
      "id": "c1977705",
      "metadata": {},
      "outputs": [],
      "source": [
        "df.groupby('experiment')"
      ]
    },
    {
      "cell_type": "markdown",
      "id": "d8bb31d0-8ed0-4c4a-acb4-6ae525a27bdb",
      "metadata": {},
      "source": [
        "#### Aggregate functions\n",
        "\n",
        "Once the data is grouped, functions can be applied\n",
        "aggregation to obtain a statistical summary. Pandas integrates a\n",
        "a number of these functions, the full list of which is detailed\n",
        "in the\n",
        "[documentation](https://pandas.pydata.org/docs/user_guide/groupby.html#built-in-aggregation-methods).\n",
        "Here are some examples of how to use these methods.\n",
        "\n",
        "For example, counting the number of occurrences in each group."
      ]
    },
    {
      "cell_type": "code",
      "execution_count": null,
      "id": "97cfda50",
      "metadata": {},
      "outputs": [],
      "source": [
        "df.groupby('experiment').size()"
      ]
    },
    {
      "cell_type": "markdown",
      "id": "573a0f55-b457-4005-a1fe-193114cb6bbb",
      "metadata": {},
      "source": [
        "Calculate the sum of a variable by group."
      ]
    },
    {
      "cell_type": "code",
      "execution_count": null,
      "id": "ddc4fca0",
      "metadata": {},
      "outputs": [],
      "source": [
        "df.groupby('experiment')['var1'].sum()"
      ]
    },
    {
      "cell_type": "markdown",
      "id": "ccdf089a-cff3-47bc-964b-eccaa7ee9fe0",
      "metadata": {},
      "source": [
        "Or count the number of unique values ​​of a variable per group.\n",
        "The possibilities are numerous."
      ]
    },
    {
      "cell_type": "code",
      "execution_count": null,
      "id": "54a3ae0c",
      "metadata": {},
      "outputs": [],
      "source": [
        "# For the number of unique values ​​of 'var2' in each group\n",
        "df.groupby('experiment')['var2'].nunique()"
      ]
    },
    {
      "cell_type": "markdown",
      "id": "50e95406-2658-4e60-b567-b4e1ce31c2cd",
      "metadata": {},
      "source": [
        "When you want to apply multiple aggregation functions at once\n",
        "or custom functions, the `agg` method is used. This\n",
        "method accepts a list of functions or a dictionary that associates\n",
        "the names of the columns to the functions to be applied. This allows you to apply\n",
        "more finely the aggregation functions."
      ]
    },
    {
      "cell_type": "code",
      "execution_count": null,
      "id": "21290896",
      "metadata": {},
      "outputs": [],
      "source": [
        "df.groupby('experiment').agg({'var1': 'mean', 'var2': 'count'})"
      ]
    },
    {
      "cell_type": "markdown",
      "id": "7db65189-2e12-4275-abc7-f06213ce9816",
      "metadata": {},
      "source": [
        "> **Method chaining**\n",
        "> The previous examples illustrate an important concept in Pandas: the\n",
        "> method chaining. This term refers to the ability to chain methods together.\n",
        "> transformations applied to a DataFrame by applying to it the\n",
        "> method chain. For each method applied, a DataFrame\n",
        "> intermediate is created (but not assigned to a variable), which becomes\n",
        "> the input of the following method.\n",
        "> Method chaining allows you to combine multiple operations into one\n",
        "> single code expression. This can improve efficiency by avoiding\n",
        "> intermediate assignments and making the code more fluid and\n",
        "> easier to read. This also promotes a programming style\n",
        "> functional where data passes through a chain of\n",
        "> transformations in a fluid manner.\n",
        "\n",
        "#### Effects on the index\n",
        "\n",
        "It is interesting to note the effects of the aggregation process on\n",
        "the index of the DataFrame. The last example above illustrates this well: the\n",
        "groups, i.e. the modalities of the variable used to perform\n",
        "aggregation, become the values ​​of the index.\n",
        "\n",
        "We may want to reuse this information in analyses\n",
        "later, and therefore want it as a column. It is enough for this\n",
        "to reset the index with the `reset_index()` method."
      ]
    },
    {
      "cell_type": "code",
      "execution_count": null,
      "id": "f7470386",
      "metadata": {},
      "outputs": [],
      "source": [
        "df_agg = df.groupby('experiment').agg({'var1': 'mean', 'var2': 'count'})\n",
        "df_agg.reset_index()"
      ]
    },
    {
      "cell_type": "markdown",
      "id": "16d93df9-2c7f-4022-bfa2-49cb507dab77",
      "metadata": {},
      "source": [
        "### Dealing with missing values\n",
        "\n",
        "Missing values ​​are a common reality in data processing.\n",
        "actual data and may occur for various reasons, such as\n",
        "non-responses to a questionnaire, data entry errors, losses\n",
        "of data during transmission or simply because the information\n",
        "is not applicable. Pandas offers several tools to manage\n",
        "missing values.\n",
        "\n",
        "#### Representation of missing values\n",
        "\n",
        "In Pandas, missing values ​​are usually represented by\n",
        "`np.nan`, which is a special marker provided by the library\n",
        "`NumPy`. If it is preferable to use this object to denote the\n",
        "missing values, note that the `None` object of `Python` is also\n",
        "understood as a missing value by `Pandas`.\n",
        "\n",
        "Let's check this property. To identify where the values ​​are located\n",
        "missing, we use the `isna()` function which returns a DataFrame\n",
        "boolean indicating `True` where values ​​are `NaN`."
      ]
    },
    {
      "cell_type": "code",
      "execution_count": null,
      "id": "b8826007",
      "metadata": {},
      "outputs": [],
      "source": [
        "df = pd.DataFrame(\n",
        "    data = {\n",
        "        \"var1\": [1.3, 5.6, np.nan, np.nan, 0, np.nan],\n",
        "        \"var2\": np.random.randint(-10, 10, 6),\n",
        "        \"experiment\": [\"test\", \"train\", \"test\", None, \"train\", \"validation\"],\n",
        "        \"sample\": \"sample1\"\n",
        "    }\n",
        ")\n",
        "\n",
        "df.isna()"
      ]
    },
    {
      "cell_type": "markdown",
      "id": "33de4d49-a1bf-47c5-8c16-970057e67a5d",
      "metadata": {},
      "source": [
        "#### Calculations on columns containing missing values\n",
        "\n",
        "In statistical calculations, missing values ​​are usually\n",
        "ignored. For example, the `.mean()` method calculates the mean of the\n",
        "non-missing values."
      ]
    },
    {
      "cell_type": "code",
      "execution_count": null,
      "id": "2b169c7b",
      "metadata": {},
      "outputs": [],
      "source": [
        "df['var1'].mean()"
      ]
    },
    {
      "cell_type": "markdown",
      "id": "eff5c90f-0bff-44fe-8bf2-ae9f6b762076",
      "metadata": {},
      "source": [
        "On the other hand, calculations involving several columns\n",
        "do not always ignore missing values ​​and can often give\n",
        "results in `NaN`."
      ]
    },
    {
      "cell_type": "code",
      "execution_count": null,
      "id": "484587fa",
      "metadata": {},
      "outputs": [],
      "source": [
        "df['var3'] = df['var1'] + df['var2']\n",
        "\n",
        "df"
      ]
    },
    {
      "cell_type": "markdown",
      "id": "ec0c5230-4d43-4da1-8e32-564abeb1755b",
      "metadata": {},
      "source": [
        "#### Removing missing values\n",
        "\n",
        "The `dropna()` method allows you to delete lines (`axis=0`) or\n",
        "columns (`axis=1`) containing missing values. By default, any\n",
        "line containing at least one missing value is deleted."
      ]
    },
    {
      "cell_type": "code",
      "execution_count": null,
      "id": "5729a620",
      "metadata": {},
      "outputs": [],
      "source": [
        "df.dropna()"
      ]
    },
    {
      "cell_type": "markdown",
      "id": "fdd37abc-ac80-4d7c-9082-793ee00f819a",
      "metadata": {},
      "source": [
        "By changing the `axis` parameter, one can request that any\n",
        "column containing at least one missing value is deleted."
      ]
    },
    {
      "cell_type": "code",
      "execution_count": null,
      "id": "b561aa5d",
      "metadata": {},
      "outputs": [],
      "source": [
        "df.dropna(axis=1)"
      ]
    },
    {
      "cell_type": "markdown",
      "id": "28b1a803-f65d-4c6b-b618-2c16f1f2f3ad",
      "metadata": {},
      "source": [
        "Finally, the `how` parameter defines the deletion modality. By default,\n",
        "a row or column is deleted when at least one value is\n",
        "missing (`how=any`), but it is possible to just remove the\n",
        "row/column only when all values ​​are missing\n",
        "(`how=all`).\n",
        "\n",
        "#### Replacing missing values\n",
        "\n",
        "To handle missing values ​​in a DataFrame, one approach\n",
        "common is imputation, which consists of replacing the values\n",
        "missing values ​​by other values. The `fillna()` method allows\n",
        "to perform this operation in different ways. A first\n",
        "possibility is replacement by a constant value."
      ]
    },
    {
      "cell_type": "code",
      "execution_count": null,
      "id": "a9725cf2",
      "metadata": {},
      "outputs": [],
      "source": [
        "df['var1'].fillna(value=0)"
      ]
    },
    {
      "cell_type": "markdown",
      "id": "571ef4ca-0a40-42da-bf6e-28abbf359a98",
      "metadata": {},
      "source": [
        "> **Change of representation of missing values**\n",
        "> It can sometimes be tempting to change the manifestation of a value.\n",
        "> missing for visibility reasons, for example by replacing it\n",
        "> by a string of characters:\n"
      ]
    },
    {
      "cell_type": "code",
      "execution_count": null,
      "id": "b65606b3",
      "metadata": {},
      "outputs": [],
      "source": [
        "df['var1'].fillna(value=\"MISSING\")"
      ]
    },
    {
      "cell_type": "markdown",
      "id": "c069b4b1",
      "metadata": {},
      "source": [
        "\n",
        "> In practice, this way of doing things is not recommended. It is in\n",
        "> better effect to keep the standard convention of `Pandas`\n",
        "> (the use of `np.nan`), first for questions of\n",
        "> standardization of practices that facilitate reading and\n",
        "> code maintenance, but also because the standard convention\n",
        "> is optimized for performance and calculations from data\n",
        "> containing missing values.\n",
        "\n",
        "Another common imputation method is to use a value\n",
        "statistic, such as the mean or median of the variable."
      ]
    },
    {
      "cell_type": "code",
      "execution_count": null,
      "id": "3b9f12d7",
      "metadata": {},
      "outputs": [],
      "source": [
        "df['var1'].fillna(value=df['var1'].mean())"
      ]
    },
    {
      "cell_type": "markdown",
      "id": "7170a03d-446e-4139-80eb-f07916dfe487",
      "metadata": {},
      "source": [
        "> **Imputation bias**\n",
        "> Replace missing values ​​with a constant value, such as\n",
        "> zero, the mean or median, can be problematic. If the\n",
        "> data is not missing at random (*Missing Not At Random* -\n",
        "> *MNAR*), this can introduce bias into the analysis. The variables\n",
        "> *MNAR* are variables whose probability of being missing is\n",
        "> related to their own value or to other variables in the data.\n",
        "> In such cases, a more sophisticated imputation may be\n",
        "> necessary to minimize distortions. We will see an example of this\n",
        "> as an end-of-tutorial exercise.\n",
        "\n",
        "### Process data of specific types\n",
        "\n",
        "#### Text data\n",
        "\n",
        "Text data often requires cleaning and\n",
        "preparation before analysis. Pandas provides via the methods library\n",
        "`str` a set of vectorized operations that make the preparation\n",
        "textual data that is both simple and very effective. Here again, the\n",
        "possibilities are multiple and detailed in the\n",
        "[documentation](https://pandas.pydata.org/docs/user_guide/text.html).\n",
        "Here we present the most frequently used methods in\n",
        "data analysis."
      ]
    },
    {
      "cell_type": "code",
      "execution_count": null,
      "id": "a59447fa",
      "metadata": {},
      "outputs": [],
      "source": [
        "df = pd.DataFrame(\n",
        "    data = {\n",
        "        \"var1\": [1.3, 5.6, np.nan, np.nan, 0, np.nan],\n",
        "        \"var2\": np.random.randint(-10, 10, 6),\n",
        "        \"experiment\": [\"test\", \"train\", \"test\", \"test\", \"train\", \"validation\"],\n",
        "        \"sample\": [\"  sample1\", \"sample1\", \"sample2\", \"   sample2   \", \"sample2  \", \"sample1\"]\n",
        "    }\n",
        ")\n",
        "\n",
        "df"
      ]
    },
    {
      "cell_type": "markdown",
      "id": "8dca20da-69e5-4196-ac84-25a98acf5bb5",
      "metadata": {},
      "source": [
        "A common first operation is to extract certain characters\n",
        "of a string. For this, we use the function (with a slightly different syntax)\n",
        "particular) `str[n:]` For example, if we want to extract the last\n",
        "character of the variable `sample` in order to retain only the digit of\n",
        "the sample."
      ]
    },
    {
      "cell_type": "code",
      "execution_count": null,
      "id": "b7da611f",
      "metadata": {},
      "outputs": [],
      "source": [
        "df[\"sample_n\"] = df[\"sample\"].str[-1:]\n",
        "\n",
        "df"
      ]
    },
    {
      "cell_type": "markdown",
      "id": "683d7c27-6bbd-4288-9f1e-a0ed2fd4be8b",
      "metadata": {},
      "source": [
        "The principle was good, but the presence of superfluous spaces in our\n",
        "text data (which were not visible when viewing the\n",
        "DataFrame!) made the operation more difficult than expected. This is\n",
        "the opportunity to introduce the `strip` method family (`.str.strip()`,\n",
        "`.str.lstrip()` and `.str.rstrip()`) which respectively remove the\n",
        "superfluous spaces on both sides or on one side only."
      ]
    },
    {
      "cell_type": "code",
      "execution_count": null,
      "id": "878da614",
      "metadata": {},
      "outputs": [],
      "source": [
        "df[\"sample\"] = df[\"sample\"].str.strip()\n",
        "df[\"sample_n\"] = df[\"sample\"].str[-1:]\n",
        "\n",
        "df"
      ]
    },
    {
      "cell_type": "markdown",
      "id": "aa53315d-dd2b-4ace-91df-7d05bff9c0c0",
      "metadata": {},
      "source": [
        "One may also want to filter a DataFrame based on the\n",
        "presence or absence of a certain string (or substring) of characters. We\n",
        "use the `.str.contains()` method for this."
      ]
    },
    {
      "cell_type": "code",
      "execution_count": null,
      "id": "401a9ad6",
      "metadata": {},
      "outputs": [],
      "source": [
        "df[df['experiment'].str.contains('test')]"
      ]
    },
    {
      "cell_type": "markdown",
      "id": "5da678f5-4d16-4262-ae29-0db345f2b05a",
      "metadata": {},
      "source": [
        "Finally, one may want to replace a string (or substring) of\n",
        "characters by another, which is allowed by the `str.replace()` method."
      ]
    },
    {
      "cell_type": "code",
      "execution_count": null,
      "id": "d4258f34",
      "metadata": {},
      "outputs": [],
      "source": [
        "df['experiment'] = df['experiment'].str.replace('validation', 'val')\n",
        "\n",
        "df"
      ]
    },
    {
      "cell_type": "markdown",
      "id": "7a901f1b-940f-4563-9277-7fe580e1c608",
      "metadata": {},
      "source": [
        "#### Categorical data\n",
        "\n",
        "Categorical data are variables that contain a number\n",
        "restricted modalities. Like `R` with the notion of `factor`,\n",
        "Pandas has a special data type, `category`, which is useful for\n",
        "represent categorical data more efficiently and more\n",
        "informative. Categorical data is in fact optimized for\n",
        "certain types of data and can speed up operations like\n",
        "grouping and sorting. They are also useful for visualization,\n",
        "because they ensure that categories are displayed in a\n",
        "coherent and logical order.\n",
        "\n",
        "To convert a variable to `category` format, we use the method\n",
        "`astype()`."
      ]
    },
    {
      "cell_type": "code",
      "execution_count": null,
      "id": "e49f60f8",
      "metadata": {},
      "outputs": [],
      "source": [
        "df = pd.DataFrame(\n",
        "    data = {\n",
        "        \"var1\": [1.3, 5.6, np.nan, np.nan, 0, np.nan],\n",
        "        \"var2\": np.random.randint(-10, 10, 6),\n",
        "        \"experiment\": [\"test\", \"train\", \"test\", None, \"train\", \"validation\"],\n",
        "    }\n",
        ")\n",
        "print(df.dtypes)"
      ]
    },
    {
      "cell_type": "code",
      "execution_count": null,
      "id": "b58a8a2d",
      "metadata": {},
      "outputs": [],
      "source": [
        "df['experiment'] = df['experiment'].astype('category')\n",
        "\n",
        "print(df.dtypes)"
      ]
    },
    {
      "cell_type": "markdown",
      "id": "8ffc5301-b81d-4f35-bfff-3279b54eee67",
      "metadata": {},
      "source": [
        "This conversion gives us access to some very practical methods,\n",
        "specific to the processing of categorical variables. It can for example\n",
        "example it may be useful to rename categories for clarity\n",
        "or standardization."
      ]
    },
    {
      "cell_type": "code",
      "execution_count": null,
      "id": "b39fdda6",
      "metadata": {},
      "outputs": [],
      "source": [
        "df['experiment'] = df['experiment'].cat.rename_categories({'test': 'Test', 'train': 'Train', 'validation': 'Validation'})\n",
        "df"
      ]
    },
    {
      "cell_type": "markdown",
      "id": "15760404-4956-4ced-a9c3-386e72867850",
      "metadata": {},
      "source": [
        "Sometimes the order of the categories is significant, and one may want to\n",
        "edit. Especially in the context of visualization, because the\n",
        "Terms will be displayed in the specified order by default."
      ]
    },
    {
      "cell_type": "code",
      "execution_count": null,
      "id": "a718376f",
      "metadata": {},
      "outputs": [],
      "source": [
        "df_cat = df['experiment'].cat.reorder_categories(['Test', 'Train', 'Validation'], ordered=True)\n",
        "df.groupby(\"experiment\").mean().plot(kind='bar')"
      ]
    },
    {
      "cell_type": "markdown",
      "id": "e2229abf-8fa4-4e62-b82a-1b34c6df4211",
      "metadata": {},
      "source": [
        "#### Time data\n",
        "\n",
        "Temporal data is often present in the data\n",
        "tabular in order to temporally identify observations\n",
        "collected. Pandas offers features to manipulate these types\n",
        "of data, in particular thanks to the `datetime64` type which allows a\n",
        "precise manipulation of dates and times."
      ]
    },
    {
      "cell_type": "code",
      "execution_count": null,
      "id": "ccc6c82c",
      "metadata": {},
      "outputs": [],
      "source": [
        "df = pd.DataFrame(\n",
        "    data = {\n",
        "        \"var1\": [1, 5, 9, 13],\n",
        "        \"var2\": [3, 7, 11, 15],\n",
        "        \"date\": [\"2022-01-01\", \"2022-01-02\", \"2023-01-01\", \"2023-01-02\"],\n",
        "        \"sample\": [\"sample1\", \"sample1\", \"sample2\", \"sample2\"]\n",
        "    }\n",
        ")\n",
        "\n",
        "df.dtypes"
      ]
    },
    {
      "cell_type": "markdown",
      "id": "58b006b5-0e8f-4bed-8980-05aa1d68b967",
      "metadata": {},
      "source": [
        "To manipulate time data, it is necessary to convert\n",
        "strings to `datetime` objects. Pandas does this via the\n",
        "`to_datetime()` function."
      ]
    },
    {
      "cell_type": "code",
      "execution_count": null,
      "id": "c9d465a7",
      "metadata": {},
      "outputs": [],
      "source": [
        "df['date'] = pd.to_datetime(df['date'])\n",
        "\n",
        "df.dtypes"
      ]
    },
    {
      "cell_type": "markdown",
      "id": "300db8ee-7906-42c1-93a7-ad21df0f2319",
      "metadata": {},
      "source": [
        "Once converted, dates can be formatted, compared and\n",
        "used in calculations. In particular, Pandas now understands\n",
        "the “order” of the dates present in the data, and therefore allows the\n",
        "filtering over given periods."
      ]
    },
    {
      "cell_type": "code",
      "execution_count": null,
      "id": "771d7597",
      "metadata": {},
      "outputs": [],
      "source": [
        "df[(df['date'] >= \"2022-01-01\") & (df['date'] < \"2022-01-03\")]"
      ]
    },
    {
      "cell_type": "markdown",
      "id": "50d3a3d3-2a10-424c-a6b6-acb27f130a4e",
      "metadata": {},
      "source": [
        "We may also want to perform less precise filtering, making\n",
        "intervene in the year or month. Pandas makes it easy to extract\n",
        "specific components of the date, such as year, month, day,\n",
        "time, etc."
      ]
    },
    {
      "cell_type": "code",
      "execution_count": null,
      "id": "81f3b360",
      "metadata": {},
      "outputs": [],
      "source": [
        "df['year'] = df['date'].dt.year\n",
        "df['month'] = df['date'].dt.month\n",
        "df['day'] = df['date'].dt.day\n",
        "\n",
        "df[df['year'] == 2023]"
      ]
    },
    {
      "cell_type": "markdown",
      "id": "b2e72369-79d0-45c1-ab1d-108bb317e5ef",
      "metadata": {},
      "source": [
        "Finally, calculations involving dates become possible.\n",
        "can add or subtract time periods to dates, and\n",
        "compare between them. The functions used are from `Pandas`,\n",
        "but are very similar in their operation to those of the module\n",
        "[time](https://docs.python.org/fr/3/library/time.html) from Python.\n",
        "\n",
        "For example, we can add time intervals, or calculate\n",
        "deviations from a reference date."
      ]
    },
    {
      "cell_type": "code",
      "execution_count": null,
      "id": "0fe23e27",
      "metadata": {},
      "outputs": [],
      "source": [
        "df['date_plus_one'] = df['date'] + pd.Timedelta(days=1)\n",
        "df['date_diff'] = df['date'] - pd.to_datetime('2022-01-01')\n",
        "\n",
        "df"
      ]
    },
    {
      "cell_type": "markdown",
      "id": "0c986a62-0aa0-45aa-a13b-07a98163f647",
      "metadata": {},
      "source": [
        "### Joining tables\n",
        "\n",
        "When analyzing data, it is common to want to\n",
        "combine different data sources. This combination can be done\n",
        "vertically (one DataFrame on top of the other), for example when\n",
        "we want to combine two vintages of the same survey in order to\n",
        "analyze jointly. The combination can also be done\n",
        "horizontally (side by side) according to one or more join keys,\n",
        "often with the aim of enriching a data source from a\n",
        "other source covering the same statistical units.\n",
        "\n",
        "#### Concatenate tables\n",
        "\n",
        "Vertical concatenation of tables is done using the function\n",
        "Pandas `concat()`."
      ]
    },
    {
      "cell_type": "code",
      "execution_count": null,
      "id": "c31ee385",
      "metadata": {},
      "outputs": [],
      "source": [
        "df1 = pd.DataFrame(\n",
        "    data = {\n",
        "        \"var1\": [1, 5],\n",
        "        \"var2\": [3, 7],\n",
        "        \"date\": [\"2022-01-01\", \"2022-01-02\"],\n",
        "        \"sample\": [\"sample1\", \"sample1\"]\n",
        "    }\n",
        ")\n",
        "\n",
        "df2 = pd.DataFrame(\n",
        "    data = {\n",
        "        \"var1\": [9, 13],\n",
        "        \"date\": [\"2023-01-01\", \"2023-01-02\"],\n",
        "        \"var2\": [11, 15],\n",
        "        \"sample\": [\"sample2\", \"sample2\"]\n",
        "    }\n",
        ")\n",
        "\n",
        "df_concat = pd.concat([df1, df2])\n",
        "\n",
        "df_concat"
      ]
    },
    {
      "cell_type": "markdown",
      "id": "1f19137e-0a08-4241-bcf2-f23a9fc8cd80",
      "metadata": {},
      "source": [
        "Note that the order of the variables in the two DataFrames is not\n",
        "important. Pandas does not “stupidly” juxtapose the two DataFrames, it\n",
        "does a pattern matching to match the\n",
        "variables by name. If two variables have the same name but not the same\n",
        "type - for example in case a numeric variable would have been\n",
        "interpreted as strings - Pandas will solve the problem by\n",
        "taking the common denominator, that is to say generally converting into\n",
        "strings (type `object`).\n",
        "\n",
        "On the other hand, the previous concatenation reveals a problem of\n",
        "repetition at the index level. This is logical: we did not specify\n",
        "index for our two initial DataFrames, which therefore have the same index of\n",
        "position (\\[0, 1\\]). In this case (where the index is not important), we\n",
        "can pass parameter `ignore_index=True` to rebuild from scratch\n",
        "the final index."
      ]
    },
    {
      "cell_type": "code",
      "execution_count": null,
      "id": "b78ba077",
      "metadata": {},
      "outputs": [],
      "source": [
        "df_concat = pd.concat([df1, df2], ignore_index=True)\n",
        "\n",
        "df_concat"
      ]
    },
    {
      "attachments": {
        "img/joins.png": {
          "image/png": "[encoded data removed]"
        }
      },
      "cell_type": "markdown",
      "id": "718e729d-bdc5-4819-888e-f04b73e219a2",
      "metadata": {},
      "source": [
        "> **Iterative construction of a DataFrame**\n",
        "> We could have the idea of ​​using `pd.concat()` to construct a\n",
        "> DataFrame iteratively, adding at each iteration a\n",
        "> loops a new line to the existing DataFrame. This is however not\n",
        "> not a good idea: as we have seen, a DataFrame is\n",
        "> represented in memory as a juxtaposition of Series. Thus,\n",
        "> adding a column to a DataFrame is inexpensive, but adding a\n",
        "> line involves modifying each constituent element of the DataFrame.\n",
        "> To build a DataFrame, it is therefore rather advisable to store\n",
        "> lines in a list of lists (one per column) or a\n",
        "> dictionary, then call `pd.DataFrame()` to construct the\n",
        "> DataFrame, as we did at the beginning of this tutorial.\n",
        "\n",
        "#### Merge tables\n",
        "\n",
        "Merging tables is an operation that allows you to associate rows\n",
        "of two different DataFrames based on one or more keys\n",
        "common, similar to joins in SQL databases.\n",
        "Different types of join are possible depending on the data that we\n",
        "wishes to keep, the main ones of which are represented on the\n",
        "next graph.\n",
        "\n",
        "![](attachment:img/joins.png)\n",
        "\n",
        "Source :\n",
        "[lien](https://medium.com/swlh/merging-dataframes-with-pandas-pd-merge-7764c7e2d46d)\n",
        "\n",
        "In Pandas, joins are done with the function\n",
        "[merge()](https://pandas.pydata.org/docs/reference/api/pandas.DataFrame.merge.html).\n",
        "To perform a join, we must specify (at least) two\n",
        "information:\n",
        "\n",
        "- the join type: by default, Pandas performs a join of\n",
        "type `inner`. The `how` parameter allows you to specify other types\n",
        "of joining;\n",
        "\n",
        "- the join key. By default, Pandas tries to join the two\n",
        "DataFrames from their indexes. In practice, we often specify\n",
        "a variable present in the DataFrames as a join key\n",
        "(parameter `on` if the variable has the same name in both\n",
        "DataFrame, or `left_on` and `right_on` otherwise).\n",
        "\n",
        "Let's analyze the difference between different types of join through\n",
        "examples."
      ]
    },
    {
      "cell_type": "code",
      "execution_count": null,
      "id": "2f477cc5",
      "metadata": {},
      "outputs": [],
      "source": [
        "df_a = pd.DataFrame({\n",
        "    'key': ['K0', 'K1', 'K2', 'K3', 'K4'],\n",
        "    'A': ['A0', 'A1', 'A2', 'A3', 'A4'],\n",
        "    'B': ['B0', 'B1', 'B2', 'B3', 'A4']\n",
        "})\n",
        "\n",
        "df_b = pd.DataFrame({\n",
        "    'key': ['K0', 'K1', 'K2', 'K5', 'K6'],\n",
        "    'C': ['C0', 'C1', 'C2', 'C5', 'C6'],\n",
        "    'D': ['D0', 'D1', 'D2', 'D5', 'D6']\n",
        "})\n",
        "\n",
        "display(df_a)\n",
        "display(df_b)"
      ]
    },
    {
      "cell_type": "markdown",
      "id": "01d71019-097e-4a6a-bdb1-dcb5eb62e50c",
      "metadata": {},
      "source": [
        "The `inner` join keeps observations whose key is\n",
        "present in both DataFrames."
      ]
    },
    {
      "cell_type": "code",
      "execution_count": null,
      "id": "5459c641",
      "metadata": {},
      "outputs": [],
      "source": [
        "df_merged_inner = pd.merge(df_a, df_b, on='key')\n",
        "df_merged_inner"
      ]
    },
    {
      "cell_type": "markdown",
      "id": "b3b3f0ae-35ed-43be-9fd7-5652ad3239ac",
      "metadata": {},
      "source": [
        "> **Inner joints**\n",
        "> The `inner` type join is the most intuitive: it does not create\n",
        "> generally no missing values ​​and therefore allows you to work\n",
        "> directly on the merged table. But be careful: if a lot of\n",
        "> keys are not present in both DataFrames at once, a\n",
        "> `inner` join can result in significant data loss, and\n",
        "> therefore to biased final results. In this case, it is better\n",
        "> choose a left or right join, depending on the source you are using.\n",
        "> seeks to enrich and for which it is therefore most important to\n",
        "> limit data loss.\n",
        "\n",
        "A `left` join keeps all observations contained\n",
        "in the left DataFrame (first DataFrame specified in\n",
        "`pd.merge()`). Therefore, if keys are present in the\n",
        "Left DataFrame but not in the right one, the final DataFrame\n",
        "contains missing values ​​at the level of these observations (for the\n",
        "variables of the right DataFrame)."
      ]
    },
    {
      "cell_type": "code",
      "execution_count": null,
      "id": "82769fa2",
      "metadata": {},
      "outputs": [],
      "source": [
        "df_merged_left = pd.merge(df_a, df_b, how=\"left\", on='key')\n",
        "df_merged_left"
      ]
    },
    {
      "cell_type": "markdown",
      "id": "66d413fc-a865-4347-9ce8-322d73b7e3cb",
      "metadata": {},
      "source": [
        "The `outer` type join contains all observations and\n",
        "variables contained in both DataFrames. Thus, the information\n",
        "retention is maximum, but in return the missing values\n",
        "can be quite numerous. It will therefore be necessary to treat them well\n",
        "missing values ​​before performing the analyses."
      ]
    },
    {
      "cell_type": "code",
      "execution_count": null,
      "id": "9299b985",
      "metadata": {},
      "outputs": [],
      "source": [
        "df_merged_outer = pd.merge(df_a, df_b, how=\"outer\", on='key')\n",
        "df_merged_outer"
      ]
    },
    {
      "cell_type": "markdown",
      "id": "5744acfe-f8e3-4c24-9a81-24c2a755655f",
      "metadata": {},
      "source": [
        "## Exercises\n",
        "\n",
        "### Comprehension questions\n",
        "\n",
        "- 1/ What is a DataFrame in the context of Pandas and what is its purpose?\n",
        "type of data structure can we compare it in the language\n",
        "Python?\n",
        "\n",
        "- 2/ What is the fundamental difference between a Numpy array and a\n",
        "Pandas Series?\n",
        "\n",
        "- 3/ What is the link between Series and DataFrame in Pandas?\n",
        "\n",
        "- 4/ How are the data structured in a Pandas DataFrame?\n",
        "\n",
        "- 5/ What is the role of the index in a Pandas DataFrame and how?\n",
        "can it be used when manipulating data?\n",
        "\n",
        "- 6/ What methods can you use to explore a DataFrame?\n",
        "unknown and learn more about its content and structure?\n",
        "\n",
        "- 7/ In Pandas, what is the difference between assigning the result\n",
        "from an operation to a new variable and use a method with\n",
        "the argument `inplace=True`?\n",
        "\n",
        "- 8/ How is the principle of vectorization applied in Pandas and\n",
        "Why is this beneficial for manipulating data?\n",
        "\n",
        "- 9/ How does Pandas represent missing values ​​and what\n",
        "How does this impact calculations and data transformations?\n",
        "- 10/ What is the difference between concatenating two DataFrames and joining them via a join, and when would you use one over the other?"
      ]
    },
    {
      "cell_type": "markdown",
      "id": "e5cda70e-6756-42bb-8e1c-f6631784db6a",
      "metadata": {},
      "source": [
        "<details>\n",
        "\n",
        "<summary>\n",
        "\n",
        "Show solution\n",
        "\n",
        "</summary>\n",
        "\n",
        "- 1/ A DataFrame in Pandas is a data structure\n",
        "two-dimensional, comparable to a table or spreadsheet\n",
        "Excel. In the Python context, it can be compared to a\n",
        "NumPy array dictionary, where the keys are the column names\n",
        "and the values ​​are the columns themselves.\n",
        "\n",
        "- 2/ The main difference between a NumPy array and a Series\n",
        "Pandas is that Series can contain labeled data,\n",
        "that is, it has an index associated with it, allowing\n",
        "access and manipulation by label.\n",
        "\n",
        "- 3/ A DataFrame is essentially a collection of Series. Each\n",
        "column of a DataFrame is a Series, and all such Series\n",
        "share the same index, which corresponds to the labels of the rows of the\n",
        "DataFrame.\n",
        "\n",
        "- 4/ The data in a Pandas DataFrame is structured in columns\n",
        "and in rows. Each column can contain one data type\n",
        "different (numeric, string, boolean, etc.), and\n",
        "each line represents one observation.\n",
        "\n",
        "- 5/ The index in a Pandas DataFrame is used to identify in a specific way\n",
        "unique each row of the DataFrame. It allows quick access to the\n",
        "lines, perform joins, sort data and\n",
        "facilitate grouping operations.\n",
        "\n",
        "- 6/ To explore an unknown DataFrame, we can use df.head()\n",
        "to see the first lines, df.tail() for the last ones,\n",
        "df.info() to get a summary of data types and values\n",
        "missing, and df.describe() for descriptive statistics.\n",
        "\n",
        "- 7/ Assign the result of an operation to a new variable created\n",
        "a copy of the DataFrame with the changes applied. Use\n",
        "a method with inplace=True modifies the original DataFrame without\n",
        "create a copy, which may be more memory efficient.\n",
        "\n",
        "- 8/ Pandas represents missing values ​​with the `nan` object (Not\n",
        "a Number) from `Numpy` for numeric data and with None or\n",
        "pd.NaT for dates/times. These missing values ​​are\n",
        "generally ignored in statistical function calculations, this\n",
        "which can affect results if not treated\n",
        "correctly.\n",
        "\n",
        "- 9/ Concatenation consists of assembling DataFrames by stacking them\n",
        "vertically or by aligning them horizontally, mainly\n",
        "used when DataFrames have the same schema or when you\n",
        "want to stack data. Joins, inspired by\n",
        "JOIN operations in SQL combine DataFrames based on\n",
        "common key values ​​and are used to enrich a set\n",
        "data with information from another set.\n",
        "\n",
        "</details>"
      ]
    },
    {
      "cell_type": "markdown",
      "id": "a7eb9bdf-706a-4af2-bdfc-b2d897b5f574",
      "metadata": {},
      "source": [
        "### Multiple ways to create a DataFrame\n",
        "\n",
        "In the next cell we have retrieved data from boxes on\n",
        "sales of different brands. The data are however\n",
        "presented in two different ways, in one case in the form\n",
        "of observations (each list contains the data of one line), in\n",
        "the other in the form of variables (each list contains the data of a\n",
        "column)."
      ]
    },
    {
      "cell_type": "code",
      "execution_count": null,
      "id": "f6c1d231",
      "metadata": {},
      "outputs": [],
      "source": [
        "data_list1 = [\n",
        "    ['Carrefour', '01.1.1', 3, 1.50],\n",
        "    ['Casino', '02.1.1', 2, 2.30],\n",
        "    ['Lidl', '01.1.1', 7, 0.99],\n",
        "    ['Carrefour', '03.1.1', 5, 5.00],\n",
        "    ['Casino', '01.1.1', 10, 1.20],\n",
        "    ['Lidl', '02.1.1', 1, 3.10]\n",
        "]\n",
        "\n",
        "data_list2 = [\n",
        "    ['Carrefour', 'Casino', 'Lidl', 'Carrefour', 'Casino', 'Lidl'],\n",
        "    ['01.1.1', '02.1.1', '01.1.1', '03.1.1', '01.1.1', '02.1.1'],\n",
        "    [3, 2, 7, 5, 10, 1],\n",
        "    [1.50, 2.30, 0.99, 5.00, 1.20, 3.10]\n",
        "]"
      ]
    },
    {
      "cell_type": "markdown",
      "id": "d7ef1aa2-b345-4787-a4cc-35b697135c9a",
      "metadata": {},
      "source": [
        "The goal is to construct in both cases the same DataFrame which\n",
        "contains each of the 6 observations and 4 variables, with the same\n",
        "names in both DataFrames. Each case will correspond to a structure\n",
        "more suitable data input, dictionary or list of lists…\n",
        "make the right choice! We will check that the two DataFrames are\n",
        "identical using the method\n",
        "[equals()](https://pandas.pydata.org/docs/reference/api/pandas.DataFrame.equals.html)."
      ]
    },
    {
      "cell_type": "code",
      "execution_count": null,
      "id": "d44c9ea6",
      "metadata": {},
      "outputs": [],
      "source": [
        "# Test your answer in this cell"
      ]
    },
    {
      "cell_type": "markdown",
      "id": "afefb046-ac92-43be-a4cf-c25c9ea8bb35",
      "metadata": {},
      "source": [
        "<details>\n",
        "\n",
        "<summary>\n",
        "\n",
        "Show solution\n",
        "\n",
        "</summary>\n",
        "\n",
        "``` python\n",
        "data_list1 = [\n",
        "    ['Carrefour', 'Casino', 'Lidl', 'Carrefour', 'Casino', 'Lidl'],\n",
        "    ['01.1.1', '02.1.1', '01.1.1', '03.1.1', '01.1.1', '02.1.1'],\n",
        "    [3, 2, 7, 5, 10, 1],\n",
        "    [1.50, 2.30, 0.99, 5.00, 1.20, 3.10]\n",
        "]\n",
        "\n",
        "data_list2 = [\n",
        "    ['Carrefour', '01.1.1', 3, 1.50],\n",
        "    ['Casino', '02.1.1', 2, 2.30],\n",
        "    ['Lidl', '01.1.1', 7, 0.99],\n",
        "    ['Carrefour', '03.1.1', 5, 5.00],\n",
        "    ['Casino', '01.1.1', 10, 1.20],\n",
        "    ['Lidl', '02.1.1', 1, 3.10]\n",
        "]\n",
        "\n",
        "# Si les données sont sous forme de colonnes : à partir d'un dictionnaire\n",
        "data_dict = {\n",
        "    'enseigne': data_list1[0],\n",
        "    'produit': data_list1[1],\n",
        "    'quantite': data_list1[2],\n",
        "    'prix': data_list1[3]\n",
        "}\n",
        "\n",
        "df_from_dict = pd.DataFrame(data_dict)\n",
        "\n",
        "# Si les données sont sous forme de lignes : à partir d'une liste de listes\n",
        "columns = ['enseigne', 'produit', 'quantite', 'prix']\n",
        "df_from_list = pd.DataFrame(data_list2, columns=columns)\n",
        "\n",
        "# Vérification\n",
        "df_from_dict.equals(df_from_list)\n",
        "```\n",
        "\n",
        "</details>"
      ]
    },
    {
      "cell_type": "markdown",
      "id": "50a7bb06-43a0-4daa-bd67-78c5d1c80a22",
      "metadata": {},
      "source": [
        "### Selecting data in a DataFrame\n",
        "\n",
        "A Pandas DataFrame is created with checkout data (same data\n",
        "than the previous financial year)."
      ]
    },
    {
      "cell_type": "code",
      "execution_count": null,
      "id": "55ec8a98",
      "metadata": {},
      "outputs": [],
      "source": [
        "data = {\n",
        "    'enseigne': ['Carrefour', 'Casino', 'Lidl', 'Carrefour', 'Casino', 'Lidl'],\n",
        "    'produit': ['01.1.1', '02.1.1', '01.1.1', '03.1.1', '01.1.1', '02.1.1'],\n",
        "    'quantite': [3, 2, 7, 5, 10, 1],\n",
        "    'prix': [1.50, 2.30, 0.99, 5.00, 1.20, 3.10],\n",
        "    'date_heure': pd.to_datetime([\"2022-01-01 14:05\", \"2022-01-02 09:30\", \n",
        "                                  \"2022-01-03 17:45\", \"2022-01-04 08:20\", \n",
        "                                  \"2022-01-05 19:00\", \"2022-01-06 16:30\"])\n",
        "}\n",
        "\n",
        "df = pd.DataFrame(data)"
      ]
    },
    {
      "cell_type": "markdown",
      "id": "643f3fec-2a2d-48b6-96b9-e77374522155",
      "metadata": {},
      "source": [
        "Use the `loc` and `iloc` methods to select data\n",
        "specific:\n",
        "\n",
        "- Select the data from the first row."
      ]
    },
    {
      "cell_type": "code",
      "execution_count": null,
      "id": "60937b36",
      "metadata": {},
      "outputs": [],
      "source": [
        "# Test your answer in this cell"
      ]
    },
    {
      "cell_type": "markdown",
      "id": "de943db8-9bdc-4d8d-b141-0b6115d3d09d",
      "metadata": {},
      "source": [
        "<details>\n",
        "\n",
        "<summary>\n",
        "\n",
        "Show solution\n",
        "\n",
        "</summary>\n",
        "\n",
        "``` python\n",
        "print(df.iloc[0])\n",
        "```\n",
        "\n",
        "</details>"
      ]
    },
    {
      "cell_type": "markdown",
      "id": "7d63711f-e3ed-45f9-b0a2-dafd3c5e6427",
      "metadata": {},
      "source": [
        "- Select all data from the “price” column."
      ]
    },
    {
      "cell_type": "code",
      "execution_count": null,
      "id": "9da6c599",
      "metadata": {},
      "outputs": [],
      "source": [
        "# Test your answer in this cell"
      ]
    },
    {
      "cell_type": "markdown",
      "id": "d926a6ef-2691-491c-8fdd-5e0bf87c53af",
      "metadata": {},
      "source": [
        "<details>\n",
        "\n",
        "<summary>\n",
        "\n",
        "Show solution\n",
        "\n",
        "</summary>\n",
        "\n",
        "``` python\n",
        "print(df.loc[:, 'prix'])\n",
        "```\n",
        "\n",
        "</details>"
      ]
    },
    {
      "cell_type": "markdown",
      "id": "8d5554c6-c05f-46a7-9733-f54850ec9b55",
      "metadata": {},
      "source": [
        "- Select the lines corresponding to the “Carrefour” brand\n",
        "uniquely."
      ]
    },
    {
      "cell_type": "code",
      "execution_count": null,
      "id": "5dfe66d7",
      "metadata": {},
      "outputs": [],
      "source": [
        "# Test your answer in this cell"
      ]
    },
    {
      "cell_type": "markdown",
      "id": "71705825-d268-4c72-a7b9-7a0fc94ed1bf",
      "metadata": {},
      "source": [
        "<details>\n",
        "\n",
        "<summary>\n",
        "\n",
        "Show solution\n",
        "\n",
        "</summary>\n",
        "\n",
        "``` python\n",
        "print(df.loc[df['enseigne'] == 'Carrefour'])\n",
        "```\n",
        "\n",
        "</details>"
      ]
    },
    {
      "cell_type": "markdown",
      "id": "5e19d69f-dcf0-416d-9a2a-ea749754ebc9",
      "metadata": {},
      "source": [
        "- Select the quantities purchased for the classified products\n",
        "“01.1.1” (Bread)."
      ]
    },
    {
      "cell_type": "code",
      "execution_count": null,
      "id": "d9ecaaea",
      "metadata": {},
      "outputs": [],
      "source": [
        "# Test your answer in this cell"
      ]
    },
    {
      "cell_type": "markdown",
      "id": "5f24cc59-cba3-4c40-b386-962e303ed499",
      "metadata": {},
      "source": [
        "<details>\n",
        "\n",
        "<summary>\n",
        "\n",
        "Show solution\n",
        "\n",
        "</summary>\n",
        "\n",
        "``` python\n",
        "print(df.loc[df['produit'] == '01.1.1', 'quantite'])\n",
        "```\n",
        "\n",
        "</details>"
      ]
    },
    {
      "cell_type": "markdown",
      "id": "c6278ab7-0d46-4195-a929-237a3f99496d",
      "metadata": {},
      "source": [
        "- Select the data from the “brand” and “price” columns for\n",
        "all lines."
      ]
    },
    {
      "cell_type": "code",
      "execution_count": null,
      "id": "dccbe1e0",
      "metadata": {},
      "outputs": [],
      "source": [
        "# Test your answer in this cell"
      ]
    },
    {
      "cell_type": "markdown",
      "id": "bc6cce70-0a0e-4a03-b55d-d540ae7083b9",
      "metadata": {},
      "source": [
        "<details>\n",
        "\n",
        "<summary>\n",
        "\n",
        "Show solution\n",
        "\n",
        "</summary>\n",
        "\n",
        "``` python\n",
        "print(df.loc[:, ['enseigne', 'prix']])\n",
        "```\n",
        "\n",
        "</details>"
      ]
    },
    {
      "cell_type": "markdown",
      "id": "26557469-42b3-4c1c-bc26-2a4ab861bfce",
      "metadata": {},
      "source": [
        "- Select the lines where the quantity purchased is greater than 5."
      ]
    },
    {
      "cell_type": "code",
      "execution_count": null,
      "id": "bddf2c7a",
      "metadata": {},
      "outputs": [],
      "source": [
        "# Test your answer in this cell"
      ]
    },
    {
      "cell_type": "markdown",
      "id": "aaf38f0b-c4ed-4da5-931b-38e13599680b",
      "metadata": {},
      "source": [
        "<details>\n",
        "\n",
        "<summary>\n",
        "\n",
        "Show solution\n",
        "\n",
        "</summary>\n",
        "\n",
        "``` python\n",
        "print(df.loc[df['quantite'] > 5])\n",
        "```\n",
        "\n",
        "</details>"
      ]
    },
    {
      "cell_type": "markdown",
      "id": "693d187e-9182-4a03-9363-bf80f1866030",
      "metadata": {},
      "source": [
        "- Filter to select all transactions that have taken place\n",
        "after 3 p.m."
      ]
    },
    {
      "cell_type": "code",
      "execution_count": null,
      "id": "db4007dc",
      "metadata": {},
      "outputs": [],
      "source": [
        "# Test your answer in this cell"
      ]
    },
    {
      "cell_type": "markdown",
      "id": "cae1f640-4f7f-4061-944e-57a03866ed97",
      "metadata": {},
      "source": [
        "<details>\n",
        "\n",
        "<summary>\n",
        "\n",
        "Show solution\n",
        "\n",
        "</summary>\n",
        "\n",
        "``` python\n",
        "print(df.loc[df['date_heure'].dt.hour > 15])\n",
        "```\n",
        "\n",
        "</details>"
      ]
    },
    {
      "cell_type": "markdown",
      "id": "38946b3c-51a0-4395-bb7c-715bf4e984b0",
      "metadata": {},
      "source": [
        "- Select transactions that occurred on “2022-01-03”."
      ]
    },
    {
      "cell_type": "code",
      "execution_count": null,
      "id": "28e40549",
      "metadata": {},
      "outputs": [],
      "source": [
        "# Test your answer in this cell"
      ]
    },
    {
      "cell_type": "markdown",
      "id": "ecd5c55b-2934-4892-8768-ae9cddac30ba",
      "metadata": {},
      "source": [
        "<details>\n",
        "\n",
        "<summary>\n",
        "\n",
        "Show solution\n",
        "\n",
        "</summary>\n",
        "\n",
        "``` python\n",
        "print(df.loc[df['date_heure'].dt.date == pd.to_datetime('2022-01-03').date()])\n",
        "```\n",
        "\n",
        "</details>"
      ]
    },
    {
      "cell_type": "markdown",
      "id": "5c2b1037-1918-476c-be7d-e63591295c77",
      "metadata": {},
      "source": [
        "### Exploring the first name file\n",
        "\n",
        "The first name file contains data on the first names assigned\n",
        "to children born in France between 1900 and 2021. This data is\n",
        "available at the France level, by department and by region, at the address\n",
        "next:\n",
        "<https://www.insee.fr/fr/statistiques/2540004?sommaire=4767262>.\n",
        "The objective of this tutorial is to provide an analysis of this file,\n",
        "data cleaning for first name statistics.\n",
        "\n",
        "#### Part 1: Importing and exploring data\n",
        "\n",
        "- Import the data into a DataFrame using this\n",
        "[URL](https://www.insee.fr/fr/statistiques/fichier/2540004/nat2021_csv.zip).\n",
        "- View a sample of the data. Identify any potential\n",
        "anomalies?\n",
        "- Display the main information of the DataFrame. Locate\n",
        "possible variables whose type is incorrect, or\n",
        "possible missing values."
      ]
    },
    {
      "cell_type": "code",
      "execution_count": null,
      "id": "b151487d",
      "metadata": {},
      "outputs": [],
      "source": [
        "# Test your answer in this cell"
      ]
    },
    {
      "cell_type": "markdown",
      "id": "a10d1017-cf34-4cec-8f23-50575c17844e",
      "metadata": {},
      "source": [
        "<details>\n",
        "\n",
        "<summary>\n",
        "\n",
        "Show solution\n",
        "\n",
        "</summary>\n",
        "\n",
        "``` python\n",
        "url = \"https://www.insee.fr/fr/statistiques/fichier/2540004/nat2021_csv.zip\"\n",
        "df_prenoms = pd.read_csv(url, sep=\";\")\n",
        "\n",
        "df_prenoms.head(10)\n",
        "df_prenoms.sample(n=50)\n",
        "\n",
        "df_prenoms.info()\n",
        "```\n",
        "\n",
        "</details>"
      ]
    },
    {
      "cell_type": "markdown",
      "id": "f7e31d16-9147-4906-a2cd-27dd3282d724",
      "metadata": {},
      "source": [
        "#### Part 2: Data Cleaning\n",
        "\n",
        "- The output of the `info()` method suggests missing values ​​in\n",
        "the first name column. Display these lines. Check that these\n",
        "missing values ​​are correctly specified.\n",
        "- The output of method `head()` shows a recurring modality\n",
        "“\\_PRENOMS_RARES” in the first name column. What proportion of the\n",
        "individuals in the database does this concern? Convert these values ​​into\n",
        "`np.nan`."
      ]
    },
    {
      "cell_type": "code",
      "execution_count": null,
      "id": "2cac152d",
      "metadata": {},
      "outputs": [],
      "source": [
        "# Test your answer in this cell"
      ]
    },
    {
      "cell_type": "markdown",
      "id": "e1c28429-f9dd-48fe-bf0b-062c5a6ae1d6",
      "metadata": {},
      "source": [
        "<details>\n",
        "\n",
        "<summary>\n",
        "\n",
        "Show solution\n",
        "\n",
        "</summary>\n",
        "\n",
        "``` python\n",
        "print(df_prenoms[df_prenoms[\"preusuel\"].isna()])\n",
        "prop_rares = df_prenoms.groupby(\"preusuel\")[\"nombre\"].sum()[\"_PRENOMS_RARES\"] / df_prenoms[\"nombre\"].sum()\n",
        "print(prop_rares)  # ~ 2 % de la base\n",
        "df_prenoms = df_prenoms.replace('_PRENOMS_RARES', np.nan)\n",
        "```\n",
        "\n",
        "</details>"
      ]
    },
    {
      "cell_type": "markdown",
      "id": "9f163f5c-ccd8-4109-bb4b-e02110f7fd95",
      "metadata": {},
      "source": [
        "- We notice that the first names of people whose year of birth\n",
        "is not known are grouped under the modality `XXXX`. What\n",
        "proportion of individuals in the base does this concern? Convert\n",
        "these values ​​in `np.nan`."
      ]
    },
    {
      "cell_type": "code",
      "execution_count": null,
      "id": "d7de62c4",
      "metadata": {},
      "outputs": [],
      "source": [
        "# Test your answer in this cell"
      ]
    },
    {
      "cell_type": "markdown",
      "id": "c1fcaa93-7f21-455b-b4be-c0b9cfe907a7",
      "metadata": {},
      "source": [
        "<details>\n",
        "\n",
        "<summary>\n",
        "\n",
        "Show solution\n",
        "\n",
        "</summary>\n",
        "\n",
        "``` python\n",
        "prop_xxxx = df_prenoms.groupby(\"annais\")[\"nombre\"].sum()[\"XXXX\"] / df_prenoms[\"nombre\"].sum()\n",
        "print(prop_xxxx)  # ~ 1 % de la base\n",
        "df_prenoms = df_prenoms.replace('XXXX', np.nan)\n",
        "```\n",
        "\n",
        "</details>"
      ]
    },
    {
      "cell_type": "markdown",
      "id": "e539cdf4-ba31-4c60-8e6e-34ed1f6593d0",
      "metadata": {},
      "source": [
        "- Delete rows containing missing values ​​from\n",
        "the sample."
      ]
    },
    {
      "cell_type": "code",
      "execution_count": null,
      "id": "7cf58a89",
      "metadata": {},
      "outputs": [],
      "source": [
        "# Test your answer in this cell"
      ]
    },
    {
      "cell_type": "markdown",
      "id": "43ee25a6-4e98-4102-9082-f70f9fedca21",
      "metadata": {},
      "source": [
        "<details>\n",
        "\n",
        "<summary>\n",
        "\n",
        "Show solution\n",
        "\n",
        "</summary>\n",
        "\n",
        "``` python\n",
        "df_prenoms = df_prenoms.dropna()\n",
        "```\n",
        "\n",
        "</details>"
      ]
    },
    {
      "cell_type": "markdown",
      "id": "d39bb0a0-06f1-4a34-b8b7-a03eec8a5515",
      "metadata": {},
      "source": [
        "- Convert the column `annais` to numeric type and the column\n",
        "`sex` in categorical type."
      ]
    },
    {
      "cell_type": "code",
      "execution_count": null,
      "id": "00c0d708",
      "metadata": {},
      "outputs": [],
      "source": [
        "# Test your answer in this cell"
      ]
    },
    {
      "cell_type": "markdown",
      "id": "3ec88ec3-f1e5-41e9-ad40-56e603fd91f5",
      "metadata": {},
      "source": [
        "<details>\n",
        "\n",
        "<summary>\n",
        "\n",
        "Show solution\n",
        "\n",
        "</summary>\n",
        "\n",
        "``` python\n",
        "df_prenoms['annais'] = pd.to_numeric(df_prenoms['annais'])\n",
        "df_prenoms['sexe'] = df_prenoms['sexe'].astype('category')\n",
        "```\n",
        "\n",
        "</details>"
      ]
    },
    {
      "cell_type": "markdown",
      "id": "5aefff23-eeab-495f-ad40-08057e2ce161",
      "metadata": {},
      "source": [
        "- Check with the `info()` method that the cleaning has been completed.\n",
        "correctly applied."
      ]
    },
    {
      "cell_type": "code",
      "execution_count": null,
      "id": "617e94de",
      "metadata": {},
      "outputs": [],
      "source": [
        "# Test your answer in this cell"
      ]
    },
    {
      "cell_type": "markdown",
      "id": "218776cb-bcef-4b8b-b684-67557bfb96f9",
      "metadata": {},
      "source": [
        "<details>\n",
        "\n",
        "<summary>\n",
        "\n",
        "Show solution\n",
        "\n",
        "</summary>\n",
        "\n",
        "``` python\n",
        "df_prenoms.info()\n",
        "```\n",
        "\n",
        "</details>"
      ]
    },
    {
      "cell_type": "markdown",
      "id": "75fb8f2a-b8f5-4d7f-b09e-2d4fbfe535e2",
      "metadata": {},
      "source": [
        "#### Part 3: Descriptive statistics on births\n",
        "\n",
        "-   There\n",
        "[documentation](https://www.insee.fr/fr/statistiques/2540004?sommaire=4767262#documentation)\n",
        "of the file informs us that we can consider the data as\n",
        "almost exhaustive from 1946. For this part only,\n",
        "filter the data to keep only later data."
      ]
    },
    {
      "cell_type": "code",
      "execution_count": null,
      "id": "e7cba6e2",
      "metadata": {},
      "outputs": [],
      "source": [
        "# Test your answer in this cell"
      ]
    },
    {
      "cell_type": "markdown",
      "id": "71a6d293-18ff-4de2-95a0-84ad89ed5e24",
      "metadata": {},
      "source": [
        "<details>\n",
        "\n",
        "<summary>\n",
        "\n",
        "Show solution\n",
        "\n",
        "</summary>\n",
        "\n",
        "``` python\n",
        "df_prenoms_post_1946 = df_prenoms[df_prenoms[\"annais\"] >= 1946]\n",
        "```\n",
        "\n",
        "</details>"
      ]
    },
    {
      "cell_type": "markdown",
      "id": "b93910a7-59c4-4001-923c-13cd205b98c8",
      "metadata": {},
      "source": [
        "- Calculate the total number of births by sex."
      ]
    },
    {
      "cell_type": "code",
      "execution_count": null,
      "id": "6ef01fb9",
      "metadata": {},
      "outputs": [],
      "source": [
        "# Test your answer in this cell"
      ]
    },
    {
      "cell_type": "markdown",
      "id": "7c46a886-d41e-4761-a30f-c3a2a5b5db3c",
      "metadata": {},
      "source": [
        "<details>\n",
        "\n",
        "<summary>\n",
        "\n",
        "Show solution\n",
        "\n",
        "</summary>\n",
        "\n",
        "``` python\n",
        "births_per_sex = df_prenoms_post_1946.groupby('sexe')['nombre'].sum()\n",
        "print(births_per_sex)\n",
        "```\n",
        "\n",
        "</details>"
      ]
    },
    {
      "cell_type": "markdown",
      "id": "abf9365f-cdbb-4a83-be06-4fe65ce65f53",
      "metadata": {},
      "source": [
        "- Identify the five years with the highest number of births."
      ]
    },
    {
      "cell_type": "code",
      "execution_count": null,
      "id": "43fc6259",
      "metadata": {},
      "outputs": [],
      "source": [
        "# Test your answer in this cell"
      ]
    },
    {
      "cell_type": "markdown",
      "id": "c62f5a97-c83b-4f33-98ea-f32e8838cfb8",
      "metadata": {},
      "source": [
        "<details>\n",
        "\n",
        "<summary>\n",
        "\n",
        "Show solution\n",
        "\n",
        "</summary>\n",
        "\n",
        "``` python\n",
        "top5_years = df_prenoms_post_1946.groupby('annais')['nombre'].sum().nlargest(5)\n",
        "print(top5_years)\n",
        "```\n",
        "\n",
        "</details>"
      ]
    },
    {
      "cell_type": "markdown",
      "id": "572530ea-81ec-4553-8871-deb3429e499c",
      "metadata": {},
      "source": [
        "#### Part 4: Analysis of first names\n",
        "\n",
        "- Identify the total number of unique first names in the DataFrame."
      ]
    },
    {
      "cell_type": "code",
      "execution_count": null,
      "id": "69b3185c",
      "metadata": {},
      "outputs": [],
      "source": [
        "# Test your answer in this cell"
      ]
    },
    {
      "cell_type": "markdown",
      "id": "a4ecbed0-c9b4-4a1f-b550-939ef5e4b45c",
      "metadata": {},
      "source": [
        "<details>\n",
        "\n",
        "<summary>\n",
        "\n",
        "Show solution\n",
        "\n",
        "</summary>\n",
        "\n",
        "``` python\n",
        "total_unique_names = df_prenoms['preusuel'].nunique()\n",
        "print(total_unique_names)\n",
        "```\n",
        "\n",
        "</details>"
      ]
    },
    {
      "cell_type": "markdown",
      "id": "3afd837c-5e34-4bb3-9660-a17b1fab28f4",
      "metadata": {},
      "source": [
        "- Count the number of people with a first name of only one\n",
        "letter."
      ]
    },
    {
      "cell_type": "code",
      "execution_count": null,
      "id": "65c92007",
      "metadata": {},
      "outputs": [],
      "source": [
        "# Test your answer in this cell"
      ]
    },
    {
      "cell_type": "markdown",
      "id": "cc866d6e-1898-4c32-9985-a89feb465255",
      "metadata": {},
      "source": [
        "<details>\n",
        "\n",
        "<summary>\n",
        "\n",
        "Show solution\n",
        "\n",
        "</summary>\n",
        "\n",
        "``` python\n",
        "single_letter_names = df_prenoms[df_prenoms['preusuel'].str.len() == 1]['nombre'].sum()\n",
        "print(single_letter_names)\n",
        "```\n",
        "\n",
        "</details>"
      ]
    },
    {
      "cell_type": "markdown",
      "id": "79a0f848-8182-497c-bf24-46ee7264e84b",
      "metadata": {},
      "source": [
        "- Create a “popularity function” which, for a given first name,\n",
        "displays the year it was given the most as well as the number of\n",
        "times it was given that year."
      ]
    },
    {
      "cell_type": "code",
      "execution_count": null,
      "id": "4183d8b8",
      "metadata": {},
      "outputs": [],
      "source": [
        "# Test your answer in this cell"
      ]
    },
    {
      "cell_type": "markdown",
      "id": "3f38c0e6-d316-4bbc-94af-71cf3853bb9c",
      "metadata": {},
      "source": [
        "<details>\n",
        "\n",
        "<summary>\n",
        "\n",
        "Show solution\n",
        "\n",
        "</summary>\n",
        "\n",
        "``` python\n",
        "def popularite_par_annee(df, prenom):\n",
        "    # Filtrer le DataFrame pour ne garder que les lignes correspondant au prénom donné\n",
        "    df_prenom = df[df['preusuel'] == prenom]\n",
        "\n",
        "    # Grouper par année, sommer les naissances et identifier l'année avec le maximum de naissances\n",
        "    df_agg = df_prenom.groupby('annais')['nombre'].sum()\n",
        "    annee_max = df_agg.idxmax()\n",
        "    n_max = df_agg[annee_max]\n",
        "\n",
        "    print(f\"Le prénom '{prenom}' a été le plus donné en {annee_max}, avec {n_max} naissances.\")\n",
        "\n",
        "# Test de la fonction avec un exemple\n",
        "popularite_par_annee(df_prenoms, 'ALFRED')\n",
        "```\n",
        "\n",
        "</details>"
      ]
    },
    {
      "cell_type": "markdown",
      "id": "e49d66a9-aadf-4a25-adc5-3c05ae315753",
      "metadata": {},
      "source": [
        "- Create a function that, for a given gender, returns a DataFrame\n",
        "containing the most popular first name for each decade."
      ]
    },
    {
      "cell_type": "code",
      "execution_count": null,
      "id": "620ed1ed",
      "metadata": {},
      "outputs": [],
      "source": [
        "# Test your answer in this cell"
      ]
    },
    {
      "cell_type": "markdown",
      "id": "ece22d24-eca0-4e0b-914d-3b6da683693c",
      "metadata": {},
      "source": [
        "<details>\n",
        "\n",
        "<summary>\n",
        "\n",
        "Show solution\n",
        "\n",
        "</summary>\n",
        "\n",
        "``` python\n",
        "def popularite_par_decennie(df, sexe):\n",
        "    # Filtrage sur le sexe\n",
        "    df_sub = df[df[\"sexe\"] == sexe]\n",
        "\n",
        "    # Calcul de la variable décennie\n",
        "    df_sub[\"decennie\"] = (df_sub[\"annais\"] // 10) * 10\n",
        "\n",
        "    # Calculer la somme des naissances pour chaque prénom et chaque décennie\n",
        "    df_counts_decennie = df_sub.groupby([\"preusuel\", \"decennie\"])[\"nombre\"].sum().reset_index()\n",
        "\n",
        "    # Trouver l'indice du prénom le plus fréquent pour chaque décennie\n",
        "    idx = df_counts_decennie.groupby(\"decennie\")[\"nombre\"].idxmax()\n",
        "\n",
        "    # Utiliser l'indice pour obtenir les lignes correspondantes du DataFrame df_counts_decennie\n",
        "    df_popularite_decennie = df_counts_decennie.loc[idx].set_index(\"decennie\")\n",
        "\n",
        "    return df_popularite_decennie\n",
        "\n",
        "# Test de la fonction avec un exemple\n",
        "popularite_par_decennie(df_prenoms, sexe=2)\n",
        "```\n",
        "\n",
        "</details>"
      ]
    },
    {
      "cell_type": "markdown",
      "id": "c4936653-a397-4af3-a9d4-7b58aee5eb42",
      "metadata": {},
      "source": [
        "### Calculation of a carbon footprint per inhabitant at the municipal level\n",
        "\n",
        "The objective of this exercise is to calculate a carbon footprint by\n",
        "living at the municipal level. To do this, it will be necessary to combine two\n",
        "data sources:\n",
        "\n",
        "- legal populations at the municipal level, from the\n",
        "population census\n",
        "([source](https://www.insee.fr/fr/statistiques/6683037))\n",
        "\n",
        "- greenhouse gas emissions estimated at the municipal level\n",
        "by ADEME\n",
        "([source](https://www.data.gouv.fr/fr/datasets/inventaire-de-gaz-a-effet-de-serre-territorialise/#_))\n",
        "\n",
        "This exercise is a simplified version of a [complete TP for the\n",
        "practice of\n",
        "Pandas](https://pythonds.linogaliana.fr/content/manipulation/02b_pandas_TP.html#importation-les-donn%C3%A9es)\n",
        "proposed by Lino Galiana in his [course at\n",
        "ENSAE](https://pythonds.linogaliana.fr/).\n",
        "\n",
        "#### Part 1: Exploring data on municipal legal populations\n",
        "\n",
        "- Import the CSV file `communes.csv`.\n",
        "- Use the `.sample()`, `.info()` and `.describe()` methods to\n",
        "get an overview of the data."
      ]
    },
    {
      "cell_type": "code",
      "execution_count": null,
      "id": "03354c9f",
      "metadata": {},
      "outputs": [],
      "source": [
        "# Test your answer in this cell"
      ]
    },
    {
      "cell_type": "markdown",
      "id": "053addbe-4dc4-4a8e-bd9d-a51e37ef32e4",
      "metadata": {},
      "source": [
        "<details>\n",
        "\n",
        "<summary>\n",
        "\n",
        "Show solution\n",
        "\n",
        "</summary>\n",
        "\n",
        "``` python\n",
        "df_pop_communes = pd.read_csv(\"data/communes.csv\", sep=\";\")\n",
        "\n",
        "df_pop_communes.sample(10)\n",
        "df_pop_communes.info()\n",
        "df_pop_communes.describe()\n",
        "```\n",
        "\n",
        "</details>"
      ]
    },
    {
      "cell_type": "markdown",
      "id": "57c0603f-9e3a-4d28-ba4c-280906bd8a99",
      "metadata": {},
      "source": [
        "- Identify and remove the lines corresponding to the municipalities without\n",
        "population.\n",
        "- Delete the columns “PMUN” and “PCAP”, not relevant for\n",
        "the analysis."
      ]
    },
    {
      "cell_type": "code",
      "execution_count": null,
      "id": "16b67f62",
      "metadata": {},
      "outputs": [],
      "source": [
        "# Test your answer in this cell"
      ]
    },
    {
      "cell_type": "markdown",
      "id": "529c24c1-cb93-4a7c-b4c5-94b6d186ce81",
      "metadata": {},
      "source": [
        "<details>\n",
        "\n",
        "<summary>\n",
        "\n",
        "Show solution\n",
        "\n",
        "</summary>\n",
        "\n",
        "``` python\n",
        "n_communes_0_pop = df_pop_communes[df_pop_communes[\"PTOT\"] == 0].shape[0]\n",
        "print(n_communes_0_pop)\n",
        "df_pop_communes = df_pop_communes[df_pop_communes[\"PTOT\"] > 0]\n",
        "\n",
        "df_pop_communes = df_pop_communes.drop(columns=[\"PMUN\", \"PCAP\"])\n",
        "```\n",
        "\n",
        "</details>"
      ]
    },
    {
      "cell_type": "markdown",
      "id": "9c004308-f439-4497-930d-27dc683a1c14",
      "metadata": {},
      "source": [
        "Are the municipalities with the longest names also the\n",
        "least populated municipalities? To find out: - Create a new\n",
        "variable that contains the number of characters of each municipality using\n",
        "of the method\n",
        "[str.len()](https://pandas.pydata.org/docs/reference/api/pandas.Series.str.len.html) -\n",
        "Calculate the correlation between this variable and the total population.\n",
        "with the method\n",
        "[corr()](https://pandas.pydata.org/docs/reference/api/pandas.DataFrame.corr.html)"
      ]
    },
    {
      "cell_type": "code",
      "execution_count": null,
      "id": "b7d0ef68",
      "metadata": {},
      "outputs": [],
      "source": [
        "# Test your answer in this cell"
      ]
    },
    {
      "cell_type": "markdown",
      "id": "0c4498e9-632b-4738-9e98-73937faea174",
      "metadata": {},
      "source": [
        "<details>\n",
        "\n",
        "<summary>\n",
        "\n",
        "Show solution\n",
        "\n",
        "</summary>\n",
        "\n",
        "``` python\n",
        "df_pop_communes_stats = df_pop_communes.copy()\n",
        "df_pop_communes_stats['longueur'] = df_pop_communes_stats['COM'].str.len()\n",
        "df_pop_communes_stats['longueur'].corr(df_pop_communes_stats['PTOT'])\n",
        "```\n",
        "\n",
        "</details>"
      ]
    },
    {
      "cell_type": "markdown",
      "id": "76046d55-d8d1-4fae-87cd-fda813801dca",
      "metadata": {},
      "source": [
        "#### Part 2: Exploring data on municipal emissions\n",
        "\n",
        "- Import the emission data from this\n",
        "[URL](https://data.ademe.fr/data-fair/api/v1/datasets/igt-pouvoir-de-rechauffement-global/data-files/IGT%20-%20Pouvoir%20de%20r%C3%A9chauffement%20global.csv)\n",
        "- Use the `.sample()`, `.info()` and `.describe()` methods to\n",
        "get an overview of the data."
      ]
    },
    {
      "cell_type": "code",
      "execution_count": null,
      "id": "c9e3a602",
      "metadata": {},
      "outputs": [],
      "source": [
        "# Test your answer in this cell"
      ]
    },
    {
      "cell_type": "markdown",
      "id": "76809134-30d5-4b46-82d7-f5cadaaef752",
      "metadata": {},
      "source": [
        "<details>\n",
        "\n",
        "<summary>\n",
        "\n",
        "Show solution\n",
        "\n",
        "</summary>\n",
        "\n",
        "``` python\n",
        "url_ademe = \"https://data.ademe.fr/data-fair/api/v1/datasets/igt-pouvoir-de-rechauffement-global/data-files/IGT%20-%20Pouvoir%20de%20r%C3%A9chauffement%20global.csv\"\n",
        "df_emissions = pd.read_csv(url_ademe)\n",
        "\n",
        "df_emissions.sample(10)\n",
        "df_emissions.info()\n",
        "df_emissions.describe()\n",
        "```\n",
        "\n",
        "</details>"
      ]
    },
    {
      "cell_type": "markdown",
      "id": "70c43284-37b4-476e-a041-620b54124bae",
      "metadata": {},
      "source": [
        "- Are there any rows with missing values ​​for all the\n",
        "emission columns? Check it using the methods\n",
        "[isnull()](https://pandas.pydata.org/docs/reference/api/pandas.isnull.html)\n",
        "And\n",
        "[all()](https://pandas.pydata.org/docs/reference/api/pandas.DataFrame.all.html)."
      ]
    },
    {
      "cell_type": "code",
      "execution_count": null,
      "id": "35596672",
      "metadata": {},
      "outputs": [],
      "source": [
        "# Test your answer in this cell"
      ]
    },
    {
      "cell_type": "markdown",
      "id": "7c6abd7d-5ed8-4ab2-8393-390bf68d29a5",
      "metadata": {},
      "source": [
        "<details>\n",
        "\n",
        "<summary>\n",
        "\n",
        "Show solution\n",
        "\n",
        "</summary>\n",
        "\n",
        "``` python\n",
        "df_emissions_num = df_emissions.select_dtypes(['number'])\n",
        "only_nan = df_emissions_num[df_emissions_num.isnull().all(axis=1)]\n",
        "only_nan.shape[0]\n",
        "```\n",
        "\n",
        "</details>"
      ]
    },
    {
      "cell_type": "markdown",
      "id": "c5cfaf22-9d44-4e26-96de-d7fe101505f3",
      "metadata": {},
      "source": [
        "- Create a new column that gives the total emissions per\n",
        "municipality\n",
        "- Show the 10 highest emitting municipalities. What do you observe in\n",
        "the results?"
      ]
    },
    {
      "cell_type": "code",
      "execution_count": null,
      "id": "b1dc57e8",
      "metadata": {},
      "outputs": [],
      "source": [
        "# Test your answer in this cell"
      ]
    },
    {
      "cell_type": "markdown",
      "id": "708ce831-b88a-4fc6-b748-5321c5b865be",
      "metadata": {},
      "source": [
        "<details>\n",
        "\n",
        "<summary>\n",
        "\n",
        "Show solution\n",
        "\n",
        "</summary>\n",
        "\n",
        "``` python\n",
        "df_emissions['emissions_totales'] = df_emissions.sum(axis = 1, numeric_only = True)\n",
        "\n",
        "df_emissions.sort_values(by=\"emissions_totales\", ascending=False).head(10)\n",
        "```\n",
        "\n",
        "</details>"
      ]
    },
    {
      "cell_type": "markdown",
      "id": "5e1c2bcd-7b38-44b4-ba4a-c1ad9d81bd05",
      "metadata": {},
      "source": [
        "- It seems that the major emission posts are “Industry\n",
        "“non-energy” and “Other international transport”. To check if\n",
        "This conjecture holds, calculating the correlation between the emissions\n",
        "total and sectoral emission items using the method\n",
        "[corrwith()](https://pandas.pydata.org/docs/reference/api/pandas.DataFrame.corrwith.html)."
      ]
    },
    {
      "cell_type": "code",
      "execution_count": null,
      "id": "dbf51f08",
      "metadata": {},
      "outputs": [],
      "source": [
        "# Test your answer in this cell"
      ]
    },
    {
      "cell_type": "markdown",
      "id": "cc5cc82c-6e2d-4798-909d-29feb7ba41d9",
      "metadata": {},
      "source": [
        "<details>\n",
        "\n",
        "<summary>\n",
        "\n",
        "Show solution\n",
        "\n",
        "</summary>\n",
        "\n",
        "``` python\n",
        "df_emissions.corrwith(df_emissions[\"emissions_totales\"], numeric_only=True)\n",
        "```\n",
        "\n",
        "</details>"
      ]
    },
    {
      "cell_type": "markdown",
      "id": "9f9ef07e-4d2e-4f1f-92f8-1c237532e46f",
      "metadata": {},
      "source": [
        "- Extract the department number from the municipality code in a new\n",
        "variable\n",
        "- Calculate total emissions by department\n",
        "- Show the top 10 issuing departments. The results\n",
        "Are they logical in relation to the analysis at the municipal level?"
      ]
    },
    {
      "cell_type": "code",
      "execution_count": null,
      "id": "f5231a8f",
      "metadata": {},
      "outputs": [],
      "source": [
        "# Test your answer in this cell"
      ]
    },
    {
      "cell_type": "markdown",
      "id": "df3baa9d-615a-42e3-9b5e-0dbddf71d08f",
      "metadata": {},
      "source": [
        "<details>\n",
        "\n",
        "<summary>\n",
        "\n",
        "Show solution\n",
        "\n",
        "</summary>\n",
        "\n",
        "``` python\n",
        "df_emissions[\"dep\"] = df_emissions[\"INSEE commune\"].str[:2]\n",
        "df_emissions.groupby(\"dep\").agg({\"emissions_totales\": \"sum\"}).sort_values(by=\"emissions_totales\", ascending=False).head(10)\n",
        "```\n",
        "\n",
        "</details>"
      ]
    },
    {
      "cell_type": "markdown",
      "id": "1c141b9e-efe0-48e8-8a72-7ba56e61af86",
      "metadata": {},
      "source": [
        "#### Part 3: Prerequisites for Joining Data Sources\n",
        "\n",
        "To perform a join, it is always better to have a key\n",
        "join, i.e. a column common to both sources, which identifies\n",
        "only statistical units. The purpose of this part is to\n",
        "find the relevant join key.\n",
        "\n",
        "- Check if the variable containing the municipality names contains\n",
        "duplicates"
      ]
    },
    {
      "cell_type": "code",
      "execution_count": null,
      "id": "4f9fa220",
      "metadata": {},
      "outputs": [],
      "source": [
        "# Test your answer in this cell"
      ]
    },
    {
      "cell_type": "markdown",
      "id": "eae025ee-5efc-4400-928a-fe49d3fe4fa6",
      "metadata": {},
      "source": [
        "<details>\n",
        "\n",
        "<summary>\n",
        "\n",
        "Show solution\n",
        "\n",
        "</summary>\n",
        "\n",
        "``` python\n",
        "doublons = df_pop_communes.groupby('COM').count()['DEPCOM']\n",
        "doublons = doublons[doublons>1]\n",
        "doublons = doublons.reset_index()\n",
        "doublons\n",
        "```\n",
        "\n",
        "</details>"
      ]
    },
    {
      "cell_type": "markdown",
      "id": "424097e4-d5e5-4762-8e8f-efc9ec372c08",
      "metadata": {},
      "source": [
        "- Filter in the initial DataFrame the municipalities whose name is\n",
        "duplicated, and sort it by common code. Do the duplicates appear\n",
        "problematic?"
      ]
    },
    {
      "cell_type": "code",
      "execution_count": null,
      "id": "bbf2b182",
      "metadata": {},
      "outputs": [],
      "source": [
        "# Test your answer in this cell"
      ]
    },
    {
      "cell_type": "markdown",
      "id": "77ac92c5-ae9b-4416-bf00-efca2dc16b2e",
      "metadata": {},
      "source": [
        "<details>\n",
        "\n",
        "<summary>\n",
        "\n",
        "Show solution\n",
        "\n",
        "</summary>\n",
        "\n",
        "``` python\n",
        "df_pop_communes_doublons = df_pop_communes[df_pop_communes[\"COM\"].isin(doublons[\"COM\"])]\n",
        "df_pop_communes_doublons.sort_values('COM')\n",
        "```\n",
        "\n",
        "</details>"
      ]
    },
    {
      "cell_type": "markdown",
      "id": "e969d562-491f-45bf-9c9a-e85aa2b67d4b",
      "metadata": {},
      "source": [
        "- Check that the common codes uniquely identify the\n",
        "associated municipality"
      ]
    },
    {
      "cell_type": "code",
      "execution_count": null,
      "id": "3834627f",
      "metadata": {},
      "outputs": [],
      "source": [
        "# Test your answer in this cell"
      ]
    },
    {
      "cell_type": "markdown",
      "id": "368c7fed-1f92-41e9-9155-f4d7c8f6d8ae",
      "metadata": {},
      "source": [
        "<details>\n",
        "\n",
        "<summary>\n",
        "\n",
        "Show solution\n",
        "\n",
        "</summary>\n",
        "\n",
        "``` python\n",
        "(df_pop_communes_doublons.groupby(\"DEPCOM\")[\"COM\"].nunique() != 1).sum()\n",
        "```\n",
        "\n",
        "</details>"
      ]
    },
    {
      "cell_type": "markdown",
      "id": "38f2c6d7-df99-44bb-94a0-239d831a99e7",
      "metadata": {},
      "source": [
        "- Display the municipalities present in the municipal data but not\n",
        "in emissions data, and vice versa. What do you conclude from this?"
      ]
    },
    {
      "cell_type": "code",
      "execution_count": null,
      "id": "3a2dbf5b",
      "metadata": {},
      "outputs": [],
      "source": [
        "# Test your answer in this cell"
      ]
    },
    {
      "cell_type": "markdown",
      "id": "61ca866a-7b9d-4eda-a12d-e39142731562",
      "metadata": {},
      "source": [
        "<details>\n",
        "\n",
        "<summary>\n",
        "\n",
        "Show solution\n",
        "\n",
        "</summary>\n",
        "\n",
        "``` python\n",
        "## Observations qui sont dans les pop légales mais pas dans les données d'émissions\n",
        "df_pop_communes[~df_pop_communes[\"DEPCOM\"].isin(df_emissions[\"INSEE commune\"])]\n",
        "\n",
        "## Observations qui sont dans les données d'émissions mais pas dans les pop légales\n",
        "df_emissions[~df_emissions[\"INSEE commune\"].isin(df_pop_communes[\"DEPCOM\"])]\n",
        "```\n",
        "\n",
        "</details>"
      ]
    },
    {
      "cell_type": "markdown",
      "id": "7bac7afd-8352-46f8-913c-201798107bcf",
      "metadata": {},
      "source": [
        "#### Part 4: Calculation of a carbon footprint per inhabitant for each municipality\n",
        "\n",
        "- Join the two DataFrames using the function from the code\n",
        "common. Attention: the variables are not called the same\n",
        "way on both sides!"
      ]
    },
    {
      "cell_type": "code",
      "execution_count": null,
      "id": "0329974f",
      "metadata": {},
      "outputs": [],
      "source": [
        "# Test your answer in this cell"
      ]
    },
    {
      "cell_type": "markdown",
      "id": "079913cc-299d-463e-9a19-3c839cf61a2d",
      "metadata": {},
      "source": [
        "<details>\n",
        "\n",
        "<summary>\n",
        "\n",
        "Show solution\n",
        "\n",
        "</summary>\n",
        "\n",
        "``` python\n",
        "df_emissions_pop = pd.merge(df_pop_communes, df_emissions, how=\"inner\", left_on=\"DEPCOM\", right_on=\"INSEE commune\")\n",
        "df_emissions_pop\n",
        "```\n",
        "\n",
        "</details>"
      ]
    },
    {
      "cell_type": "markdown",
      "id": "9c65d856-f500-43c2-a3d2-132742adef22",
      "metadata": {},
      "source": [
        "- Calculate a carbon footprint for each municipality, corresponding\n",
        "to the total emissions of the municipality divided by its population\n",
        "total.\n",
        "- Show the 10 municipalities with the highest carbon footprints\n",
        "high.\n",
        "- Are the results identical to those with total emissions?\n",
        "? What do you conclude from this?"
      ]
    },
    {
      "cell_type": "code",
      "execution_count": null,
      "id": "8e675be2",
      "metadata": {},
      "outputs": [],
      "source": [
        "# Test your answer in this cell"
      ]
    },
    {
      "cell_type": "markdown",
      "id": "95e0b289-2680-4025-9512-acb273841b5f",
      "metadata": {},
      "source": [
        "<details>\n",
        "\n",
        "<summary>\n",
        "\n",
        "Show solution\n",
        "\n",
        "</summary>\n",
        "\n",
        "``` python\n",
        "df_emissions_pop[\"empreinte_carbone\"] = df_emissions_pop[\"emissions_totales\"] / df_emissions_pop[\"PTOT\"]\n",
        "df_emissions_pop.sort_values(\"empreinte_carbone\", ascending=False).head(10)\n",
        "```\n",
        "\n",
        "</details>"
      ]
    },
    {
      "cell_type": "markdown",
      "id": "398a3ea8-bde0-4862-a685-2f692173873a",
      "metadata": {},
      "source": [
        "### Analysis of the evolution of a production index\n",
        "\n",
        "You have two CSV datasets available in the `data/` folder:\n",
        "\n",
        "- `serie_glaces_valeurs.csv` contains the monthly values ​​of\n",
        "the producer price index of the French ice cream industry\n",
        "and sorbets\n",
        "- `serie_glaces_metadonnees.csv` contains the associated metadata,\n",
        "including codes indicating data status.\n",
        "\n",
        "The goal is to use `Pandas` to calculate:\n",
        "\n",
        "- the evolution of the index between each period (month)\n",
        "- the evolution of the index on a year-on-year basis (between a given month and\n",
        "the same month the following year).\n",
        "\n",
        "#### Part 1: Importing data\n",
        "\n",
        "- Import both CSV files into DataFrames. Be careful, in\n",
        "In both cases, there are superfluous lines before the data, which\n",
        "will need to skip using the `skiprows` parameter of the function\n",
        "[read_csv()](https://pandas.pydata.org/docs/reference/api/pandas.read_csv.html).\n",
        "- Give simple and relevant names to the different variables."
      ]
    },
    {
      "cell_type": "code",
      "execution_count": null,
      "id": "24e791a5",
      "metadata": {},
      "outputs": [],
      "source": [
        "# Test your answer in this cell"
      ]
    },
    {
      "cell_type": "markdown",
      "id": "6a758169-b900-4772-9e66-d7f554fd0d5d",
      "metadata": {},
      "source": [
        "<details>\n",
        "\n",
        "<summary>\n",
        "\n",
        "Show solution\n",
        "\n",
        "</summary>\n",
        "\n",
        "``` python\n",
        "df_valeurs = pd.read_csv('data/serie_glaces_valeurs.csv', delimiter=';',\n",
        "                         skiprows=4, names=[\"periode\", \"indice\", \"code\"])\n",
        "df_metadata = pd.read_csv('data/serie_glaces_metadonnees.csv', delimiter=';',\n",
        "                          skiprows=5, names=[\"code\", \"signification\"])\n",
        "```\n",
        "\n",
        "</details>"
      ]
    },
    {
      "cell_type": "markdown",
      "id": "6e7736a9-0b59-457c-b0a4-dc0932424b94",
      "metadata": {},
      "source": [
        "#### Part 2: Filtering relevant data\n",
        "\n",
        "- Merge the two DataFrames to recover the meaning of the\n",
        "codes present in the data.\n",
        "- Filter the data so that only data of type is kept\n",
        "“Normal value”.\n",
        "- Delete the columns related to the codes, which we no longer have\n",
        "need for the future."
      ]
    },
    {
      "cell_type": "code",
      "execution_count": null,
      "id": "f90389ca",
      "metadata": {},
      "outputs": [],
      "source": [
        "# Test your answer in this cell"
      ]
    },
    {
      "cell_type": "markdown",
      "id": "835c39a4-027c-4e54-b781-fe8eb93f4f5b",
      "metadata": {},
      "source": [
        "<details>\n",
        "\n",
        "<summary>\n",
        "\n",
        "Show solution\n",
        "\n",
        "</summary>\n",
        "\n",
        "``` python\n",
        "df_merged = pd.merge(df_valeurs, df_metadata, how='left', on='code')\n",
        "\n",
        "df_clean = df_merged[df_merged['code'] == \"A\"]\n",
        "df_clean = df_clean[[\"periode\", \"indice\"]]\n",
        "```\n",
        "\n",
        "</details>"
      ]
    },
    {
      "cell_type": "markdown",
      "id": "cdfe3055-b715-49a9-9a35-9d43f1b65510",
      "metadata": {},
      "source": [
        "#### Part 3: Data Pre-Processing\n",
        "\n",
        "Check if the types of the variables are relevant according to their nature.\n",
        "Otherwise, convert them with the appropriate functions."
      ]
    },
    {
      "cell_type": "code",
      "execution_count": null,
      "id": "985c25bd",
      "metadata": {},
      "outputs": [],
      "source": [
        "# Test your answer in this cell"
      ]
    },
    {
      "cell_type": "markdown",
      "id": "205784ab-5841-483c-8c47-0b53fa722e67",
      "metadata": {},
      "source": [
        "<details>\n",
        "\n",
        "<summary>\n",
        "\n",
        "Show solution\n",
        "\n",
        "</summary>\n",
        "\n",
        "``` python\n",
        "df_clean.info()\n",
        "df_clean['periode'] = pd.to_datetime(df_clean['periode'])\n",
        "df_clean['indice'] = pd.to_numeric(df_clean['indice'])\n",
        "df_clean.info()\n",
        "```\n",
        "\n",
        "</details>"
      ]
    },
    {
      "cell_type": "markdown",
      "id": "058692c9-91b0-43c4-a42d-32adaaac54ca",
      "metadata": {},
      "source": [
        "#### Part 4: Calculation of periodic evolution\n",
        "\n",
        "- Use the method\n",
        "[shift()](https://pandas.pydata.org/docs/reference/api/pandas.DataFrame.shift.html)\n",
        "to create a new column that will contain the quarter index\n",
        "previous\n",
        "- Calculate the difference between the current index and the shifted index for\n",
        "get the evolution (in percentage) from one quarter to another"
      ]
    },
    {
      "cell_type": "code",
      "execution_count": null,
      "id": "043c8465",
      "metadata": {},
      "outputs": [],
      "source": [
        "# Test your answer in this cell"
      ]
    },
    {
      "cell_type": "markdown",
      "id": "9f33c955-bcb6-478f-a106-21470ae3825b",
      "metadata": {},
      "source": [
        "<details>\n",
        "\n",
        "<summary>\n",
        "\n",
        "Show solution\n",
        "\n",
        "</summary>\n",
        "\n",
        "``` python\n",
        "df_clean['indice_prec'] = df_clean['indice'].shift(1)\n",
        "df_clean['evo'] = ((df_clean['indice'] - df_clean['indice_prec']) / df_clean['indice_prec']) * 100\n",
        "\n",
        "## Méthode alternative\n",
        "df_clean['evo_alt'] = df_clean['indice'].pct_change(periods=1) * 100\n",
        "```\n",
        "\n",
        "</details>"
      ]
    },
    {
      "cell_type": "markdown",
      "id": "92150b31-e4e2-46b3-b1b1-7f1765801800",
      "metadata": {},
      "source": [
        "#### Part 5: Calculation of the 12-month rolling change\n",
        "\n",
        "As you could see in the solution to the previous exercise, the\n",
        "method\n",
        "[pct_change()](https://pandas.pydata.org/docs/reference/api/pandas.DataFrame.pct_change.html)\n",
        "allows you to precisely calculate an evolution between two periods.\n",
        "Use this method to calculate a change (in percentage) in\n",
        "annual sliding scale for each month."
      ]
    },
    {
      "cell_type": "code",
      "execution_count": null,
      "id": "06261aad",
      "metadata": {},
      "outputs": [],
      "source": [
        "# Test your answer in this cell"
      ]
    },
    {
      "cell_type": "markdown",
      "id": "7f6d30ba-6031-41f3-9406-b27b53e61420",
      "metadata": {},
      "source": [
        "<details>\n",
        "\n",
        "<summary>\n",
        "\n",
        "Show solution\n",
        "\n",
        "</summary>\n",
        "\n",
        "``` python\n",
        "df_clean[\"evo_glissement_annuel\"] = df_clean['indice'].pct_change(periods=12) * 100\n",
        "df_clean.head(20)\n",
        "```\n",
        "\n",
        "</details>"
      ]
    }
  ],
  "metadata": {
    "kernelspec": {
      "display_name": "Python 3 (ipykernel)",
      "language": "python",
      "name": "python3",
      "path": "/Users/gblin/opt/anaconda3/share/jupyter/kernels/python3"
    },
    "language_info": {
      "codemirror_mode": {
        "name": "ipython",
        "version": 3
      },
      "file_extension": ".py",
      "mimetype": "text/x-python",
      "name": "python",
      "nbconvert_exporter": "python",
      "pygments_lexer": "ipython3",
      "version": "3.11.9"
    }
  },
  "nbformat": 4,
  "nbformat_minor": 5
}
